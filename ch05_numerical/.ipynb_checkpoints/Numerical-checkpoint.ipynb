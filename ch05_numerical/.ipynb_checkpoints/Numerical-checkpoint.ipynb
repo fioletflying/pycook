{
 "cells": [
  {
   "cell_type": "markdown",
   "metadata": {},
   "source": [
    "\n",
    "# 数字\n",
    "\n",
    "## Python 的数字类型\n",
    "\n",
    "- 整数和浮点数\n",
    "- 复数\n",
    "- 固定精度的十进制数\n",
    "- 有理分数\n",
    "- 集合\n",
    "- 布尔类型\n",
    "- 无穷的整数精度\n",
    "- 各种数字内置函数和模块\n",
    "\n",
    "### 数字常量\n",
    "\n",
    "![numberconst.png](imgs/numberconst.png)\n",
    "\n",
    "**整数和浮点数常量**  \n",
    "\n",
    "Python 2.6 中有两种整数类型：一般整数（32 位）和长整数（无穷精度），并且一个整数可以以 l 或 L 结尾.  \n",
    "在 Python 3.0 中，一般整数和长整数类型已经合二为一了，只有整数这一种.\n",
    "\n",
    "**十六进制数、八进制和二进制常量**\n",
    "\n",
    "- 十六进制数以 0x 或 0X 开头，后面接十六进制的数字 0～9 和 A～F。  \n",
    "- 八进制数常量以数字 0o 或 0O 开头（0 和小写或大写的字母「o」），后面接着数字 0～7 构成的字符串.  \n",
    "- 二进制常量，以 0b 或 0B 开头，后面跟着二进制数字（0～1）。   \n",
    "- 内置函数 hex（I）、oct（I）和 bin（I）把一个整数转换为这 3 种进制表示的字符串\n",
    "\n",
    "**复数**  \n",
    "\n",
    "- 复数常量写成实部 + 虚部的写法，这里虚部是以 j 或 J 结尾\n",
    "- 函数 complex（real,imag）来创建复数。\n",
    "\n",
    "### 内置数学工具和扩展\n",
    "\n",
    "- 表达式操作符: +、-、*、/、＞＞、**、＆等\n",
    "- 内置数学函数: pow、abs、round、int、hex、bin 等。\n",
    "- 公用模块: random、math 等\n",
    "\n",
    "#### Python 表达式操作符\n",
    "\n",
    "![Python 表达式操作符](imgs/express1.png)\n",
    "![Python 表达式操作符](imgs/express2.png)\n",
    "\n",
    "\n",
    "#### 混合操作所遵循的操作符优先级\n",
    "\n",
    "- 表的操作符中越靠后的优先级越高，因此在混合表达式中要更加小心。\n",
    "- 位于同一行的表达式在组合的时候通常从左到右组合\n",
    "- 混合类型自动升级\n",
    "    - 整数比浮点数简单，浮点数比复数简单\n",
    "    - 手动调用内置函数来强制转换类型\n",
    "    - Python 不会在其他的类型之间进行转换:一个字符串和一个整数相加\n",
    "\n",
    "\n",
    "\n",
    "\n",
    "\n"
   ]
  },
  {
   "cell_type": "code",
   "execution_count": 1,
   "metadata": {},
   "outputs": [
    {
     "name": "stdout",
     "output_type": "stream",
     "text": [
      "3\n",
      "3.0\n"
     ]
    }
   ],
   "source": [
    "#手动调用内置函数来强制转换类型\n",
    "print(int(3.14))\n",
    "print(float(3))"
   ]
  },
  {
   "cell_type": "markdown",
   "metadata": {},
   "source": [
    "## 在实际应用中的数字\n",
    "\n",
    "### 变量和基本的表达式\n",
    "\n",
    "- 变量在它第一次赋值时创建。\n",
    "- 变量在表达式中使用将被替换为它们的值。\n",
    "- 变量在表达式中使用以前必须已赋值。\n",
    "- 变量像对象一样不需要在一开始进行声明。\n",
    "\n",
    "### 数字显示的格式\n",
    "\n",
    "显示计算机中的数字的位数\n",
    "```\n",
    "num = 1/3.0\n",
    "print(num)\n",
    "# 字符串格式化\n",
    "print('%e' % num)\n",
    "print('%4.2f'%num)\n",
    "print('{0:4.2f}'.format(num))\n",
    "```\n",
    "\n",
    "str 和 repr 显示格式\n",
    "\n",
    "- 两个函数都会把任意对象变换成它们的字符串表示\n",
    "- repr（也就是默认的交互模式回显）产生的结果看起来就好像它们是代码\n",
    "- str（也就是打印语句）转变为一种通常对用户更加友好的格式\n",
    "- str 用于一般用途，repr 用于额外细节\n",
    "\n",
    "\n",
    "### 比较：一般的和连续的\n",
    "\n",
    "Python 还允许我们把多个比较连续起来执行范围测试\n",
    "例如，表达式（A＜B＜C）测试 B 是否在 A 和 C 之间；它等同于布尔测试（A＜B and B＜C）\n",
    "\n",
    "### 除法：传统除法、Floor 除法和真除法\n",
    "\n",
    "- 在 Python 3.0 中，/现在总是执行真除法，不管操作数的类型，都返回包含任何余数的一个浮点结果。//执行 Floor 除法，它截除掉余数并且针对整数操作数返回一个整数，如果有任何一个操作数是浮点类型，则返回一个浮点数。\n",
    "- 在 Python 3.0 中: //的结果的数据类型总是依赖于操作数的类型：如果操作数中有一个是浮点数，结果就是浮点数；否则，结果是一个整数\n",
    "\n",
    "- 在 Python 2.6 中，/表示传统除法，如果两个操作数都是整数的话，执行截断的整数除法；否则，执行浮点除法（保留余数）。//执行 Floor 除法，并且像在 Python 3.0 中一样工作，对于整数执行截断除法，对于浮点数执行浮点除法。\n",
    "\n",
    "**Floor 除法 VS 截断除法**\n",
    "//操作符通常叫做截断除法，更准确的说法是 floor 除法\n",
    "- 它把结果向下截断到它的下层，即真正结果之下的最近的整数-2.5 => -3\n",
    "\n",
    "### 整数精度\n",
    "\n",
    "Python 3.0 整数支持无穷的大小\n",
    "\n",
    "\n",
    "\n",
    "\n"
   ]
  },
  {
<<<<<<< HEAD
   "cell_type": "code",
   "execution_count": 15,
   "metadata": {},
   "outputs": [
    {
     "name": "stdout",
     "output_type": "stream",
     "text": [
      "3\n",
      "4\n",
      "12 2.0\n",
      "1 16\n",
      "5.0\n",
      "5\n",
      "0.8\n",
      "0.3333333333333333\n",
      "3.333333e-01\n",
      "0.33\n",
      "0.33\n",
      "0.3333333333333333\n",
      "0.3333333333333333\n"
     ]
    }
   ],
   "source": [
    "# 变量在它第一次赋值时创建\n",
    "a = 3\n",
    "b = 4\n",
    "\n",
    "print(a)\n",
    "print(b)\n",
    "\n",
    "print(b*3,b/2)\n",
    "print(a%2,b**2)\n",
    "\n",
    "# Python 3.0 执行带有余数的真除法,其值变为float型\n",
    "print(b/2+a)\n",
    "# Python 3.0 中执行整数除法，使用//\n",
    "print(b//2 + a)\n",
    "print(b/(2.0 + a))\n",
    "\n",
    "#  name 'c' is not defined\n",
    "# 变量在表达式中使用以前必须已赋值\n",
    "#print(c * 2)\n",
    "\n",
    "num = 1/3.0\n",
    "print(num)\n",
    "# 字符串格式化\n",
    "print('%e' % num)\n",
    "print('%4.2f'%num)\n",
    "print('{0:4.2f}'.format(num))\n",
    "\n",
    "\n",
    "print(repr(num))\n",
    "print(str(num))\n"
   ]
  },
  {
   "cell_type": "code",
   "execution_count": 26,
   "metadata": {},
   "outputs": [
    {
     "name": "stdout",
     "output_type": "stream",
     "text": [
      "True\n",
      "True\n",
      "True\n",
      "True\n",
      "True\n",
      "False\n",
      "True\n",
      "False\n",
      "2.5\n",
      "2\n",
      "2.5\n",
      "2.0\n"
     ]
    }
   ],
   "source": [
    "##比较：一般的和连续的\n",
    "\n",
    "print(1<2)\n",
    "print(2.9 >=1)\n",
    "\n",
    "#复杂的类型的比较\n",
    "print(2.0 == 2.0)\n",
    "print(2.0 == 2)\n",
    "\n",
    "#多个比较连续起来执行范围测试\n",
    "X = 2\n",
    "Y = 4\n",
    "Z = 6\n",
    "\n",
    "print(X<Y<Z)\n",
    "print(X<Y>Z)\n",
    "print(X<Y and Y<Z)\n",
    "print(1 == 2<3)\n",
    "\n",
    "#除法：传统除法、Floor 除法和真除法\n",
    "print(10/4)\n",
    "print(10//4)\n",
    "print(10/4.0)\n",
    "print(10//4.0)"
   ]
  },
  {
   "cell_type": "code",
   "execution_count": 34,
   "metadata": {},
   "outputs": [
    {
     "name": "stdout",
     "output_type": "stream",
     "text": [
      "2\n",
      "-3\n",
      "2\n",
      "-2\n",
      "2.5 -2.5\n",
      "2 -3\n",
      "2.5 -2.5\n",
      "2.0 -3.0\n"
     ]
    }
   ],
   "source": [
    "# Floor 除法 VS 截断除法\n",
    "import math\n",
    "print(math.floor(2.5))\n",
    "print(math.floor(-2.5))\n",
    "print(math.trunc(2.5))\n",
    "print(math.trunc(-2.5))\n",
    "\n",
    "print(5/2,5/-2)\n",
    "print(5//2,5//-2)\n",
    "print(5/2.0,5/-2.0)\n",
    "print(5//2.0,5//-2.0)"
   ]
  },
  {
   "cell_type": "markdown",
   "metadata": {},
   "source": [
    "### 十六进制、八进制和二进制记数\n",
    "\n",
    "八进制值 0o377、十六进制值 0xFF 和二进制值 0b11111111  \n",
    "oct 函数会将十进制数转换为八进制数，  \n",
    "hex 函数会将十进制转换为十六进制数，  \n",
    "bin 会将十进制数转换为二进制  \n",
    "\n",
    "eval 函数，将会把字符串作为 Python 代码\n",
    "字符串格式化方法调用和表达式将一个整数转换成八进制数和十六进制数的字符串\n"
=======
   "cell_type": "markdown",
   "metadata": {},
   "source": [
    "## 集合\n",
    "\n",
    "集合（set），这是一些唯一的、不可变的对象的一个无序集（collection），这些对象支持与数学集合理论相对应的操作。\n",
    "一个项在集合中只能出现一次，不管将它添加了多少次。\n",
    "\n",
    "**创建集合**\n",
    "- 向内置的 set 函数传递一个序列或其他的可迭代的对象\n",
    "- 集合并不包含位置顺序，序列却包含\n",
    "- 集合通过表达式操作符支持一般的数学集合运算\n",
    "    - 子集 in\n",
    "    - 差集 -\n",
    "    - 并集 |\n",
    "    - 交集  &\n",
    "    - 与非 ^\n",
    "    - 比较\n",
    "- 集合的改变操作\n",
    "    - 集合 add 方法插入一个项目\n",
    "    - update 是按位置求并集\n",
    "    - remove 根据值删除一个项目\n",
    "- 集合也可以用于 len、for 循环和列表解析这样的操作中\n",
    "\n",
    "\n"
>>>>>>> db76cf2276089f80e9bb2d0b5adfd220a8a28acf
   ]
  },
  {
   "cell_type": "code",
<<<<<<< HEAD
   "execution_count": 41,
=======
   "execution_count": 16,
>>>>>>> db76cf2276089f80e9bb2d0b5adfd220a8a28acf
   "metadata": {},
   "outputs": [
    {
     "name": "stdout",
     "output_type": "stream",
     "text": [
<<<<<<< HEAD
      "1 16 255\n",
      "1 16 255\n",
      "1 16 255\n",
      "0o100 0x40 0b1000000\n",
      "64 64 64\n",
      "100,40,1000000\n"
=======
      "{'d', 'a', 'e', 'c', 'b'}\n",
      "{'z', 'y', 'x', 'd', 'b'}\n",
      "True\n",
      "{'a', 'e', 'c'}\n",
      "{'x', 'd', 'z', 'e', 'y', 'a', 'c', 'b'}\n",
      "{'b', 'd'}\n",
      "{'x', 'z', 'e', 'y', 'a', 'c'}\n",
      "False False\n",
      "{'b', 'd'}\n",
      "{'b', 'Fei', 'd'}\n",
      "{'b', 'Y', 'Fei', 'X', 'd'}\n",
      "{'Y', 'Fei', 'X', 'd'}\n",
      "aaa\n",
      "ccc\n",
      "bbb\n"
>>>>>>> db76cf2276089f80e9bb2d0b5adfd220a8a28acf
     ]
    }
   ],
   "source": [
<<<<<<< HEAD
    "# 八进制\n",
    "print(0o1,0o20,0o377)\n",
    "# 十六进制\n",
    "print(0x01,0x10,0xFF)\n",
    "# 二进制\n",
    "print(0b1,0b10000,0b11111111)\n",
    "\n",
    "# 内置函数\n",
    "print(oct(64),hex(64),bin(64))\n",
    "\n",
    "# eval 函数\n",
    "print(eval('64'),eval('0o100'),eval('0x40'))\n",
    "# 字符串格式化方法调用和表达式将一个整数转换成八进制数和十六进制数的字符串\n",
    "print('{0:o},{1:x},{2:b}'.format(64,64,64))"
=======
    "x = set('abcded')\n",
    "y = set('bdxyz')\n",
    "print(x)\n",
    "print(y)\n",
    "\n",
    "# - 子集 in\n",
    "print('e' in x)\n",
    "# - 差集 -\n",
    "print(x- y)\n",
    "#- 并集 |\n",
    "print(x|y)\n",
    "#- 交集  &\n",
    "print(x&y)\n",
    "#- 与非 ^\n",
    "print(x^y)\n",
    "#- 比较\n",
    "print(x>y,x<y)\n",
    "\n",
    "# 交集\n",
    "z = x.intersection(y)\n",
    "print(z)\n",
    "z.add('Fei')\n",
    "print(z)\n",
    "z.update(set(['X','Y']))\n",
    "print(z)\n",
    "z.remove('b')\n",
    "print(z)\n",
    "\n",
    "for item in set('abc'):print(item * 3)\n"
>>>>>>> db76cf2276089f80e9bb2d0b5adfd220a8a28acf
   ]
  },
  {
   "cell_type": "markdown",
   "metadata": {},
   "source": [
<<<<<<< HEAD
    "### 其他的内置数学工具\n",
    "\n",
    "Python 还支持用于数字处理的内置函数和内置模块:pow 和 abs\n",
    "\n",
    "内置 math 模块（包含在 C 语言中 math 库中的绝大多数工具）的例子并有一些实际中的内置函数。\n",
    "\n",
    "删除一个浮点数的小数位\n",
    "- math.floor\n",
    "- math.trunc\n",
    "- int()\n",
    "- round()\n",
    "- '{0:.2f}'\n",
    "\n",
    "有 3 种方法可以计算平方根：使用一个模块函数、一个表达式或者一个内置函数  \n",
    "\n",
    "标准库中的 random 模块时必须导入,Random 模块很实用，在游戏中的发牌、在演示 GUI 中随机挑选图片、进行统计仿真等都需要使用 Random 模块\n"
   ]
  },
  {
   "cell_type": "code",
   "execution_count": 65,
   "metadata": {},
   "outputs": [
    {
     "name": "stdout",
     "output_type": "stream",
     "text": [
      "3.141592653589793 2.718281828459045\n",
      "1.0\n",
      "12.0\n",
      "16 16\n",
      "42.0 10\n",
      "1 6\n",
      "2.56789676886898 -2.56789676886898\n",
      "2 -3 2 -2 2 -2 3 -3 2.57\n",
      "12.0 12.0 12.0\n"
     ]
    }
   ],
   "source": [
    "import math\n",
    "print(math.pi,math.e)\n",
    "# 里面是弧度计算\n",
    "print(math.sin(90*math.pi/180))\n",
    "print(math.sqrt(144))\n",
    "print(pow(2,4),2**4)\n",
    "# sum 函数作用于数字的一个序列，min 和 max 函数接受一个参数序列或者单个的参数\n",
    "print(abs(-42.0),sum((1,2,3,4)))\n",
    "print(min(3,4,1,5),max(4,5,6,1))\n",
    "\n",
    "# 删除一个浮点数的小数位\n",
    "a = 2.56789676886898\n",
    "b = - 2.56789676886898\n",
    "print(a,b)\n",
    "print(math.floor(a),math.floor(b),math.trunc(a),math.trunc(b),int(a),int(b),round(a),round(b),'{0:.2f}'.format(a))\n",
    "\n",
    "print(math.sqrt(144),144 ** .5,pow(144,.5))"
=======
    "### 集合的作用\n",
    "\n",
    "- 集合（set）可以用来把重复项从其他集合（collection）中过滤掉。直接把集合（collection）转换为一个集合（set），然后再转换回来即可.  \n",
    "- 当你遍历图形或其他的回环结构的时候，集合可以用来记录已经访问过的位置。 \n",
    "- 在处理较大的数据集合的时候（例如，数据库查询结果），两个集合的交集包含了两个领域中共有的对象，并集包含了两个集合中的所有项目。  "
>>>>>>> db76cf2276089f80e9bb2d0b5adfd220a8a28acf
   ]
  },
  {
   "cell_type": "code",
<<<<<<< HEAD
   "execution_count": 69,
=======
   "execution_count": 17,
>>>>>>> db76cf2276089f80e9bb2d0b5adfd220a8a28acf
   "metadata": {},
   "outputs": [
    {
     "name": "stdout",
     "output_type": "stream",
     "text": [
<<<<<<< HEAD
      "0.715891479321347\n",
      "2\n",
      "c\n"
=======
      "[1, 2, 3, 4, 5]\n"
>>>>>>> db76cf2276089f80e9bb2d0b5adfd220a8a28acf
     ]
    }
   ],
   "source": [
<<<<<<< HEAD
    "import random\n",
    "print(random.random())\n",
    "print(random.randint(1,10))\n",
    "print(random.choice(['a','b','c']))"
=======
    "L= [1,2,3,3,4,5]\n",
    "set(L)\n",
    "L = list(set(L))\n",
    "print(L)"
>>>>>>> db76cf2276089f80e9bb2d0b5adfd220a8a28acf
   ]
  }
 ],
 "metadata": {
  "kernelspec": {
   "display_name": "Python 3",
   "language": "python",
   "name": "python3"
  },
  "language_info": {
   "codemirror_mode": {
    "name": "ipython",
    "version": 3
   },
   "file_extension": ".py",
   "mimetype": "text/x-python",
   "name": "python",
   "nbconvert_exporter": "python",
   "pygments_lexer": "ipython3",
   "version": "3.6.8"
  },
  "toc": {
   "base_numbering": 1,
   "nav_menu": {},
   "number_sections": true,
   "sideBar": true,
   "skip_h1_title": false,
   "title_cell": "Table of Contents",
   "title_sidebar": "Contents",
   "toc_cell": false,
   "toc_position": {},
   "toc_section_display": true,
   "toc_window_display": false
  }
 },
 "nbformat": 4,
 "nbformat_minor": 2
}
