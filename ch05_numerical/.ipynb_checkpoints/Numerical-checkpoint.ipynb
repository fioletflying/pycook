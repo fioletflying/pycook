{
 "cells": [
  {
   "cell_type": "markdown",
   "metadata": {},
   "source": [
    "\n",
    "# 数字\n",
    "\n",
    "## Python 的数字类型\n",
    "\n",
    "- 整数和浮点数\n",
    "- 复数\n",
    "- 固定精度的十进制数\n",
    "- 有理分数\n",
    "- 集合\n",
    "- 布尔类型\n",
    "- 无穷的整数精度\n",
    "- 各种数字内置函数和模块\n",
    "\n",
    "### 数字常量\n",
    "\n",
    "![numberconst.png](imgs/numberconst.png)\n",
    "\n",
    "**整数和浮点数常量**  \n",
    "\n",
    "Python 2.6 中有两种整数类型：一般整数（32 位）和长整数（无穷精度），并且一个整数可以以 l 或 L 结尾.  \n",
    "在 Python 3.0 中，一般整数和长整数类型已经合二为一了，只有整数这一种.\n",
    "\n",
    "**十六进制数、八进制和二进制常量**\n",
    "\n",
    "- 十六进制数以 0x 或 0X 开头，后面接十六进制的数字 0～9 和 A～F。  \n",
    "- 八进制数常量以数字 0o 或 0O 开头（0 和小写或大写的字母「o」），后面接着数字 0～7 构成的字符串.  \n",
    "- 二进制常量，以 0b 或 0B 开头，后面跟着二进制数字（0～1）。   \n",
    "- 内置函数 hex（I）、oct（I）和 bin（I）把一个整数转换为这 3 种进制表示的字符串\n",
    "\n",
    "**复数**  \n",
    "\n",
    "- 复数常量写成实部 + 虚部的写法，这里虚部是以 j 或 J 结尾\n",
    "- 函数 complex（real,imag）来创建复数。\n",
    "\n",
    "### 内置数学工具和扩展\n",
    "\n",
    "- 表达式操作符: +、-、*、/、＞＞、**、＆等\n",
    "- 内置数学函数: pow、abs、round、int、hex、bin 等。\n",
    "- 公用模块: random、math 等\n",
    "\n",
    "#### Python 表达式操作符\n",
    "\n",
    "![Python 表达式操作符](imgs/express1.png)\n",
    "![Python 表达式操作符](imgs/express2.png)\n",
    "\n",
    "\n",
    "#### 混合操作所遵循的操作符优先级\n",
    "\n",
    "\n",
    "\n"
   ]
  },
  {
   "cell_type": "markdown",
   "metadata": {},
   "source": [
    "## 集合\n",
    "\n",
    "集合（set），这是一些唯一的、不可变的对象的一个无序集（collection），这些对象支持与数学集合理论相对应的操作。\n",
    "一个项在集合中只能出现一次，不管将它添加了多少次。\n",
    "\n",
    "**创建集合**\n",
    "- 向内置的 set 函数传递一个序列或其他的可迭代的对象\n",
    "- 集合并不包含位置顺序，序列却包含\n",
    "- 集合通过表达式操作符支持一般的数学集合运算\n",
    "    - 子集 in\n",
    "    - 差集 -\n",
    "    - 并集 |\n",
    "    - 交集  &\n",
    "    - 与非 ^\n",
    "    - 比较\n",
    "- 集合的改变操作\n",
    "    - 集合 add 方法插入一个项目\n",
    "    - update 是按位置求并集\n",
    "    - remove 根据值删除一个项目\n",
    "- 集合也可以用于 len、for 循环和列表解析这样的操作中\n",
    "\n",
    "\n"
   ]
  },
  {
   "cell_type": "code",
   "execution_count": 16,
   "metadata": {},
   "outputs": [
    {
     "name": "stdout",
     "output_type": "stream",
     "text": [
      "{'d', 'a', 'e', 'c', 'b'}\n",
      "{'z', 'y', 'x', 'd', 'b'}\n",
      "True\n",
      "{'a', 'e', 'c'}\n",
      "{'x', 'd', 'z', 'e', 'y', 'a', 'c', 'b'}\n",
      "{'b', 'd'}\n",
      "{'x', 'z', 'e', 'y', 'a', 'c'}\n",
      "False False\n",
      "{'b', 'd'}\n",
      "{'b', 'Fei', 'd'}\n",
      "{'b', 'Y', 'Fei', 'X', 'd'}\n",
      "{'Y', 'Fei', 'X', 'd'}\n",
      "aaa\n",
      "ccc\n",
      "bbb\n"
     ]
    }
   ],
   "source": [
    "x = set('abcded')\n",
    "y = set('bdxyz')\n",
    "print(x)\n",
    "print(y)\n",
    "\n",
    "# - 子集 in\n",
    "print('e' in x)\n",
    "# - 差集 -\n",
    "print(x- y)\n",
    "#- 并集 |\n",
    "print(x|y)\n",
    "#- 交集  &\n",
    "print(x&y)\n",
    "#- 与非 ^\n",
    "print(x^y)\n",
    "#- 比较\n",
    "print(x>y,x<y)\n",
    "\n",
    "# 交集\n",
    "z = x.intersection(y)\n",
    "print(z)\n",
    "z.add('Fei')\n",
    "print(z)\n",
    "z.update(set(['X','Y']))\n",
    "print(z)\n",
    "z.remove('b')\n",
    "print(z)\n",
    "\n",
    "for item in set('abc'):print(item * 3)\n"
   ]
  },
  {
   "cell_type": "markdown",
   "metadata": {},
   "source": [
    "### 集合的作用\n",
    "\n",
    "- 集合（set）可以用来把重复项从其他集合（collection）中过滤掉。直接把集合（collection）转换为一个集合（set），然后再转换回来即可.  \n",
    "- 当你遍历图形或其他的回环结构的时候，集合可以用来记录已经访问过的位置。 \n",
    "- 在处理较大的数据集合的时候（例如，数据库查询结果），两个集合的交集包含了两个领域中共有的对象，并集包含了两个集合中的所有项目。  "
   ]
  },
  {
   "cell_type": "code",
   "execution_count": 17,
   "metadata": {},
   "outputs": [
    {
     "name": "stdout",
     "output_type": "stream",
     "text": [
      "[1, 2, 3, 4, 5]\n"
     ]
    }
   ],
   "source": [
    "L= [1,2,3,3,4,5]\n",
    "set(L)\n",
    "L = list(set(L))\n",
    "print(L)"
   ]
  }
 ],
 "metadata": {
  "kernelspec": {
   "display_name": "Python 3",
   "language": "python",
   "name": "python3"
  },
  "language_info": {
   "codemirror_mode": {
    "name": "ipython",
    "version": 3
   },
   "file_extension": ".py",
   "mimetype": "text/x-python",
   "name": "python",
   "nbconvert_exporter": "python",
   "pygments_lexer": "ipython3",
   "version": "3.5.3"
  },
  "toc": {
   "base_numbering": 1,
   "nav_menu": {},
   "number_sections": true,
   "sideBar": true,
   "skip_h1_title": false,
   "title_cell": "Table of Contents",
   "title_sidebar": "Contents",
   "toc_cell": false,
   "toc_position": {},
   "toc_section_display": true,
   "toc_window_display": false
  }
 },
 "nbformat": 4,
 "nbformat_minor": 2
}
