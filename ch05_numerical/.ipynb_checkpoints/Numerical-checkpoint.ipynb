{
 "cells": [
  {
   "cell_type": "markdown",
   "metadata": {},
   "source": [
    "\n",
    "# 数字\n",
    "\n",
    "## Python 的数字类型\n",
    "\n",
    "- 整数和浮点数\n",
    "- 复数\n",
    "- 固定精度的十进制数\n",
    "- 有理分数\n",
    "- 集合\n",
    "- 布尔类型\n",
    "- 无穷的整数精度\n",
    "- 各种数字内置函数和模块\n",
    "\n",
    "### 数字常量\n",
    "\n",
    "![numberconst.png](imgs/numberconst.png)\n",
    "\n",
    "**整数和浮点数常量**  \n",
    "\n",
    "Python 2.6 中有两种整数类型：一般整数（32 位）和长整数（无穷精度），并且一个整数可以以 l 或 L 结尾.  \n",
    "在 Python 3.0 中，一般整数和长整数类型已经合二为一了，只有整数这一种.\n",
    "\n",
    "**十六进制数、八进制和二进制常量**\n",
    "\n",
    "- 十六进制数以 0x 或 0X 开头，后面接十六进制的数字 0～9 和 A～F。  \n",
    "- 八进制数常量以数字 0o 或 0O 开头（0 和小写或大写的字母「o」），后面接着数字 0～7 构成的字符串.  \n",
    "- 二进制常量，以 0b 或 0B 开头，后面跟着二进制数字（0～1）。   \n",
    "- 内置函数 hex（I）、oct（I）和 bin（I）把一个整数转换为这 3 种进制表示的字符串\n",
    "\n",
    "**复数**  \n",
    "\n",
    "- 复数常量写成实部 + 虚部的写法，这里虚部是以 j 或 J 结尾\n",
    "- 函数 complex（real,imag）来创建复数。\n",
    "\n",
    "### 内置数学工具和扩展\n",
    "\n",
    "- 表达式操作符: +、-、*、/、＞＞、**、＆等\n",
    "- 内置数学函数: pow、abs、round、int、hex、bin 等。\n",
    "- 公用模块: random、math 等\n",
    "\n",
    "#### Python 表达式操作符\n",
    "\n",
    "![Python 表达式操作符](imgs/express1.png)\n",
    "![Python 表达式操作符](imgs/express2.png)\n",
    "\n",
    "\n",
    "#### 混合操作所遵循的操作符优先级\n",
    "\n",
    "\n",
    "\n"
   ]
  }
 ],
 "metadata": {
  "kernelspec": {
   "display_name": "Python 3",
   "language": "python",
   "name": "python3"
  },
  "language_info": {
   "codemirror_mode": {
    "name": "ipython",
    "version": 3
   },
   "file_extension": ".py",
   "mimetype": "text/x-python",
   "name": "python",
   "nbconvert_exporter": "python",
   "pygments_lexer": "ipython3",
   "version": "3.5.3"
  },
  "toc": {
   "base_numbering": 1,
   "nav_menu": {},
   "number_sections": true,
   "sideBar": true,
   "skip_h1_title": false,
   "title_cell": "Table of Contents",
   "title_sidebar": "Contents",
   "toc_cell": false,
   "toc_position": {},
   "toc_section_display": true,
   "toc_window_display": false
  }
 },
 "nbformat": 4,
 "nbformat_minor": 2
}
