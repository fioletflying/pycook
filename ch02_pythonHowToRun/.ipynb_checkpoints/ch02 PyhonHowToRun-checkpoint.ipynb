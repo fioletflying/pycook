{
 "cells": [
  {
   "cell_type": "markdown",
   "metadata": {},
   "source": [
    "[toc]\n",
    "\n",
    "# 第2章 Python 如何运行程序\n",
    "\n",
    "## Python 解释器简介\n",
    "\n",
    "解释器是代码与机器的计算机硬件之间的软件逻辑层\n",
    "\n",
    "编写的 Python 代码必须在解释器中运行\n",
    "\n",
    "据选用的 Python 版本的不同，解释器本身可以用 C 程序实现，或一些 Java 类实现，或者其他的形式。\n",
    "\n",
    "## 程序执行\n",
    "\n",
    "### 程序员的视角\n",
    "\n",
    "一个 Python 程序仅是一个包含 Python 语句的文本文件\n",
    "\n",
    "从头至尾按照顺序一个接一个地运行文件中的语句\n",
    "\n",
    "### Python 的视角\n",
    "\n",
    "python实际运行的步骤：\n",
    "\n",
    "- **编译成所谓的「字节码」**\n",
    "     - Python 内部（对大多数用户是完全隐藏的）会先将源代码（文件中的语句）编译成所谓字节码的形式。\n",
    "     - Python 通过把每一条源语句分解为单一步骤来将这些源语句翻译成一组字节码指令。\n",
    "         - 字节码可以提高执行速度\n",
    "         - 将把程序的字节码保存为一个以.pyc 为扩展名的文件\n",
    "         - ，由于.pyc 文件能够加速启动，你最好保证在大型程序中可以写入\n",
    "\n",
    "- **将其（字节码/.pyc文件）转发到所谓的「虚拟机」中：Python 虚拟机（PVM）**\n",
    "    - Python Virtual Machine，简写为 PVM\n",
    "    - PVM 就是迭代运行字节码指令的一个大循环，一个接一个地完成操作\n",
    "    - PVM 是 Python 的运行引擎，它时常表现为 Python 系统的一部分\n",
    "    - 「Python 解释器」的最后一步\n",
    "    \n",
    "\n",
    "### 性能和开发的含义\n",
    "\n",
    "**为什么无法像C/C++一样高效率**\n",
    "- 在 Python 的工作中通常没有「build」或「make」的步骤\n",
    "- Python 字节码不是机器的二进制代码（例如，Intel 芯片的指令）\n",
    "    - PVM 循环（而不是 CPU 芯片）仍然需解释字节码，并且字节码指令与 CPU 指令相比需要更多的工作\n",
    "    - 纯 Python 代码的运行速度介于传统的编译语言和传统的解释语言之间。\n",
    "\n",
    "**动态编译**\n",
    "- 在程序开始执行之前不需要预编译和连接，编译器总是在运行时出现，并且是运行程序系统的一部分。\n",
    "- Python 具有更多的动态语言特性"
   ]
  },
  {
   "cell_type": "code",
   "execution_count": 1,
   "metadata": {},
   "outputs": [
    {
     "name": "stdout",
     "output_type": "stream",
     "text": [
      "Hello world\n",
      "1267650600228229401496703205376\n"
     ]
    }
   ],
   "source": [
    "print(\"Hello world\")\n",
    "print(2**100)"
   ]
  },
  {
   "cell_type": "markdown",
   "metadata": {},
   "source": [
    "## 执行模块的变体\n",
    "\n",
    "### Python 实现的替代者\n",
    "Python 语言有三种主要实现方式（CPython、Jython 和 IronPython）以及一些次要的实现方式，例如，Stackless Python\n",
    "\n",
    "**CPython**\n",
    "- 原始的、标准的 Python 实现方式通常称作 CPython\n",
    "- 除非希望使用 Python 脚本化 Java 或.NET，你或许想要使用的就是标准的 CPython 系统\n",
    "- 运行速度最快、最完整而且也最健全\n",
    "\n",
    "**Jython**\n",
    "- （最初称为 JPython）是一种 Python 语言的替代实现方式，其目的是为了与 Java 编程语言集成。\n",
    "- 类编译 Python 源代码、形成 Java 字节码，并将得到的字节码映射到 Java 虚拟机（JVM）上\n",
    "- Jython 的目标是让 Python 代码能够脚本化 Java 应用程序\n",
    "- Jython 要比 CPython 慢而且也不够健壮\n",
    "\n",
    "\n",
    "**IronPython**\n",
    "-  IronPython（比 CPython 和 Jython 都要新），其设计目的是让 Python 程序可以与 Windows 平台上的.NET 框架以及与之对应的 Linux 的上开源的 Mono 编写成的应用相集成。\n",
    "- IronPython 有特定的目标：它主要为了满足在.NET 组件中集成 Python 的开发者。\n",
    "- \n",
    "\n",
    "\n",
    "\n"
   ]
  }
 ],
 "metadata": {
  "kernelspec": {
   "display_name": "Python 3",
   "language": "python",
   "name": "python3"
  },
  "language_info": {
   "codemirror_mode": {
    "name": "ipython",
    "version": 3
   },
   "file_extension": ".py",
   "mimetype": "text/x-python",
   "name": "python",
   "nbconvert_exporter": "python",
   "pygments_lexer": "ipython3",
   "version": "3.5.3"
  },
  "toc": {
   "base_numbering": 1,
   "nav_menu": {},
   "number_sections": true,
   "sideBar": true,
   "skip_h1_title": false,
   "title_cell": "Table of Contents",
   "title_sidebar": "Contents",
   "toc_cell": false,
   "toc_position": {},
   "toc_section_display": true,
   "toc_window_display": false
  }
 },
 "nbformat": 4,
 "nbformat_minor": 2
}
