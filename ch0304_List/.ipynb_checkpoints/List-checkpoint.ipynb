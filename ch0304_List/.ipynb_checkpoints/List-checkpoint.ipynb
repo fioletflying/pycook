{
 "cells": [
  {
   "cell_type": "markdown",
   "metadata": {},
   "source": [
    "# 列表\n",
    "\n",
    " 列表由一系列按**特定顺序排列**的元素组成。\n",
    " \n",
    " - 你可以创建包含字母表中所有字母、数字 0~9或所有家庭成员姓名的列表；\n",
    " - 也可以将任何东西加入列表中，其中的元素之间可以没有任何关系。\n",
    " - 列表指定一个表示复数的名称（如 letters  、 digits  或 names  ）是个不错的主意。"
   ]
  },
  {
   "cell_type": "markdown",
   "metadata": {},
   "source": [
    "## 列表元素访问\n",
    "\n",
    "要访问列表元素，可指出列表的名称，再指出元素的索引，并将其放在方括号内。\n",
    "第一个列表元素的索引为 0 ，而不是 1\n",
    "Python 为访问最后一个列表元素提供了一种特殊语法。通过将索引指定为 -1 ,因为你经常需要在不知道列表长度的情况下访问最后的元素\n",
    "\n",
    "## 修改、添加和删除\n",
    "\n",
    "### 修改\n",
    "\n",
    "修改列表元素的语法与访问列表元素的语法类似。要修改列表元素，可指定列表名和要修改的元素的索引，再指定该元素的新值\n",
    "\n",
    "### 添加\n",
    "\n",
    "在列表末尾添加元素： append()\n",
    " \n",
    "在列表中插入元素 在列表中插入元素:insert()\n",
    "insert()  可在列表的任何位置添加新元素。为此，你需要指定新元素的索引和值。\n",
    "\n",
    "### 删除\n",
    "\n",
    " - 使用使用 del  语句删除元素 语句删除元素  \n",
    " 使用 del  可删除任何位置处的列表元素，条件是知道其索引。\n",
    "   \n",
    "- 使用方法 使用方法 pop()  删除元素 删除元素  \n",
    "方法 pop()  可删除列表末尾的元素，并让你能够接着使用它。术语弹出弹出   （ pop ）源自这样的类比：列表就像一个栈，而删除列表末尾的元素相当于弹出栈顶元素。\n",
    "\n",
    "- pop() 指定位置的删除  \n",
    "弹出列表中任何位置处的元素 弹出列表中任何位置处的元素实际上，你可以使用 pop()  来删除列表中任何位置的元素，只需在括号中指定要删除的元素的索引即可。\n",
    "\n",
    "- 根据值删除元素  remove()  \n",
    "你不知道要从列表中删除的值所处的位置。如果你只知道要删除的元素的值，可使用方法 remove() \n",
    "只删除第一个指定的值。如果要删除的值可能在列表中出现多次，就需要使用循环来判断是否删除了所有这样的值\n",
    "\n",
    "\n",
    "## 组织列表\n",
    "\n",
    "有时候，你希望保留列表元素最初的排列顺序，而有时候又需要调整排列顺序。 Python 提供了很多组织列表的方式，可根据具体情况选用。\n",
    "\n",
    "###  使用方法 sort()  \n",
    "\n",
    "对列表进行永久性排序 对列表进行永久性排序  \n",
    "\n",
    "永久性地修改了列表元素的排列顺序。现在，汽车是按字母顺序排列的，再也无法恢复到原来的排列顺序\n",
    "还可以按与字母顺序相反的顺序排列列表元素， sort()  方法传递参数 reverse=True \n",
    "\n",
    "### sorted() 临时排序\n",
    "\n",
    "要保留列表元素原来的排列顺序，同时以特定的顺序呈现它们，可使用函数 sorted()  。函数 sorted()  让你能够按特定顺序显示列表元素，同时不影响它们在列表中的原始排列顺序。  \n",
    "\n",
    "　在并非所有的值都是小写时，按字母顺序排列列表要复杂些。决定排列顺序时，有多种解读大写字母的方式，要指定准确的排列顺序，可能比我们这里所做的\n",
    "要复杂。\n",
    "  \n",
    "### reverse() 反转打印\n",
    "\n",
    "要反转列表元素的排列顺序，可使用方法 reverse() \n",
    "reverse()  不是指按与字母顺序相反的顺序排列列表元素，而只是反转列表元素的排列顺序：\n",
    "reverse()  永久性地修改列表元素的排列顺序，但可随时恢复到原来的排列顺序，为此只需对列表再次调用 reverse() \n",
    "\n",
    "### len() 列表长度的确定\n",
    "\n",
    "使用函数 len()  可快速获悉列表的长度。\n",
    "\n"
   ]
  },
  {
   "cell_type": "code",
   "execution_count": 18,
   "metadata": {},
   "outputs": [
    {
     "name": "stdout",
     "output_type": "stream",
     "text": [
      "['fei', 'guan', 'xiang']\n",
      "fei\n",
      "Fei\n",
      "xiang\n",
      "['fei', 'guan', 'he']\n",
      "['fei', 'guan', 'he', 'xiang']\n",
      "['ce', 'fei', 'guan', 'he', 'xiang']\n",
      "['ce', 'fei', 'guan', 'he']\n",
      "he\n",
      "['ce', 'fei', 'guan']\n",
      "['ce', 'fei']\n"
     ]
    }
   ],
   "source": [
    "names = [\"fei\",\"guan\",\"xiang\"]\n",
    "print(names)\n",
    "print(names[0])\n",
    "print(names[0].title())\n",
    "print(names[-1])\n",
    "\n",
    "## 修改、\n",
    "names[-1] = \"he\"\n",
    "print(names)\n",
    "# 添加和删除\n",
    "names.append('xiang')\n",
    "print(names)\n",
    "names.insert(0,'ce')\n",
    "print(names)\n",
    "\n",
    "# 删除\n",
    "del names[-1]\n",
    "print(names)\n",
    "\n",
    "print(names.pop())\n",
    "print(names)\n",
    "\n",
    "\n",
    "sta = names.remove(\"guan\")\n",
    "print(names)\n"
   ]
  },
  {
   "cell_type": "code",
   "execution_count": 25,
   "metadata": {},
   "outputs": [
    {
     "name": "stdout",
     "output_type": "stream",
     "text": [
      "['fei', 'guan', 'xiang', 'he', 'ce']\n",
      "['ce', 'fei', 'guan', 'he', 'xiang']\n",
      "['xiang', 'he', 'guan', 'fei', 'ce']\n",
      "临时： ['ce', 'fei', 'guan', 'he', 'xiang']\n",
      "原来： ['xiang', 'he', 'guan', 'fei', 'ce']\n"
     ]
    }
   ],
   "source": [
    "## 组织列表\n",
    "# sort()\n",
    "names = [\"fei\",\"guan\",\"xiang\",\"he\",\"ce\"]\n",
    "print(names)\n",
    "names.sort()\n",
    "print(names)\n",
    "names.sort(reverse = True)\n",
    "print(names)\n",
    "\n",
    "# sorted()\n",
    "print(\"临时：\",sorted(names))\n",
    "print(\"原来：\",names)\n"
   ]
  },
  {
   "cell_type": "code",
   "execution_count": 28,
   "metadata": {},
   "outputs": [
    {
     "name": "stdout",
     "output_type": "stream",
     "text": [
      "['fei', 'guan', 'xiang', 'he', 'ce']\n",
      "['ce', 'he', 'xiang', 'guan', 'fei']\n",
      "['fei', 'guan', 'xiang', 'he', 'ce']\n",
      "5\n"
     ]
    }
   ],
   "source": [
    "# reverse()\n",
    "names = [\"fei\",\"guan\",\"xiang\",\"he\",\"ce\"]\n",
    "print(names)\n",
    "names.reverse()\n",
    "print(names)\n",
    "names.reverse()\n",
    "print(names)\n",
    "\n",
    "print(len(names))"
   ]
  },
  {
   "cell_type": "markdown",
   "metadata": {},
   "source": [
    "## 遍历整个列表\n",
    "\n",
    "通过使用 for  循环,刚开始使用循环时请牢记，对列表中的每个元素，都将执行循环指定的步骤，而不管列表包含多少个元素。\n",
    "\n",
    "Python 根据缩进来判断代码行与前一个代码行的关系。"
   ]
  },
  {
   "cell_type": "code",
   "execution_count": 3,
   "metadata": {},
   "outputs": [
    {
     "name": "stdout",
     "output_type": "stream",
     "text": [
      "fei\n",
      "guan\n",
      "hasattre\n",
      "Xiang\n",
      "Fei, your are very good!\n",
      "Guan, your are very good!\n",
      "Hasattre, your are very good!\n",
      "Xiang, your are very good!\n",
      "everyone, your all very good!\n"
     ]
    }
   ],
   "source": [
    "names = [\"fei\",\"guan\",\"hasattre\",\"Xiang\"]\n",
    "for name in names:\n",
    "    print(name)\n",
    "\n",
    "for name in names:\n",
    "    print(name.title() + \", your are very good!\")\n",
    "    \n",
    "print(\"everyone, your all very good!\")"
   ]
  },
  {
   "cell_type": "markdown",
   "metadata": {},
   "source": [
    "## 数值列表\n",
    "\n",
    "### range() 函数\n",
    "Python 函数 range()  让你能够轻松地生成一系列的数字。\n",
    "\n",
    "这是你在编程语言中经常看到的差一行为的结果。函数 range()  让 Python 从你指定的第一个值开始数，并在到达你指定的第二个值后停止，因此输出不包含第二个值（这里为 5 ）。\n",
    "\n",
    "### list创建数值列表\n",
    "\n",
    "要创建数字列表，可使用函数 list()  将 range()  的结果直接转换为列表。如果将 range()  作为 list()  的参数，输出将为一个数字列表。\n",
    "\n",
    "range的两种用法：\n",
    "- range(stop) -> range object\n",
    "- range(start, stop[, step]) -> range object\n",
    "    - 开始值，结束值，步长\n",
    "使用函数 range()  几乎能够创建任何需要的数字集，\n",
    "\n",
    "列表的简单统计\n",
    "- min()\n",
    "- max()\n",
    "- sum()\n",
    "\n",
    "## 列表解析\n",
    "\n",
    "要创建自己的列表解析，需要经过一定的练习，但能够熟练地创建常规列表后，你会发现这样做是完全值得的。当你觉得编写三四行代码来生成列表有点繁复时，就应考虑创建列表解析了。\n",
    "\n"
   ]
  },
  {
   "cell_type": "code",
   "execution_count": 4,
   "metadata": {},
   "outputs": [
    {
     "name": "stdout",
     "output_type": "stream",
     "text": [
      "1\n",
      "2\n",
      "3\n",
      "4\n"
     ]
    }
   ],
   "source": [
    "# range的使用\n",
    "for value in range(1,5):\n",
    "    print(value)"
   ]
  },
  {
   "cell_type": "code",
   "execution_count": 10,
   "metadata": {},
   "outputs": [
    {
     "name": "stdout",
     "output_type": "stream",
     "text": [
      "[1, 2, 3, 4, 5]\n",
      "[2, 4, 6, 8, 10]\n",
      "[1, 4, 9, 16, 25, 36, 49, 64, 81, 100]\n",
      "1\n",
      "100\n",
      "385\n",
      "[1, 4, 9, 16, 25, 36, 49, 64, 81, 100]\n"
     ]
    }
   ],
   "source": [
    "# range & list\n",
    "numbers = list(range(1,6))\n",
    "print(numbers)\n",
    "\n",
    "even_numbers = list(range(2,11,2))\n",
    "print(even_numbers)\n",
    "\n",
    "squares = []\n",
    "for value in range(1,11):\n",
    "    squares.append(value ** 2)\n",
    "print(squares)\n",
    "\n",
    "print(min(squares))\n",
    "print(max(squares))\n",
    "print(sum(squares))\n",
    "\n",
    "#列表的解析\n",
    "sexpress = [value**2 for value in range(1,11)]\n",
    "print(sexpress)\n"
   ]
  },
  {
   "cell_type": "markdown",
   "metadata": {},
   "source": [
    "\n"
   ]
  }
 ],
 "metadata": {
  "kernelspec": {
   "display_name": "Python 3",
   "language": "python",
   "name": "python3"
  },
  "language_info": {
   "codemirror_mode": {
    "name": "ipython",
    "version": 3
   },
   "file_extension": ".py",
   "mimetype": "text/x-python",
   "name": "python",
   "nbconvert_exporter": "python",
   "pygments_lexer": "ipython3",
   "version": "3.5.3"
  },
  "toc": {
   "base_numbering": 1,
   "nav_menu": {},
   "number_sections": true,
   "sideBar": true,
   "skip_h1_title": false,
   "title_cell": "Table of Contents",
   "title_sidebar": "Contents",
   "toc_cell": false,
   "toc_position": {},
   "toc_section_display": true,
   "toc_window_display": false
  }
 },
 "nbformat": 4,
 "nbformat_minor": 2
}
