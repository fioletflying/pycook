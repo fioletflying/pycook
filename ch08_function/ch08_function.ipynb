{
 "cells": [
  {
   "cell_type": "markdown",
   "metadata": {},
   "source": [
    "# 函数\n",
    "\n",
    "## 定义函数\n",
    "- 代码行使用关键字 def  来告诉 Python 你要定义一个函数。这是函数定，向 Python 指出了函数名，\n",
    "- 函数名为 greet_user() \n",
    "- 定义以冒号结尾。\n",
    "- 后面的所有缩进行构成了函数体\n",
    "\n",
    "### 形参和实参\n",
    "\n",
    "greet_user(username)的定义中，变量 username 是一个形参 \n",
    "feifei 是一个实际的参数 -- 实参\n",
    "\n"
   ]
  },
  {
   "cell_type": "code",
   "execution_count": 3,
   "metadata": {},
   "outputs": [
    {
     "name": "stdout",
     "output_type": "stream",
     "text": [
      "Hello, Feifei !\n"
     ]
    }
   ],
   "source": [
    "def greet_user(user_name):\n",
    "    print(\"Hello, \" + user_name.title()+\" !\")\n",
    "    \n",
    "greet_user(\"feifei\")"
   ]
  },
  {
   "cell_type": "markdown",
   "metadata": {},
   "source": [
    "## 参数传递\n",
    "\n",
    "鉴于函数定义中可能包含多个形参，因此函数调用中也可能包含多个实参。向函数传递实参的方式很多，可使用位置实参 位置实参   ，这要求实参的顺序与形参的顺序相同；也可使用关键字实参 ，其中每个实参都由变量名和值组成；还可使用列表和字典。\n",
    "\n",
    "### 位置实参\n",
    "\n",
    "Python 必须将函数调用中的每个实参都关联到函数定义中的一个形参。为此，最简单的关联方式是基于实参的顺序。这种关联方式被称为位置实参 位置实参   。\n",
    "在函数中，可根据需要使用任意数量的位置实参， Python 将按顺序将函数调用中的实参关联到函数定义中相应的形参。\n",
    "\n",
    "### 关键字实参\n",
    "\n",
    "  是传递给函数的名称 值对。你直接在实参中将名称和值关联起来了，因此向函数传递实参时不会混淆（不会得到名为 Hamster 的 harry 这样的结果）。关键字实参让你无需考虑函数调用中的实参顺序，还清楚地指出了函数调用中各个值的用途。\n",
    "  关键字实参的顺序无关紧要，因为 Python 知道各个值该存储到哪个形参中。下面两个函数调用是等效的：\n",
    "  \n",
    "  **使用关键字实参时，务必准确地指定函数定义中的形参名**\n",
    "  \n",
    "### 默认值\n",
    "\n",
    "编写函数时，可给每个形参指定默认值 默认值 。在调用函数中给形参提供了实参时， Python 将使用指定的实参值；否则，将使用形参的默认值。因此，给形参指定默认值后，可在函数调用中省略相应的实参。使用默认值可简化函数调用，还可清楚地指出函数的典型用法。\n",
    "\n",
    "### 等效的函数调用\n",
    "\n",
    "鉴于可混合使用位置实参、关键字实参和默认值，通常有多种等效的函数调用方式。\n",
    "\n",
    "使用哪种调用方式无关紧要，只要函数调用能生成你希望的输出就行。使用对你来说最容易理解的调用方式即可.\n",
    "\n",
    "如果提供的实参太多，将出现类似的 traceback ，帮助你确保函数调用和函数定义匹配。"
   ]
  },
  {
   "cell_type": "code",
   "execution_count": 10,
   "metadata": {},
   "outputs": [
    {
     "name": "stdout",
     "output_type": "stream",
     "text": [
      "\n",
      "I have a cat.\n",
      "My cat name is miaomiao\n",
      "\n",
      "I have a pig.\n",
      "My pig name is guan\n",
      "\n",
      "I have a pig.\n",
      "My pig name is zhu\n",
      "\n",
      "I have a pig.\n",
      "My pig name is zhu\n"
     ]
    }
   ],
   "source": [
    "# 位置实参\n",
    "def describe_pet(animal_type,pet_name):\n",
    "    print(\"\\nI have a \" + animal_type +\".\")\n",
    "    print(\"My \" + animal_type+\" name is \" + pet_name)\n",
    "    \n",
    "describe_pet(\"cat\",\"miaomiao\")\n",
    "describe_pet(\"pig\",\"guan\")\n",
    "# 关键字实参\n",
    "describe_pet(animal_type=\"pig\",pet_name=\"zhu\")\n",
    "describe_pet(pet_name=\"zhu\",animal_type=\"pig\")"
   ]
  },
  {
   "cell_type": "code",
   "execution_count": 2,
   "metadata": {},
   "outputs": [
    {
     "name": "stdout",
     "output_type": "stream",
     "text": [
      "\n",
      "I have a pig.\n",
      "My pig name is guan guan\n",
      "\n",
      "I have a pig.\n",
      "My pig name is guan guan\n",
      "\n",
      "I have a dog.\n",
      "My dog name is guan guan\n"
     ]
    }
   ],
   "source": [
    "# 默认值\n",
    "def describe_pet(pet_name,animal_type=\"pig\"):\n",
    "    print(\"\\nI have a \" + animal_type +\".\")\n",
    "    print(\"My \" + animal_type+\" name is \" + pet_name)\n",
    "    \n",
    "describe_pet(\"guan guan\")\n",
    "describe_pet(pet_name = \"guan guan\")\n",
    "describe_pet(\"guan guan\",'dog')"
   ]
  },
  {
   "cell_type": "markdown",
   "metadata": {},
   "source": [
    "## 返回值\n",
    "函数并非总是直接显示输出，相反，它可以处理一些数据，并返回一个或一组值。函数返回的值被称为返回值   \n",
    "\n",
    "### 返回字典\n",
    "\n",
    "函数可返回任何类型的值，包括列表和字典等较复杂的数据结构。"
   ]
  },
  {
   "cell_type": "code",
   "execution_count": 4,
   "metadata": {},
   "outputs": [
    {
     "name": "stdout",
     "output_type": "stream",
     "text": [
      "Feifei Liu\n"
     ]
    }
   ],
   "source": [
    "def get_formatted_name(first_name,last_name):\n",
    "    full_name = first_name + ' ' + last_name\n",
    "    return full_name.title()\n",
    "\n",
    "\n",
    "def get_formatted_name(first_name,middle_name,last_name):\n",
    "    full_name = first_name + ' ' +middle_name+' ' + last_name\n",
    "    return full_name.title()\n",
    "\n",
    "#可使用默认值来让实参变成可选的\n",
    "def get_formatted_name(first_name,last_name,middle_name=''):\n",
    "    if middle_name:\n",
    "        \n",
    "        full_name = first_name + ' ' +middle_name+' ' + last_name\n",
    "    else:\n",
    "         full_name = first_name + ' ' + last_name\n",
    "    return full_name.title()\n",
    "\n",
    "test = get_formatted_name('feifei','liu')\n",
    "print(test)"
   ]
  },
  {
   "cell_type": "code",
   "execution_count": 5,
   "metadata": {},
   "outputs": [
    {
     "name": "stdout",
     "output_type": "stream",
     "text": [
      "{'first': 'feifei', 'last': 'liu'}\n"
     ]
    }
   ],
   "source": [
    "# 函数可返回任何类型的值，包括列表和字典等较复杂的数据结构。\n",
    "def get_formatted_name(first_name,last_name):\n",
    "    person = {'first':first_name,'last':last_name}\n",
    "    return person\n",
    "\n",
    "test = get_formatted_name('feifei','liu')\n",
    "print(test)"
   ]
  },
  {
   "cell_type": "markdown",
   "metadata": {},
   "source": [
    "## 传递列表\n",
    "\n",
    "向函数传递列表很有用，这种列表包含的可能是名字、数字或更复杂的对象（如字典）。\n",
    "### 修改列表\n",
    "将列表传递给函数后，函数就可对其进行修改。在函数中对这个列表所做的任何修改都是永久性的，这让你能够高效地处理大量的数据\n",
    "\n",
    "### 禁止修改列表\n",
    "`function_name(list_name[:])`\n",
    "切片表示法 [:]  创建列表的副本。在"
   ]
  },
  {
   "cell_type": "code",
   "execution_count": 6,
   "metadata": {},
   "outputs": [
    {
     "name": "stdout",
     "output_type": "stream",
     "text": [
      "Hello, Fei!\n",
      "Hello, Guan!\n",
      "Hello, He!\n"
     ]
    }
   ],
   "source": [
    "def greet_user(names):\n",
    "    for name in names:\n",
    "        msg = \"Hello, \" + name.title() + \"!\"\n",
    "        print(msg)\n",
    "        \n",
    "usernames = [\"fei\",\"guan\",\"he\"]\n",
    "greet_user(usernames)"
   ]
  },
  {
   "cell_type": "markdown",
   "metadata": {},
   "source": [
    "## 传递任意数量的实参\n",
    "\n",
    "例如，来看一个制作比萨的函数，它需要接受很多配料，但你无法预先确定顾客要多少种配料。下面的函数只有一个形参 `*toppings` ，但不管调用语句提供了多少实参，这个形参都将它们统统收入囊中：\n",
    "\n",
    "形参名 `*toppings`  中的星号让 Python 创建一个名为 toppings  的空元组，并将收到的所有值都封装到这个元组中。函数体内的"
   ]
  },
  {
   "cell_type": "code",
   "execution_count": 7,
   "metadata": {},
   "outputs": [
    {
     "name": "stdout",
     "output_type": "stream",
     "text": [
      "('sfsfs',)\n",
      "('sfsfs', 'b', 'c')\n"
     ]
    }
   ],
   "source": [
    "def make_pizza(*types):\n",
    "    print(types)\n",
    "    \n",
    "make_pizza('sfsfs')\n",
    "make_pizza('sfsfs','b','c')"
   ]
  },
  {
   "cell_type": "code",
   "execution_count": 8,
   "metadata": {},
   "outputs": [
    {
     "name": "stdout",
     "output_type": "stream",
     "text": [
      "{'first_name': 'liu', 'last_name': 'feifei', 'number': '110', 'field': 'fammer'}\n"
     ]
    }
   ],
   "source": [
    "def build_profile(first,last,**user_info):\n",
    "    profile = {}\n",
    "    profile['first_name'] = first\n",
    "    profile['last_name'] = last\n",
    "    \n",
    "    for key,value in user_info.items():\n",
    "        profile[key] = value\n",
    "    return profile\n",
    "\n",
    "user_profile = build_profile('liu','feifei',number = '110',field = 'fammer')\n",
    "print(user_profile)"
   ]
  },
  {
   "cell_type": "markdown",
   "metadata": {},
   "source": [
    "## 函数模块\n",
    "\n",
    "函数的优点之一是，使用它们可将代码块与主程序分离。通过给函数指定描述性名称，可让主程序容易理解得多。你还可以更进一步，将函数存储在被称为模块模块   的独立文件中，再将模块导入导入   到主程序中。 import  语句允许在当前运行的程序文件中使用模块中的代码。\n",
    "\n",
    "### 导入整个模块\n",
    "\n",
    "要让函数是可导入的，得先创建模块。模块模块   是扩展名为 .py 的文件，包含要导入到程序中的代码。下面来创建一个包含函数\n",
    "\n",
    "\n",
    "### 导入特定的函数模块\n",
    "\n",
    "`from module_name import function_name`  \n",
    "`from module_name import function_0, function_1, function_2`\n",
    "\n",
    "### 使用 as  给函数指定别名\n",
    "\n",
    "如果要导入的函数的名称可能与程序中现有的名称冲突，或者函数的名称太长，可指定简短而独一无二的别名别名  —— 函数的另一个名称，类似于外号。要给函数指定这种特殊外号，需要在导入它时这样做。\n",
    "\n",
    "`from pizza import make_pizza as mp`\n",
    "\n",
    "\n",
    "### 使用 as  给模块指定别名\n",
    "`import pizza as p`\n",
    "\n",
    "### 导入模块种的所有函数\n",
    "\n",
    "`from pizza import *`\n",
    "\n",
    "import  语句中的星号让 Python 将模块 pizza  中的每个函数都复制到这个程序文件中。由于导入了每个函数，可通过名称来调用每个函数，而无需使用句点表示法。然而"
   ]
  },
  {
   "cell_type": "markdown",
   "metadata": {},
   "source": [
    "## 函数指南\n",
    "\n",
    "- 编写函数时，需要牢记几个细节。应给函数指定描述性名称，且只在其中使用小写字母和下划线\n",
    "- 每个函数都应包含简要地阐述其功能的注释，该注释应紧跟在函数定义后面，并采用文档字符串格式"
   ]
  }
 ],
 "metadata": {
  "kernelspec": {
   "display_name": "Python 3",
   "language": "python",
   "name": "python3"
  },
  "language_info": {
   "codemirror_mode": {
    "name": "ipython",
    "version": 3
   },
   "file_extension": ".py",
   "mimetype": "text/x-python",
   "name": "python",
   "nbconvert_exporter": "python",
   "pygments_lexer": "ipython3",
   "version": "3.6.8"
  }
 },
 "nbformat": 4,
 "nbformat_minor": 2
}
