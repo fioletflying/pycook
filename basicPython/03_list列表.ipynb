{
 "metadata": {
  "language_info": {
   "codemirror_mode": {
    "name": "ipython",
    "version": 3
   },
   "file_extension": ".py",
   "mimetype": "text/x-python",
   "name": "python",
   "nbconvert_exporter": "python",
   "pygments_lexer": "ipython3",
   "version": "3.7.1-final"
  },
  "orig_nbformat": 2,
  "kernelspec": {
   "name": "python37164bitbasecondaaff76f843564460db0fe5180114e39bc",
   "display_name": "Python 3.7.1 64-bit ('base': conda)"
  }
 },
 "nbformat": 4,
 "nbformat_minor": 2,
 "cells": [
  {
   "source": [
    "\n",
    "## list 列表\n",
    "\n",
    "### 列表的基础概念\n",
    "\n",
    "列表是python内置的数据类型，是一个有序的集合，可以随时的添加和删除列表元素。\n",
    "\n",
    "使用`[]`来定义一个列表,用调号隔开元素。\n"
   ],
   "cell_type": "markdown",
   "metadata": {}
  },
  {
   "cell_type": "code",
   "execution_count": 1,
   "metadata": {
    "tags": []
   },
   "outputs": [
    {
     "output_type": "stream",
     "name": "stdout",
     "text": "[&#39;摩拜&#39;, &#39;ofo&#39;, &#39;小蓝&#39;]\n"
    }
   ],
   "source": [
    "# 定义列表\n",
    "bicycles=['摩拜','ofo','小蓝']\n",
    "print(bicycles)\n"
   ]
  },
  {
   "source": [
    "### 列表元素的访问\n",
    "\n",
    "- 使用索引号来访问具体第几个元素\n",
    "- 序号是从0开始的\n",
    "- -1 可以访问最后一个元素"
   ],
   "cell_type": "markdown",
   "metadata": {}
  },
  {
   "cell_type": "code",
   "execution_count": 2,
   "metadata": {
    "tags": []
   },
   "outputs": [
    {
     "output_type": "stream",
     "name": "stdout",
     "text": "摩拜\n小蓝\n"
    }
   ],
   "source": [
    "print(bicycles[0])\n",
    "print(bicycles[-1])"
   ]
  },
  {
   "source": [
    "### 增-删-改\n",
    "\n",
    "#### 添加元素\n",
    "\n",
    "- 在列表末尾添加，使用append()\n",
    "- 在列表中指定的位置添加，使用insert()"
   ],
   "cell_type": "markdown",
   "metadata": {}
  },
  {
   "cell_type": "code",
   "execution_count": 5,
   "metadata": {
    "tags": []
   },
   "outputs": [
    {
     "output_type": "stream",
     "name": "stdout",
     "text": "[&#39;摩拜&#39;, &#39;ofo&#39;, &#39;小蓝&#39;, &#39;瓦力&#39;]\n[&#39;凤凰&#39;, &#39;摩拜&#39;, &#39;ofo&#39;, &#39;小蓝&#39;, &#39;瓦力&#39;]\n"
    }
   ],
   "source": [
    "bicycles=['摩拜','ofo','小蓝']\n",
    "bicycles.append('瓦力')\n",
    "print(bicycles)\n",
    "\n",
    "bicycles.insert(0,'凤凰')\n",
    "print(bicycles)"
   ]
  },
  {
   "source": [
    "#### 修改元素\n",
    "\n",
    "直接获得需要修改的元素位置，进行修改\n",
    "\n"
   ],
   "cell_type": "markdown",
   "metadata": {}
  },
  {
   "cell_type": "code",
   "execution_count": 7,
   "metadata": {
    "tags": []
   },
   "outputs": [
    {
     "output_type": "stream",
     "name": "stdout",
     "text": "[&#39;凤凰&#39;, &#39;美团&#39;, &#39;ofo&#39;, &#39;小蓝&#39;, &#39;瓦力&#39;]\n"
    }
   ],
   "source": [
    "bicycles[1] = '美团'\n",
    "print(bicycles)"
   ]
  },
  {
   "source": [
    "#### 删除列表元素\n",
    "\n",
    "- 使用del语句删除:必须要知道需要删除元素的索引\n",
    "- 使用pop：删除末尾的元素，并且可以获得该元素的值\n",
    "    - 可以使用pop(index)来删除指定位置的元素\n",
    "- 使用remove： 根据值来删除元素"
   ],
   "cell_type": "markdown",
   "metadata": {}
  },
  {
   "cell_type": "code",
   "execution_count": 8,
   "metadata": {
    "tags": []
   },
   "outputs": [
    {
     "output_type": "stream",
     "name": "stdout",
     "text": "[&#39;凤凰&#39;, &#39;美团&#39;, &#39;小蓝&#39;, &#39;瓦力&#39;]\n"
    }
   ],
   "source": [
    "del bicycles[2]\n",
    "print(bicycles)"
   ]
  },
  {
   "cell_type": "code",
   "execution_count": 9,
   "metadata": {
    "tags": []
   },
   "outputs": [
    {
     "output_type": "stream",
     "name": "stdout",
     "text": "瓦力\n"
    }
   ],
   "source": [
    "pop_bick = bicycles.pop()\n",
    "print(pop_bick)"
   ]
  },
  {
   "cell_type": "code",
   "execution_count": 10,
   "metadata": {
    "tags": []
   },
   "outputs": [
    {
     "output_type": "stream",
     "name": "stdout",
     "text": "[&#39;美团&#39;, &#39;小蓝&#39;]\n"
    }
   ],
   "source": [
    "bicycles.remove('凤凰')\n",
    "print(bicycles)"
   ]
  },
  {
   "source": [
    "### 列表的组织\n",
    "\n",
    "#### 列表的排序\n",
    "\n",
    "- sort() 对列表永久排序\n",
    "    - reverse: 降序排序\n",
    "- sorted() 对列表临时排序\n",
    "- reverse() 倒着排列数据\n",
    "- len()获得列表的长度"
   ],
   "cell_type": "markdown",
   "metadata": {}
  },
  {
   "cell_type": "code",
   "execution_count": 12,
   "metadata": {
    "tags": []
   },
   "outputs": [
    {
     "output_type": "stream",
     "name": "stdout",
     "text": "[&#39;BYD&#39;, &#39;吉利&#39;, &#39;红旗&#39;, &#39;丰田&#39;]\n[&#39;BYD&#39;, &#39;丰田&#39;, &#39;吉利&#39;, &#39;红旗&#39;]\n[&#39;红旗&#39;, &#39;吉利&#39;, &#39;丰田&#39;, &#39;BYD&#39;]\n"
    }
   ],
   "source": [
    "cars = ['BYD','吉利','红旗','丰田']\n",
    "print(cars)\n",
    "cars.sort()\n",
    "print(cars)\n",
    "cars.sort(reverse=True)\n",
    "print(cars)\n"
   ]
  },
  {
   "cell_type": "code",
   "execution_count": 2,
   "metadata": {
    "tags": []
   },
   "outputs": [
    {
     "output_type": "stream",
     "name": "stdout",
     "text": "[&#39;BYD&#39;, &#39;丰田&#39;, &#39;吉利&#39;, &#39;红旗&#39;]\n[&#39;BYD&#39;, &#39;吉利&#39;, &#39;红旗&#39;, &#39;丰田&#39;]\n[&#39;丰田&#39;, &#39;红旗&#39;, &#39;吉利&#39;, &#39;BYD&#39;]\n4\n"
    }
   ],
   "source": [
    "cars = ['BYD','吉利','红旗','丰田']\n",
    "\n",
    "print(sorted(cars))\n",
    "print(cars)\n",
    "cars.reverse()\n",
    "print(cars)\n",
    "print(len(cars))"
   ]
  }
 ]
}