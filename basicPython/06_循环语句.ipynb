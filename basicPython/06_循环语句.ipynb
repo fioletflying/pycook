{
 "cells": [
  {
   "cell_type": "markdown",
   "metadata": {},
   "source": [
    "## 循环语句\n",
    "\n",
    "循环语句能够非常方便的处理计算机的重复运算.\n",
    "    本篇文章的主要内容的思维导图如下:\n",
    "    ![](imgs/06_1.jpg)\n",
    "\n",
    "### for 循环\n",
    "\n",
    "在python for循环语句主要用来对列表等序列进行迭代,其中迭代的顺序与序列中的出现的顺序是一致的.说人话就是用for循环可以遍历列表等序列.\n",
    "\n",
    "其语法为:  \n",
    "for 单个元素 in 序列:\n",
    "    xxxx  \n",
    "\n",
    "    \n",
    "对比C等语言:对i值递增/递减的数值进行遍历,给予用户定义迭代步骤和暂停条件    \n",
    "for(int i = 0;i++;i<n)  \n",
    "{  \n",
    "    xxxx\n",
    "}  \n",
    "\n"
   ]
  },
  {
   "cell_type": "code",
   "execution_count": 1,
   "metadata": {},
   "outputs": [
    {
     "name": "stdout",
     "output_type": "stream",
     "text": [
      "python基础\n",
      "python进阶\n",
      "机器学习\n",
      "深度学习\n"
     ]
    }
   ],
   "source": [
    "waliAIs = ['python基础','python进阶','机器学习','深度学习']\n",
    "\n",
    "for wali in waliAIs:\n",
    "    print(wali)"
   ]
  },
  {
   "cell_type": "markdown",
   "metadata": {},
   "source": [
    "这里需要注意的地方在循环过程尽可能不要改变序列数组的元素.这里修改意思包括:修改,删除,增加等操作.如果确实需要修改,这里的建议是:\n",
    "\n",
    "- 对数组副本进行修改\n",
    "- 直接常见一个新的数组"
   ]
  },
  {
   "cell_type": "code",
   "execution_count": 4,
   "metadata": {},
   "outputs": [
    {
     "name": "stdout",
     "output_type": "stream",
     "text": [
      "['python基础', 'python进阶', '机器学习', '深度学习']\n",
      "['python基础', 'python进阶', '机器学习', '深度学习']\n",
      "********修改后********\n",
      "['python基础', '算法笔记', '机器学习', '深度学习']\n"
     ]
    }
   ],
   "source": [
    "waliAIs = ['python基础','python进阶','机器学习','深度学习']\n",
    "\n",
    "# 创建副本\n",
    "waliAIs_copy = waliAIs[:]\n",
    "print(waliAIs_copy)\n",
    "\n",
    "for i,wali in enumerate(waliAIs):\n",
    "    if wali == 'python进阶':\n",
    "        waliAIs_copy[i] = '算法笔记'\n",
    "        \n",
    "print(waliAIs)\n",
    "print(\"********修改后********\")\n",
    "print(waliAIs_copy)"
   ]
  },
  {
   "cell_type": "code",
   "execution_count": 5,
   "metadata": {},
   "outputs": [
    {
     "name": "stdout",
     "output_type": "stream",
     "text": [
      "['python基础', '算法笔记', '机器学习', '深度学习']\n",
      "['python基础', 'python进阶', '机器学习', '深度学习']\n",
      "********修改后********\n",
      "['python基础', '算法笔记', '机器学习', '深度学习']\n"
     ]
    }
   ],
   "source": [
    "waliAIs = ['python基础','python进阶','机器学习','深度学习']\n",
    "\n",
    "# 创建新的数组\n",
    "waliAIs_new = []\n",
    "print(waliAIs_copy)\n",
    "\n",
    "for wali in waliAIs:\n",
    "    if wali == 'python进阶':\n",
    "        waliAIs_new.append('算法笔记')\n",
    "    else:\n",
    "        waliAIs_new.append(wali)\n",
    "        \n",
    "        \n",
    "print(waliAIs)\n",
    "print(\"********修改后********\")\n",
    "print(waliAIs_copy)"
   ]
  },
  {
   "cell_type": "markdown",
   "metadata": {},
   "source": [
    "### while 循环\n",
    "\n",
    "只要条件满足，就不断循环，条件不满足时退出循环。  \n",
    "语法: \n",
    "while 条件判断： \n",
    "    条件里面用来判断该循环是否结束\n",
    "\t\t"
   ]
  },
  {
   "cell_type": "code",
   "execution_count": 6,
   "metadata": {},
   "outputs": [
    {
     "name": "stdout",
     "output_type": "stream",
     "text": [
      "2500\n"
     ]
    }
   ],
   "source": [
    "sum = 0\n",
    "n = 99\n",
    "while n > 0:\n",
    "    sum = sum + n\n",
    "    n = n - 2\n",
    "print(sum)"
   ]
  },
  {
   "cell_type": "markdown",
   "metadata": {},
   "source": [
    "### break与continue语句\n",
    "\n",
    "注意点:谨慎使用这两个语句，有可能造成逻辑混乱\n",
    "\n",
    "#### break\n",
    "\n",
    "用来调出最近的for或者while循环,break语句可以提前退出循环"
   ]
  },
  {
   "cell_type": "code",
   "execution_count": 7,
   "metadata": {},
   "outputs": [
    {
     "name": "stdout",
     "output_type": "stream",
     "text": [
      "1\n",
      "2\n",
      "3\n",
      "4\n",
      "5\n",
      "6\n",
      "7\n",
      "8\n",
      "9\n",
      "10\n",
      "END\n"
     ]
    }
   ],
   "source": [
    "n = 1\n",
    "while n <= 100:\n",
    "    if n > 10: # 当n = 11时，条件满足，执行break语句\n",
    "        break # break语句会结束当前循环\n",
    "    print(n)\n",
    "    n = n + 1\n",
    "print('END')"
   ]
  },
  {
   "cell_type": "markdown",
   "metadata": {},
   "source": [
    "#### continue 语句\n",
    "\n",
    "跳过当前的这次循环，直接开始下一次循环。"
   ]
  },
  {
   "cell_type": "code",
   "execution_count": 8,
   "metadata": {},
   "outputs": [
    {
     "name": "stdout",
     "output_type": "stream",
     "text": [
      "1\n",
      "3\n",
      "5\n",
      "7\n",
      "9\n"
     ]
    }
   ],
   "source": [
    "n = 0\n",
    "while n < 10:\n",
    "    n = n + 1\n",
    "    if n % 2 == 0: # 如果n是偶数，执行continue语句\n",
    "        continue # continue语句会直接继续下一轮循环，后续的print()语句不会执行\n",
    "    print(n)"
   ]
  },
  {
   "cell_type": "markdown",
   "metadata": {},
   "source": [
    "### for…else 语句\n",
    "\n",
    "它会在循环耗尽了可迭代对象 (使用 for) 或循环条件变为假值 (使用 while) 时被执行\n",
    "else 子句属于 for 循环.\n",
    "\t"
   ]
  },
  {
   "cell_type": "code",
   "execution_count": 13,
   "metadata": {},
   "outputs": [
    {
     "name": "stdout",
     "output_type": "stream",
     "text": [
      "10 equals 2 * 5\n"
     ]
    }
   ],
   "source": [
    "for x in range(2, n):\n",
    "    if n % x == 0:\n",
    "        print(n, 'equals', x, '*', n//x)\n",
    "        break\n",
    "    else:\n",
    "     # loop fell through without finding a factor\n",
    "     print(n, 'is a prime number')"
   ]
  }
 ],
 "metadata": {
  "kernelspec": {
   "display_name": "Python 3.7.1 64-bit ('base': conda)",
   "language": "python",
   "name": "python37164bitbasecondaaff76f843564460db0fe5180114e39bc"
  },
  "language_info": {
   "codemirror_mode": {
    "name": "ipython",
    "version": 3
   },
   "file_extension": ".py",
   "mimetype": "text/x-python",
   "name": "python",
   "nbconvert_exporter": "python",
   "pygments_lexer": "ipython3",
   "version": "3.7.1"
  },
  "toc": {
   "base_numbering": 1,
   "nav_menu": {},
   "number_sections": true,
   "sideBar": true,
   "skip_h1_title": false,
   "title_cell": "Table of Contents",
   "title_sidebar": "Contents",
   "toc_cell": false,
   "toc_position": {},
   "toc_section_display": true,
   "toc_window_display": false
  }
 },
 "nbformat": 4,
 "nbformat_minor": 2
}
