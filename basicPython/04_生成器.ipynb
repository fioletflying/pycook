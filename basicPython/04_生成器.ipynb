{
 "metadata": {
  "language_info": {
   "codemirror_mode": {
    "name": "ipython",
    "version": 3
   },
   "file_extension": ".py",
   "mimetype": "text/x-python",
   "name": "python",
   "nbconvert_exporter": "python",
   "pygments_lexer": "ipython3",
   "version": "3.7.6-final"
  },
  "orig_nbformat": 2,
  "kernelspec": {
   "name": "python3",
   "display_name": "Python 3.7.6 64-bit ('base': conda)",
   "metadata": {
    "interpreter": {
     "hash": "465f6a143b60a34a07794b287aacf875580d70b1d12de9544a27b90d8e00ee73"
    }
   }
  }
 },
 "nbformat": 4,
 "nbformat_minor": 2,
 "cells": [
  {
   "source": [
    "## 生成器\n",
    "\n",
    "### 迭代回顾\n",
    "前面python的分享中，我们介绍一个比较有意思的概念**迭代**，不知道经过几天后，大家是否还记得。这里在回顾一下关于迭代比较重要的几点。\n",
    "\n",
    "- 遍历list/tuple对象的过程就叫迭代\n",
    "- 可迭代对象：实现了迭代器协议的对象（实现：对象内部定义一个iter方法）\n",
    "- 迭代器协议是指：对象必须提供一个next方法，执行该方法要么返回迭代中的下一项，要么就引起一个Stopiteration异常，以终止迭代\n",
    "\n",
    "这几个基本的概念就组成python中非常重要的迭代的概念。如果不理解，可以回到上一篇再过一遍，其实原理还是很简单的。这里我们可能要问自己一个问题了。那就是为什么要整出迭代这样的一个东西，它有什么有缺点呢？\n",
    "\n",
    "迭代取值的优缺点:  \n",
    "\n",
    "优点:  \n",
    "\n",
    "    - 不依赖索引取值\n",
    "\n",
    "　　 - 每次取值都只占一小份空间,节省空间\n",
    "\n",
    "　　缺点:\n",
    "\n",
    "    - 不能指定取某个值,只能往前,不能往后\n",
    "    - 值取完之后会报错StopIteration\n",
    "\n",
    "\n",
    "### 实现自己的迭代\n",
    "\n",
    "为了进一步的了解上面的两个概念，我们自己写一个迭代器，有些概念后面会谈到，这里我们先引入类和函数的概念，以后再见就不陌生了。\n",
    "创建一个WaliAI 类，用来查看该公众号的关注人数。\n"
   ],
   "cell_type": "markdown",
   "metadata": {}
  },
  {
   "cell_type": "code",
   "execution_count": 5,
   "metadata": {},
   "outputs": [],
   "source": [
    "# 瓦力人工智能公众号的关注人数\n",
    "class WaliAI:\n",
    "    def __init__(self,nums):\n",
    "        self.nums = nums\n"
   ]
  },
  {
   "cell_type": "code",
   "execution_count": 7,
   "metadata": {},
   "outputs": [
    {
     "output_type": "stream",
     "name": "stdout",
     "text": [
      "['__class__', '__delattr__', '__dict__', '__dir__', '__doc__', '__eq__', '__format__', '__ge__', '__getattribute__', '__gt__', '__hash__', '__init__', '__init_subclass__', '__le__', '__lt__', '__module__', '__ne__', '__new__', '__reduce__', '__reduce_ex__', '__repr__', '__setattr__', '__sizeof__', '__str__', '__subclasshook__', '__weakref__', 'nums']\n"
     ]
    }
   ],
   "source": [
    "walis = WaliAI(1000)\n",
    "# dir()方法可以看出，dogs类并没有__iter__方法\n",
    "print(dir(walis))"
   ]
  },
  {
   "source": [
    "#### 实现__iter__成为迭代对象"
   ],
   "cell_type": "markdown",
   "metadata": {}
  },
  {
   "cell_type": "code",
   "execution_count": 12,
   "metadata": {},
   "outputs": [],
   "source": [
    "# 瓦力人工智能公众号的关注人数\n",
    "class WaliAI:\n",
    "    def __init__(self,nums):\n",
    "        self.nums = nums\n",
    "    # # 通过实现__iter__方法，则对象就成了可迭代对象\n",
    "    def __iter__(self):\n",
    "        return self"
   ]
  },
  {
   "cell_type": "code",
   "execution_count": 13,
   "metadata": {},
   "outputs": [
    {
     "output_type": "stream",
     "name": "stdout",
     "text": [
      "['__class__', '__delattr__', '__dict__', '__dir__', '__doc__', '__eq__', '__format__', '__ge__', '__getattribute__', '__gt__', '__hash__', '__init__', '__init_subclass__', '__iter__', '__le__', '__lt__', '__module__', '__ne__', '__new__', '__reduce__', '__reduce_ex__', '__repr__', '__setattr__', '__sizeof__', '__str__', '__subclasshook__', '__weakref__', 'nums']\n"
     ]
    }
   ],
   "source": [
    "walis = WaliAI(1000)\n",
    "# dir()方法可以看出，dogs类并没有__iter__方法\n",
    "print(dir(walis))"
   ]
  },
  {
   "source": [
    "#### 通过实现__next__方法成为迭代器\n",
    "\n",
    "通过上一个小节，我们了解到可迭代对象并不一定是迭代器，两者的关系如下图：\n",
    "\n",
    "\n",
    "![可迭代对象与迭代器的关系](imgs/640.webp)\n",
    "\n",
    "也就是，迭代器一定是可迭代对象，但是可迭代对象不是迭代器。\n",
    "\n",
    "上面那个例子里面只实现了`__iter__`方法，如果要成为迭代器，这里还需要实现`__next__`方法。那我们继续。"
   ],
   "cell_type": "markdown",
   "metadata": {}
  },
  {
   "cell_type": "code",
   "execution_count": 32,
   "metadata": {},
   "outputs": [],
   "source": [
    "# 瓦力人工智能公众号的关注人数\n",
    "class WaliAI(object):\n",
    "    def __init__(self,nums):\n",
    "        self.nums = nums\n",
    "        self.start = -1\n",
    "    # # 通过实现__iter__方法，则对象就成了可迭代对象\n",
    "    def __iter__(self):\n",
    "        return self\n",
    "    # 实现next方法，即迭代器协议;每一次for循环都调用该方法\n",
    "    def __next__(self):\n",
    "        self.start +=1\n",
    "        # # 若超出，则停止迭代\n",
    "        if self.start >= self.nums:\n",
    "            raise StopIteration()\n",
    "        return self.start"
   ]
  },
  {
   "cell_type": "code",
   "execution_count": 35,
   "metadata": {},
   "outputs": [
    {
     "output_type": "stream",
     "name": "stdout",
     "text": [
      "0\n1\n2\n3\n4\n5\n6\n7\n8\n9\n"
     ]
    }
   ],
   "source": [
    "# 测试自己的构造的迭代器\n",
    "walis = WaliAI(10)\n",
    "# dir()方法可以看出，dogs类并没有__iter__方法\n",
    "# print(dir(walis))\n",
    "for wali in walis:\n",
    "    print(wali)"
   ]
  },
  {
   "source": [
    "此时，我们就成功封装出一个迭代器，那么，for就可以根据迭代器协议遍历类中元素。\n",
    "而walis就被称之为 实现了迭代器协议的可迭代对象。有了自己构造迭代器的基础，我们再来好好的看看list集合数据类型。"
   ],
   "cell_type": "markdown",
   "metadata": {}
  },
  {
   "cell_type": "code",
   "execution_count": 36,
   "metadata": {},
   "outputs": [
    {
     "output_type": "stream",
     "name": "stdout",
     "text": [
      "1\n2\n3\n"
     ]
    }
   ],
   "source": [
    "list_data = [1,2,3]\n",
    "for i in list_data:\n",
    "    print(i)"
   ]
  },
  {
   "source": [
    "之所以能够利用for进行遍历，是因为list本身就是一个可迭代对象，内部实质上已经实现了__iter__方法。"
   ],
   "cell_type": "markdown",
   "metadata": {}
  },
  {
   "source": [
    "### 列表推导式\n",
    "\n",
    "列表推导式就是一个快捷生成列表的快捷方法，这个语法有点奇怪，但是一旦大家学会了使用这样的结构后，就有点回不去的感觉，因为真的非常方便。\n",
    "\n",
    "语法：  \n",
    "\\[表达式 for 迭代变量 in 可迭代对象 \\[if 条件表达式\\]\\]\n",
    "\n",
    "此格式中，[if 条件表达式] 不是必须的，可以使用，也可以省略\n",
    "\n",
    "我们来看个例吧\n"
   ],
   "cell_type": "markdown",
   "metadata": {}
  },
  {
   "cell_type": "code",
   "execution_count": null,
   "metadata": {},
   "outputs": [],
   "source": [
    "# 计算"
   ]
  }
 ]
}