{
 "metadata": {
  "language_info": {
   "codemirror_mode": {
    "name": "ipython",
    "version": 3
   },
   "file_extension": ".py",
   "mimetype": "text/x-python",
   "name": "python",
   "nbconvert_exporter": "python",
   "pygments_lexer": "ipython3",
   "version": "3.7.1-final"
  },
  "orig_nbformat": 2,
  "kernelspec": {
   "name": "python37164bitbasecondaaff76f843564460db0fe5180114e39bc",
   "display_name": "Python 3.7.1 64-bit ('base': conda)"
  }
 },
 "nbformat": 4,
 "nbformat_minor": 2,
 "cells": [
  {
   "source": [
    "## 条件语句\n",
    "\n",
    "语法：  \n",
    "if 判断条件 :  \n",
    "    xxxx  \n",
    "    \n"
   ],
   "cell_type": "markdown",
   "metadata": {}
  },
  {
   "cell_type": "code",
   "execution_count": 1,
   "metadata": {
    "tags": []
   },
   "outputs": [
    {
     "output_type": "stream",
     "name": "stdout",
     "text": "WALI\nEva\nGg\n"
    }
   ],
   "source": [
    "waliAIs = [\"wali\",\"Eva\",\"gg\"]\n",
    "\n",
    "for wali  in waliAIs:\n",
    "    if wali == \"wali\":\n",
    "        print(wali.upper())\n",
    "    else:\n",
    "        print(wali.title())"
   ]
  },
  {
   "source": [
    "### 判断条件的设定\n",
    "\n",
    "#### 判断是否相等\n",
    "\n",
    "- ==  判断相等\n",
    "- !=  判断不相等\n",
    "\n"
   ],
   "cell_type": "markdown",
   "metadata": {}
  },
  {
   "cell_type": "code",
   "execution_count": 2,
   "metadata": {
    "tags": []
   },
   "outputs": [
    {
     "output_type": "stream",
     "name": "stdout",
     "text": "Wali\nEVA\nGG\n"
    }
   ],
   "source": [
    "waliAIs = [\"wali\",\"Eva\",\"gg\"]\n",
    "\n",
    "for wali  in waliAIs:\n",
    "    if wali != \"wali\":\n",
    "        print(wali.upper())\n",
    "    else:\n",
    "        print(wali.title())"
   ]
  },
  {
   "source": [
    "#### 判断大小\n",
    "- \\> 大于\n",
    "- < 小于\n",
    "- \\>= 大于等于\n",
    "- <= 小于等于"
   ],
   "cell_type": "markdown",
   "metadata": {}
  },
  {
   "cell_type": "code",
   "execution_count": 3,
   "metadata": {
    "tags": []
   },
   "outputs": [
    {
     "output_type": "stream",
     "name": "stdout",
     "text": "恭喜你，少年强，则中国强！\n"
    }
   ],
   "source": [
    "age = 16\n",
    "\n",
    "if age >= 18:\n",
    "    print(\"恭喜你，成为社会人了\")\n",
    "elif age < 10:\n",
    "    print(\"恭喜你，还是可以过儿童节\")\n",
    "elif age <18:\n",
    "    print(\"恭喜你，少年强，则中国强！\")\n"
   ]
  },
  {
   "source": [
    "#### 检查多个条件\n",
    "\n",
    "可以并列检查多个文件\n",
    "- or:  或\n",
    "- and: 与"
   ],
   "cell_type": "markdown",
   "metadata": {}
  },
  {
   "cell_type": "code",
   "execution_count": 4,
   "metadata": {
    "tags": []
   },
   "outputs": [
    {
     "output_type": "stream",
     "name": "stdout",
     "text": "恭喜你，少年强，则中国强！\n"
    }
   ],
   "source": [
    "age = 16\n",
    "\n",
    "if age >18 and age == 18 :\n",
    "    print(\"恭喜你，成为社会人了\")\n",
    "elif age < 10 or age == 10:\n",
    "    print(\"恭喜你，还是可以过儿童节\")\n",
    "elif age <18:\n",
    "    print(\"恭喜你，少年强，则中国强！\")"
   ]
  },
  {
   "source": [
    "#### 判断条件- 列表包含\n",
    "\n",
    "- 检查特定值是否包含在列表中 : in\n",
    "- 检查特定值是否不包含在列表中： not in"
   ],
   "cell_type": "markdown",
   "metadata": {}
  },
  {
   "cell_type": "code",
   "execution_count": 5,
   "metadata": {
    "tags": []
   },
   "outputs": [
    {
     "output_type": "stream",
     "name": "stdout",
     "text": "you are ni waliAIs\nyou are not in waliAIs\n"
    }
   ],
   "source": [
    "waliAIs = [\"wali\",\"Eva\",\"gg\"]\n",
    "\n",
    "if \"wali\" in waliAIs:\n",
    "    print(\"you are ni waliAIs\")\n",
    "\n",
    "if \"fei\" not in waliAIs:\n",
    "    print(\"you are not in waliAIs\")"
   ]
  }
 ]
}