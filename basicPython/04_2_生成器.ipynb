{
 "metadata": {
  "language_info": {
   "codemirror_mode": {
    "name": "ipython",
    "version": 3
   },
   "file_extension": ".py",
   "mimetype": "text/x-python",
   "name": "python",
   "nbconvert_exporter": "python",
   "pygments_lexer": "ipython3",
   "version": "3.7.7-final"
  },
  "orig_nbformat": 2,
  "kernelspec": {
   "name": "python3",
   "display_name": "Python 3",
   "language": "python"
  }
 },
 "nbformat": 4,
 "nbformat_minor": 2,
 "cells": [
  {
   "source": [
    "# 生成器\n",
    "\n",
    "上面几个小节我们分享迭代器的知识,下面我们将会看到一个python中独有的一种特俗的迭代器,那就是生成器.先来看看他怎么实现\n",
    "\n",
    "- 生成器的语法\n",
    "- 创建函数的生成器\n",
    "- 一个经典案例\n",
    "\n",
    "### 生成器的语法\n",
    "\n",
    "生成器的英文为generator,这就是意味着这个数据是生产出来的,而且是按需来生产的.它不像列表一样将所有的数据全部装在一个容器里面,然后我们直接来访问.\n",
    "\n",
    "生成器的语法很像列表推导式,只不过由中括号改为了小括号.案例如下:\n",
    "\n"
   ],
   "cell_type": "markdown",
   "metadata": {}
  },
  {
   "cell_type": "code",
   "execution_count": 8,
   "metadata": {},
   "outputs": [
    {
     "output_type": "stream",
     "name": "stdout",
     "text": [
      "[0, 1, 4, 9, 16, 25, 36, 49, 64, 81]\n<generator object <genexpr> at 0x000001EA01283AC8>\n"
     ]
    }
   ],
   "source": [
    "# 列表推导式\n",
    "l = [i*i for i in range(10)]\n",
    "print(l)\n",
    "# 生成器的\n",
    "g = (i*i for i in range(10))\n",
    "print(g)"
   ]
  },
  {
   "source": [
    "创建l和g的区别仅在于最外层的[]和()，L是一个list，而g是一个generator.\n",
    "通过打印可以看到器generator对象,那么我们怎么来访问里面的数据呢?\n",
    "这里需要引出我们的老朋友,next函数了.具体实现如下:"
   ],
   "cell_type": "markdown",
   "metadata": {}
  },
  {
   "cell_type": "code",
   "execution_count": 9,
   "metadata": {},
   "outputs": [
    {
     "output_type": "stream",
     "name": "stdout",
     "text": [
      "0\n1\n4\n9\n16\n25\n36\n49\n64\n81\n"
     ]
    },
    {
     "output_type": "error",
     "ename": "StopIteration",
     "evalue": "",
     "traceback": [
      "\u001b[1;31m---------------------------------------------------------------------------\u001b[0m",
      "\u001b[1;31mStopIteration\u001b[0m                             Traceback (most recent call last)",
      "\u001b[1;32m<ipython-input-9-d52c7d7527a0>\u001b[0m in \u001b[0;36m<module>\u001b[1;34m\u001b[0m\n\u001b[0;32m      9\u001b[0m \u001b[0mprint\u001b[0m\u001b[1;33m(\u001b[0m\u001b[0mnext\u001b[0m\u001b[1;33m(\u001b[0m\u001b[0mg\u001b[0m\u001b[1;33m)\u001b[0m\u001b[1;33m)\u001b[0m\u001b[1;33m\u001b[0m\u001b[1;33m\u001b[0m\u001b[0m\n\u001b[0;32m     10\u001b[0m \u001b[0mprint\u001b[0m\u001b[1;33m(\u001b[0m\u001b[0mnext\u001b[0m\u001b[1;33m(\u001b[0m\u001b[0mg\u001b[0m\u001b[1;33m)\u001b[0m\u001b[1;33m)\u001b[0m\u001b[1;33m\u001b[0m\u001b[1;33m\u001b[0m\u001b[0m\n\u001b[1;32m---> 11\u001b[1;33m \u001b[0mprint\u001b[0m\u001b[1;33m(\u001b[0m\u001b[0mnext\u001b[0m\u001b[1;33m(\u001b[0m\u001b[0mg\u001b[0m\u001b[1;33m)\u001b[0m\u001b[1;33m)\u001b[0m\u001b[1;33m\u001b[0m\u001b[1;33m\u001b[0m\u001b[0m\n\u001b[0m",
      "\u001b[1;31mStopIteration\u001b[0m: "
     ]
    }
   ],
   "source": [
    "print(next(g))\n",
    "print(next(g))\n",
    "print(next(g))\n",
    "print(next(g))\n",
    "print(next(g))\n",
    "print(next(g))\n",
    "print(next(g))\n",
    "print(next(g))\n",
    "print(next(g))\n",
    "print(next(g))\n",
    "print(next(g))"
   ]
  },
  {
   "source": [
    "上面我们提到next函数是不知道一个列表的停止位置的,所以如果我们出现了末尾就会抛出一个StopIteration的异常来结束.未来避免这样的异常,我们习惯使用for循环来遍历.所以操作如下:"
   ],
   "cell_type": "markdown",
   "metadata": {}
  },
  {
   "cell_type": "code",
   "execution_count": 10,
   "metadata": {},
   "outputs": [
    {
     "output_type": "stream",
     "name": "stdout",
     "text": [
      "0\n1\n4\n9\n16\n25\n36\n49\n64\n81\n"
     ]
    }
   ],
   "source": [
    "g = (i*i for i in range(10))\n",
    "for i in g:\n",
    "    print(i)"
   ]
  },
  {
   "source": [
    "到这里我们再总结一下,列表推导的方式可以创建一个完整的数据容器,这样有一个不好的地方,占用很大的存储空间. 如果我们能够有一种方式按需来获得我们需要的数据,这样就不需要将所有的数据都列出来. 只需要将我们所需要的数据生成出来就好了.这就是生成器的好处,节省空间.有点以时间换空间的概念.\n",
    "\n",
    "所以生成器的机制: 一边循环一边计算的机制\n",
    "\n",
    "### 生成器函数\n",
    "\n",
    "如果推算的算法比较复杂，用类似列表生成式的for循环无法实现的时候，还可以用函数来实现. 我们来看一个实际的案例,斐波拉契数列（Fibonacci），除第一个和第二个数外，任意一个数都可由前两个数相加得到：\n",
    "\n"
   ],
   "cell_type": "markdown",
   "metadata": {}
  },
  {
   "cell_type": "code",
   "execution_count": 11,
   "metadata": {},
   "outputs": [
    {
     "output_type": "stream",
     "name": "stdout",
     "text": [
      "1\n"
     ]
    },
    {
     "output_type": "execute_result",
     "data": {
      "text/plain": [
       "'done'"
      ]
     },
     "metadata": {},
     "execution_count": 11
    }
   ],
   "source": [
    "def fbi(Max):\n",
    "    a,b,n = 0,1,0\n",
    "    while n < Max:\n",
    "        print(b)\n",
    "        a,b =b,a+b\n",
    "        n = n+1\n",
    "    return 'done'\n",
    "fbi(1)"
   ]
  },
  {
   "cell_type": "code",
   "execution_count": 12,
   "metadata": {},
   "outputs": [
    {
     "output_type": "stream",
     "name": "stdout",
     "text": [
      "<generator object fbi at 0x000001EA01283CC8>\n1\n1\n2\n3\n5\n8\n"
     ]
    }
   ],
   "source": [
    "#yeild 函数生成器\n",
    "def fbi(Max):\n",
    "    a,b,n = 0,1,0\n",
    "    while n<Max:\n",
    "        # 遇到yield语句返回\n",
    "        yield b\n",
    "        # 再次执行时从上次返回的yield语句处继续执行\n",
    "        a,b = b,a+b\n",
    "        n = n+1\n",
    "    return \"done\"\n",
    "\n",
    "gen = fbi(6)\n",
    "print(gen)\n",
    "\n",
    "# 通过for循环来获得这些数据\n",
    "for i in gen:\n",
    "    print(i)"
   ]
  },
  {
   "source": [
    "这就是定义generator的另一种方法。如果一个函数定义中包含yield关键字，那么这个函数就不再是一个普通函数，而是一个generator. 最难理解的就是generator和函数的执行流程不一样。函数是顺序执行，遇到return语句或者最后一行函数语句就返回。而变成generator的函数，在每次调用next()的时候执行，遇到yield语句返回，再次执行时从上次返回的yield语句处继续执行。\n",
    "\n",
    "再来实现一个杨辉三角函数:"
   ],
   "cell_type": "markdown",
   "metadata": {}
  },
  {
   "cell_type": "code",
   "execution_count": 13,
   "metadata": {},
   "outputs": [
    {
     "output_type": "stream",
     "name": "stdout",
     "text": [
      "[1, 1]\n[1, 2, 1]\n[1, 3, 3, 1]\n[1, 4, 6, 4, 1]\n[1, 5, 10, 10, 5, 1]\n"
     ]
    }
   ],
   "source": [
    "def triangles(Max):\n",
    "    n = 1\n",
    "    a_list = [1]\n",
    "    while n<Max:\n",
    "        out_list = []\n",
    "        for i,a in enumerate(a_list):\n",
    "            \n",
    "            if i >0:\n",
    "                b = a_list[i-1]+a\n",
    "                out_list.append(b)\n",
    "            elif i == 0:\n",
    "                out_list.append(a)\n",
    "            \n",
    "        out_list.append(a_list[0])\n",
    "\n",
    "        yield out_list\n",
    "        a_list = out_list\n",
    "        n=n+1\n",
    "\n",
    "g = triangles(6)\n",
    "        \n",
    "for a in g:\n",
    "    print(a)"
   ]
  }
 ]
}