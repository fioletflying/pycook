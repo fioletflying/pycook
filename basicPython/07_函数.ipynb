{
 "metadata": {
  "language_info": {
   "codemirror_mode": {
    "name": "ipython",
    "version": 3
   },
   "file_extension": ".py",
   "mimetype": "text/x-python",
   "name": "python",
   "nbconvert_exporter": "python",
   "pygments_lexer": "ipython3",
   "version": "3.7.1-final"
  },
  "orig_nbformat": 2,
  "kernelspec": {
   "name": "python37164bitbasecondaaff76f843564460db0fe5180114e39bc",
   "display_name": "Python 3.7.1 64-bit ('base': conda)"
  }
 },
 "nbformat": 4,
 "nbformat_minor": 2,
 "cells": [
  {
   "source": [
    "## 函数\n",
    "\n",
    "用来简化和抽象程序中需要重复使用的代码，将其封装成一个代码块。\n",
    "\n",
    "\n",
    "\n",
    "\n",
    "\n",
    "### 函数的参数\n",
    "\n",
    "### 函数返回值\n",
    "\n",
    "### 函数存储模块\n",
    "\n",
    "### 递归函数\n"
   ],
   "cell_type": "markdown",
   "metadata": {}
  },
  {
   "source": [
    "### 函数的定义\n",
    "\n",
    "python中定义函数的语法：\n",
    "- `def`：表示定义一个函数的开头\n",
    "- 函数名\n",
    "- 括号以及括号中的参数\n",
    "- 冒号\n",
    "- 缩进：写函数体的内容\n",
    "- `return`：表示返回值\n",
    "\n",
    "\n",
    "#### 函数的调用\n",
    "\n",
    "在调用函数的时候需要获得改函数的如下信息：\n",
    "- 函数名\n",
    "- 函数的参数\n",
    "\n",
    "\n",
    "\n"
   ],
   "cell_type": "markdown",
   "metadata": {}
  },
  {
   "cell_type": "code",
   "execution_count": 1,
   "metadata": {},
   "outputs": [
    {
     "output_type": "stream",
     "name": "stdout",
     "text": [
      "99\n100\n"
     ]
    }
   ],
   "source": [
    "def my_abs(x):\n",
    "    if x>=0:\n",
    "        return x\n",
    "    else:\n",
    "        return -x\n",
    "\n",
    "print(my_abs(-99))\n",
    "print(my_abs(100))"
   ]
  },
  {
   "source": [
    "### 函数参数\n",
    "\n",
    "#### 实参和形参\n",
    "\n",
    "比如上面的式子中，函数的形参就是函数定义时的参数变量名：x  \n",
    "函数的实参就是函数调用函数的时候传入到函数中的数据：100，-99\n",
    "\n",
    "\n",
    "#### 位置参数\n",
    "\n",
    "这个理解跟常见的c,C++函数定义和使用没有什么区别。在传递参数的时候需要严格按照函数定义的**参数的顺序**来做。\n",
    "\n",
    "\n"
   ],
   "cell_type": "markdown",
   "metadata": {}
  },
  {
   "cell_type": "code",
   "execution_count": 3,
   "metadata": {},
   "outputs": [
    {
     "output_type": "stream",
     "name": "stdout",
     "text": [
      "\nI have a dog.\nMy dog's name is Wangwang.\n"
     ]
    }
   ],
   "source": [
    "def describe_pet(animal_type,pet_name):\n",
    "    print(\"\\nI have a \"+animal_type+\".\")\n",
    "    print(\"My \"+animal_type+\"'s name is \"+pet_name.title()+\".\")\n",
    "\n",
    "describe_pet('dog','wangwang')"
   ]
  },
  {
   "source": [
    "\n",
    "#### 关键字参数\n",
    "\n",
    "这是python比较新奇的传递方式， 在传递实参的时候，将函数的定义的参数的名字与需要传递的数据，一一对应起来，这样就不怕出现顺序乱序的情况。\n",
    "\n",
    "这里要注意一点，如果位置参数与关键字参数混用的时候，需要格外注意一点，最开始的那个参数要使用位置参数，才能继续使用关键字参数。\n"
   ],
   "cell_type": "markdown",
   "metadata": {}
  },
  {
   "cell_type": "code",
   "execution_count": 9,
   "metadata": {},
   "outputs": [
    {
     "output_type": "stream",
     "name": "stdout",
     "text": [
      "\nI have a dog.\nMy dog's name is Wangwang.\n\nI have a pig.\nMy pig's name is Gg.\n\nI have a monkey.\nMy monkey's name is Wukong.\n"
     ]
    }
   ],
   "source": [
    "def describe_pet(animal_type,pet_name):\n",
    "    print(\"\\nI have a \"+animal_type+\".\")\n",
    "    print(\"My \"+animal_type+\"'s name is \"+pet_name.title()+\".\")\n",
    "\n",
    "describe_pet(animal_type='dog',pet_name='wangwang')\n",
    "describe_pet(pet_name=\"gg\",animal_type=\"pig\")\n",
    "# 混用的时候还是要考虑顺序，这里会报错\n",
    "#describe_pet(pet_name='wali',\"name\")\n",
    "# describe_pet(animal_type=\"monkey\",\"wukong\")\n",
    "# 这个不会报错\n",
    "describe_pet(\"monkey\",pet_name=\"wukong\")"
   ]
  },
  {
   "source": [
    "#### 默认值参数\n",
    "\n",
    "默认值参数就是在参数的定义的时候事先给参数一个默认值。需要注意的地方：\n",
    "- 默认参数定义一定要放到非默认参数的后面\n",
    "    - `def func(a,b,c=0,d=100)`\n",
    "- **默认参数必须指向不变对象！**\n",
    "\n",
    "\n",
    "默认参数的作用：\n",
    "- 降低使用者的难度\n",
    "\n",
    "默认参数调用：\n",
    "- 在调用的时候仍然可以使用上面的要求来做。\n",
    "- 可以不给默认参数传参数，函数会自动使用默认值"
   ],
   "cell_type": "markdown",
   "metadata": {}
  },
  {
   "cell_type": "code",
   "execution_count": 3,
   "metadata": {},
   "outputs": [
    {
     "output_type": "stream",
     "name": "stdout",
     "text": [
      "\nI have a Roboter.\nMy Roboter's name is Wali.\n\nI have a dog.\nMy dog's name is Wangwang.\n"
     ]
    }
   ],
   "source": [
    "def describe_pet(pet_name,animal_type=\"Roboter\"):\n",
    "    print(\"\\nI have a \"+animal_type+\".\")\n",
    "    print(\"My \"+animal_type+\"'s name is \"+pet_name.title()+\".\")\n",
    "\n",
    "# 可以不给默认参数传参数，函数会自动使用默认值\n",
    "describe_pet(\"wali\")\n",
    "# 关键字传参\n",
    "describe_pet(animal_type=\"dog\",pet_name=\"wangwang\")"
   ]
  },
  {
   "cell_type": "code",
   "execution_count": 1,
   "metadata": {},
   "outputs": [
    {
     "output_type": "stream",
     "name": "stdout",
     "text": [
      "[1, 2, 3, 'END']\n['END']\n['END', 'END']\n"
     ]
    }
   ],
   "source": [
    "# 默认参数的坑\n",
    "# 默认参数必须指向不变对象！\n",
    "def add_end(L=[]):\n",
    "    if L is None:\n",
    "        L=[]\n",
    "    L.append('END')\n",
    "    return L\n",
    "\n",
    "a = add_end([1,2,3])\n",
    "print(a)\n",
    "b = add_end()\n",
    "print(b)\n",
    "b = add_end()\n",
    "print(b)"
   ]
  },
  {
   "source": [
    "#### 可变参数\n",
    "\n",
    "如果我们在设计函数的时候，无法清楚的知道需要接受多少个实参，可以使用可变参数来定义。\n",
    "\n",
    "语法：\n",
    "- `def func(*xxxx)`:\n",
    "- 传入的参数时可变的可以是,0,1,2,...个\n",
    "- 参数的类型也可以是任意的:数值,字符串,列表,字典...\n",
    "- 可变参数实际上是一个元组\n",
    "\n"
   ],
   "cell_type": "markdown",
   "metadata": {}
  },
  {
   "cell_type": "code",
   "execution_count": 10,
   "metadata": {},
   "outputs": [
    {
     "output_type": "stream",
     "name": "stdout",
     "text": [
      "('tomato',)\n('tomato', 'peppers', 'cheese', 1)\n(1, 2, 3.0, [1, 2, 3], 'abc', {'abc': 'abc'})\n"
     ]
    }
   ],
   "source": [
    "# 可变参数\n",
    "def make_pizza(*toppings):\n",
    "    print(toppings)\n",
    "\n",
    "make_pizza('tomato')\n",
    "make_pizza('tomato','peppers','cheese',1)\n",
    "abc = [1,2,3]\n",
    "make_pizza(1,2,3.0,abc,'abc',{'abc':\"abc\"})"
   ]
  },
  {
   "source": [
    "#### 任意数量的关键字参数\n",
    "\n",
    "一个类似于可变参数的函数参数,这里我们可以接受任意数量的关键字参数,这个参数也是可变的,不同就是这个参数必须键值对的形式.\n",
    "\n",
    "- `def func(**xxx)`由两个星号组成\n",
    "- 传入的参数的形式:xxx=xxx\n",
    "    - 关键字参数的形式:`func(a = 10,b=100,...)`\n",
    "    - 也可以是字典`func(**dict)`\n",
    "- 它可以扩展函数的功能:利用关键字参数来定义这个函数就能满足注册的需求\n",
    "- 和可变参数类似，传入参数最后封装成一个dict，然后，把该dict转换为关键字参数传进去\n"
   ],
   "cell_type": "markdown",
   "metadata": {}
  },
  {
   "cell_type": "code",
   "execution_count": 11,
   "metadata": {},
   "outputs": [
    {
     "output_type": "stream",
     "name": "stdout",
     "text": [
      "{'first_name': 'Liu', 'last_name': 'wali', 'location': 'CHN', 'field': 'Asia'}\n{'first_name': 'Liu', 'last_name': 'wali', 'location': 'USA', 'field': 'Amr'}\n"
     ]
    }
   ],
   "source": [
    "#任意数量的关键字参数\n",
    "# **xxx来表示任意数量的关键字参数,需要使用关键字来定义或者用字典来定义也可以,一定是一个键值对的形式\n",
    "def build_profile(first,last,**user_info):\n",
    "    profile = {}\n",
    "\n",
    "    profile['first_name'] = first\n",
    "    profile['last_name'] = last\n",
    "\n",
    "    for key, value in user_info.items():\n",
    "        profile[key] = value\n",
    "    return profile\n",
    "\n",
    "\n",
    "user_profile = build_profile('Liu','wali',location='CHN',field='Asia')\n",
    "\n",
    "print(user_profile)\n",
    "\n",
    "#可以传入一个字典,但是这里需要使用**xxx形式传递\n",
    "a = {\"location\":'USA','field':'Amr'}\n",
    "user_profile = build_profile('Liu','wali',**a)\n",
    "print(user_profile)"
   ]
  },
  {
   "source": [
    "### 参数组合\n",
    "\n",
    "上面介绍了参数多达5种:\n",
    "- 位置参数\n",
    "- 默认参数\n",
    "- 可变参数\n",
    "- 关键字参数\n",
    "- 任意数量的关键字参数\n",
    "\n",
    "但是请注意，参数定义的顺序必须是：必选参数、默认参数、可变参数、任意数量的关键字参数和关键字参数\n",
    "\n",
    "这里有一个提示:**虽然可以组合多达5种参数，但不要同时使用太多的组合，否则函数接口的可理解性很差**\n",
    "\n",
    "对于任意函数，都可以通过类似func(*args, **kw)的形式调用它，无论它的参数是如何定义的。"
   ],
   "cell_type": "markdown",
   "metadata": {}
  },
  {
   "cell_type": "code",
   "execution_count": 9,
   "metadata": {},
   "outputs": [
    {
     "output_type": "stream",
     "name": "stdout",
     "text": [
      "a= 1 b= 2 c=  0 args= () kw=  {}\na= 1 b= 2 c=  3 args= () kw=  {}\na= 1 b= 2 c=  3 args= ('a', 'b') kw=  {}\na= 1 b= 2 c=  3 args= ('a', 'b') kw=  {'x': 100}\na= 1 b= 2 c=  3 args= () kw=  {'x': 100, 'y': 123, 'z': None}\na= 1 b= 2 c=  3 args= (4,) kw=  {'x': 99, 'y': 100}\n"
     ]
    }
   ],
   "source": [
    "def func(a,b,c=0,*args,**kw):\n",
    "    print('a=',a,'b=',b,'c= ',c,'args=',args,'kw= ',kw)\n",
    "func(1,2)\n",
    "func(1,2,3)\n",
    "func(1,2,3,'a','b')\n",
    "func(1,2,3,'a','b',x=100)\n",
    "func(1,2,3,x=100,y=123,z=None)\n",
    "\n",
    "# 这里可以通过一个神奇的调用\n",
    "args = (1,2,3,4)\n",
    "kw = {'x':99,'y':100}\n",
    "func(*args,**kw)"
   ]
  },
  {
   "source": [
    "#### 传递列表参数\n",
    "\n",
    "上面介绍了好几种参数,都是需要好好掌握的python函数的传参的格式.这里我们来介绍一种特俗的参数,如果我们传递的时候列表参数.列表参数里面可以包含各种数据:包括嵌套列表,字典等.\n",
    "\n",
    "我这里需要明白的一个概念是,这里的传递的列表是一个指针或者说传递的是一个地址.这样传递进去的列表就可能被函数里面的操作修改.\n",
    "\n",
    "这样做的好处就是:\n",
    "- 提高处理列表的效率,因为直接对实参列表进行操作.\n",
    "\n",
    "坏处:\n",
    "- 如果不想被函数修改就要格外的注意\n",
    "- 解决方案是:`传递列表的副本给函数:xxx[:]`"
   ],
   "cell_type": "markdown",
   "metadata": {}
  },
  {
   "cell_type": "code",
   "execution_count": 1,
   "metadata": {},
   "outputs": [
    {
     "output_type": "stream",
     "name": "stdout",
     "text": [
      "Hello, Wali!\nHello, Eva!\nHello, Xiaopang!\n"
     ]
    }
   ],
   "source": [
    "# 这里的参数是一个列表,可以方便的调用列表里面的元素\n",
    "def greet_user(names):\n",
    "    for name in names:\n",
    "        msg = \"Hello, \" + name.title()+\"!\"\n",
    "        print(msg)\n",
    "usernames = [\"wali\",\"eva\",\"xiaopang\"]\n",
    "greet_user(usernames)"
   ]
  },
  {
   "cell_type": "code",
   "execution_count": 3,
   "metadata": {},
   "outputs": [
    {
     "output_type": "stream",
     "name": "stdout",
     "text": [
      "Printing model: robot\nPrinting model: uav\nPrinting model: iphone case\n\nall models have been printed.\n\nrobot\nuav\niphone case\n"
     ]
    }
   ],
   "source": [
    "\n",
    "while unprinted_degigns:\n",
    "    current_design = unprinted_degigns.pop()\n",
    "\n",
    "    print('Printing model: ' + current_design)\n",
    "    completed_models.append(current_design)\n",
    "\n",
    "print('\\nall models have been printed.\\n')\n",
    "for completed_model in completed_models:\n",
    "    print(completed_model)\n",
    "\n",
    "\n"
   ]
  },
  {
   "cell_type": "code",
   "execution_count": 5,
   "metadata": {},
   "outputs": [
    {
     "output_type": "stream",
     "name": "stdout",
     "text": [
      "Printing model: robot\nPrinting model: uav\nPrinting model: iphone case\n\nall models have been printed.\n\nrobot\nuav\niphone case\n\nall models have been printed.\n\n"
     ]
    }
   ],
   "source": [
    "# 传入的列表参数在函数里面被修改后\n",
    "# 实参也会跟着一起修改,这就是C++/C#中的传入引用/C中的指针\n",
    "# 也就就是将列表实参的地址传给了形参\n",
    "# 形参拿到了这个地址直接对实参进行修改\n",
    "\n",
    "def print_models(unprinted_degigns,completed_models):\n",
    "    while unprinted_degigns:\n",
    "        current_design = unprinted_degigns.pop()\n",
    "\n",
    "        print('Printing model: ' + current_design)\n",
    "        completed_models.append(current_design)\n",
    "\n",
    "def show_completed_models(completed_models):\n",
    "    print('\\nall models have been printed.\\n')\n",
    "    for completed_model in completed_models:\n",
    "        print(completed_model)\n",
    "\n",
    "unprinted_degigns = ['iphone case','uav','robot']\n",
    "completed_models = []\n",
    "# 实参completed_models 通过函数后添加了新值\n",
    "# 实参unprinted_degigns 被修改了\n",
    "print_models(unprinted_degigns,completed_models)\n",
    "\n",
    "show_completed_models(completed_models)\n",
    "# 这里的unprinted_degigns,在函数中被修改了,\n",
    "show_completed_models(unprinted_degigns)\n"
   ]
  },
  {
   "cell_type": "code",
   "execution_count": 6,
   "metadata": {},
   "outputs": [
    {
     "output_type": "stream",
     "name": "stdout",
     "text": [
      "Printing model: robot\nPrinting model: uav\nPrinting model: iphone case\n\nall models have been printed.\n\nrobot\nuav\niphone case\n\nall models have been printed.\n\niphone case\nuav\nrobot\n"
     ]
    }
   ],
   "source": [
    "# 如果不想修改列表参数的值可以传入列表的副本xxx[:]\n",
    "unprinted_degigns = ['iphone case','uav','robot']\n",
    "completed_models = []\n",
    "\n",
    "# 这里传入的是实参unprinted_degigns[:]的副本,\n",
    "# 即使在函数里面修改unprinted_degigns,原来的数据也不会被该表\n",
    "print_models(unprinted_degigns[:],completed_models)\n",
    "\n",
    "show_completed_models(completed_models)\n",
    "# 这里的unprinted_degigns没有被修改\n",
    "show_completed_models(unprinted_degigns)\n"
   ]
  },
  {
   "source": [
    "### 返回值\n",
    "\n",
    "使用return 就可以获得需要返回的值.这里需要了解的是,如果函数里面没直接写return,实际返回的是None.或者直接写`return`\n",
    "\n",
    "#### 空函数\n",
    "\n",
    "如果想定一个什么是都不想做的空函数,可以使用pass:\n",
    "- pass可以用来作为占位符\n",
    "- 现在还没想好怎么写函数的代码，就可以先放一个pass，让代码能运行起来\n",
    "- pass还可以用在其他语句里\n"
   ],
   "cell_type": "markdown",
   "metadata": {}
  },
  {
   "source": [
    "def nothingtodo():\n",
    "    pass\n",
    "\n",
    "if age > 18:\n",
    "    pass"
   ],
   "cell_type": "code",
   "metadata": {},
   "execution_count": null,
   "outputs": []
  },
  {
   "source": [
    "#### 返回多个值\n",
    "\n",
    "python比较好玩的一点,就是可以返回多个值而不需要写成一个列表的格式.\n",
    "\n",
    "实际是:原来返回值是一个tuple！但是，在语法上，返回一个tuple可以省略括号，而多个变量可以同时接收一个tuple，按位置赋给对应的值"
   ],
   "cell_type": "markdown",
   "metadata": {}
  },
  {
   "cell_type": "code",
   "execution_count": 9,
   "metadata": {},
   "outputs": [
    {
     "output_type": "stream",
     "name": "stdout",
     "text": [
      "151.96152422706632 70.0\n(151.96152422706632, 70.0)\n"
     ]
    }
   ],
   "source": [
    "import math\n",
    "\n",
    "def move(x, y, step, angle=0):\n",
    "    nx = x + step * math.cos(angle)\n",
    "    ny = y - step * math.sin(angle)\n",
    "    return nx, ny\n",
    "\n",
    "x, y = move(100, 100, 60, math.pi / 6)\n",
    "print(x,y)\n",
    "# 实际上python自动帮我们组装成一个tuple了\n",
    "r = move(100, 100, 60, math.pi / 6)\n",
    "print(r)"
   ]
  }
 ]
}