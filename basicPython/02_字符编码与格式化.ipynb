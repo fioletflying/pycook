{
 "metadata": {
  "language_info": {
   "codemirror_mode": {
    "name": "ipython",
    "version": 3
   },
   "file_extension": ".py",
   "mimetype": "text/x-python",
   "name": "python",
   "nbconvert_exporter": "python",
   "pygments_lexer": "ipython3",
   "version": "3.7.1-final"
  },
  "orig_nbformat": 2,
  "kernelspec": {
   "name": "python37164bitbasecondaaff76f843564460db0fe5180114e39bc",
   "display_name": "Python 3.7.1 64-bit ('base': conda)"
  }
 },
 "nbformat": 4,
 "nbformat_minor": 2,
 "cells": [
  {
   "source": [
    "## 字符编码\n",
    "\n",
    "字符编码主要解决的问题是将全世界上百种语言都能够统一到一个编码里面，这样就可以减少多个语言混合导致的乱码问题。\n",
    "\n",
    "### 三种主要的编码格式\n",
    "\n",
    "目前，Unicode字符集应运而生。Unicode把所有语言都统一到一套编码里，这样就不会再有乱码问题了。\n",
    "\n",
    "- ASCII编码是1个字节\n",
    "- Unicode编码通常是2个字节\n",
    "- UTF-8编码:把Unicode编码转化为“可变长编码”\n",
    "    - 本着节约的精神，用UTF-8编码就能节省空间\n",
    "    - 这个解决了用Unicode编码比ASCII编码需要多一倍的存储空间的问题\n",
    "\n",
    "\n",
    "\n",
    "### 编码格式的使用\n",
    "\n",
    "- 在计算机内存中，统一使用Unicode编码，当需要保存到硬盘或者需要传输的时候，就转换为UTF-8编码。\n",
    "\n",
    "- 用记事本编辑的时候，从文件读取的UTF-8字符被转换为Unicode字符到内存里，编辑完成后，保存的时候再把Unicode转换为UTF-8保存到文件：\n",
    "\n",
    "![](imgs/02_1.jpg)\n",
    "\n",
    "\n",
    "\n",
    "\n"
   ],
   "cell_type": "markdown",
   "metadata": {}
  },
  {
   "source": [
    "## Python的字符串\n",
    "\n",
    "最新的Python 3版本中，字符串是以Unicode编码的。\n",
    "支持多种语言的输入。\n",
    "\n",
    "两个有用的函数：\n",
    "- ord(): 获取字符的整数表示\n",
    "- chr():函数把编码转换为对应的字符\n"
   ],
   "cell_type": "markdown",
   "metadata": {}
  },
  {
   "cell_type": "code",
   "execution_count": 8,
   "metadata": {
    "tags": []
   },
   "outputs": [
    {
     "output_type": "stream",
     "name": "stdout",
     "text": "瓦力人工智能 waliAI\n65\n29926\n21147\nA\n力\n"
    }
   ],
   "source": [
    "print(\"瓦力人工智能 waliAI\")\n",
    "\n",
    "print(ord('A'))\n",
    "print(ord('瓦'))\n",
    "print(ord('力'))\n",
    "print(chr(65))\n",
    "print(chr(21147))"
   ]
  },
  {
   "source": [
    "### 指定编码格式\n",
    "\n",
    "- encode()方法来指定字符的编码格式\n",
    "- decode()方法来解码\n"
   ],
   "cell_type": "markdown",
   "metadata": {}
  },
  {
   "cell_type": "code",
   "execution_count": 11,
   "metadata": {
    "tags": []
   },
   "outputs": [
    {
     "output_type": "stream",
     "name": "stdout",
     "text": "b&#39;ABC&#39;\nb&#39;\\xe7\\x93\\xa6\\xe5\\x8a\\x9b\\xe4\\xba\\xba\\xe5\\xb7\\xa5\\xe6\\x99\\xba\\xe8\\x83\\xbd&#39;\nABC\n中文\n"
    }
   ],
   "source": [
    "print('ABC'.encode('ascii'))\n",
    "print('瓦力人工智能'.encode('utf-8'))\n",
    "print(b'ABC'.decode('ascii'))\n",
    "print(b'\\xe4\\xb8\\xad\\xe6\\x96\\x87'.decode('utf-8'))"
   ]
  },
  {
   "source": [
    "#### 计算字符数\n",
    "\n",
    "- len():计算str包含多少个字符\n",
    "\n",
    "从下面的实验我们知道：\n",
    "- 1个中文字符经过UTF-8编码后通常会占用3个字节，\n",
    "- 1个英文字符只占用1个字节。"
   ],
   "cell_type": "markdown",
   "metadata": {}
  },
  {
   "cell_type": "code",
   "execution_count": 2,
   "metadata": {
    "tags": []
   },
   "outputs": [
    {
     "output_type": "stream",
     "name": "stdout",
     "text": "3\n6\n3\n18\n"
    }
   ],
   "source": [
    "print(len('ABC'))\n",
    "print(len('瓦力人工智能'))\n",
    "\n",
    "print(len(b'ABC'))\n",
    "print(len('瓦力人工智能'.encode('utf-8')))"
   ]
  },
  {
   "source": [
    "### 格式化\n",
    "\n",
    "就是为了输入中填入相关的字符串而需要的占位符。\n",
    "\n",
    "#### `%`占位符\n",
    "\n",
    "`%`占位符 用来格式化字符串，需要使用的语法是\n",
    "- \"xxx %s\"%\"xxx\"\n",
    "- `%s`表示用来字符串占位的,`%d`: 表示整数\n",
    "- 外面需要`%`来表示后面需要跟的变量或者值\n",
    "- 格式化整数和浮点数还可以指定是否补0和整数与小数的位数\n",
    "- 不太确定应该用什么，%s永远起作用\n",
    "\n",
    "\n",
    "![](imgs/02_2.jpg)\n",
    "\n",
    "\n",
    " "
   ],
   "cell_type": "markdown",
   "metadata": {}
  },
  {
   "cell_type": "code",
   "execution_count": 5,
   "metadata": {
    "tags": []
   },
   "outputs": [
    {
     "output_type": "stream",
     "name": "stdout",
     "text": "Hello,world\nI&#39;m wali, I have $100000000\n 3-01\n3.14\n"
    }
   ],
   "source": [
    "print('Hello,%s'%'world')\n",
    "print(\"I'm %s, I have $%d\"%('wali',100000000))\n",
    "\n",
    "print('%2d-%02d'%(3,1))\n",
    "print('%.2f'%3.1415926)"
   ]
  },
  {
   "source": [
    "#### format()格式化\n",
    "\n",
    "它会用传入的参数依次替换字符串内的占位符{0}、{1}……，\n"
   ],
   "cell_type": "markdown",
   "metadata": {}
  },
  {
   "cell_type": "code",
   "execution_count": 7,
   "metadata": {
    "tags": []
   },
   "outputs": [
    {
     "output_type": "stream",
     "name": "stdout",
     "text": "Hello,WaliAI,welcome to my Wechat public account.\n"
    }
   ],
   "source": [
    "print('Hello,{0},welcome to my {1} public account.'.format('WaliAI','Wechat'))"
   ]
  },
  {
   "source": [
    "### 总结\n",
    "\n",
    "- 三种字符串编码格式：ASCII, Unicode, UTF-8\n",
    "- 两个查看编码的函数ord, chr\n",
    "- encode 和decode 来指定编码和解码格式\n",
    "- 两个常用的字符串格式：% 与 formate"
   ],
   "cell_type": "markdown",
   "metadata": {}
  }
 ]
}