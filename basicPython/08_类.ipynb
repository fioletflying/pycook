{
 "metadata": {
  "language_info": {
   "codemirror_mode": {
    "name": "ipython",
    "version": 3
   },
   "file_extension": ".py",
   "mimetype": "text/x-python",
   "name": "python",
   "nbconvert_exporter": "python",
   "pygments_lexer": "ipython3",
   "version": "3.7.1-final"
  },
  "orig_nbformat": 2,
  "kernelspec": {
   "name": "python37164bitbasecondaaff76f843564460db0fe5180114e39bc",
   "display_name": "Python 3.7.1 64-bit ('base': conda)"
  }
 },
 "nbformat": 4,
 "nbformat_minor": 2,
 "cells": [
  {
   "source": [
    "## 类\n",
    "\n",
    "### 面向对象编程的概念OOP\n",
    "\n",
    "OOP编程就是把对象作为程序的基本单元,一个对象包含了数据和操作数据的函数.\n",
    "\n",
    "**面向过程的程序设计**:  \n",
    "- 程序是一系列的命令集合\n",
    "- 由一组函数的顺序执行\n",
    "- 将函数不断切分子函数\n",
    "- 降低系统的复杂度\n",
    "\n",
    "**面向对象的程序设计**:  \n",
    "- 程序是一组对象的集合\n",
    "- 对象之间可以相互传递信息\n",
    "- 计算机执行的就是一系列的消息在各对象的之间的传递\n",
    "\n",
    "Python 所有的内置数据类型都是对象.面向对象的设计思想是抽象出Class，根据Class创建Instance。面向对象的抽象程度又比函数要高，因为一个Class既包含数据，又包含操作数据的方法。\n",
    "\n",
    "\n"
   ],
   "cell_type": "markdown",
   "metadata": {}
  },
  {
   "source": [
    "### 类的创建\n",
    "\n",
    "#### 类的创建格式:\n",
    "\n",
    "`class xxx可选(object):\n",
    "        pass\n",
    "`\n",
    "- 关键字class\n",
    "- 类名: 建议首字母大写\n",
    "- `(object)` : 如果类没有继承,可以不写,这是python2的写法\n",
    "- `:`\n",
    "- 接下来就是类的的内容了.\n",
    "\n",
    "####  \\__init__()\n",
    "\n",
    "这个函数的作用非常重要而且特俗的方法,类似于构造函数,初始化类的成员变量/或者说属性. \n",
    "\n",
    "类中的方法第一个参数一定是self: \n",
    "- 这个就是C++/C#的this指针,\n",
    "- 指向的是创建的是实例本身.\n",
    "- 其作用是通过self可以访问类中的属性和方法.\n",
    "- 但是在调用的时候不需要传递该参数,\n",
    "\n",
    "类里面的方法第一个参数都是:self,其他的使用跟普通函数是一致的.\n",
    "\n",
    "\n"
   ],
   "cell_type": "markdown",
   "metadata": {}
  },
  {
   "cell_type": "code",
   "execution_count": 1,
   "metadata": {},
   "outputs": [],
   "source": [
    "class Dog(object):\n",
    "    def __init__(self,name,age):\n",
    "        '''类似于构造函数,初始化类的成员变量'''\n",
    "        self.name = name\n",
    "        self.age = age\n",
    "\n",
    "    def sit(self):\n",
    "        '''sit method'''\n",
    "        print(self.name.title(),\" is siting now\")\n",
    "\n",
    "    def barking(self):\n",
    "        '''barking method'''\n",
    "        print(self.name.title(),\" is barking now\")"
   ]
  },
  {
   "source": [
    "#### 创建实例\n",
    "\n",
    "上面创建的类只是一个模板,而对象才是一个具体的东西,通过上面创建的类,可以创建一个个具体的实例.\n",
    "\n",
    "这里创建的实例需要传递的参数是跟__init__()里面的定义是一致的.\n",
    "\n",
    "**访问属性**  \n",
    "\n",
    "`实例.age =100`: 通过对象名+'.'+需要访问的属性\n",
    "\n",
    "\n",
    "**访问方法**  \n",
    "`实例.barking()`: 通过对象名+'.'+需要访问方法以及传入具体的参数.\n",
    "\n"
   ],
   "cell_type": "markdown",
   "metadata": {}
  },
  {
   "cell_type": "code",
   "execution_count": 2,
   "metadata": {},
   "outputs": [
    {
     "output_type": "stream",
     "name": "stdout",
     "text": [
      "Wali  is barking now\nEva  is siting now\n"
     ]
    }
   ],
   "source": [
    "wali = Dog('wali',15)\n",
    "eva = Dog('eva',13)\n",
    "\n",
    "wali.barking()\n",
    "eva.sit()"
   ]
  },
  {
   "source": [
    "### 对象的属性\n",
    "\n",
    "#### 属性默认值的给定\n",
    "\n",
    "在`__init__`方法中给属性赋一个初始值,这样就可以不用使用形参来初始化.\n",
    "\n",
    "#### 对象的属性修改的方法\n",
    "\n",
    "- 直接修改\n",
    "- 通过方法来修改属性值\n",
    "- 通过方法修改的时候可以用来更新数据:限制对赋值属性的,这样可以控制对属性的修改,以便达到保护属性的目的.\n",
    "\n",
    "\n"
   ],
   "cell_type": "markdown",
   "metadata": {}
  },
  {
   "cell_type": "code",
   "execution_count": 3,
   "metadata": {},
   "outputs": [
    {
     "output_type": "stream",
     "name": "stdout",
     "text": [
      "2020 BYD 宋\n这辆车的里程为: 0 km\n这辆车的里程为: 100 km\n这辆车的里程为: 1000 km\n无法被更新,因为该值小于当前里程\n这辆车的里程为: 1010 km\n无法更新,因为不能传递负数\n"
     ]
    }
   ],
   "source": [
    "class Car:\n",
    "    '''定义一个car类来描述'''\n",
    "    def __init__(self, make, model, year):\n",
    "        '''初始化car的属性'''\n",
    "        self.make = make\n",
    "        self.model = model\n",
    "        self.year = year\n",
    "        #默认属性,不需要定义对象的是赋值\n",
    "        self.odometer_reading = 0\n",
    "\n",
    "    def get_description_car(self):\n",
    "        '''打印car的信息'''\n",
    "        car_info = str(self.year) + ' '+self.make + ' '+ self.model\n",
    "        print(car_info)\n",
    "\n",
    "    def read_odometer(self):\n",
    "        '''打印里程的信息'''\n",
    "        print(\"这辆车的里程为:\",self.odometer_reading,\"km\")\n",
    "\n",
    "    def update_odometer(self,update_data):\n",
    "        '''通过方法来修改odometer的值'''\n",
    "        '''可以通过一些判断逻辑来控制对需要修改的数的限制\n",
    "            这里就可以通过对比之前的数据,防止减少里程数据 \n",
    "        '''\n",
    "        if update_data > self.odometer_reading:\n",
    "            self.odometer_reading = update_data\n",
    "        else:\n",
    "            print(\"无法被更新,因为该值小于当前里程\")\n",
    "\n",
    "    def increment_odometer(self,add_km):\n",
    "        if add_km<0:\n",
    "            print(\"无法更新,因为不能传递负数\")\n",
    "        else:\n",
    "            self.odometer_reading += add_km\n",
    "\n",
    "    \n",
    "car = Car('BYD','宋',2020)\n",
    "car.get_description_car()\n",
    "car.read_odometer()\n",
    "\n",
    "# 直接修改属性信息\n",
    "car.odometer_reading = 100\n",
    "car.read_odometer()\n",
    "\n",
    "# 通过方法来修改odometer的值\n",
    "car.update_odometer(1000)\n",
    "car.read_odometer()\n",
    "# 这里就是体现了利用方法修改的好处了\n",
    "car.update_odometer(500)\n",
    "\n",
    "# 通过方法来对odometer的值的递增\n",
    "car.increment_odometer(10)\n",
    "car.read_odometer()\n",
    "car.increment_odometer(-100)\n"
   ]
  },
  {
   "source": [
    "#### 属性的限制访问\n",
    "\n",
    "上面的案例中我们发现,这样的属性可以直接被修改,无法很好的保护好该属性的值.这里我们可以使用python中的限制访问属性来辅助我们.具体做法:\n",
    "\n",
    "- 将属性的名称前加上两个下划线`__`\n",
    "- 这样就告诉实例,我这个属性是私有变量了\n",
    "- 只能内部访问,不能外部访问.\n",
    "\n",
    "上面的代码可以改为:\n",
    "\n",
    "那么如何访问或者修改这些属性呢?\n",
    "- 通过函数来控制,这就上面定义的方法来修改这些属性\n",
    "-\n",
    "\n",
    "*注意的地方*:\n",
    "- python中变量类似于`__xxxx__`,前后都是双下划线的表示特殊的变量,这个是可以直接访问的.\n",
    "- 但是使用限制访问,仅仅是限制,与C++/C#中的私有(private)变量还是不同\n",
    "- 这里还是可以被外部实例直接访问的,只是python解释器修改一下名字而已\n",
    "    - _Car__odometer_reading\n",
    "    - 这里不建议这样做,"
   ],
   "cell_type": "markdown",
   "metadata": {}
  },
  {
   "cell_type": "code",
   "execution_count": 4,
   "metadata": {},
   "outputs": [],
   "source": [
    "class Car:\n",
    "    def __init__(self,make,model,year):\n",
    "        self.make = make\n",
    "        self.model = model\n",
    "        self.year = year\n",
    "        #将属性的名称前加上两个下划线__,表示私有属性\n",
    "        self.__odometer_reading = 0\n",
    "\n",
    "    def get_description_car(self):\n",
    "        '''打印car的信息'''\n",
    "        car_info = str(self.year) + ' '+self.make + ' '+ self.model\n",
    "        print(car_info)\n",
    "\n",
    "    def get_odometer(self):\n",
    "        return self.__odometer_reading\n",
    "    \n",
    "    def update_odometer(self,odometer_data):\n",
    "        if odometer_data > self.__odometer_reading:\n",
    "            self.__odometer_reading = odometer_data\n",
    "        else:\n",
    "            print(\"无法被更新,因为该值小于当前里程\")\n",
    "\n",
    "    def increment_odometer(self,add_km):\n",
    "        if add_km<0:\n",
    "            print(\"无法更新,因为不能传递负数\")\n",
    "        else:\n",
    "            self.__odometer_reading += add_km\n",
    "\n",
    "    def fill_gas_tank(self):\n",
    "        print(\"The car is fill gas tank\")\n"
   ]
  },
  {
   "cell_type": "code",
   "execution_count": 2,
   "metadata": {},
   "outputs": [
    {
     "output_type": "stream",
     "name": "stdout",
     "text": [
      "BYD song 2020\n100\n115\n115\n"
     ]
    }
   ],
   "source": [
    "byd = Car(\"BYD\",\"song\",2020)\n",
    "\n",
    "print(byd.make,byd.model,byd.year)\n",
    "# 不能被实例访问\n",
    "# odometer = byd.__odometer_reading\n",
    "\n",
    "byd.update_odometer(100)\n",
    "print(byd.get_odometer())\n",
    "byd.increment_odometer(15)\n",
    "print(byd.get_odometer())\n",
    "# 还是可以直接访问\n",
    "print(byd._Car__odometer_reading)"
   ]
  },
  {
   "cell_type": "code",
   "execution_count": 5,
   "metadata": {},
   "outputs": [],
   "source": [
    "# 类的继承\n",
    "class ElectricCar(Car):\n",
    "    # 关于__init__的写法\n",
    "    def __init__(self,make,model,year):\n",
    "        ''''''\n",
    "        # 初始化父类的属性\n",
    "        super().__init__(make,model,year)\n",
    "        # 定义自己的属性\n",
    "        self.battery_size = 70\n",
    "        # self.make = make\n",
    "        # self.model = model\n",
    "        # self.year = year\n",
    "    \n",
    "    def describe_battery(self):\n",
    "        print(\"This car has a \" + str(self.battery_size) + \"-kWh battery\")\n",
    "\n",
    "    # 对父类方法的重写\n",
    "    def fill_gas_tank(self):\n",
    "        print(\"The car did not need gas\")\n"
   ]
  },
  {
   "cell_type": "code",
   "execution_count": 6,
   "metadata": {},
   "outputs": [
    {
     "output_type": "stream",
     "name": "stdout",
     "text": [
      "2020 BYD tang\nThis car has a 70-kWh battery\nThe car did not need gas\n"
     ]
    }
   ],
   "source": [
    "my_byd = ElectricCar('BYD','tang',2020)\n",
    "my_byd.get_description_car()\n",
    "\n",
    "my_byd.describe_battery()\n",
    "my_byd.fill_gas_tank()"
   ]
  },
  {
   "cell_type": "code",
   "execution_count": 7,
   "metadata": {},
   "outputs": [],
   "source": [
    "# 将实例作为属性\n",
    "\n",
    "class Battery():\n",
    "\n",
    "    def __init__(self,battery_size=70):\n",
    "        self.battery_size = battery_size\n",
    "\n",
    "    def describe_battery(self):\n",
    "        print(\"This car has a \" + str(self.battery_size)+\"-kWh battery.\")\n",
    "\n",
    "class EletricCar(Car):\n",
    "    def __init__(self,make,model,year):\n",
    "        super().__init__(make,model,year)\n",
    "        # 这里使用Battery来作为属性\n",
    "        self.battery = Battery()\n",
    "\n",
    "    def describe_battery(self):\n",
    "        print(\"This car has a \" + str(self.battery.battery_size) + \"-kWh battery\")\n",
    "\n",
    "    # 对父类方法的重写\n",
    "    def fill_gas_tank(self):\n",
    "        print(\"The car did not need gas\")\n",
    "    \n"
   ]
  },
  {
   "cell_type": "code",
   "execution_count": 8,
   "metadata": {},
   "outputs": [
    {
     "output_type": "stream",
     "name": "stdout",
     "text": [
      "This car has a 70-kWh battery\n"
     ]
    }
   ],
   "source": [
    "byd = ElectricCar(\"BYD\",'song',2020)\n",
    "byd.describe_battery()\n"
   ]
  }
 ]
}