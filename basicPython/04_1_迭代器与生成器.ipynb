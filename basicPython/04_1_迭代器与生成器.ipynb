{
 "metadata": {
  "language_info": {
   "codemirror_mode": {
    "name": "ipython",
    "version": 3
   },
   "file_extension": ".py",
   "mimetype": "text/x-python",
   "name": "python",
   "nbconvert_exporter": "python",
   "pygments_lexer": "ipython3",
   "version": "3.7.1-final"
  },
  "orig_nbformat": 2,
  "kernelspec": {
   "name": "python37164bitbasecondaaff76f843564460db0fe5180114e39bc",
   "display_name": "Python 3.7.1 64-bit ('base': conda)"
  }
 },
 "nbformat": 4,
 "nbformat_minor": 2,
 "cells": [
  {
   "source": [
    "## 迭代器与生成器\n",
    "\n",
    "- 切片\n",
    "- 迭代与迭代器\n",
    "- 列表推导式\n",
    "- 列表生成式\n",
    "- 生成器"
   ],
   "cell_type": "markdown",
   "metadata": {}
  },
  {
   "cell_type": "code",
   "execution_count": 7,
   "metadata": {},
   "outputs": [
    {
     "output_type": "stream",
     "name": "stdout",
     "text": [
      "['python基础', 'python进阶', '机器学习']\n['python基础', 'python进阶']\n['python进阶', '机器学习', '深度学习']\n深度学习\n['机器学习']\n['python进阶', '机器学习', '深度学习']\n['python基础', 'python进阶']\n['python基础']\n['python基础', '机器学习']\n['python基础', 'python进阶', '机器学习', '深度学习']\n"
     ]
    }
   ],
   "source": [
    "waliAIs = ['python基础','python进阶','机器学习','深度学习']\n",
    "\n",
    "# 向前切片\n",
    "print(waliAIs[0:3])\n",
    "print(waliAIs[:2])\n",
    "print(waliAIs[1:])\n",
    "# 末尾\n",
    "print(waliAIs[-1])\n",
    "print(waliAIs[-2:-1])\n",
    "print(waliAIs[-3:])\n",
    "print(waliAIs[:-2])\n",
    "\n",
    "# 列表的间隔切片\n",
    "# 第二:后面表示每两个取一个,也就是间隔1个取一个\n",
    "print(waliAIs[0:2:2])\n",
    "print(waliAIs[::2])\n",
    "\n",
    "# 列表的复制\n",
    "wali_copy = waliAIs[:]\n",
    "print(wali_copy)\n"
   ]
  }
 ]
}