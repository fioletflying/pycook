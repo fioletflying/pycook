{
 "metadata": {
  "language_info": {
   "codemirror_mode": {
    "name": "ipython",
    "version": 3
   },
   "file_extension": ".py",
   "mimetype": "text/x-python",
   "name": "python",
   "nbconvert_exporter": "python",
   "pygments_lexer": "ipython3",
   "version": "3.7.1-final"
  },
  "orig_nbformat": 2,
  "kernelspec": {
   "name": "python37164bitbasecondaaff76f843564460db0fe5180114e39bc",
   "display_name": "Python 3.7.1 64-bit ('base': conda)"
  }
 },
 "nbformat": 4,
 "nbformat_minor": 2,
 "cells": [
  {
   "source": [
    "## 迭代器与生成器\n",
    "\n",
    "- 切片\n",
    "- 迭代\n",
    "- 列表推导式\n",
    "- 列表生成式\n",
    "- 生成器与迭代器"
   ],
   "cell_type": "markdown",
   "metadata": {}
  },
  {
   "cell_type": "code",
   "execution_count": 7,
   "metadata": {},
   "outputs": [
    {
     "output_type": "stream",
     "name": "stdout",
     "text": [
      "['python基础', 'python进阶', '机器学习']\n['python基础', 'python进阶']\n['python进阶', '机器学习', '深度学习']\n深度学习\n['机器学习']\n['python进阶', '机器学习', '深度学习']\n['python基础', 'python进阶']\n['python基础']\n['python基础', '机器学习']\n['python基础', 'python进阶', '机器学习', '深度学习']\n"
     ]
    }
   ],
   "source": [
    "waliAIs = ['python基础','python进阶','机器学习','深度学习']\n",
    "\n",
    "# 向前切片\n",
    "print(waliAIs[0:3])\n",
    "print(waliAIs[:2])\n",
    "print(waliAIs[1:])\n",
    "# 末尾\n",
    "print(waliAIs[-1])\n",
    "print(waliAIs[-2:-1])\n",
    "print(waliAIs[-3:])\n",
    "print(waliAIs[:-2])\n",
    "\n",
    "# 列表的间隔切片\n",
    "# 第二:后面表示每两个取一个,也就是间隔1个取一个\n",
    "print(waliAIs[0:2:2])\n",
    "print(waliAIs[::2])\n",
    "\n",
    "# 列表的复制\n",
    "wali_copy = waliAIs[:]\n",
    "print(wali_copy)\n"
   ]
  },
  {
   "source": [
    "### 迭代\n",
    "\n",
    "就是遍历list/tuple对象的过程就叫迭代.\n",
    "这里需要弄清楚几个问题?\n",
    "- 什么样的数据可以用来迭代?\n",
    "    - list/tuple等集合类型为什么可以用来做迭代\n",
    "    - for 循环中的in后面需要提供什么类型的数据\n",
    "- 为什么迭代的过程中不需要依赖索引也可以获得元素\n",
    "\n",
    "上面两个问题的答案是:\n",
    "\n",
    "- 可迭代对象可以用来来做迭代\n",
    "- 迭代的过程中产生的数据是迭代器\n",
    "\n",
    "\n",
    "\n",
    "\n"
   ],
   "cell_type": "markdown",
   "metadata": {}
  },
  {
   "cell_type": "code",
   "execution_count": 1,
   "metadata": {},
   "outputs": [
    {
     "output_type": "stream",
     "name": "stdout",
     "text": [
      "1\n2\n3\n['__add__', '__class__', '__contains__', '__delattr__', '__delitem__', '__dir__', '__doc__', '__eq__', '__format__', '__ge__', '__getattribute__', '__getitem__', '__gt__', '__hash__', '__iadd__', '__imul__', '__init__', '__init_subclass__', '__iter__', '__le__', '__len__', '__lt__', '__mul__', '__ne__', '__new__', '__reduce__', '__reduce_ex__', '__repr__', '__reversed__', '__rmul__', '__setattr__', '__setitem__', '__sizeof__', '__str__', '__subclasshook__', 'append', 'clear', 'copy', 'count', 'extend', 'index', 'insert', 'pop', 'remove', 'reverse', 'sort']\n<list_iterator object at 0x000002D182848AC8>\n1\n2\n3\n"
     ]
    },
    {
     "output_type": "error",
     "ename": "StopIteration",
     "evalue": "",
     "traceback": [
      "\u001b[1;31m---------------------------------------------------------------------------\u001b[0m",
      "\u001b[1;31mStopIteration\u001b[0m                             Traceback (most recent call last)",
      "\u001b[1;32m<ipython-input-1-dfbdcf87a8ca>\u001b[0m in \u001b[0;36m<module>\u001b[1;34m\u001b[0m\n\u001b[0;32m     11\u001b[0m \u001b[0mprint\u001b[0m\u001b[1;33m(\u001b[0m\u001b[0mnext\u001b[0m\u001b[1;33m(\u001b[0m\u001b[0mit\u001b[0m\u001b[1;33m)\u001b[0m\u001b[1;33m)\u001b[0m\u001b[1;33m\u001b[0m\u001b[1;33m\u001b[0m\u001b[0m\n\u001b[0;32m     12\u001b[0m \u001b[0mprint\u001b[0m\u001b[1;33m(\u001b[0m\u001b[0mnext\u001b[0m\u001b[1;33m(\u001b[0m\u001b[0mit\u001b[0m\u001b[1;33m)\u001b[0m\u001b[1;33m)\u001b[0m\u001b[1;33m\u001b[0m\u001b[1;33m\u001b[0m\u001b[0m\n\u001b[1;32m---> 13\u001b[1;33m \u001b[0mprint\u001b[0m\u001b[1;33m(\u001b[0m\u001b[0mnext\u001b[0m\u001b[1;33m(\u001b[0m\u001b[0mit\u001b[0m\u001b[1;33m)\u001b[0m\u001b[1;33m)\u001b[0m\u001b[1;33m\u001b[0m\u001b[1;33m\u001b[0m\u001b[0m\n\u001b[0m",
      "\u001b[1;31mStopIteration\u001b[0m: "
     ]
    }
   ],
   "source": [
    "a= [1,2,3]\n",
    "\n",
    "for i in a:\n",
    "    print(i)\n",
    "\n",
    "print(dir(a))\n",
    "\n",
    "it = iter(a)\n",
    "print(it)\n",
    "print(next(it))\n",
    "print(next(it))\n",
    "print(next(it))\n",
    "# 出现StopIteration\n",
    "print(next(it))"
   ]
  },
  {
   "cell_type": "code",
   "execution_count": 4,
   "metadata": {},
   "outputs": [
    {
     "output_type": "stream",
     "name": "stdout",
     "text": [
      "<list_iterator object at 0x000002D1829A1D68>\npython基础\n"
     ]
    }
   ],
   "source": [
    "waliAIs = ['python基础','python进阶','机器学习','深度学习']\n",
    "\n",
    "# 具有__iter__()的方法说明是可迭代对象\n",
    "# 返回的是一个迭代器\n",
    "it = waliAIs.__iter__()\n",
    "print(it)\n",
    "\n",
    "# 迭代器可以使用next方法来获得元素\n",
    "print(it.__next__())"
   ]
  },
  {
   "cell_type": "code",
   "execution_count": 9,
   "metadata": {
    "tags": []
   },
   "outputs": [
    {
     "output_type": "stream",
     "name": "stdout",
     "text": [
      "<list_iterator object at 0x000002D18295AA90>\npython基础\npython进阶\n机器学习\n深度学习\nfinished\n"
     ]
    }
   ],
   "source": [
    "# 迭代器异常值处理方法\n",
    "\n",
    "waliAIs = ['python基础','python进阶','机器学习','深度学习']\n",
    "\n",
    "# 具有__iter__()的方法说明是可迭代对象\n",
    "# 返回的是一个迭代器\n",
    "it = waliAIs.__iter__()\n",
    "print(it)\n",
    "\n",
    "while True:\n",
    "    try:\n",
    "        print(it.__next__())\n",
    "    except StopIteration:\n",
    "        # print(\"finished\")\n",
    "        # break\n",
    "        pass"
   ]
  }
 ]
}