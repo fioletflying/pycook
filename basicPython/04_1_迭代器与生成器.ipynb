{
 "cells": [
  {
   "cell_type": "markdown",
   "metadata": {},
   "source": [
    "## 迭代器与生成器\n",
    "\n",
    "- 切片\n",
    "- 迭代\n",
    "- 列表推导式\n",
    "- 列表生成式\n",
    "- 生成器与迭代器"
   ]
  },
  {
   "cell_type": "code",
   "execution_count": 7,
   "metadata": {},
   "outputs": [
    {
     "name": "stdout",
     "output_type": "stream",
     "text": [
      "['python基础', 'python进阶', '机器学习']\n",
      "['python基础', 'python进阶']\n",
      "['python进阶', '机器学习', '深度学习']\n",
      "深度学习\n",
      "['机器学习']\n",
      "['python进阶', '机器学习', '深度学习']\n",
      "['python基础', 'python进阶']\n",
      "['python基础']\n",
      "['python基础', '机器学习']\n",
      "['python基础', 'python进阶', '机器学习', '深度学习']\n"
     ]
    }
   ],
   "source": [
    "waliAIs = ['python基础','python进阶','机器学习','深度学习']\n",
    "\n",
    "# 向前切片\n",
    "print(waliAIs[0:3])\n",
    "print(waliAIs[:2])\n",
    "print(waliAIs[1:])\n",
    "# 末尾\n",
    "print(waliAIs[-1])\n",
    "print(waliAIs[-2:-1])\n",
    "print(waliAIs[-3:])\n",
    "print(waliAIs[:-2])\n",
    "\n",
    "# 列表的间隔切片\n",
    "# 第二:后面表示每两个取一个,也就是间隔1个取一个\n",
    "print(waliAIs[0:2:2])\n",
    "print(waliAIs[::2])\n",
    "\n",
    "# 列表的复制\n",
    "wali_copy = waliAIs[:]\n",
    "print(wali_copy)\n"
   ]
  },
  {
   "cell_type": "markdown",
   "metadata": {},
   "source": [
    "### 迭代的概念理解\n",
    "\n",
    "#### 什么是迭代\n",
    "\n",
    "- 迭代是一个过程\n",
    "- 这个过程在更新换代\n",
    "- 需要基于上次的结果进行\n",
    "- 列如遍历for 循环，就是一个迭代的过程\n",
    "\n",
    "简单的理解就是遍历list/tuple对象的过程就叫迭代.\n",
    "\n",
    "#### 简单的迭代的实践for...in..\n",
    "\n",
    "- 遍历列表等可迭代的对象\n",
    "- 这里可以对比c/javad等语言\n",
    "    - 必须要有对应的下标\n",
    "    - for（int i=0；i<n；i++）\n",
    "    - 但是python 不一定要具有下标，可以自动获取列表中的元素\n",
    "- 获得迭代对象的索引下标的方法\n",
    "    - for i, value in enumerate(['A', 'B', 'C']):\n",
    "    - 使用enumerate\n"
   ]
  },
  {
   "cell_type": "code",
   "execution_count": 3,
   "metadata": {},
   "outputs": [
    {
     "name": "stdout",
     "output_type": "stream",
     "text": [
      "1\n",
      "2\n",
      "3\n",
      "index:  0 name:  wali\n",
      "index:  1 name:  eva\n",
      "index:  2 name:  gg\n",
      "index:  3 name:  hh\n"
     ]
    }
   ],
   "source": [
    "a= [1,2,3]\n",
    "\n",
    "for i in a:\n",
    "    print(i)\n",
    "\n",
    "\n",
    "##使用enumerate,来获得索引的位置\n",
    "b = ['wali','eva','gg','hh']\n",
    "for index,name in enumerate(b):\n",
    "    print(\"index: \",index,\"name: \",name)"
   ]
  },
  {
   "cell_type": "markdown",
   "metadata": {},
   "source": [
    "### 迭代需要什么条件\n",
    "\n",
    "这里有点理解的难度,但是我们先简单来回到几个问题,从上面的介绍中就可以推出这几个问题,\n",
    "\n",
    "这里需要弄清楚几个问题?\n",
    "- 什么样的数据可以用来迭代?\n",
    "\n",
    "- 为什么迭代的过程中不需要依赖索引也可以获得元素\n",
    "    - 其实换一种问题,就是在for遍历的过程中,没有看到python使用索引,为什么他能够自动的去找到下一个索引呢?\n",
    "\n",
    "上面两个问题的答案是,就要说到python的一个协议了,迭代器协议的概念,这里先来说其中两个概念,也是用来解答上面两个问题的答案:\n",
    "\n",
    "- 可迭代对象：实现了迭代器协议的对象（如何实现：对象内部定义一个__iter__方法）\n",
    "- 迭代器协议是指：对象必须提供一个next方法，执行该方法要么返回迭代中的下一项，要么就引起一个Stopiteration异常，以终止迭代\n",
    "\n",
    "这里概念有点多,其实没有那么玄乎,\n",
    "可迭代对象:\n",
    "- list/tuple等集合类型为什么可以用来做迭代\n",
    "- for 循环中的in后面需要提供什么类型的数据 \n",
    " \n",
    "迭代器就是用来实现遍历的下一个元素的索引的作用.\n",
    "看个例子吧\n"
   ]
  },
  {
   "cell_type": "code",
   "execution_count": 11,
   "metadata": {},
   "outputs": [
    {
     "name": "stdout",
     "output_type": "stream",
     "text": [
      "['__add__', '__class__', '__contains__', '__delattr__', '__delitem__', '__dir__', '__doc__', '__eq__', '__format__', '__ge__', '__getattribute__', '__getitem__', '__gt__', '__hash__', '__iadd__', '__imul__', '__init__', '__init_subclass__', '__iter__', '__le__', '__len__', '__lt__', '__mul__', '__ne__', '__new__', '__reduce__', '__reduce_ex__', '__repr__', '__reversed__', '__rmul__', '__setattr__', '__setitem__', '__sizeof__', '__str__', '__subclasshook__', 'append', 'clear', 'copy', 'count', 'extend', 'index', 'insert', 'pop', 'remove', 'reverse', 'sort']\n",
      "<list_iterator object at 0x000002753555C2E8>\n",
      "wali\n",
      "eva\n",
      "gg\n",
      "hh\n"
     ]
    },
    {
     "ename": "StopIteration",
     "evalue": "",
     "output_type": "error",
     "traceback": [
      "\u001b[1;31m---------------------------------------------------------------------------\u001b[0m",
      "\u001b[1;31mStopIteration\u001b[0m                             Traceback (most recent call last)",
      "\u001b[1;32m<ipython-input-11-4d64025e0dda>\u001b[0m in \u001b[0;36m<module>\u001b[1;34m\u001b[0m\n\u001b[0;32m     15\u001b[0m \u001b[0mprint\u001b[0m\u001b[1;33m(\u001b[0m\u001b[0mnext\u001b[0m\u001b[1;33m(\u001b[0m\u001b[0mit\u001b[0m\u001b[1;33m)\u001b[0m\u001b[1;33m)\u001b[0m\u001b[1;33m\u001b[0m\u001b[1;33m\u001b[0m\u001b[0m\n\u001b[0;32m     16\u001b[0m \u001b[0mprint\u001b[0m\u001b[1;33m(\u001b[0m\u001b[0mnext\u001b[0m\u001b[1;33m(\u001b[0m\u001b[0mit\u001b[0m\u001b[1;33m)\u001b[0m\u001b[1;33m)\u001b[0m\u001b[1;33m\u001b[0m\u001b[1;33m\u001b[0m\u001b[0m\n\u001b[1;32m---> 17\u001b[1;33m \u001b[0mprint\u001b[0m\u001b[1;33m(\u001b[0m\u001b[0mnext\u001b[0m\u001b[1;33m(\u001b[0m\u001b[0mit\u001b[0m\u001b[1;33m)\u001b[0m\u001b[1;33m)\u001b[0m\u001b[1;33m\u001b[0m\u001b[1;33m\u001b[0m\u001b[0m\n\u001b[0m",
      "\u001b[1;31mStopIteration\u001b[0m: "
     ]
    }
   ],
   "source": [
    "# 可迭代对象list\n",
    "b = ['wali','eva','gg','hh']\n",
    "\n",
    "#查看期属性:\n",
    "print(dir(b))\n",
    "# 里面有一个属性__iter__,有了这个属性就是可迭代对象\n",
    "\n",
    "# 迭代器获取\n",
    "it = iter(b)\n",
    "print(it)\n",
    "\n",
    "# 获得里面的元素就是使用next方法:\n",
    "print(next(it))\n",
    "print(next(it))\n",
    "print(next(it))\n",
    "print(next(it))\n",
    "# StopIteration 引起一个Stopiteration异常，以终止迭代\n",
    "print(next(it))"
   ]
  },
  {
   "cell_type": "markdown",
   "metadata": {},
   "source": [
    "不知道大家看完上面的例子有没有一点感觉呢?是不是还是感觉可迭代对象与迭代器感觉有点混乱啊?\n",
    "到底怎么区分啊?看图吧:\n",
    "![](imgs/07_1.jpg)\n",
    "\n",
    "这下明白了吧,只是一个概念而已,迭代器实现了:\n",
    "- next()方法\n",
    "- iter()方法\n",
    "而可迭代对象通过调用iter() 方法也可以变成迭代器.\n"
   ]
  },
  {
   "cell_type": "code",
   "execution_count": 1,
   "metadata": {},
   "outputs": [
    {
     "name": "stdout",
     "output_type": "stream",
     "text": [
      "<list_iterator object at 0x000001B33E936A20>\n",
      "python基础\n"
     ]
    }
   ],
   "source": [
    "waliAIs = ['python基础','python进阶','机器学习','深度学习']\n",
    "\n",
    "# 具有__iter__()的方法说明是可迭代对象\n",
    "# 返回的是一个迭代器\n",
    "it = waliAIs.__iter__()\n",
    "print(it)\n",
    "\n",
    "# 迭代器可以使用next方法来获得元素\n",
    "print(it.__next__())"
   ]
  },
  {
   "cell_type": "markdown",
   "metadata": {},
   "source": [
    "### for 循环的本质\n",
    "\n",
    "上面我们通过next方法也可以获得list中的元素,那么for循环帮我做了什么工作呢:\n",
    "- 先调用容器（以字符串为例）的iter()函数\n",
    "- 再使用 next() 内置函数来调用 __next__() 方法\n",
    "- 当元素用尽时，__next__() 将引发 StopIteration 异常\n",
    "\n",
    "![](imgs/07_2.jpg)\n",
    "\n",
    "好了我们自己来实现for吧."
   ]
  },
  {
   "cell_type": "code",
   "execution_count": 2,
   "metadata": {
    "tags": []
   },
   "outputs": [
    {
     "name": "stdout",
     "output_type": "stream",
     "text": [
      "<list_iterator object at 0x000001B33E936F60>\n",
      "python基础\n",
      "python进阶\n",
      "机器学习\n",
      "深度学习\n"
     ]
    }
   ],
   "source": [
    "# 迭代器异常值处理方法\n",
    "\n",
    "waliAIs = ['python基础','python进阶','机器学习','深度学习']\n",
    "\n",
    "# 具有__iter__()的方法说明是可迭代对象\n",
    "# 返回的是一个迭代器\n",
    "it = waliAIs.__iter__()\n",
    "print(it)\n",
    "\n",
    "while True:\n",
    "    try:\n",
    "        print(it.__next__())\n",
    "    except StopIteration:\n",
    "        # print(\"finished\")\n",
    "        # break\n",
    "        pass"
   ]
  },
  {
   "cell_type": "markdown",
   "metadata": {},
   "source": [
    "### 列表推导式"
   ]
  },
  {
   "cell_type": "code",
   "execution_count": null,
   "metadata": {},
   "outputs": [],
   "source": [
    "a = [x*x for x in range(10)]\n",
    "print(a)\n",
    "# 可以加入一些判断\n",
    "b = [x*x for x in range(10) if x%2==0]\n",
    "print(b)\n",
    "# 两层循环\n",
    "c = [m+n for m in \"abc\" for n in \"efg\"]\n",
    "print(c)\n",
    "\n",
    "# 对列表做一些小的改变\n",
    "L = ['Hello', 'World', 'IBM', 'Apple']\n",
    "d = [s.lower() for s in L]\n",
    "print(d)"
   ]
  },
  {
   "cell_type": "code",
   "execution_count": 5,
   "metadata": {},
   "outputs": [
    {
     "data": {
      "text/plain": [
       "['.ipynb_checkpoints',\n",
       " '01_变量与数据类型.ipynb',\n",
       " '02_字符编码与格式化.ipynb',\n",
       " '03_list列表.ipynb',\n",
       " '04_1_迭代器与生成器.ipynb',\n",
       " '04_列表的基础操作.ipynb',\n",
       " '05_条件语句.ipynb',\n",
       " '06_字典.ipynb',\n",
       " '07_函数.ipynb',\n",
       " '08_类.ipynb',\n",
       " '09_fileIO.ipynb',\n",
       " 'imgs']"
      ]
     },
     "execution_count": 5,
     "metadata": {},
     "output_type": "execute_result"
    }
   ],
   "source": [
    "import os\n",
    "\n",
    "file_list = [f for f in os.listdir('.')]\n",
    "file_list"
   ]
  },
  {
   "cell_type": "markdown",
   "metadata": {},
   "source": [
    "### 生成器\n"
   ]
  },
  {
   "cell_type": "code",
   "execution_count": 1,
   "metadata": {},
   "outputs": [
    {
     "name": "stdout",
     "output_type": "stream",
     "text": [
      "0\n",
      "1\n",
      "4\n",
      "9\n",
      "16\n"
     ]
    }
   ],
   "source": [
    "# 生成器的\n",
    "g = (i*i for i in range(10))\n",
    "print(next(g))\n",
    "print(next(g))\n",
    "print(next(g))\n",
    "print(next(g))\n",
    "print(next(g))\n"
   ]
  },
  {
   "cell_type": "code",
   "execution_count": 13,
   "metadata": {},
   "outputs": [
    {
     "name": "stdout",
     "output_type": "stream",
     "text": [
      "0\n",
      "1\n",
      "4\n",
      "9\n",
      "16\n",
      "25\n",
      "36\n",
      "49\n",
      "64\n",
      "81\n"
     ]
    },
    {
     "data": {
      "text/plain": [
       "[0, 1, 4, 9, 16, 25, 36, 49, 64, 81]"
      ]
     },
     "execution_count": 13,
     "metadata": {},
     "output_type": "execute_result"
    }
   ],
   "source": [
    "g = (i*i for i in range(10))\n",
    "for i in g:\n",
    "    print(i)\n",
    "    \n",
    "g = (i*i for i in range(10))\n",
    "list_g = [i for i in g]\n",
    "list_g"
   ]
  },
  {
   "cell_type": "code",
   "execution_count": 4,
   "metadata": {},
   "outputs": [
    {
     "name": "stdout",
     "output_type": "stream",
     "text": [
      "1\n"
     ]
    },
    {
     "data": {
      "text/plain": [
       "'done'"
      ]
     },
     "execution_count": 4,
     "metadata": {},
     "output_type": "execute_result"
    }
   ],
   "source": [
    "def fbi(Max):\n",
    "    a,b,n = 0,1,0\n",
    "    while n < Max:\n",
    "        print(b)\n",
    "        a,b =b,a+b\n",
    "        n = n+1\n",
    "    return 'done'\n",
    "fbi(1)"
   ]
  },
  {
   "cell_type": "code",
   "execution_count": 7,
   "metadata": {},
   "outputs": [
    {
     "name": "stdout",
     "output_type": "stream",
     "text": [
      "<generator object fbi at 0x0000025ED74DC390>\n",
      "1\n",
      "1\n",
      "2\n",
      "3\n",
      "5\n",
      "8\n"
     ]
    }
   ],
   "source": [
    "#yeild 函数生成器\n",
    "def fbi(Max):\n",
    "    a,b,n = 0,1,0\n",
    "    while n<Max:\n",
    "        # 遇到yield语句返回\n",
    "        yield b\n",
    "        # 再次执行时从上次返回的yield语句处继续执行\n",
    "        a,b = b,a+b\n",
    "        n = n+1\n",
    "    return \"done\"\n",
    "\n",
    "gen = fbi(6)\n",
    "print(gen)\n",
    "\n",
    "# 通过for循环来获得这些数据\n",
    "for i in gen:\n",
    "    print(i)"
   ]
  },
  {
   "cell_type": "code",
   "execution_count": 18,
   "metadata": {},
   "outputs": [
    {
     "name": "stdout",
     "output_type": "stream",
     "text": [
      "[1, 1]\n",
      "[1, 2, 1]\n",
      "[1, 3, 3, 1]\n",
      "[1, 4, 6, 4, 1]\n",
      "[1, 5, 10, 10, 5, 1]\n"
     ]
    }
   ],
   "source": [
    "def triangles(Max):\n",
    "    n = 1\n",
    "    a_list = [1]\n",
    "    while n<Max:\n",
    "        out_list = []\n",
    "        for i,a in enumerate(a_list):\n",
    "            \n",
    "            if i >0:\n",
    "                b = a_list[i-1]+a\n",
    "                out_list.append(b)\n",
    "            elif i == 0:\n",
    "                out_list.append(a)\n",
    "            \n",
    "        out_list.append(a_list[0])\n",
    "\n",
    "        yield out_list\n",
    "        a_list = out_list\n",
    "        n=n+1\n",
    "\n",
    "g = triangles(6)\n",
    "        \n",
    "for a in g:\n",
    "    print(a)"
   ]
  }
 ],
 "metadata": {
  "kernelspec": {
   "display_name": "Python 3.7.1 64-bit ('base': conda)",
   "language": "python",
   "name": "python37164bitbasecondaaff76f843564460db0fe5180114e39bc"
  },
  "language_info": {
   "codemirror_mode": {
    "name": "ipython",
    "version": 3
   },
   "file_extension": ".py",
   "mimetype": "text/x-python",
   "name": "python",
   "nbconvert_exporter": "python",
   "pygments_lexer": "ipython3",
   "version": "3.7.1"
  },
  "toc": {
   "base_numbering": 1,
   "nav_menu": {},
   "number_sections": true,
   "sideBar": true,
   "skip_h1_title": false,
   "title_cell": "Table of Contents",
   "title_sidebar": "Contents",
   "toc_cell": false,
   "toc_position": {},
   "toc_section_display": true,
   "toc_window_display": false
  }
 },
 "nbformat": 4,
 "nbformat_minor": 2
}
