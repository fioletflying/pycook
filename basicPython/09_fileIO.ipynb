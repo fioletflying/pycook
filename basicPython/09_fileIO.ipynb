{
 "metadata": {
  "language_info": {
   "codemirror_mode": {
    "name": "ipython",
    "version": 3
   },
   "file_extension": ".py",
   "mimetype": "text/x-python",
   "name": "python",
   "nbconvert_exporter": "python",
   "pygments_lexer": "ipython3",
   "version": "3.7.1-final"
  },
  "orig_nbformat": 2,
  "kernelspec": {
   "name": "python37164bitbasecondaaff76f843564460db0fe5180114e39bc",
   "display_name": "Python 3.7.1 64-bit ('base': conda)"
  }
 },
 "nbformat": 4,
 "nbformat_minor": 2,
 "cells": [
  {
   "cell_type": "code",
   "execution_count": 17,
   "metadata": {},
   "outputs": [
    {
     "output_type": "stream",
     "name": "stdout",
     "text": [
      "I'm wali.\nwho are you?\nI'm finding Eva now.\nWho can help me?\nI'm wali.\nwho are you?\nI'm finding Eva now.\nWho can help me?\n<class 'str'>\nI'm wali.\nwho are you?\nI'm finding Eva now.\nWho can help me?\nI love you, Eva.\n60\nr\n"
     ]
    }
   ],
   "source": [
    "with open(\"imgs/io.txt\") as fs:\n",
    "    contens = fs.read()\n",
    "    print(contens.rstrip())\n",
    "    a = len(contens)\n",
    "\n",
    "# 这里还可以继续使用\n",
    "print(contens)\n",
    "print(type(contens))\n",
    "contens +=\"\\nI love you, Eva.\"\n",
    "print(contens)\n",
    "print(a)\n",
    "print(fs.mode)\n",
    "\n",
    "# print(len(contens))"
   ]
  },
  {
   "cell_type": "code",
   "execution_count": 57,
   "metadata": {},
   "outputs": [
    {
     "output_type": "stream",
     "name": "stdout",
     "text": [
      "********第一次读写**********\nI'm wali.\nwho are you?\nI'm finding Eva now.\nWho can help me?\n********第二次读写**********\n\n"
     ]
    }
   ],
   "source": [
    "with open(\"imgs\\io.txt\") as fs:\n",
    "    # 会将每一个字符当作一行\n",
    "    # for line in fs.read():\n",
    "    #     print(line.rstrip())\n",
    "    #print(fs.read()) # 读完就无法继续再读一次\n",
    "    print(\"********第一次读**********\")\n",
    "    for line in fs:\n",
    "        # rstrip表示去掉字符串末尾的指定字符\n",
    "        print(line.rstrip())\n",
    "    # 如果再次读一次,则没有任何东西了,因为以及取过一次了\n",
    "    print(\"********第二次读**********\")\n",
    "    print(fs.read())\n",
    "    for line2 in fs.read():\n",
    "        print(line2)"
   ]
  },
  {
   "cell_type": "code",
   "execution_count": 60,
   "metadata": {},
   "outputs": [
    {
     "output_type": "stream",
     "name": "stdout",
     "text": [
      "[\"I'm wali.\\n\", 'who are you?\\n', \"I'm finding Eva now.\\n\", 'Who can help me?']\n********第二次读**********\n[]\nI'm wali.\nwho are you?\nI'm finding Eva now.\nWho can help me?\n"
     ]
    }
   ],
   "source": [
    "# 逐行读写并且保存一个列表变量\n",
    "with open(\"imgs\\io.txt\",'r') as fs:\n",
    "    lines = fs.readlines()\n",
    "    # 读完就无法继续再读一次\n",
    "    lines2 = fs.readlines()\n",
    "print(lines)\n",
    "print(\"********第二次读**********\")\n",
    "print(lines2)\n",
    "for line in lines:\n",
    "    print(line.rstrip())\n"
   ]
  },
  {
   "cell_type": "code",
   "execution_count": 4,
   "metadata": {},
   "outputs": [],
   "source": [
    "# 写入模式\n",
    "# 需要设置模式为mode='w'\n",
    "with open(\"imgs/writeIO.txt\",'w') as fs:\n",
    "    fs.write(\"I'm Walle.\\n\")\n",
    "    fs.write(\"I love Eva.\")"
   ]
  },
  {
   "cell_type": "code",
   "execution_count": 7,
   "metadata": {},
   "outputs": [],
   "source": [
    "# 追加模式\n",
    "# 需要设置模式为mode='a'\n",
    "# 内容会一直添加到原来的文件中,不会删除原来的文件.\n",
    "with open(\"imgs/writeIO.txt\",'a') as fs:\n",
    "    fs.write(\"I'm Walle.\\n\")\n",
    "    fs.write(\"I love Eva.\\n\")"
   ]
  },
  {
   "source": [
    "### 异常处理模块\n",
    "\n",
    "使用try-except\n",
    "\n",
    "- 除零模块:ZeroDivisionError\n",
    "- 文件不存在模块:FileNotFoundError \n",
    "- 不做任何异常处理"
   ],
   "cell_type": "markdown",
   "metadata": {}
  },
  {
   "cell_type": "code",
   "execution_count": 8,
   "metadata": {},
   "outputs": [
    {
     "output_type": "error",
     "ename": "ZeroDivisionError",
     "evalue": "division by zero",
     "traceback": [
      "\u001b[1;31m---------------------------------------------------------------------------\u001b[0m",
      "\u001b[1;31mZeroDivisionError\u001b[0m                         Traceback (most recent call last)",
      "\u001b[1;32m<ipython-input-8-e1c914d13b99>\u001b[0m in \u001b[0;36m<module>\u001b[1;34m\u001b[0m\n\u001b[0;32m      1\u001b[0m \u001b[1;31m# 除法中经常遇到的除0处理\u001b[0m\u001b[1;33m\u001b[0m\u001b[1;33m\u001b[0m\u001b[1;33m\u001b[0m\u001b[0m\n\u001b[1;32m----> 2\u001b[1;33m \u001b[0mprint\u001b[0m\u001b[1;33m(\u001b[0m\u001b[1;36m5\u001b[0m\u001b[1;33m/\u001b[0m\u001b[1;36m0\u001b[0m\u001b[1;33m)\u001b[0m\u001b[1;33m\u001b[0m\u001b[1;33m\u001b[0m\u001b[0m\n\u001b[0m",
      "\u001b[1;31mZeroDivisionError\u001b[0m: division by zero"
     ]
    }
   ],
   "source": [
    "# 除法中经常遇到的除0处理\n",
    "print(5/0)\n",
    "# 这里会有一个Traceback,错误提示信息说除0了\n",
    "# 里面也提示了ZeroDivisionError这个错误\n",
    "# 这样是极其不友好的,对于使用者"
   ]
  },
  {
   "source": [
    "异常处理的好处:\n",
    "- 避免程序崩溃,导致程序无法使用"
   ],
   "cell_type": "markdown",
   "metadata": {}
  },
  {
   "cell_type": "code",
   "execution_count": 9,
   "metadata": {},
   "outputs": [
    {
     "output_type": "stream",
     "name": "stdout",
     "text": [
      "除数不能为零\n"
     ]
    }
   ],
   "source": [
    "# 使用try-except\n",
    "try:\n",
    "    print(10/0)\n",
    "except ZeroDivisionError:\n",
    "    print(\"除数不能为零\")"
   ]
  },
  {
   "cell_type": "code",
   "execution_count": 10,
   "metadata": {},
   "outputs": [
    {
     "output_type": "stream",
     "name": "stdout",
     "text": [
      "一个简单的整数除法计算器\n输入两个数据,第一个除以第二个数\n"
     ]
    },
    {
     "output_type": "error",
     "ename": "ZeroDivisionError",
     "evalue": "division by zero",
     "traceback": [
      "\u001b[1;31m---------------------------------------------------------------------------\u001b[0m",
      "\u001b[1;31mZeroDivisionError\u001b[0m                         Traceback (most recent call last)",
      "\u001b[1;32m<ipython-input-10-366588e1a9dd>\u001b[0m in \u001b[0;36m<module>\u001b[1;34m\u001b[0m\n\u001b[0;32m      9\u001b[0m     \u001b[1;32mif\u001b[0m \u001b[0mb\u001b[0m \u001b[1;33m==\u001b[0m\u001b[1;34m\"q\"\u001b[0m\u001b[1;33m:\u001b[0m\u001b[1;33m\u001b[0m\u001b[1;33m\u001b[0m\u001b[0m\n\u001b[0;32m     10\u001b[0m         \u001b[1;32mbreak\u001b[0m\u001b[1;33m\u001b[0m\u001b[1;33m\u001b[0m\u001b[0m\n\u001b[1;32m---> 11\u001b[1;33m     \u001b[0mresult\u001b[0m \u001b[1;33m=\u001b[0m \u001b[0mint\u001b[0m\u001b[1;33m(\u001b[0m\u001b[0ma\u001b[0m\u001b[1;33m)\u001b[0m\u001b[1;33m/\u001b[0m\u001b[0mint\u001b[0m\u001b[1;33m(\u001b[0m\u001b[0mb\u001b[0m\u001b[1;33m)\u001b[0m\u001b[1;33m\u001b[0m\u001b[1;33m\u001b[0m\u001b[0m\n\u001b[0m\u001b[0;32m     12\u001b[0m     \u001b[0mprint\u001b[0m\u001b[1;33m(\u001b[0m\u001b[0mresult\u001b[0m\u001b[1;33m)\u001b[0m\u001b[1;33m\u001b[0m\u001b[1;33m\u001b[0m\u001b[0m\n",
      "\u001b[1;31mZeroDivisionError\u001b[0m: division by zero"
     ]
    }
   ],
   "source": [
    "# 演示没用使用try-except的导致程序崩溃\n",
    "print(\"一个简单的整数除法计算器\")\n",
    "print(\"输入两个数据,第一个除以第二个数\")\n",
    "\n",
    "while True:\n",
    "    a = input(\"请输入第一个数: \")\n",
    "    if a == \"q\":\n",
    "        break\n",
    "    b = input(\"请输入第一个数: \")\n",
    "    if b ==\"q\":\n",
    "        break\n",
    "    result = int(a)/int(b)\n",
    "    print(result)"
   ]
  },
  {
   "cell_type": "code",
   "execution_count": 11,
   "metadata": {},
   "outputs": [
    {
     "output_type": "stream",
     "name": "stdout",
     "text": [
      "一个简单的整数除法计算器\n",
      "输入两个数据,第一个除以第二个数\n",
      "1.0\n",
      "0.10526315789473684\n"
     ]
    }
   ],
   "source": [
    "# 演示没用使用try-except的导致程序崩溃\n",
    "print(\"一个简单的整数除法计算器\")\n",
    "print(\"输入两个数据,第一个除以第二个数\")\n",
    "\n",
    "while True:\n",
    "    a = input(\"请输入第一个数: \")\n",
    "    if a == \"q\":\n",
    "        break\n",
    "    b = input(\"请输入第二个数: \")\n",
    "    if b ==\"q\":\n",
    "        break\n",
    "    try:\n",
    "        result = int(a)/int(b)\n",
    "    except ZeroDivisionError:\n",
    "        print(\"除数不能为0,请重新输入.\")\n",
    "    # 这里使用else 表示成功执行完成\n",
    "    else:\n",
    "        print(result)"
   ]
  },
  {
   "cell_type": "code",
   "execution_count": 1,
   "metadata": {},
   "outputs": [
    {
     "output_type": "error",
     "ename": "FileNotFoundError",
     "evalue": "[Errno 2] No such file or directory: 'wali.txt'",
     "traceback": [
      "\u001b[1;31m---------------------------------------------------------------------------\u001b[0m",
      "\u001b[1;31mFileNotFoundError\u001b[0m                         Traceback (most recent call last)",
      "\u001b[1;32m<ipython-input-1-5352b26f9bbe>\u001b[0m in \u001b[0;36m<module>\u001b[1;34m\u001b[0m\n\u001b[0;32m      3\u001b[0m \u001b[0mfile_path\u001b[0m \u001b[1;33m=\u001b[0m \u001b[1;34m'wali.txt'\u001b[0m\u001b[1;33m\u001b[0m\u001b[1;33m\u001b[0m\u001b[0m\n\u001b[0;32m      4\u001b[0m \u001b[1;33m\u001b[0m\u001b[0m\n\u001b[1;32m----> 5\u001b[1;33m \u001b[1;32mwith\u001b[0m \u001b[0mopen\u001b[0m\u001b[1;33m(\u001b[0m\u001b[0mfile_path\u001b[0m\u001b[1;33m,\u001b[0m\u001b[1;34m'r'\u001b[0m\u001b[1;33m)\u001b[0m \u001b[1;32mas\u001b[0m \u001b[0mfs\u001b[0m\u001b[1;33m:\u001b[0m\u001b[1;33m\u001b[0m\u001b[1;33m\u001b[0m\u001b[0m\n\u001b[0m\u001b[0;32m      6\u001b[0m     \u001b[0mcontens\u001b[0m \u001b[1;33m=\u001b[0m \u001b[0mfs\u001b[0m\u001b[1;33m.\u001b[0m\u001b[0mread\u001b[0m\u001b[1;33m(\u001b[0m\u001b[1;33m)\u001b[0m\u001b[1;33m\u001b[0m\u001b[1;33m\u001b[0m\u001b[0m\n\u001b[0;32m      7\u001b[0m \u001b[1;33m\u001b[0m\u001b[0m\n",
      "\u001b[1;31mFileNotFoundError\u001b[0m: [Errno 2] No such file or directory: 'wali.txt'"
     ]
    }
   ],
   "source": [
    "# 文件找不到出现的错误\n",
    "# FileNotFoundError: [Errno 2] No such file or directory:\n",
    "file_path = 'wali.txt'\n",
    "\n",
    "with open(file_path,'r') as fs:\n",
    "    contens = fs.read()\n"
   ]
  },
  {
   "cell_type": "code",
   "execution_count": 9,
   "metadata": {},
   "outputs": [
    {
     "output_type": "stream",
     "name": "stdout",
     "text": [
      "未找到相应的文件.\n"
     ]
    }
   ],
   "source": [
    "# 使用try-except 来处理不存在文件的异常\n",
    "file_path = 'wali.txt'\n",
    "\n",
    "try:\n",
    "    with open(file_path) as fs:\n",
    "        contents = fs.read()\n",
    "except FileNotFoundError:\n",
    "    print(\"未找到相应的文件.\")"
   ]
  },
  {
   "cell_type": "code",
   "execution_count": 3,
   "metadata": {},
   "outputs": [
    {
     "output_type": "stream",
     "name": "stdout",
     "text": [
      "imgs/io.txt has about  13  words.\n该文件不存在\nimgs/io.txt has about  13  words.\n该文件不存在\nimgs/writeIO.txt has about  21  words.\n"
     ]
    }
   ],
   "source": [
    "# 这里我们再体验一下try-except妙用\n",
    "# 使用一个函数来实现文本字数的统计\n",
    "\n",
    "def count_txt(filename):\n",
    "    try:\n",
    "        with open(filename) as fs:\n",
    "            contents = fs.read()\n",
    "    except FileNotFoundError:\n",
    "        print(\"该文件不存在\")\n",
    "    else:\n",
    "        words = contents.split()\n",
    "        nums = len(words)\n",
    "        print(filename,\"has about \",nums,\" words.\")\n",
    "    \n",
    "filename = r\"imgs/io.txt\"\n",
    "count_txt(filename)\n",
    "filename = r\"io.txt\"\n",
    "count_txt(filename)\n",
    "# 这里遍历每一个文件\n",
    "# 这样使用try-excpet后,如果找不到文件,而不会导致程序崩溃\n",
    "# 导致无法完成所有的文件读写,这样妙用如何\n",
    "filenames = [r\"imgs/io.txt\",r\"io.txt\",r\"imgs/writeIO.txt\"]\n",
    "for filename in filenames:\n",
    "    count_txt(filename)"
   ]
  },
  {
   "cell_type": "code",
   "execution_count": 4,
   "metadata": {},
   "outputs": [
    {
     "output_type": "stream",
     "name": "stdout",
     "text": [
      "imgs/io.txt has about  13  words.\nimgs/writeIO.txt has about  21  words.\n"
     ]
    }
   ],
   "source": [
    "# 使用pass,对异常不做任何解释,\n",
    "def count_txt(filename):\n",
    "    try:\n",
    "        with open(filename) as fs:\n",
    "            contents = fs.read()\n",
    "    except FileNotFoundError:\n",
    "        pass\n",
    "    else:\n",
    "        words = contents.split()\n",
    "        nums = len(words)\n",
    "        print(filename,\"has about \",nums,\" words.\")\n",
    "        \n",
    "filenames = [r\"imgs/io.txt\",r\"io.txt\",r\"imgs/writeIO.txt\"]\n",
    "for filename in filenames:\n",
    "    count_txt(filename)"
   ]
  }
 ]
}