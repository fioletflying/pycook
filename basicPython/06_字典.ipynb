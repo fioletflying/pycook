{
 "metadata": {
  "language_info": {
   "codemirror_mode": {
    "name": "ipython",
    "version": 3
   },
   "file_extension": ".py",
   "mimetype": "text/x-python",
   "name": "python",
   "nbconvert_exporter": "python",
   "pygments_lexer": "ipython3",
   "version": "3.7.1-final"
  },
  "orig_nbformat": 2,
  "kernelspec": {
   "name": "python37164bitbasecondaaff76f843564460db0fe5180114e39bc",
   "display_name": "Python 3.7.1 64-bit ('base': conda)"
  }
 },
 "nbformat": 4,
 "nbformat_minor": 2,
 "cells": [
  {
   "source": [
    "## 字典\n",
    "\n",
    "### 字典的结构和作用\n",
    "\n",
    "字典是由一对键值对组成的key:value\n",
    "- 使用`{}`来表示字典的格式\n",
    "\n",
    "比如要表示学生的成绩：\n"
   ],
   "cell_type": "markdown",
   "metadata": {}
  },
  {
   "cell_type": "code",
   "execution_count": 1,
   "metadata": {
    "tags": []
   },
   "outputs": [
    {
     "output_type": "stream",
     "name": "stdout",
     "text": [
      "{'wali': 90, 'Eva': 100, 'human': 59}\n"
     ]
    }
   ],
   "source": [
    "d = {'wali':90,'Eva':100,'human':59}\n",
    "print(d)"
   ]
  },
  {
   "source": [
    "所以字典就很像其他语言的map,用键-值（key-value）存储，具有极快的查找速度。 这就是为什么需要使用字典，**方便快速查找**。\n"
   ],
   "cell_type": "markdown",
   "metadata": {}
  },
  {
   "source": [
    "### 字典常用操作：增删改查\n",
    "\n",
    "我们知道字典就是：\n",
    "- 由一系列的键值对组成，\n",
    "- 将这些键值对放在花括号里面，\n",
    "- 键值对通过逗号隔开；\n",
    "- 通过键来快速获得值\n",
    "- 值可以是：数字、字符串、列表乃至字典\n",
    "\n",
    "#### 访问字典\n",
    "\n",
    "通过字典名和方括号里面包含键来访问.\n"
   ],
   "cell_type": "markdown",
   "metadata": {}
  },
  {
   "cell_type": "code",
   "execution_count": 2,
   "metadata": {
    "tags": []
   },
   "outputs": [
    {
     "output_type": "stream",
     "name": "stdout",
     "text": [
      "{'wali': 90, 'Eva': 100, 'human': 59}\n90\n"
     ]
    }
   ],
   "source": [
    "d = {'wali':90,'Eva':100,'human':59}\n",
    "print(d)\n",
    "print(d['wali'])"
   ]
  },
  {
   "source": [
    "#### 添加键值对\n",
    "\n",
    "字典像list一样也是一种动态的结构，可以随时添加。\n",
    "- `d[xxx] = xxxx`\n",
    "- *字典要事先创建*\n"
   ],
   "cell_type": "markdown",
   "metadata": {}
  },
  {
   "cell_type": "code",
   "execution_count": 3,
   "metadata": {
    "tags": []
   },
   "outputs": [
    {
     "output_type": "stream",
     "name": "stdout",
     "text": [
      "{'wali': 90, 'Eva': 100, 'human': 59, 'xiaoming': 88}\n"
     ]
    }
   ],
   "source": [
    "d['xiaoming'] = 88\n",
    "print(d)"
   ]
  },
  {
   "source": [
    "#### 删除键值对\n",
    "可以使用del语句来执行"
   ],
   "cell_type": "markdown",
   "metadata": {}
  },
  {
   "cell_type": "code",
   "execution_count": 4,
   "metadata": {},
   "outputs": [
    {
     "output_type": "stream",
     "name": "stdout",
     "text": [
      "{'wali': 90, 'Eva': 100, 'human': 59, 'xiaoming': 88}\n{'wali': 90, 'Eva': 100, 'human': 59}\n"
     ]
    }
   ],
   "source": [
    "print(d)\n",
    "del d['xiaoming']\n",
    "print(d)"
   ]
  },
  {
   "source": [
    "### 字典与列表的对比\n",
    "\n",
    "字典的特点：\n",
    "- 查找和插入的速度极快，不会随着key的增加而变慢；\n",
    "- 需要占用大量的内存，内存浪费多。\n",
    "\n",
    "列表的特点：\n",
    "- 查找和插入的时间随着元素的增加而增加；\n",
    "- 占用空间小，浪费内存很少。\n",
    "\n",
    "所以需要高速查找的地方就需要广泛的使用，dict，\n",
    "这里需要注意的一点：\n",
    "- **字典的key必须是`不可变对象`**\n",
    "- 字符串、整数等都是不可变的，list是可变的\n",
    "\n",
    "#### 不可变对象的理解\n",
    "\n",
    "从调用的方法来理解，如下：\n",
    "- 对可变对象操作，内部的内容会发生变化\n",
    "- 对不可变对象操作，内部的内容不会发生变化\n",
    "- 对于不变对象来说，调用对象自身的任意方法，也不会改变该对象自身的内容。\n",
    "- 这些方法会创建新的对象并返回，\n",
    "\n"
   ],
   "cell_type": "markdown",
   "metadata": {}
  },
  {
   "cell_type": "code",
   "execution_count": 8,
   "metadata": {},
   "outputs": [
    {
     "output_type": "stream",
     "name": "stdout",
     "text": [
      "['c', 'b', 'a']\n['a', 'b', 'c']\n"
     ]
    }
   ],
   "source": [
    "# 可变对象\n",
    "a = ['c','b','a']\n",
    "print(a)\n",
    "a.sort()\n",
    "print(a)"
   ]
  },
  {
   "cell_type": "code",
   "execution_count": 10,
   "metadata": {},
   "outputs": [
    {
     "output_type": "stream",
     "name": "stdout",
     "text": [
      "abc\nabc\nAbc\n"
     ]
    }
   ],
   "source": [
    "# 不可变对象\n",
    "# 这里'abc'才是字符串对象\n",
    "# a是变量，他是指向'abc'对象\n",
    "a = 'abc'\n",
    "print(a)\n",
    "# 这里会新建一个对象\n",
    "b = a.replace('a',\"A\")\n",
    "print(a)\n",
    "print(b)"
   ]
  },
  {
   "source": [
    "### 字典的遍历\n",
    "\n",
    "#### 遍历所有的键值对\n",
    "\n",
    "- 使用dict.items()\n",
    "- for key,value in d.items():\n",
    "    - key：表示键\n",
    "    - value:表示值\n",
    "\n",
    "#### 遍历所有的键\n",
    "\n",
    "- 使用dict.keys()\n",
    "- for key in d.keys():\n",
    "    - key：表示键\n",
    "\n",
    "\n",
    "#### 遍历所有的值\n",
    "\n",
    "- 使用dict.values()\n",
    "- for value in d.values():\n",
    "    - value:表示值\n",
    "\n"
   ],
   "cell_type": "markdown",
   "metadata": {}
  },
  {
   "cell_type": "code",
   "execution_count": 11,
   "metadata": {},
   "outputs": [
    {
     "output_type": "stream",
     "name": "stdout",
     "text": [
      "\nKey: wali\nValue: 90\n\nKey: Eva\nValue: 100\n\nKey: human\nValue: 59\n\nKey: wali\n\nKey: Eva\n\nKey: human\n\nKey: Eva\n\nKey: human\n\nKey: wali\n\nvalue: 90\n\nvalue: 100\n\nvalue: 59\n"
     ]
    }
   ],
   "source": [
    "d = {'wali':90,'Eva':100,'human':59}\n",
    "\n",
    "# 遍历键值对\n",
    "for key,value in d.items():\n",
    "    print(\"\\nKey: \"+key)\n",
    "    print(\"Value: \"+str(value))\n",
    "\n",
    "# 遍历键值对\n",
    "for key in d.keys():\n",
    "    print(\"\\nKey: \"+key)\n",
    "\n",
    "# 遍历键按顺序\n",
    "for key in sorted(d.keys()):\n",
    "    print(\"\\nKey: \"+key)\n",
    "\n",
    "\n",
    "\n",
    "# 遍历值\n",
    "for value in d.values():\n",
    "    print(\"\\nvalue: \"+str(value))\n"
   ]
  },
  {
   "source": [
    "### 字典的嵌套\n",
    "\n",
    "#### 字典组成的列表\n",
    "\n",
    "列表可以存储任何的数据类型，所以当然也可以存储字典了。\n",
    "\n",
    "#### 字典中存储列表\n",
    "\n",
    "这里我们可以将列表存储为值。\n",
    "\n",
    "#### 字典中存储字典\n",
    "\n",
    "这个也是比较常用的一个方式，在json中的存储方式很多地方就用到了这个方式。\n"
   ],
   "cell_type": "markdown",
   "metadata": {}
  },
  {
   "cell_type": "code",
   "execution_count": 1,
   "metadata": {},
   "outputs": [
    {
     "output_type": "stream",
     "name": "stdout",
     "text": [
      "{'wali': 90, 'Eva': 100, 'human': 59}\n{'wali': 90, 'Eva': 100, 'human': 59}\n{'wali': 90, 'Eva': 100, 'human': 59}\n"
     ]
    }
   ],
   "source": [
    "# 字典组成的列表\n",
    "d1 = {'wali':90,'Eva':100,'human':59}\n",
    "d2 = {'wali':90,'Eva':100,'human':59}\n",
    "d3 = {'wali':90,'Eva':100,'human':59}\n",
    "\n",
    "list_d = [d1,d2,d3]\n",
    "for d in list_d:\n",
    "    print(d)"
   ]
  },
  {
   "cell_type": "code",
   "execution_count": 5,
   "metadata": {},
   "outputs": [
    {
     "output_type": "stream",
     "name": "stdout",
     "text": [
      "mushrooms\nextra cheese\nwalifavorite languages: \n\tpython\n\tCpp\nEvafavorite languages: \n\tpython\n\tjava\nxiaomingfavorite languages: \n\tc\nggfavorite languages: \n\truby\n\tjs\n"
     ]
    }
   ],
   "source": [
    "# 字典中存储列表\n",
    "pizza = {\n",
    "    'crust':'thick',\n",
    "    'toppings':['mushrooms','extra cheese']\n",
    "}\n",
    "\n",
    "for topping in pizza['toppings']:\n",
    "    print(topping)\n",
    "\n",
    "favorite_languages = {\n",
    "    'wali':['python','Cpp'],\n",
    "    'Eva':['python','java'],\n",
    "    'xiaoming':['c'],\n",
    "    'gg':['ruby','js']\n",
    "}\n",
    "\n",
    "for name,languages in favorite_languages.items():\n",
    "    print(name +\"favorite languages: \" )\n",
    "    for language in languages:\n",
    "        print(\"\\t\"+language)"
   ]
  },
  {
   "cell_type": "code",
   "execution_count": 6,
   "metadata": {},
   "outputs": [
    {
     "output_type": "stream",
     "name": "stdout",
     "text": [
      "\naeinstein\n\tfull name: albert einstein\n\tLocation: Princeton\n\nmcurie\n\tfull name: marie curie\n\tLocation: Paris\n"
     ]
    }
   ],
   "source": [
    "users = {\n",
    "      'aeinstein': {\n",
    "          'first': 'albert',\n",
    "          'last': 'einstein',\n",
    "          'location': 'princeton',\n",
    "          },\n",
    "      'mcurie': {\n",
    "          'first': 'marie',\n",
    "          'last': 'curie',\n",
    "          'location': 'paris',\n",
    "          },\n",
    "      }\n",
    "\n",
    "for username,users_info in users.items():\n",
    "    print(\"\\n\"+username)\n",
    "    full_name = users_info['first'] + \" \"+users_info['last']\n",
    "    location = users_info['location']\n",
    "\n",
    "    print(\"\\tfull name: \"+full_name)\n",
    "    print(\"\\tLocation: \" + location.title())"
   ]
  },
  {
   "source": [
    "#### "
   ],
   "cell_type": "markdown",
   "metadata": {}
  }
 ]
}