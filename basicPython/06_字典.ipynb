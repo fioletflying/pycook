{
 "metadata": {
  "language_info": {
   "codemirror_mode": {
    "name": "ipython",
    "version": 3
   },
   "file_extension": ".py",
   "mimetype": "text/x-python",
   "name": "python",
   "nbconvert_exporter": "python",
   "pygments_lexer": "ipython3",
   "version": "3.7.1-final"
  },
  "orig_nbformat": 2,
  "kernelspec": {
   "name": "python37164bitbasecondaaff76f843564460db0fe5180114e39bc",
   "display_name": "Python 3.7.1 64-bit ('base': conda)"
  }
 },
 "nbformat": 4,
 "nbformat_minor": 2,
 "cells": [
  {
   "source": [
    "## 字典\n",
    "\n",
    "### 字典的结构和作用\n",
    "\n",
    "字典是由一对键值对组成的key:value\n",
    "- 使用`{}`来表示字典的格式\n",
    "\n",
    "比如要表示学生的成绩：\n"
   ],
   "cell_type": "markdown",
   "metadata": {}
  },
  {
   "cell_type": "code",
   "execution_count": 2,
   "metadata": {
    "tags": []
   },
   "outputs": [
    {
     "output_type": "stream",
     "name": "stdout",
     "text": "{&#39;wali&#39;: 90, &#39;Eva&#39;: 100, &#39;human&#39;: 59}\n"
    }
   ],
   "source": [
    "d = {'wali':90,'Eva':100,'human':59}\n",
    "print(d)"
   ]
  },
  {
   "source": [
    "所以字典就很像其他语言的map,用键-值（key-value）存储，具有极快的查找速度。 这就是为什么需要使用字典，**方便快速查找**。\n"
   ],
   "cell_type": "markdown",
   "metadata": {}
  },
  {
   "source": [
    "### 字典常用操作：增删改查\n",
    "\n",
    "我们知道字典就是：\n",
    "- 由一系列的键值对组成，\n",
    "- 将这些键值对放在花括号里面，\n",
    "- 键值对通过逗号隔开；\n",
    "- 通过键来快速获得值\n",
    "- 值可以是：数字、字符串、列表乃至字典\n",
    "\n",
    "#### 访问字典\n",
    "\n",
    "通过字典名和方括号里面包含键来访问.\n"
   ],
   "cell_type": "markdown",
   "metadata": {}
  },
  {
   "cell_type": "code",
   "execution_count": 3,
   "metadata": {
    "tags": []
   },
   "outputs": [
    {
     "output_type": "stream",
     "name": "stdout",
     "text": "{&#39;wali&#39;: 90, &#39;Eva&#39;: 100, &#39;human&#39;: 59}\n90\n"
    }
   ],
   "source": [
    "d = {'wali':90,'Eva':100,'human':59}\n",
    "print(d)\n",
    "print(d['wali'])"
   ]
  },
  {
   "source": [
    "#### 添加键值对\n",
    "\n",
    "字典像list一样也是一种动态的结构，可以随时添加。\n",
    "- `d[xxx] = xxxx`\n",
    "- *字典要事先创建*\n"
   ],
   "cell_type": "markdown",
   "metadata": {}
  },
  {
   "cell_type": "code",
   "execution_count": 4,
   "metadata": {
    "tags": []
   },
   "outputs": [
    {
     "output_type": "stream",
     "name": "stdout",
     "text": "{&#39;wali&#39;: 90, &#39;Eva&#39;: 100, &#39;human&#39;: 59, &#39;xiaoming&#39;: 88}\n"
    }
   ],
   "source": [
    "d['xiaoming'] = 88\n",
    "print(d)"
   ]
  },
  {
   "source": [
    "#### "
   ],
   "cell_type": "markdown",
   "metadata": {}
  }
 ]
}