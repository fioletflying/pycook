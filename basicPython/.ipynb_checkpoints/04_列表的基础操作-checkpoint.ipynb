{
 "cells": [
  {
   "cell_type": "markdown",
   "metadata": {},
   "source": [
    "## 列表的基础操作\n",
    "\n",
    "### 列表的遍历\n",
    "\n",
    "- 使用for来遍历整个列表的元素\n",
    "\n",
    "\n"
   ]
  },
  {
   "cell_type": "code",
   "execution_count": 6,
   "metadata": {
    "tags": []
   },
   "outputs": [
    {
     "name": "stdout",
     "output_type": "stream",
     "text": [
      "python基础\n",
      "python进阶\n",
      "机器学习\n",
      "深度学习\n",
      "我们可以一起学习： python基础\n",
      "我们可以一起学习： python进阶\n",
      "我们可以一起学习： 机器学习\n",
      "我们可以一起学习： 深度学习\n",
      "感谢大家的关注和阅读！\n"
     ]
    }
   ],
   "source": [
    "waliAIs = ['python基础','python进阶','机器学习','深度学习']\n",
    "\n",
    "for wali in waliAIs:\n",
    "    print(wali)\n",
    "\n",
    "for wali in waliAIs:\n",
    "    print(\"我们可以一起学习：\",wali)\n",
    "print(\"感谢大家的关注和阅读！\")"
   ]
  },
  {
   "cell_type": "markdown",
   "metadata": {},
   "source": [
    "### 创建数值列表\n",
    "\n",
    "#### range()函数\n",
    "\n",
    "使用range()可以生成一系列的数字。\n",
    "\n",
    "- 注意生成的数字是前闭后开(1,5):1,2,3,4\n",
    "- 不包含最后一个数字\n",
    "- range(1,11,2): 1 开始的数据，11 截至数据，2 步长\n",
    "\n",
    "#### 创建数字列表\n",
    "\n",
    "可以使用list()来创建数字列表\n",
    "\n",
    "#### 简单的统计数字列表函数\n",
    "\n",
    "- min\n",
    "- max\n",
    "- sum\n",
    "\n",
    "\n",
    "#### 列表推导\n",
    "\n",
    "用于快速的构建一个数字列表,\n",
    "\n",
    "`squares = [value ** 2 for value in range(1,11)]`\n",
    "\n"
   ]
  },
  {
   "cell_type": "code",
   "execution_count": 12,
   "metadata": {
    "tags": []
   },
   "outputs": [
    {
     "name": "stdout",
     "output_type": "stream",
     "text": [
      "1\n",
      "2\n",
      "3\n",
      "4\n",
      "[1, 2, 3, 4, 5]\n",
      "[2, 4, 6, 8, 10]\n",
      "[1, 4, 9, 16, 25, 36, 49, 64, 81, 100]\n",
      "1\n",
      "100\n",
      "385\n",
      "[1, 4, 9, 16, 25, 36, 49, 64, 81, 100]\n"
     ]
    }
   ],
   "source": [
    "for value in range(1,5):\n",
    "    print(value)\n",
    "\n",
    "numbers = list(range(1,6))\n",
    "print(numbers)\n",
    "\n",
    "numbers = list(range(2,11,2))\n",
    "print(numbers)\n",
    "\n",
    "# 生成一个平方数据\n",
    "squares = []\n",
    "for value in range(1,11):\n",
    "    square = value**2\n",
    "    squares.append(square)\n",
    "print(squares)\n",
    "\n",
    "# 简单的统计数字列表函数\n",
    "print(min(squares))\n",
    "print(max(squares))\n",
    "print(sum(squares))\n",
    "\n",
    "# 列表推导\n",
    "squares = [value ** 2 for value in range(1,11)]\n",
    "print(squares)"
   ]
  },
  {
   "cell_type": "markdown",
   "metadata": {},
   "source": [
    "### 列表切片\n",
    "\n",
    "列表切片是访问列表又一种方式，只不过这次我们可以获得列表的子集，是列表的一个片段。\n",
    "常用的方法：\n",
    "\n"
   ]
  },
  {
   "cell_type": "code",
   "execution_count": 15,
   "metadata": {
    "tags": []
   },
   "outputs": [
    {
     "name": "stdout",
     "output_type": "stream",
     "text": [
      "[&#39;python基础&#39;, &#39;python进阶&#39;, &#39;机器学习&#39;]\n",
      "[&#39;python基础&#39;, &#39;python进阶&#39;, &#39;机器学习&#39;, &#39;深度学习&#39;]\n",
      "[&#39;python进阶&#39;, &#39;机器学习&#39;, &#39;深度学习&#39;]\n",
      "深度学习\n",
      "[&#39;python进阶&#39;, &#39;机器学习&#39;, &#39;深度学习&#39;]\n",
      "[&#39;python基础&#39;]\n",
      "python基础\n",
      "python进阶\n",
      "机器学习\n"
     ]
    }
   ],
   "source": [
    "waliAIs = ['python基础','python进阶','机器学习','深度学习']\n",
    "\n",
    "# 获得0，1，2个元素\n",
    "print(waliAIs[0:3])\n",
    "# 获得从开始到第3个个元素\n",
    "print(waliAIs[:4])\n",
    "# 获得从第1个到末尾元素\n",
    "print(waliAIs[1:])\n",
    "# 获得末尾元素\n",
    "print(waliAIs[-1])\n",
    "# 获得从第倒数第3个到末尾元素：最后3个元素\n",
    "print(waliAIs[-3:])\n",
    "# 获得从开始到倒数第3个元素：除掉最后3个元素\n",
    "print(waliAIs[:-3])\n",
    "\n",
    "for wali in waliAIs[:3]:\n",
    "    print(wali)"
   ]
  },
  {
   "cell_type": "markdown",
   "metadata": {},
   "source": [
    "#### 列表的复制\n",
    "\n",
    "列表不能像数值一样直接通过赋值号来复制，这样说明两个列表变量同时都指向同一个列表。\n",
    "- 有一个数据改变了列表的值，其他的数据也跟着一起改变。\n",
    "\n",
    "要想独立复制一个完整的列表，则需要使用：\n",
    "- xxx \\[:\\] 省略起始索引和终止索引"
   ]
  },
  {
   "cell_type": "code",
   "execution_count": 18,
   "metadata": {
    "tags": []
   },
   "outputs": [
    {
     "name": "stdout",
     "output_type": "stream",
     "text": [
      "[&#39;python基础&#39;, &#39;python进阶&#39;, &#39;机器学习&#39;, &#39;深度学习&#39;]\n",
      "[&#39;python基础&#39;, &#39;python进阶&#39;, &#39;机器学习&#39;, &#39;深度学习&#39;]\n",
      "[&#39;python基础&#39;, &#39;python进阶&#39;, &#39;机器学习&#39;, &#39;深度学习&#39;, &#39;算法学习&#39;]\n",
      "[&#39;python基础&#39;, &#39;python进阶&#39;, &#39;机器学习&#39;, &#39;深度学习&#39;, &#39;算法学习&#39;]\n",
      "[&#39;python基础&#39;, &#39;python进阶&#39;, &#39;机器学习&#39;, &#39;深度学习&#39;, &#39;算法学习&#39;, &#39;C++学习&#39;]\n",
      "[&#39;python基础&#39;, &#39;python进阶&#39;, &#39;机器学习&#39;, &#39;深度学习&#39;, &#39;算法学习&#39;, &#39;C++学习&#39;]\n"
     ]
    }
   ],
   "source": [
    "waliAIs = ['python基础','python进阶','机器学习','深度学习']\n",
    "\n",
    "evaAIs = waliAIs\n",
    "\n",
    "print(waliAIs)\n",
    "print(evaAIs)\n",
    "\n",
    "waliAIs.append(\"算法学习\")\n",
    "\n",
    "# 一个数据改变了，两个同时跟着一起改变\n",
    "print(waliAIs)\n",
    "print(evaAIs)\n",
    "\n",
    "evaAIs.append(\"C++学习\")\n",
    "\n",
    "# 一个数据改变了，两个同时跟着一起改变\n",
    "print(waliAIs)\n",
    "print(evaAIs)\n",
    "\n"
   ]
  },
  {
   "cell_type": "code",
   "execution_count": 19,
   "metadata": {
    "tags": []
   },
   "outputs": [
    {
     "name": "stdout",
     "output_type": "stream",
     "text": [
      "[&#39;python基础&#39;, &#39;python进阶&#39;, &#39;机器学习&#39;, &#39;深度学习&#39;]\n",
      "[&#39;python基础&#39;, &#39;python进阶&#39;, &#39;机器学习&#39;, &#39;深度学习&#39;]\n",
      "[&#39;python基础&#39;, &#39;python进阶&#39;, &#39;机器学习&#39;, &#39;深度学习&#39;, &#39;算法学习&#39;]\n",
      "[&#39;python基础&#39;, &#39;python进阶&#39;, &#39;机器学习&#39;, &#39;深度学习&#39;]\n",
      "[&#39;python基础&#39;, &#39;python进阶&#39;, &#39;机器学习&#39;, &#39;深度学习&#39;, &#39;算法学习&#39;]\n",
      "[&#39;python基础&#39;, &#39;python进阶&#39;, &#39;机器学习&#39;, &#39;深度学习&#39;, &#39;C++学习&#39;]\n"
     ]
    }
   ],
   "source": [
    "waliAIs = ['python基础','python进阶','机器学习','深度学习']\n",
    "\n",
    "evaAIs = waliAIs[:]\n",
    "\n",
    "print(waliAIs)\n",
    "print(evaAIs)\n",
    "\n",
    "waliAIs.append(\"算法学习\")\n",
    "\n",
    "# 一个数据改变了，另一个不会发生改变\n",
    "print(waliAIs)\n",
    "print(evaAIs)\n",
    "\n",
    "evaAIs.append(\"C++学习\")\n",
    "\n",
    "# 一个数据改变了，另一个不会发生改变\n",
    "print(waliAIs)\n",
    "print(evaAIs)\n"
   ]
  },
  {
   "cell_type": "markdown",
   "metadata": {},
   "source": [
    "### 元组-tuple\n",
    "\n",
    "不可变的列表叫元组，不能增加和删除或者修改元组里面的元素。\n",
    "一旦初始化就不能修改。\n",
    "\n",
    "定一个元组，用圆括号。可以使用列表中切片的方法。\n",
    "\n",
    "元组的意义：\n",
    "\n",
    "因为tuple不可变，所以代码更安全。如果可能，能用tuple代替list就尽量用tuple。\n",
    "\n",
    "\n",
    "\n"
   ]
  },
  {
   "cell_type": "code",
   "execution_count": 21,
   "metadata": {
    "tags": []
   },
   "outputs": [
    {
     "name": "stdout",
     "output_type": "stream",
     "text": [
      "(&#39;python基础&#39;, &#39;python进阶&#39;, &#39;机器学习&#39;, &#39;深度学习&#39;)\n",
      "python基础\n",
      "(&#39;python基础&#39;, &#39;python进阶&#39;, &#39;机器学习&#39;)\n"
     ]
    }
   ],
   "source": [
    "waliAIs = ('python基础','python进阶','机器学习','深度学习')\n",
    "\n",
    "print(waliAIs)\n",
    "\n",
    "print(waliAIs[0])\n",
    "print(waliAIs[:3])"
   ]
  }
 ],
 "metadata": {
  "kernelspec": {
   "display_name": "Python 3.7.1 64-bit ('base': conda)",
   "language": "python",
   "name": "python37164bitbasecondaaff76f843564460db0fe5180114e39bc"
  },
  "language_info": {
   "codemirror_mode": {
    "name": "ipython",
    "version": 3
   },
   "file_extension": ".py",
   "mimetype": "text/x-python",
   "name": "python",
   "nbconvert_exporter": "python",
   "pygments_lexer": "ipython3",
   "version": "3.7.1"
  },
  "toc": {
   "base_numbering": 1,
   "nav_menu": {},
   "number_sections": true,
   "sideBar": true,
   "skip_h1_title": false,
   "title_cell": "Table of Contents",
   "title_sidebar": "Contents",
   "toc_cell": false,
   "toc_position": {},
   "toc_section_display": true,
   "toc_window_display": false
  }
 },
 "nbformat": 4,
 "nbformat_minor": 2
}
