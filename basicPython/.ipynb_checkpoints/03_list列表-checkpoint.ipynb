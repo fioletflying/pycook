{
 "cells": [
  {
   "cell_type": "markdown",
   "metadata": {},
   "source": [
    "\n",
    "# list 列表\n",
    "\n",
    "## 列表的基础概念\n",
    "\n",
    "列表是python内置的数据类型，是一个有序的集合，可以随时的添加和删除列表元素。\n",
    "\n",
    "使用`[]`来定义一个列表,用调号隔开元素。\n"
   ]
  },
  {
   "cell_type": "code",
   "execution_count": 4,
   "metadata": {
    "tags": []
   },
   "outputs": [
    {
     "name": "stdout",
     "output_type": "stream",
     "text": [
      "['摩拜', 'ofo', '小蓝']\n"
     ]
    }
   ],
   "source": [
    "# 定义列表\n",
    "bicycles=['摩拜','ofo','小蓝']\n",
    "print(bicycles)\n"
   ]
  },
  {
   "cell_type": "markdown",
   "metadata": {},
   "source": [
    "### 列表元素的访问\n",
    "\n",
    "- 使用索引号来访问具体第几个元素\n",
    "- 序号是从0开始的\n",
    "- -1 可以访问最后一个元素"
   ]
  },
  {
   "cell_type": "code",
   "execution_count": 5,
   "metadata": {
    "tags": []
   },
   "outputs": [
    {
     "name": "stdout",
     "output_type": "stream",
     "text": [
      "摩拜\n",
      "小蓝\n"
     ]
    }
   ],
   "source": [
    "print(bicycles[0])\n",
    "print(bicycles[-1])"
   ]
  },
  {
   "cell_type": "markdown",
   "metadata": {},
   "source": [
    "### 增-删-改\n",
    "\n",
    "#### 添加元素\n",
    "\n",
    "- append(): 在列表末尾添加单个元素，相当于`a[len(a):] = [x]`\n",
    "- insert(): 在列表中指定的位置添加单个元素，\n",
    "- extend(): 在列表末尾添加列表,`相当于a[len(a):] = iterable` "
   ]
  },
  {
   "cell_type": "code",
   "execution_count": 3,
   "metadata": {
    "tags": []
   },
   "outputs": [
    {
     "name": "stdout",
     "output_type": "stream",
     "text": [
      "['摩拜', 'ofo', '小蓝', '瓦力']\n",
      "['凤凰', '摩拜', 'ofo', '小蓝', '瓦力']\n",
      "['BMW', 'BYD', '瓦力']\n",
      "['BMW', 'BYD', '瓦力', '凤凰', '摩拜', 'ofo', '小蓝', '瓦力']\n"
     ]
    }
   ],
   "source": [
    "#append\n",
    "bicycles=['摩拜','ofo','小蓝']\n",
    "bicycles.append('瓦力')\n",
    "print(bicycles)\n",
    "#insert\n",
    "bicycles.insert(0,'凤凰')\n",
    "print(bicycles)\n",
    "\n",
    "# extend\n",
    "new_bicycles = ['BMW','BYD']\n",
    "new_bicycles.extend([\"瓦力\"])\n",
    "print(new_bicycles)\n",
    "new_bicycles.extend(bicycles)\n",
    "print(new_bicycles)"
   ]
  },
  {
   "cell_type": "markdown",
   "metadata": {},
   "source": [
    "#### 修改元素\n",
    "\n",
    "直接获得需要修改的元素位置，进行修改\n",
    "\n"
   ]
  },
  {
   "cell_type": "code",
   "execution_count": 4,
   "metadata": {
    "tags": []
   },
   "outputs": [
    {
     "name": "stdout",
     "output_type": "stream",
     "text": [
      "['凤凰', '美团', 'ofo', '小蓝', '瓦力']\n"
     ]
    }
   ],
   "source": [
    "bicycles[1] = '美团'\n",
    "print(bicycles)"
   ]
  },
  {
   "cell_type": "markdown",
   "metadata": {},
   "source": [
    "#### 删除列表元素\n",
    "\n",
    "- 使用del语句删除:必须要知道需要删除元素的索引\n",
    "- 使用pop：删除末尾的元素，并且可以获得该元素的值\n",
    "    - 可以使用pop(index)来删除指定位置的元素\n",
    "- 使用remove： 根据值来删除元素\n",
    "- clear(): 移除列表中的所有元素"
   ]
  },
  {
   "cell_type": "code",
   "execution_count": 7,
   "metadata": {
    "tags": []
   },
   "outputs": [
    {
     "name": "stdout",
     "output_type": "stream",
     "text": [
      "['凤凰', '摩拜', '小蓝', '瓦力']\n"
     ]
    }
   ],
   "source": [
    "del bicycles[2]\n",
    "print(bicycles)"
   ]
  },
  {
   "cell_type": "code",
   "execution_count": 9,
   "metadata": {
    "tags": []
   },
   "outputs": [
    {
     "name": "stdout",
     "output_type": "stream",
     "text": [
      "瓦力\n"
     ]
    }
   ],
   "source": [
    "pop_bick = bicycles.pop()\n",
    "print(pop_bick)"
   ]
  },
  {
   "cell_type": "code",
   "execution_count": 8,
   "metadata": {
    "tags": []
   },
   "outputs": [
    {
     "name": "stdout",
     "output_type": "stream",
     "text": [
      "['摩拜', '小蓝', '瓦力']\n"
     ]
    }
   ],
   "source": [
    "bicycles.remove('凤凰')\n",
    "print(bicycles)"
   ]
  },
  {
   "cell_type": "code",
   "execution_count": 5,
   "metadata": {},
   "outputs": [
    {
     "name": "stdout",
     "output_type": "stream",
     "text": [
      "[]\n"
     ]
    }
   ],
   "source": [
    "bicycles.clear()\n",
    "print(bicycles)"
   ]
  },
  {
   "cell_type": "markdown",
   "metadata": {},
   "source": [
    "### 列表的组织\n",
    "\n",
    "#### 列表的排序\n",
    "\n",
    "- sort() 对列表永久排序\n",
    "    - reverse: 降序排序\n",
    "- sorted() 对列表临时排序\n",
    "- reverse() 倒着排列数据\n",
    "- len()获得列表的长度\n",
    "- count() 获得某个元素在列表中出现的次数"
   ]
  },
  {
   "cell_type": "code",
   "execution_count": 6,
   "metadata": {
    "tags": []
   },
   "outputs": [
    {
     "name": "stdout",
     "output_type": "stream",
     "text": [
      "['BYD', '吉利', '红旗', '丰田']\n",
      "['BYD', '丰田', '吉利', '红旗']\n",
      "['红旗', '吉利', '丰田', 'BYD']\n",
      "1\n"
     ]
    }
   ],
   "source": [
    "cars = ['BYD','吉利','红旗','丰田']\n",
    "print(cars)\n",
    "cars.sort()\n",
    "print(cars)\n",
    "cars.sort(reverse=True)\n",
    "print(cars)\n",
    "print(\"BYD 出现的次数: \",cars.count('BYD'))\n",
    "\n"
   ]
  },
  {
   "cell_type": "code",
   "execution_count": 2,
   "metadata": {
    "tags": []
   },
   "outputs": [
    {
     "name": "stdout",
     "output_type": "stream",
     "text": [
      "['BYD', '丰田', '吉利', '红旗']\n",
      "['BYD', '吉利', '红旗', '丰田']\n",
      "['丰田', '红旗', '吉利', 'BYD']\n",
      "4\n"
     ]
    }
   ],
   "source": [
    "cars = ['BYD','吉利','红旗','丰田']\n",
    "\n",
    "print(sorted(cars))\n",
    "print(cars)\n",
    "cars.reverse()\n",
    "print(cars)\n",
    "print(len(cars))"
   ]
  }
 ],
 "metadata": {
  "kernelspec": {
   "display_name": "Python 3.7.1 64-bit ('base': conda)",
   "language": "python",
   "name": "python37164bitbasecondaaff76f843564460db0fe5180114e39bc"
  },
  "language_info": {
   "codemirror_mode": {
    "name": "ipython",
    "version": 3
   },
   "file_extension": ".py",
   "mimetype": "text/x-python",
   "name": "python",
   "nbconvert_exporter": "python",
   "pygments_lexer": "ipython3",
   "version": "3.7.1"
  },
  "toc": {
   "base_numbering": 1,
   "nav_menu": {},
   "number_sections": true,
   "sideBar": true,
   "skip_h1_title": false,
   "title_cell": "Table of Contents",
   "title_sidebar": "Contents",
   "toc_cell": false,
   "toc_position": {},
   "toc_section_display": true,
   "toc_window_display": false
  }
 },
 "nbformat": 4,
 "nbformat_minor": 2
}
