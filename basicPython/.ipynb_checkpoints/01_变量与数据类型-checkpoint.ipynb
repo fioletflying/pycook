{
 "cells": [
  {
   "cell_type": "markdown",
   "metadata": {},
   "source": [
    "## python初探: 数据类型与变量\n",
    "欢迎来到python之旅的初探,将从最基础开始来了解这个火了很多年的编程语言,是什么让这门语言魔力四射呢?从现在开始一起去探索和发现吧.\n",
    "本小节主要内容如下:  \n",
    "\n",
    "![](imgs/01_4.jpg)\n",
    "\n",
    "### 数据类型\n",
    "\n",
    "python中的数据类型主要包括：\n",
    "- 整数\n",
    "- 浮点数\n",
    "- 字符串\n",
    "- 布尔值\n",
    "- 空值\n",
    "- 列表\n",
    "- 字典\n",
    "- 自己创建的数据类型\n"
   ]
  },
  {
   "cell_type": "markdown",
   "metadata": {},
   "source": [
    "#### 整数类型\n",
    "\n",
    "可以正常的使用普通的表达方式，也可使用进制来表示：\n"
   ]
  },
  {
   "cell_type": "code",
   "execution_count": 1,
   "metadata": {},
   "outputs": [
    {
     "name": "stdout",
     "output_type": "stream",
     "text": [
      "65280\n",
      "4668\n",
      "0x989680\n",
      "0o46113200\n"
     ]
    }
   ],
   "source": [
    "# 十六进制的表达式\n",
    "a = 0xff00\n",
    "print(a)\n",
    "# 八进制的表达式\n",
    "a = 0o11074\n",
    "print(a)\n",
    "\n",
    "# 使用下划线表示\n",
    "a = 10000000\n",
    "b = 10_000_000\n",
    "# 转成16进制\n",
    "a = hex(a)\n",
    "print(a)\n",
    "# 转成8进制\n",
    "a = oct(b)\n",
    "print(a)\n"
   ]
  },
  {
   "cell_type": "markdown",
   "metadata": {},
   "source": [
    "##### 关于除法\n",
    "\n",
    "- 整数除法结果一定是float类型`/`\n",
    "- 如果想获得整数结果需要使用`//`\n",
    "- 取余的方法`%`\n"
   ]
  },
  {
   "cell_type": "code",
   "execution_count": 3,
   "metadata": {},
   "outputs": [
    {
     "name": "stdout",
     "output_type": "stream",
     "text": [
      "3.5\n",
      "<class 'float'>\n",
      "3\n",
      "1\n"
     ]
    }
   ],
   "source": [
    "# 整数的除法\n",
    "a = 7/2\n",
    "print(a)\n",
    "print(type(a))\n",
    "#获得整数结果\n",
    "a = 7//2\n",
    "print(a)\n",
    "# 取余\n",
    "a = 7%2\n",
    "print(a)\n"
   ]
  },
  {
   "cell_type": "markdown",
   "metadata": {},
   "source": [
    "#### 浮点型\n",
    "\n",
    "浮点也就小数， 也可以使用科学记数来表示。整数和浮点数在计算机内部存储的方式是不同的。"
   ]
  },
  {
   "cell_type": "code",
   "execution_count": 21,
   "metadata": {
    "tags": []
   },
   "outputs": [
    {
     "name": "stdout",
     "output_type": "stream",
     "text": [
      "0.2\n",
      "1.5\n",
      "0.2\n",
      "1230000000.0\n",
      "1230000000.0\n"
     ]
    }
   ],
   "source": [
    "print(0.1+0.1)\n",
    "print(3/2)\n",
    "print(2*0.1)\n",
    "print(1.23e9)\n",
    "print(12.3e8)"
   ]
  },
  {
   "cell_type": "markdown",
   "metadata": {},
   "source": [
    "#### 字符串\n",
    "\n",
    "在python中用引号括起来的文本称为字符串。\n",
    "- 单引号\n",
    "- 双引号\n",
    "\n",
    "为什么要引入两种引号，这样可以方便输入中有引号的字符串。\n",
    "- 在出现单引号的句子中使用双引号\n",
    "- 在出现双引号的句子中使用单引号\n",
    "\n",
    "这里用个问题就是如果在字符串中既有'和\",这个问题就无法解决了？使用转义字符\n"
   ]
  },
  {
   "cell_type": "code",
   "execution_count": 4,
   "metadata": {
    "tags": []
   },
   "outputs": [
    {
     "name": "stdout",
     "output_type": "stream",
     "text": [
      "hello,python\n",
      "hello,python\n",
      "I'm ok\n",
      "I'm 'wali'\n",
      "Wali said:\"I am ok.\"\n"
     ]
    }
   ],
   "source": [
    "# 字符串\n",
    "print(\"hello,python\")\n",
    "print('hello,python')\n",
    "print(\"I'm ok\")\n",
    "print(\"I'm 'wali'\")\n",
    "print('Wali said:\"I am ok.\"')"
   ]
  },
  {
   "cell_type": "markdown",
   "metadata": {},
   "source": [
    "##### 转义字符\n",
    "\n",
    "使用'\\'来表示:\n",
    "- \\ 表示转义字符，不需要去改变\n",
    "- \\t 表示制表符\n",
    "- \\n 表示换行符\n",
    "\n",
    "快捷的转义字符：   \n",
    "r'' : 内部的字符串默认不转义"
   ]
  },
  {
   "cell_type": "code",
   "execution_count": 5,
   "metadata": {
    "tags": []
   },
   "outputs": [
    {
     "name": "stdout",
     "output_type": "stream",
     "text": [
      "I'm \"OK\"\n",
      "name\tage\tadd\n",
      "name\n",
      "age\n",
      "add\n",
      "\\tname\\tage\n"
     ]
    }
   ],
   "source": [
    "print('I\\'m \\\"OK\\\"')\n",
    "print('name\\tage\\tadd')\n",
    "print('name\\nage\\nadd')\n",
    "\n",
    "print(r'\\tname\\tage')"
   ]
  },
  {
   "cell_type": "markdown",
   "metadata": {},
   "source": [
    "#### 字符串常用的操作方法\n",
    "\n",
    "##### 大小写的修改\n",
    "- title方法： 以首字母大写显示每一个单词\n",
    "- uppper: 将所有字符串改成大写\n",
    "- lower: 将所有的字符串改成小写\n",
    "\n",
    "##### 字符串的拼接\n",
    "- 使用\"+\"号来进行拼接\n"
   ]
  },
  {
   "cell_type": "code",
   "execution_count": 6,
   "metadata": {
    "tags": []
   },
   "outputs": [
    {
     "name": "stdout",
     "output_type": "stream",
     "text": [
      "wali love eva\n",
      "Wali Love Eva\n",
      "WALI LOVE EVA\n",
      "wali love eva\n",
      "Hello, Wali love Eva\n",
      "\n",
      "Wali\n",
      "love\n",
      "Eva.\n",
      "\n"
     ]
    }
   ],
   "source": [
    "name = \"wali love eva\"\n",
    "print(name)\n",
    "print(name.title())\n",
    "print(name.upper())\n",
    "print(name.lower())\n",
    "\n",
    "first_str = \"wali\"\n",
    "second_str = \"love\"\n",
    "third_str = \"eva\"\n",
    "\n",
    "# 使用+来拼接字符串\n",
    "message = \"Hello, \"+first_str.title()+\" \" + second_str+\" \" + third_str.title()\n",
    "\n",
    "print(message)\n",
    "\n",
    "print(\"\"\"\n",
    "Wali\n",
    "love\n",
    "Eva.\n",
    "\"\"\")\n"
   ]
  },
  {
   "cell_type": "markdown",
   "metadata": {},
   "source": [
    "##### 删除空白\n",
    "\n",
    "- rstrip : 删除行尾的空白\n",
    "- lstrip : 删除行首的空白 \n",
    "- strip  ：删除两端的空白\n"
   ]
  },
  {
   "cell_type": "code",
   "execution_count": 9,
   "metadata": {
    "tags": []
   },
   "outputs": [
    {
     "name": "stdout",
     "output_type": "stream",
     "text": [
      "python    \n",
      "python\n",
      "  python    \n",
      "python    \n",
      "python\n"
     ]
    }
   ],
   "source": [
    "language = 'python    '\n",
    "print(language)\n",
    "print(language.rstrip())\n",
    "language = '  python    '\n",
    "print(language)\n",
    "print(language.lstrip())\n",
    "print(language.strip())"
   ]
  },
  {
   "cell_type": "markdown",
   "metadata": {},
   "source": [
    "#### 布尔类型\n",
    "\n",
    "- True\n",
    "- False\n",
    "\n",
    "可以使用：\n",
    "- and : 与操作\n",
    "- or ： 或操作\n",
    "- not： 非操作\n"
   ]
  },
  {
   "cell_type": "code",
   "execution_count": 13,
   "metadata": {},
   "outputs": [
    {
     "data": {
      "text/plain": [
       "False"
      ]
     },
     "execution_count": 13,
     "metadata": {},
     "output_type": "execute_result"
    }
   ],
   "source": [
    "True\n",
    "False\n",
    "3>2\n",
    "3>5"
   ]
  },
  {
   "cell_type": "code",
   "execution_count": 19,
   "metadata": {
    "tags": []
   },
   "outputs": [
    {
     "name": "stdout",
     "output_type": "stream",
     "text": [
      "True\n",
      "False\n",
      "False\n",
      "True\n",
      "True\n",
      "False\n",
      "False\n",
      "True\n",
      "teenager\n"
     ]
    }
   ],
   "source": [
    "print(True and  True)\n",
    "print(True and False)\n",
    "print(False and False)\n",
    "\n",
    "print(True or True)\n",
    "print(True or False)\n",
    "print(False or False)\n",
    "\n",
    "print(not True)\n",
    "print(not False)\n",
    "\n",
    "age = 15\n",
    "if age>=18:\n",
    "    print('adult')\n",
    "else:\n",
    "    print('teenager')"
   ]
  },
  {
   "cell_type": "markdown",
   "metadata": {},
   "source": [
    "#### 空值\n",
    "\n",
    "None： 不能理解为0，而是一个特殊的空值"
   ]
  },
  {
   "cell_type": "markdown",
   "metadata": {},
   "source": [
    "### 变量\n",
    "\n",
    "定义变量名的规则：\n",
    "- 只能是大小写英文，数字和`_`的组合\n",
    "- 开头不能是数字\n",
    "- 不能使用Python关键字和函数名作为变量名\n",
    "\n",
    "#### 动态语言\n",
    "由于python是`动态语言`，所以变量的类型可以不固定，随时可以改变变量的类型。\n",
    "\n",
    "`静态语言`: 变量类型定义时需要指定，例如：java C++ C#\n"
   ]
  },
  {
   "cell_type": "code",
   "execution_count": null,
   "metadata": {},
   "outputs": [],
   "source": [
    "a = 1\n",
    "t = 'str'\n",
    "boolT = True\n",
    "# 变量的类型可以不固定，随时可以改变变量的类型。\n",
    "a = 'str'\n",
    "t = 100"
   ]
  },
  {
   "cell_type": "markdown",
   "metadata": {},
   "source": [
    "#### 变量的内存理解\n",
    "\n",
    "当定义一个\n",
    "```python\n",
    "a = \"ABC\"\n",
    "```\n",
    "\n",
    "Python解释器的动作如下：\n",
    "- 在内存中创建了一个`\"ABC\"`的字符串\n",
    "- 同时在内存中创建了一个`a`变量，并指向`\"ABC\"`\n",
    "\n",
    "![](imgs/01_1.jpg)\n",
    "\n",
    "\n",
    "`b = a`  \n",
    "变量a赋值给另一个变量b，这个操作实际上是把变量b指向变量a所指向的数据\n",
    "\n",
    "![](imgs/01_2.jpg)\n",
    "\n",
    "`a='XYZ'`\n",
    "\n",
    "![](imgs/01_3.jpg)\n",
    "\n"
   ]
  },
  {
   "cell_type": "code",
   "execution_count": 20,
   "metadata": {
    "tags": []
   },
   "outputs": [
    {
     "name": "stdout",
     "output_type": "stream",
     "text": [
      "ABC\n"
     ]
    }
   ],
   "source": [
    "a = 'ABC'\n",
    "b = a\n",
    "a = 'XYZ'\n",
    "print(b)"
   ]
  },
  {
   "cell_type": "markdown",
   "metadata": {},
   "source": [
    "### 常量\n",
    "\n",
    "所谓常量就是不能变的变量，在Python使用大写来表示常来,但是python没有一种机制来保证该数据为常量。\n",
    "\n",
    "\n"
   ]
  },
  {
   "cell_type": "code",
   "execution_count": 21,
   "metadata": {},
   "outputs": [],
   "source": [
    "PI = 3.1415926"
   ]
  }
 ],
 "metadata": {
  "kernelspec": {
   "display_name": "Python 3.7.1 64-bit ('base': conda)",
   "language": "python",
   "name": "python37164bitbasecondaaff76f843564460db0fe5180114e39bc"
  },
  "language_info": {
   "codemirror_mode": {
    "name": "ipython",
    "version": 3
   },
   "file_extension": ".py",
   "mimetype": "text/x-python",
   "name": "python",
   "nbconvert_exporter": "python",
   "pygments_lexer": "ipython3",
   "version": "3.7.1"
  },
  "toc": {
   "base_numbering": 1,
   "nav_menu": {},
   "number_sections": true,
   "sideBar": true,
   "skip_h1_title": false,
   "title_cell": "Table of Contents",
   "title_sidebar": "Contents",
   "toc_cell": false,
   "toc_position": {},
   "toc_section_display": true,
   "toc_window_display": false
  }
 },
 "nbformat": 4,
 "nbformat_minor": 2
}
