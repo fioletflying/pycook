{
 "cells": [
  {
   "cell_type": "markdown",
   "metadata": {},
   "source": [
    "## 条件语句\n",
    "\n",
    "条件判断的主要内容思维导图如下:\n",
    "![](imgs/05_1.jpg)\n",
    "\n",
    "语法1：  \n",
    "if 判断条件 :  \n",
    "    xxxx  \n",
    "语法2：  \n",
    "if 判断条件 :  \n",
    "    xxxx  \n",
    "else:\n",
    "    xxxx\n",
    "    \n",
    "语法2：   \n",
    "if 判断条件1:\n",
    "    xxxx\n",
    "elif 条件判断2:\n",
    "    xxxx\n",
    "elif 条件判读3:\n",
    "    xxxx\n",
    "else:\n",
    "    xxxx\n",
    "  \n"
   ]
  },
  {
   "cell_type": "code",
   "execution_count": 1,
   "metadata": {
    "tags": []
   },
   "outputs": [
    {
     "name": "stdout",
     "output_type": "stream",
     "text": [
      "WALI\n",
      "Eva\n",
      "Gg\n"
     ]
    }
   ],
   "source": [
    "waliAIs = [\"wali\",\"Eva\",\"GG\"]\n",
    "\n",
    "for wali  in waliAIs:\n",
    "    if wali == \"wali\":\n",
    "        print(wali.upper())\n",
    "    else:\n",
    "        print(wali.title())"
   ]
  },
  {
   "cell_type": "markdown",
   "metadata": {},
   "source": [
    "### 判断条件的设定\n",
    "\n",
    "#### 判断是否相等\n",
    "\n",
    "- ==  判断相等\n",
    "- !=  判断不相等\n",
    "\n"
   ]
  },
  {
   "cell_type": "code",
   "execution_count": 2,
   "metadata": {
    "tags": []
   },
   "outputs": [
    {
     "name": "stdout",
     "output_type": "stream",
     "text": [
      "Wali\n",
      "EVA\n",
      "GG\n"
     ]
    }
   ],
   "source": [
    "waliAIs = [\"wali\",\"Eva\",\"Gg\"]\n",
    "\n",
    "for wali  in waliAIs:\n",
    "    if wali != \"wali\":\n",
    "        print(wali.upper())\n",
    "    else:\n",
    "        print(wali.title())"
   ]
  },
  {
   "cell_type": "markdown",
   "metadata": {},
   "source": [
    "#### 判断大小\n",
    "- \\> 大于\n",
    "- < 小于\n",
    "- \\>= 大于等于\n",
    "- <= 小于等于"
   ]
  },
  {
   "cell_type": "code",
   "execution_count": 3,
   "metadata": {
    "tags": []
   },
   "outputs": [
    {
     "name": "stdout",
     "output_type": "stream",
     "text": [
      "恭喜你，少年强，则中国强！\n"
     ]
    }
   ],
   "source": [
    "age = 16\n",
    "\n",
    "if age >= 18:\n",
    "    print(\"恭喜你，成为社会人了\")\n",
    "elif age < 10:\n",
    "    print(\"恭喜你，还是可以过儿童节\")\n",
    "elif age <18:\n",
    "    print(\"恭喜你，少年强，则中国强！\")\n"
   ]
  },
  {
   "cell_type": "markdown",
   "metadata": {},
   "source": [
    "#### 检查多个条件\n",
    "\n",
    "可以并列检查多个文件\n",
    "- or:  或\n",
    "- and: 与"
   ]
  },
  {
   "cell_type": "code",
   "execution_count": 4,
   "metadata": {
    "tags": []
   },
   "outputs": [
    {
     "name": "stdout",
     "output_type": "stream",
     "text": [
      "恭喜你，少年强，则中国强！\n"
     ]
    }
   ],
   "source": [
    "age = 16\n",
    "\n",
    "if age >18 and age == 18 :\n",
    "    print(\"恭喜你，成为社会人了\")\n",
    "elif age < 10 or age == 10:\n",
    "    print(\"恭喜你，还是可以过儿童节\")\n",
    "elif age <18:\n",
    "    print(\"恭喜你，少年强，则中国强！\")"
   ]
  },
  {
   "cell_type": "markdown",
   "metadata": {},
   "source": [
    "### 列表判断\n",
    "### 判断条件- 列表包含\n",
    "\n",
    "- 检查特定值是否包含在列表中 : in\n",
    "- 检查特定值是否不包含在列表中： not in"
   ]
  },
  {
   "cell_type": "code",
   "execution_count": 6,
   "metadata": {
    "tags": []
   },
   "outputs": [
    {
     "name": "stdout",
     "output_type": "stream",
     "text": [
      "you are ni waliAIs\n",
      "you are not in waliAIs\n"
     ]
    }
   ],
   "source": [
    "waliAIs = [\"wali\",\"Eva\",\"GG\"]\n",
    "\n",
    "if \"wali\" in waliAIs:\n",
    "    print(\"you are ni waliAIs\")\n",
    "\n",
    "if \"xiaoming\" not in waliAIs:\n",
    "    print(\"you are not in waliAIs\")"
   ]
  },
  {
   "cell_type": "markdown",
   "metadata": {},
   "source": [
    "### 判断列表是否为空\n",
    "在列表判断种关于列表是否为空的判断很重要,这样可以方便我们找到一些有用的信息."
   ]
  },
  {
   "cell_type": "code",
   "execution_count": 7,
   "metadata": {},
   "outputs": [
    {
     "name": "stdout",
     "output_type": "stream",
     "text": [
      "Nothing in waliAIs\n"
     ]
    }
   ],
   "source": [
    "waliAIs = []\n",
    "if waliAIs:\n",
    "    for wali in waliAIs:\n",
    "        print(wali)\n",
    "else:\n",
    "    print(\"Nothing in waliAIs\")"
   ]
  },
  {
   "cell_type": "markdown",
   "metadata": {},
   "source": [
    "这里还有一种特俗的空值,`None`,如果不是使用空值判读会导致代码报错."
   ]
  },
  {
   "cell_type": "code",
   "execution_count": 8,
   "metadata": {},
   "outputs": [
    {
     "ename": "TypeError",
     "evalue": "'NoneType' object is not iterable",
     "output_type": "error",
     "traceback": [
      "\u001b[1;31m---------------------------------------------------------------------------\u001b[0m",
      "\u001b[1;31mTypeError\u001b[0m                                 Traceback (most recent call last)",
      "\u001b[1;32m<ipython-input-8-152380b22c31>\u001b[0m in \u001b[0;36m<module>\u001b[1;34m\u001b[0m\n\u001b[0;32m      1\u001b[0m \u001b[0mwaliAIs\u001b[0m \u001b[1;33m=\u001b[0m \u001b[1;32mNone\u001b[0m\u001b[1;33m\u001b[0m\u001b[1;33m\u001b[0m\u001b[0m\n\u001b[0;32m      2\u001b[0m \u001b[1;33m\u001b[0m\u001b[0m\n\u001b[1;32m----> 3\u001b[1;33m \u001b[1;32mfor\u001b[0m \u001b[0mwali\u001b[0m \u001b[1;32min\u001b[0m \u001b[0mwaliAIs\u001b[0m\u001b[1;33m:\u001b[0m\u001b[1;33m\u001b[0m\u001b[1;33m\u001b[0m\u001b[0m\n\u001b[0m\u001b[0;32m      4\u001b[0m     \u001b[0mprint\u001b[0m\u001b[1;33m(\u001b[0m\u001b[0mwali\u001b[0m\u001b[1;33m)\u001b[0m\u001b[1;33m\u001b[0m\u001b[1;33m\u001b[0m\u001b[0m\n",
      "\u001b[1;31mTypeError\u001b[0m: 'NoneType' object is not iterable"
     ]
    }
   ],
   "source": [
    "# 直接使用会报错\n",
    "waliAIs = None\n",
    "\n",
    "for wali in waliAIs:\n",
    "    print(wali)\n"
   ]
  },
  {
   "cell_type": "code",
   "execution_count": 9,
   "metadata": {},
   "outputs": [
    {
     "name": "stdout",
     "output_type": "stream",
     "text": [
      "Nothing in waliAIs\n"
     ]
    }
   ],
   "source": [
    "waliAIs = None\n",
    "# 使用空值判断尤其重要\n",
    "if waliAIs:\n",
    "    for wali in waliAIs:\n",
    "        print(wali)\n",
    "else:\n",
    "    print(\"Nothing in waliAIs\")"
   ]
  }
 ],
 "metadata": {
  "kernelspec": {
   "display_name": "Python 3.7.1 64-bit ('base': conda)",
   "language": "python",
   "name": "python37164bitbasecondaaff76f843564460db0fe5180114e39bc"
  },
  "language_info": {
   "codemirror_mode": {
    "name": "ipython",
    "version": 3
   },
   "file_extension": ".py",
   "mimetype": "text/x-python",
   "name": "python",
   "nbconvert_exporter": "python",
   "pygments_lexer": "ipython3",
   "version": "3.7.1"
  },
  "toc": {
   "base_numbering": 1,
   "nav_menu": {},
   "number_sections": true,
   "sideBar": true,
   "skip_h1_title": false,
   "title_cell": "Table of Contents",
   "title_sidebar": "Contents",
   "toc_cell": false,
   "toc_position": {},
   "toc_section_display": true,
   "toc_window_display": false
  }
 },
 "nbformat": 4,
 "nbformat_minor": 2
}
