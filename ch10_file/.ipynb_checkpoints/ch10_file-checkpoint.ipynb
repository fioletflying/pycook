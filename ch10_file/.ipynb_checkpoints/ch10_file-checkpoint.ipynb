{
 "cells": [
  {
   "cell_type": "markdown",
   "metadata": {},
   "source": [
    "# 文件及异常\n",
    "\n",
    "## 从文件中读取数据\n",
    "\n",
    "`with.... as ...` 语法使用：表示一个上下文的内容，with-as表达式极大的简化了每次写finally的工作，这对保持代码的优雅性是有极大帮助的，代替传统的try...finally语法的。\n",
    "基本思想是with所求值的对象必须有一个__enter__()方法，一个__exit__()方法\n",
    "`open()`: 表示打开一个文件\n",
    "`read()`： 表示读取文件所有内容\n",
    "\n",
    "### 文件路径\n",
    "相对文件路径：来打开该文件夹中的文件。相对文件路径让 Python 到指定的位置去查找而该位置是相对于当前运行的程。  \n",
    "\n",
    "绝对文件路径：在相对路径行不通时，可使用绝对路径。  \n",
    "\n",
    "\n",
    "### 逐行读取\n",
    "\n",
    "通过for循环来逐行读取，\n",
    "`readlines()`  从文件中读取每一行，并将其存储在一个列表中；接下来，该列表被存储到变量\n"
   ]
  },
  {
   "cell_type": "code",
   "execution_count": 2,
   "metadata": {},
   "outputs": [
    {
     "name": "stdout",
     "output_type": "stream",
     "text": [
      "find\n",
      "me \n",
      "you\n"
     ]
    }
   ],
   "source": [
    "# \n",
    "with open('test.txt') as file_object:\n",
    "    contents = file_object.read()\n",
    "    print(contents.rstrip())  # 删除字符串末尾的空白\n",
    "    "
   ]
  },
  {
   "cell_type": "code",
   "execution_count": 6,
   "metadata": {},
   "outputs": [
    {
     "name": "stdout",
     "output_type": "stream",
     "text": [
      "find\n",
      "me\n",
      "you\n"
     ]
    }
   ],
   "source": [
    "# 逐行读取\n",
    "with open('test.txt') as file_object:\n",
    "    for line in file_object:\n",
    "        print(line.rstrip()) # 删除字符串末尾的空白"
   ]
  },
  {
   "cell_type": "code",
   "execution_count": 13,
   "metadata": {},
   "outputs": [
    {
     "name": "stdout",
     "output_type": "stream",
     "text": [
      "findmeyou\n"
     ]
    }
   ],
   "source": [
    "with open('test.txt') as file_object:\n",
    "    lines = file_object.readlines()\n",
    "   \n",
    "strread =''\n",
    "for line in lines:\n",
    "    strread += line.rstrip()\n",
    "\n",
    "print(strread)\n",
    "    "
   ]
  },
  {
   "cell_type": "markdown",
   "metadata": {},
   "source": [
    "## 写入文件\n",
    "\n",
    "`open()`的几种方式： \n",
    "- ‘r’:读取（默认情况） \n",
    "- 'w'：写入 \n",
    "- 'a'：附加\n",
    "- 'r+': 可读可写\n",
    "\n",
    "`write()`： 一个字符串写入文件。\n",
    "\n",
    "写入多行需要使用:`\\n`占位符\n",
    "\n",
    "**附加到文件**\n",
    "如果你要给文件添加内容，而不是覆盖原有的内容，可以附加模式 附加模式   打开文件。你以附加模式打开文件时， Python 不会在返回文件对象前清空文件，而你写入到文件的行都"
   ]
  },
  {
   "cell_type": "code",
   "execution_count": 18,
   "metadata": {},
   "outputs": [],
   "source": [
    "filename = \"p.txt\"\n",
    "with open(filename,'w') as file_object:\n",
    "    file_object.write(\"I love my work!\\n\")\n",
    "    file_object.write(\"I love my work2!\\n\")"
   ]
  },
  {
   "cell_type": "code",
   "execution_count": 22,
   "metadata": {},
   "outputs": [],
   "source": [
    "filename = \"p.txt\"\n",
    "with open(filename,'a') as file_object:\n",
    "    file_object.write(\"I love my work!\\n\")\n",
    "    file_object.write(\"I love my work2!\\n\")"
   ]
  },
  {
   "cell_type": "markdown",
   "metadata": {},
   "source": [
    "## 异常处理\n",
    "\n",
    "异常是使用 try-except  代码块处理的。 try-except  代码块让 Python 执行指定的操作，同时告诉 Python 发生异常时怎么办。\n",
    "- 可以避免程序崩溃\n",
    "\n",
    "### ZeroDivisionError \n",
    " try-except  代码块处理的: 处理相应的代码\n"
   ]
  },
  {
   "cell_type": "code",
   "execution_count": 1,
   "metadata": {},
   "outputs": [
    {
     "ename": "ZeroDivisionError",
     "evalue": "division by zero",
     "output_type": "error",
     "traceback": [
      "\u001b[1;31m---------------------------------------------------------------------------\u001b[0m",
      "\u001b[1;31mZeroDivisionError\u001b[0m                         Traceback (most recent call last)",
      "\u001b[1;32m<ipython-input-1-fad870a50e27>\u001b[0m in \u001b[0;36m<module>\u001b[1;34m\u001b[0m\n\u001b[1;32m----> 1\u001b[1;33m \u001b[0mprint\u001b[0m\u001b[1;33m(\u001b[0m\u001b[1;36m5\u001b[0m\u001b[1;33m/\u001b[0m\u001b[1;36m0\u001b[0m\u001b[1;33m)\u001b[0m\u001b[1;33m\u001b[0m\u001b[0m\n\u001b[0m",
      "\u001b[1;31mZeroDivisionError\u001b[0m: division by zero"
     ]
    }
   ],
   "source": [
    "print(5/0)"
   ]
  },
  {
   "cell_type": "code",
   "execution_count": 2,
   "metadata": {},
   "outputs": [
    {
     "name": "stdout",
     "output_type": "stream",
     "text": [
      "You can't divide by zero!\n"
     ]
    }
   ],
   "source": [
    "try:\n",
    "    print(5/0)\n",
    "except ZeroDivisionError:\n",
    "    print(\"You can't divide by zero!\")"
   ]
  },
  {
   "cell_type": "code",
   "execution_count": null,
   "metadata": {},
   "outputs": [],
   "source": [
    "print(\"Give me tow numbers,and I'll divide them.\")\n",
    "print(\"Enter 'q' to quit.\")\n",
    "\n",
    "while True:\n",
    "    firstNumber = input(\"\\n First numbers:\")\n",
    "    if firstNumber == 'q':\n",
    "        break\n",
    "    secondNumber = input(\"\\n seconde numbers:\")\n",
    "    if secondNumber == 'q':\n",
    "        break\n",
    "        \n",
    "    answer = int(firstNumber)/int(secondNumber)\n",
    "    print(answer)"
   ]
  }
 ],
 "metadata": {
  "kernelspec": {
   "display_name": "Python 3",
   "language": "python",
   "name": "python3"
  },
  "language_info": {
   "codemirror_mode": {
    "name": "ipython",
    "version": 3
   },
   "file_extension": ".py",
   "mimetype": "text/x-python",
   "name": "python",
   "nbconvert_exporter": "python",
   "pygments_lexer": "ipython3",
   "version": "3.5.3"
  },
  "toc": {
   "base_numbering": 1,
   "nav_menu": {},
   "number_sections": true,
   "sideBar": true,
   "skip_h1_title": false,
   "title_cell": "Table of Contents",
   "title_sidebar": "Contents",
   "toc_cell": false,
   "toc_position": {},
   "toc_section_display": true,
   "toc_window_display": false
  }
 },
 "nbformat": 4,
 "nbformat_minor": 2
}
