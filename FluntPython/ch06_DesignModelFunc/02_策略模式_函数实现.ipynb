{
 "cells": [
  {
   "cell_type": "markdown",
   "metadata": {},
   "source": [
    "## 使用函数实现“策略”模式\n",
    "\n",
    "### 函数实现\n",
    "\n",
    "前一小节的实例中我们实现了一个策略模式的设计，里面用到了面向对象编程的思想，利用了类的多态和继承等方式实现该模式。从里面我们可以看到，每一个策略的类中只有一个方法，而且类没有其他的状态(实例属性)。接下来我们思考使用一个普通函数来代替该方式。\n",
    "\n",
    "具体的coding如下："
   ]
  },
  {
   "cell_type": "code",
   "execution_count": 1,
   "metadata": {},
   "outputs": [],
   "source": [
    "from collections import namedtuple\n",
    "\n",
    "Customer = namedtuple('Customer','name fidelity')\n",
    "\n",
    "class LineItem:\n",
    "    \n",
    "    def __init__(self,product,quantity,price):\n",
    "        self.product = product\n",
    "        self.quantity = quantity\n",
    "        self.price = price\n",
    "        \n",
    "    def total(self):\n",
    "        return self.price * self.quantity\n",
    "    \n",
    "    \n",
    "class Order:\n",
    "    \n",
    "    # 将promotion 作为参数来定一个类的折扣的方式\n",
    "    def __init__(self,customer,cart,promotion=None):\n",
    "        self.customer = customer\n",
    "        self.cart = list(cart)\n",
    "        self.promotion = promotion\n",
    "        \n",
    "    def total(self):\n",
    "        if not hasattr(self,'__total'):\n",
    "            self.__total = sum(item.total() for item in self.cart)\n",
    "        return self.__total\n",
    "    \n",
    "    def due(self):\n",
    "        if self.promotion is None:\n",
    "            discount = 0\n",
    "        else:\n",
    "            # 计算折扣只需调用 self.promotion() 函数\n",
    "            discount = self.promotion(self)\n",
    "        return self.total() - discount\n",
    "    \n",
    "    # 将返回相关的数据，按照指定的格式\n",
    "    def __repr__(self):\n",
    "        fmt = '<Order total: {:.2f} due: {:.2f}>'\n",
    "        return fmt.format(self.total(),self.due())\n",
    "    "
   ]
  },
  {
   "cell_type": "code",
   "execution_count": 2,
   "metadata": {},
   "outputs": [],
   "source": [
    "def fidelity_promo(order):\n",
    "    \"\"\"为积分为1000或以上的顾客提供5%折扣\"\"\" \n",
    "    return order.total() * .05 if order.customer.fidelity >=1000 else 0\n",
    "\n",
    "def bulk_item_promo(order):\n",
    "    \"\"\"单个商品为20个或以上时提供10%折扣\"\"\" \n",
    "    discount = 0\n",
    "    for item in order.cart:\n",
    "        if item.quantity >=20:\n",
    "            discount += item.total() * .1\n",
    "    return discount\n",
    "    \n",
    "def large_order_promo(order): \n",
    "    \"\"\"订单中的不同商品达到10个或以上时提供7%折扣\"\"\" \n",
    "    discount_items = {item.product for item in order.cart}\n",
    "    if len(discount_items) >= 10:\n",
    "        return order.total() * .07\n",
    "    return 0\n",
    "    "
   ]
  },
  {
   "cell_type": "code",
   "execution_count": 3,
   "metadata": {},
   "outputs": [
    {
     "name": "stdout",
     "output_type": "stream",
     "text": [
      "<Order total: 42.00 due: 42.00>\n",
      "<Order total: 42.00 due: 39.90>\n",
      "<Order total: 30.00 due: 28.50>\n",
      "<Order total: 10.00 due: 9.30>\n",
      "<Order total: 10.00 due: 9.30>\n"
     ]
    }
   ],
   "source": [
    "# 使用该类的实践\n",
    "\n",
    "# 定义wali,积分为0\n",
    "wali = Customer('Wali',0)\n",
    "# 定义fei,积分为110\n",
    "fei = Customer('fei',1100)\n",
    "# 定义购物车\n",
    "cart =[LineItem('banana',4,.5),\n",
    "      LineItem('appel',10,1.5),\n",
    "      LineItem('watermellon',5,5.0)]\n",
    "# fidelity_promo  直接将函数像参数一样传递\n",
    "print(Order(wali,cart,fidelity_promo))\n",
    "# fidelityPromo 折扣，fei 积分足够，5%折扣\n",
    "print(Order(fei,cart,fidelity_promo))\n",
    "# 定义购物车\n",
    "banana_cart = [LineItem('banana', 30, .5),  \n",
    "               LineItem('apple', 10, 1.5)]\n",
    "#  BulkItemPromo，香蕉20个或以上时提供10%折扣\n",
    "print(Order(wali,banana_cart,bulk_item_promo))\n",
    "\n",
    "# LargeOrderPromo \n",
    "long_order = [LineItem(str(item_code), 1, 1.0) \n",
    "             for item_code in range(10)] \n",
    " # 订单中的不同商品达到10个或以上时提供7%折扣   \n",
    "print(Order(wali,long_order,large_order_promo))\n",
    "print(Order(fei,long_order,large_order_promo))"
   ]
  },
  {
   "cell_type": "markdown",
   "metadata": {},
   "source": [
    "### 使用函数方式的好处\n",
    "\n",
    "函数实现的主要改变：\n",
    "- 没有抽象类\n",
    "- 各个策略都是函数\n",
    "- 计算折扣只需调用 self.promotion() 函数\n",
    "\n",
    "使用的技术手段：\n",
    "- 把函数作为参数传入\n",
    "- 没必要在新建订单时实例化新的促销对象，函数拿来即用。\n",
    "\n",
    "使用函数的方式有什么好处：\n",
    "- 避免“策略”模式的一个缺点：不断新建具体策略对象\n",
    "- 函数比用户定义的类的实例轻量\n",
    "- 因为各个策略函数在 Python 编译模块时只会创建一次。\n",
    "\n",
    "以上我们使用了函数实现了策略的模式，但是我们在选择模式的时候仅仅通过手动的方式实现。这里就有一个问题，能不能让程序根据我们的所给的条件自己选则最优的方案呢？\n"
   ]
  },
  {
   "cell_type": "markdown",
   "metadata": {},
   "source": [
    "### 选择最佳策略：简单的方式\n",
    "\n",
    "这里先来看一种简单粗暴的方式，利用遍历来实践，找出最大的折扣，就学那种折扣方式。具体的函数如下"
   ]
  },
  {
   "cell_type": "code",
   "execution_count": 4,
   "metadata": {},
   "outputs": [],
   "source": [
    "# 函数列表\n",
    "promos = [fidelity_promo,\n",
    "          bulk_item_promo,\n",
    "          large_order_promo]\n",
    "\n",
    "def best_promo(order):\n",
    "    \"\"\"遍历的方式实现选择策略\"\"\"\n",
    "    # 使用生成器表达式\n",
    "    return max(promo(order) for promo in promos)"
   ]
  },
  {
   "cell_type": "code",
   "execution_count": 5,
   "metadata": {},
   "outputs": [
    {
     "name": "stdout",
     "output_type": "stream",
     "text": [
      "<Order total: 30.00 due: 28.50>\n",
      "<Order total: 10.00 due: 9.30>\n",
      "<Order total: 42.00 due: 39.90>\n"
     ]
    }
   ],
   "source": [
    "print(Order(wali,banana_cart,best_promo))\n",
    "print(Order(wali,long_order,best_promo))\n",
    "print(Order(fei,cart,best_promo))"
   ]
  },
  {
   "cell_type": "markdown",
   "metadata": {},
   "source": [
    "这里用到的技术点有：\n",
    "- 由于函数式一等对象，这要就可以使用promos作为一个函数列表\n",
    "- 生成器表达式把 order 传给 promos 列表中的各个函数\n",
    "\n",
    "但是这样做有其缺点：\n",
    "- 如果要添加新的策略，需要重新添加promos列表"
   ]
  },
  {
   "cell_type": "markdown",
   "metadata": {},
   "source": [
    "### 自动查找模块中的所以策略函数\n",
    "\n",
    "在前面的小节中，我们发现这里需要我们每次都要将promos函数列表来更新，这样的做法不是很友好，这里我们介绍两种方法能够帮助我们自动查找模块中的策略函数，来更新我们的列表。\n",
    "#### globals\n",
    "\n",
    "具体的描述如下：\n",
    "> 函数会以字典类型返回当前位置的全部全局变量,这个符号表始终针对当前模块（对函数或方法来说，是指定义它们的模块，而不是调用它们的模块）\n",
    "\n",
    "这里我们就式想用这个函数来帮助best_promo自导找到其他可用的 \\* _promo 函数.  \n",
    "\n",
    "具体的coding 如下\n"
   ]
  },
  {
   "cell_type": "code",
   "execution_count": null,
   "metadata": {},
   "outputs": [],
   "source": [
    "# 迭代 globals() 返回字典中的各个 name\n",
    "promos = [globals()[name] for name in globals() \n",
    "         if name.endswith('_promo')   # 只选择以 _promo 结尾的名称\n",
    "         and name != 'best_promo']    # 过滤best_promo自身\n",
    "\n",
    "def best_promo(order):\n",
    "    \"\"\"遍历的方式实现选择策略\"\"\"\n",
    "    # 使用生成器表达式\n",
    "    return max(promo(order) for promo in promos)"
   ]
  },
  {
   "cell_type": "markdown",
   "metadata": {},
   "source": [
    "#### inspect 模块\n",
    "\n",
    "使用该方式的一个条件就是，内省名为promotions的独立模块，在该模块中构建策略函数列表。具体方式如下：\n",
    "\n",
    "inspect.getmembers 函数用于获取对象（这里是 promotions 模块）的属性\n",
    "\n",
    "第二个参数是可选的判断条件（一个布尔值函数）。我们使用的是 inspect.isfunction"
   ]
  },
  {
   "cell_type": "code",
   "execution_count": null,
   "metadata": {},
   "outputs": [],
   "source": [
    "import inspect\n",
    "promos = [func fro name,func in\n",
    "             inspect.getmembers(promotions,\n",
    "                        inspect.isfunction)]\n",
    "# 迭代 globals() 返回字典中的各个 name\n",
    "promos = [globals()[name] for name in globals() \n",
    "         if name.endswith('_promo')   # 只选择以 _promo 结尾的名称\n",
    "         and name != 'best_promo']    # 过滤best_promo自身\n",
    "\n",
    "def best_promo(order):\n",
    "    \"\"\"遍历的方式实现选择策略\"\"\"\n",
    "    # 使用生成器表达式\n",
    "    return max(promo(order) for promo in promos)"
   ]
  }
 ],
 "metadata": {
  "kernelspec": {
   "display_name": "Python 3",
   "language": "python",
   "name": "python3"
  },
  "language_info": {
   "codemirror_mode": {
    "name": "ipython",
    "version": 3
   },
   "file_extension": ".py",
   "mimetype": "text/x-python",
   "name": "python",
   "nbconvert_exporter": "python",
   "pygments_lexer": "ipython3",
   "version": "3.5.3"
  },
  "toc": {
   "base_numbering": 1,
   "nav_menu": {},
   "number_sections": true,
   "sideBar": true,
   "skip_h1_title": false,
   "title_cell": "Table of Contents",
   "title_sidebar": "Contents",
   "toc_cell": false,
   "toc_position": {},
   "toc_section_display": true,
   "toc_window_display": false
  }
 },
 "nbformat": 4,
 "nbformat_minor": 2
}
