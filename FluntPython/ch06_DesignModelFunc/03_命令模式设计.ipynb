{
 "cells": [
  {
   "cell_type": "markdown",
   "metadata": {},
   "source": [
    "## 命令模式设计\n",
    "\n",
    "### 命令模式的介绍\n",
    "我也可以利用函数可作为参数传递的特性来简化命令模式设计。 这里举一个具体的例子来说明，形象如下图所示，\n",
    "\n",
    "![菜单驱动的文本编辑器](imgs/02.jpg)\n",
    "\n",
    "在上图中可以看到这样设计的过程：\n",
    "- 在调用者与接收者之间放了一个command对象\n",
    "    - 调用者：图形应用程序中的菜单项\n",
    "    - 接收者：被编辑的文档或应用程序自身\n",
    "- Command 类只实现了一个方法：**execute**\n",
    "- 这个方法就像一个接口\n",
    "\n",
    "这样做的目的：\n",
    "- 解耦调用操作的对象（调用者）和提供实现的对象（接收者）\n",
    "- 说人话就是：调用者无需了解接收者的接口\n",
    "\n",
    "### 命令模式的实现\n",
    "\n",
    "传统的方法是这样来实现的：\n",
    "其实跟上一小节的方法类似：\n",
    "- 定义一个基类Command\n",
    "- 在此基础上定义不同的子类Command\n",
    "    - OpenCommand\n",
    "    - PasteCommand\n",
    "    - MarocCommand\n",
    "- 再这些子类中来实现同一个方法execute\n",
    "\n",
    "**函数实现的方法**\n",
    "\n",
    "这里我们可以给一个command定义一个函数，这样调用者可以直接调用command();\n",
    "\n",
    "这里有一个例子来说明MacroCommand,里面定义了一个__call__，这样它的实例就是一个可调用的对象了。\n",
    "\n",
    "这里采用的方式与“策略”模式所用的类似：把实现单方法接口的类的实例替换成可调用对象。毕竟，每个 Python 可调用对象都实现了单方法接口，这个方法就是 __call__。\n"
   ]
  },
  {
   "cell_type": "code",
   "execution_count": null,
   "metadata": {},
   "outputs": [],
   "source": [
    "class MacroCommand:\n",
    "    \"\"\"一个执行一组命令的命令\"\"\" \n",
    "    \n",
    "    def __init__(self,commands):\n",
    "        self.commands = list(commands)\n",
    "     \n",
    "    # 调用 MacroCommand 实例时，\n",
    "    # self.commands 中的各个命令依序执行\n",
    "    def __call__(self):\n",
    "        for commands in self.commands:\n",
    "            command()"
   ]
  }
 ],
 "metadata": {
  "kernelspec": {
   "display_name": "Python 3",
   "language": "python",
   "name": "python3"
  },
  "language_info": {
   "codemirror_mode": {
    "name": "ipython",
    "version": 3
   },
   "file_extension": ".py",
   "mimetype": "text/x-python",
   "name": "python",
   "nbconvert_exporter": "python",
   "pygments_lexer": "ipython3",
   "version": "3.5.3"
  },
  "toc": {
   "base_numbering": 1,
   "nav_menu": {},
   "number_sections": true,
   "sideBar": true,
   "skip_h1_title": false,
   "title_cell": "Table of Contents",
   "title_sidebar": "Contents",
   "toc_cell": false,
   "toc_position": {},
   "toc_section_display": true,
   "toc_window_display": false
  }
 },
 "nbformat": 4,
 "nbformat_minor": 2
}
