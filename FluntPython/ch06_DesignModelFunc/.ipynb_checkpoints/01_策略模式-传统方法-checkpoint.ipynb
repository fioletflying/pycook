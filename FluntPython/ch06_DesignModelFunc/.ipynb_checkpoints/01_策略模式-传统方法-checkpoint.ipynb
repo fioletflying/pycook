{
 "cells": [
  {
   "cell_type": "markdown",
   "metadata": {},
   "source": [
    "## python 实践模式设计 - 策略模式\n",
    "\n",
    "策略模式设计，就是定义一系列的算法，然后将它们都封装起来，而且这些算法可以相互替代，这样用户就可以跟根据需求来选择。\n",
    "\n",
    "这里我们使用一个打折的案例来说明，这里假设有一个网店，其打折的规则如下：\n",
    "- 有 1000 或以上积分的顾客，每个订单享 5% 折扣。\n",
    "- 同一订单中，单个商品的数量达到 20 个或以上，享 10% 折扣。\n",
    "- 订单中的不同商品达到 10 个或以上，享 7% 折扣。\n",
    "\n",
    "我们这里根据如下的UML图来设计该模式：\n",
    "![打折策略模式设计UML](imgs/01.jpg)\n",
    "\n",
    "上图中的一些具体解释：\n",
    "\n",
    "**上下文**\n",
    "把一些计算委托给实现不同算法的可互换组件，它提供服务\n",
    "- 在这个电商示例中，上下文是 Order，它会根据不同的算法计算促销折扣。\n",
    "\n",
    "**策略**\n",
    "实现不同算法的组件共同的接口。\n",
    "- 在这个示例中，名为 Promotion 的抽象类扮演这个角色。\n",
    "\n",
    "**具体策略**\n",
    "“策略”的具体子类。是这里实现的三个具体策略\n",
    "- fidelityPromo、\n",
    "- BulkPromo \n",
    "- LargeOrderPromo\n",
    "\n",
    "\n",
    "具体的coding 如下："
   ]
  },
  {
   "cell_type": "code",
   "execution_count": 71,
   "metadata": {},
   "outputs": [],
   "source": [
    "from abc import ABC,abstractmethod\n",
    "from collections import namedtuple\n",
    "\n",
    "Customer = namedtuple('Customer','name fidelity')\n",
    "\n",
    "class LineItem:\n",
    "    \n",
    "    def __init__(self,product,quantity,price):\n",
    "        self.product = product\n",
    "        self.quantity = quantity\n",
    "        self.price = price\n",
    "        \n",
    "    def total(self):\n",
    "        return self.price * self.quantity\n",
    "    \n",
    "    \n",
    "class Order:\n",
    "    \n",
    "    def __init__(self,customer,cart,promotion=None):\n",
    "        self.customer = customer\n",
    "        self.cart = list(cart)\n",
    "        self.promotion = promotion\n",
    "        \n",
    "    def total(self):\n",
    "        if not hasattr(self,'__total'):\n",
    "            self.__total = sum(item.total() for item in self.cart)\n",
    "        return self.__total\n",
    "    \n",
    "    def due(self):\n",
    "        if self.promotion is None:\n",
    "            discount = 0\n",
    "        else:\n",
    "            discount = self.promotion.discount(self)\n",
    "        return self.total() - discount\n",
    "    \n",
    "    def __repr__(self):\n",
    "        fmt = '<Order total: {:.2f} due: {:.2f}>'\n",
    "        return fmt.format(self.total(),self.due())\n",
    "    "
   ]
  },
  {
   "cell_type": "code",
   "execution_count": 72,
   "metadata": {},
   "outputs": [],
   "source": [
    "# 定义一个抽象类，\n",
    "#用来作为策略的基类\n",
    "class Promotion(ABC):\n",
    "    \n",
    "    # 定义一个抽象的方法\n",
    "    # 需要子类来实现这个discount方法\n",
    "    @abstractmethod\n",
    "    def discount(self,order):\n",
    "        \"\"\"返回折扣金额（正值）\"\"\" \n",
    "        \n",
    "        "
   ]
  },
  {
   "cell_type": "code",
   "execution_count": 108,
   "metadata": {},
   "outputs": [],
   "source": [
    " class FidelityPromo(Promotion):\n",
    "        \"\"\"为积分为1000或以上的顾客提供5%折扣\"\"\" \n",
    "        def discount(self,order):\n",
    "            return order.total() * .05 if order.customer.fidelity >=1000 else 0"
   ]
  },
  {
   "cell_type": "code",
   "execution_count": 99,
   "metadata": {},
   "outputs": [],
   "source": [
    "class BulkItemPromo(Promotion):\n",
    "    \"\"\"单个商品为20个或以上时提供10%折扣\"\"\" \n",
    "    def discount(self,order):\n",
    "        discount = 0\n",
    "        for item in order.cart:\n",
    "            if item.quantity >=20:\n",
    "                discount += item.total() * .1\n",
    "        return discount"
   ]
  },
  {
   "cell_type": "code",
   "execution_count": 115,
   "metadata": {},
   "outputs": [],
   "source": [
    " class LargeOrderPromo(Promotion):\n",
    "        \"\"\"订单中的不同商品达到10个或以上时提供7%折扣\"\"\" \n",
    "        def discount(self,order):\n",
    "            discount_items = {item.product for item in order.cart}\n",
    "            if len(discount_items) >= 10:\n",
    "                return order.total() * .07\n",
    "            return 0"
   ]
  },
  {
   "cell_type": "code",
   "execution_count": 118,
   "metadata": {},
   "outputs": [
    {
     "data": {
      "text/plain": [
       "<Order total: 42.00 due: 42.00>"
      ]
     },
     "execution_count": 118,
     "metadata": {},
     "output_type": "execute_result"
    }
   ],
   "source": [
    "wali = Customer('Wali',0)\n",
    "fei = Customer('fei',1100)\n",
    "cart =[LineItem('banana',4,.5),\n",
    "      LineItem('appel',10,1.5),\n",
    "      LineItem('watermellon',5,5.0)]\n",
    "\n",
    "Order(wali,cart,FidelityPromo())"
   ]
  },
  {
   "cell_type": "code",
   "execution_count": 119,
   "metadata": {},
   "outputs": [
    {
     "data": {
      "text/plain": [
       "<Order total: 42.00 due: 39.90>"
      ]
     },
     "execution_count": 119,
     "metadata": {},
     "output_type": "execute_result"
    }
   ],
   "source": [
    " Order(fei, cart, FidelityPromo())"
   ]
  }
 ],
 "metadata": {
  "kernelspec": {
   "display_name": "Python 3",
   "language": "python",
   "name": "python3"
  },
  "language_info": {
   "codemirror_mode": {
    "name": "ipython",
    "version": 3
   },
   "file_extension": ".py",
   "mimetype": "text/x-python",
   "name": "python",
   "nbconvert_exporter": "python",
   "pygments_lexer": "ipython3",
   "version": "3.5.3"
  },
  "toc": {
   "base_numbering": 1,
   "nav_menu": {},
   "number_sections": true,
   "sideBar": true,
   "skip_h1_title": false,
   "title_cell": "Table of Contents",
   "title_sidebar": "Contents",
   "toc_cell": false,
   "toc_position": {},
   "toc_section_display": true,
   "toc_window_display": false
  }
 },
 "nbformat": 4,
 "nbformat_minor": 2
}
