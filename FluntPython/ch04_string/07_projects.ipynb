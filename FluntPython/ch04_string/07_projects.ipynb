{
 "cells": [
  {
   "cell_type": "markdown",
   "metadata": {},
   "source": [
    "### 实践小项目 1 - 密码管理\n",
    "\n",
    "这里有一个对于字符串密码管理的小栗子，都是很简单的操作，你也可以根据这个例子扩展到更加安全和实用的密码管理。通过python快速的获取你的各种密码：Email,blog,weibo，qq等等密码。\n",
    "- 第一步将你的密码存放在一个文件中\n",
    "- 第二步利用命令行读取你要输入的密码\n",
    "- 将密码放到剪贴板中，这样可以之间复制到你要输入的密码登录口。\n",
    "\n",
    "#### 密码存放的数据结构\n",
    "\n",
    "这里用一个字典来存放对应的账号和密码，为了安全可以将这些账号改成别人看不懂的格式，只有你的懂的代号。这样可以包含安全，这个是非常有必要的。这里的密码也可加密和解密的方式，比如做一个ASCAII取反运算，这样就更加安全了。"
   ]
  },
  {
   "cell_type": "code",
   "execution_count": null,
   "metadata": {},
   "outputs": [],
   "source": [
    "# python3\n",
    "# 用来管理密码的一个小脚本\n",
    "\n",
    "PASSWORDS = {\n",
    "    'email' : \"123455\",\n",
    "    'blog' : \"123456678\",\n",
    "    'qq':\"123456789\"\n",
    "}\n",
    "\n"
   ]
  },
  {
   "cell_type": "markdown",
   "metadata": {},
   "source": [
    "#### 命令行参数的调用\n",
    "\n",
    "这里需要使用sys库，在使用控制台调用的时候，需要输入两个参数：\n",
    "- 第一个：是需要调用的py文件的名字，比如这里的pw.py\n",
    "- 第二个：就是命令的参数，比如这里就是账号。\n"
   ]
  },
  {
   "cell_type": "code",
   "execution_count": null,
   "metadata": {},
   "outputs": [],
   "source": [
    "# python3\n",
    "# 用来管理密码的一个小脚本\n",
    "\n",
    "PASSWORDS = {\n",
    "    'email' : \"123455\",\n",
    "    'blog' : \"123456678\",\n",
    "    'qq':\"123456789\"\n",
    "}\n",
    "\n",
    "import sys,pyperclip\n",
    "\n",
    "if len(sys.argv) < 2:\n",
    "    print('Usage: python pw.py [account] \\\n",
    "            - copy account password')\n",
    "    sys.exit()\n",
    "    \n",
    "account = sys.argv[1]\n"
   ]
  },
  {
   "cell_type": "markdown",
   "metadata": {},
   "source": [
    "#### 复制password 到剪贴板\n",
    "\n",
    "首先需要判断输入的账号是不是在数据结构中，然后将数据的里所有pyperclip模块复制到剪贴板，这样就可以直接Ctrl + V粘贴到需要输入密码的地方了。\n"
   ]
  },
  {
   "cell_type": "code",
   "execution_count": null,
   "metadata": {},
   "outputs": [],
   "source": [
    "# python3\n",
    "# 用来管理密码的一个小脚本\n",
    "\n",
    "PASSWORDS = {\n",
    "    'email' : \"123455\",\n",
    "    'blog' : \"123456678\",\n",
    "    'qq':\"123456789\"\n",
    "}\n",
    "\n",
    "import sys,pyperclip\n",
    "\n",
    "if len(sys.argv) < 2:\n",
    "    print('Usage: python pw.py [account] \\\n",
    "            - copy account password')\n",
    "    sys.exit()\n",
    "    \n",
    "account = sys.argv[1]\n",
    "\n",
    "if account in PASSWORDS:\n",
    "    pyperclip.copy(PASSWORDS[account])\n",
    "    print('Password for ' + account + ' copied to clipboard')\n",
    "else:\n",
    "    print('There is no account name ' + account)"
   ]
  },
  {
   "cell_type": "markdown",
   "metadata": {},
   "source": [
    "### 实践小项目 2 - 在 Wiki 标记中添加无序列表\n",
    "\n",
    "这里我们如果经常使用markdown的用户可能就很了解，通过在每一行的前面添加“\\*”，“-”等可以用来实现列表化和标志化。\n",
    "假设我们这里有一个从网上复制下来的文本文件，如下所示：\n",
    "Lists of animals \n",
    "Lists of aquarium life \n",
    "Lists of biologists by author abbreviation \n",
    "Lists of cultivars \n",
    "\n",
    "我们实际需要批量修改成：\n",
    "* Lists of animals \n",
    "* Lists of aquarium life \n",
    "* Lists of biologists by author abbreviation \n",
    "* Lists of cultivars \n",
    "\n",
    "具体的步骤如下：\n",
    "- 从剪贴板粘贴文本； \n",
    "- 对它做一些处理； \n",
    "- 将新的文本复制到剪贴板。\n",
    "\n",
    "#### 从剪贴板中复制和粘贴\n",
    "\n",
    "利用了 pyperclip.copy()和 pyperclip.paste()函数,这里先用从文本或者网页上使用Ctrl + C ，拷贝一些文本。"
   ]
  },
  {
   "cell_type": "code",
   "execution_count": 19,
   "metadata": {},
   "outputs": [
    {
     "name": "stdout",
     "output_type": "stream",
     "text": [
      "Lists of animals \r\n",
      "Lists of aquarium life \r\n",
      "Lists of biologists by author abbreviation \r\n",
      "Lists of cultivars \n"
     ]
    }
   ],
   "source": [
    "# 从剪贴板中复制和粘贴\n",
    "import pyperclip\n",
    "text = pyperclip.paste() \n",
    "print(str(text))"
   ]
  },
  {
   "cell_type": "markdown",
   "metadata": {},
   "source": [
    "#### 分离文本中的行，并添加星号\n",
    "\n",
    "由于通过复制获得字符:  \n",
    "'Lists of animals\\nLists of aquarium life\\nLists of biologists by author \n",
    "abbreviation\\nLists of cultivars' \n",
    "\n",
    "需要先分割出每一行，然后再每一行后面添加星号。\n"
   ]
  },
  {
   "cell_type": "code",
   "execution_count": 14,
   "metadata": {},
   "outputs": [],
   "source": [
    "# 分离文本中的行，并添加星号\n",
    "import pyperclip\n",
    "text = pyperclip.paste() \n",
    "\n",
    "lines = text.split('\\n')\n",
    "for i  in range(len(lines)):\n",
    "    lines[i] = '* ' + lines[i]\n",
    "    \n",
    "pyperclip.copy(text) \n"
   ]
  },
  {
   "cell_type": "markdown",
   "metadata": {},
   "source": [
    "#### 连接修改过的行 \n",
    "\n",
    "lines 列表现在包含修改过的行，每行都以星号开始。但 pyperclip.copy()需要一\n",
    "个字符串，而不是字符串的列表。利用join函数来完成。\n",
    "\n"
   ]
  },
  {
   "cell_type": "code",
   "execution_count": 22,
   "metadata": {},
   "outputs": [
    {
     "name": "stdout",
     "output_type": "stream",
     "text": [
      "* Lists of animals \r\n",
      "* Lists of aquarium life \r\n",
      "* Lists of biologists by author abbreviation \r\n",
      "* Lists of cultivars \n"
     ]
    }
   ],
   "source": [
    "# 连接修改过的行 \n",
    "\n",
    "import pyperclip\n",
    "text = pyperclip.paste() \n",
    "\n",
    "lines = text.split('\\n')\n",
    "for i  in range(len(lines)):\n",
    "    lines[i] = '* ' + lines[i]\n",
    "# 连接每一个行\n",
    "text = '\\n'.join(lines)\n",
    "pyperclip.copy(text) \n",
    "\n",
    "print(text)"
   ]
  }
 ],
 "metadata": {
  "kernelspec": {
   "display_name": "Python 3",
   "language": "python",
   "name": "python3"
  },
  "language_info": {
   "codemirror_mode": {
    "name": "ipython",
    "version": 3
   },
   "file_extension": ".py",
   "mimetype": "text/x-python",
   "name": "python",
   "nbconvert_exporter": "python",
   "pygments_lexer": "ipython3",
   "version": "3.6.8"
  },
  "toc": {
   "base_numbering": 1,
   "nav_menu": {},
   "number_sections": true,
   "sideBar": true,
   "skip_h1_title": false,
   "title_cell": "Table of Contents",
   "title_sidebar": "Contents",
   "toc_cell": false,
   "toc_position": {},
   "toc_section_display": true,
   "toc_window_display": false
  }
 },
 "nbformat": 4,
 "nbformat_minor": 2
}
