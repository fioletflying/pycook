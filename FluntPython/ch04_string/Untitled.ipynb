{
 "cells": [
  {
   "cell_type": "markdown",
   "metadata": {},
   "source": [
    "##\n",
    "\n",
    "- 字符和Unicode字符是什么,怎么表示\n",
    "- 什么字符的编码和解码\n",
    "\n",
    "### python中字符的定义\n",
    "\n",
    "#### 字符的基础概念\n",
    "**字符串：**由字符组成的序列  \n",
    "什么是字符呢？  \n",
    "**字符：** python中的定义是Unicode字符，\n",
    "- 在python3中，str对象中获取的元素是**Unicode字符**\n",
    "- 在python2中，str对象中获取的原始**字节序列**\n",
    "\n",
    "#### Unicode字符\n",
    "\n",
    "**字符的标识（码位）**  \n",
    "\n",
    "是 0~1 114 111 的数字（十进制），在 Unicode 标准中以 4~6 个十六进制数字表示，而且加前缀“U+”。\n",
    "例如：字母A的码位是*U+0041,约 10% 的有效码位有对应的字符\n",
    "\n",
    "**字符的具体表述(编码)**\n",
    "\n",
    "**编码**是在码位和字节序列之间转换时使用的算法,有不同的编码算法,如: UTF-8,UTF-16LE.\n",
    "例如 A的码位编成单个字节:`\\x41`(UTF-8),`\\41\\x00`(UTF-16LE)\n",
    "\n",
    "**编码**:把码位转换成字节序列的过程,把人类可读的文本字符串转换成机器可存储或传输的过程\n",
    "**解码**:把字节序列转换成码位的过程,把机器码转换成人类可读的文本字符串的过程\n"
   ]
  },
  {
   "cell_type": "code",
   "execution_count": 7,
   "metadata": {},
   "outputs": [
    {
     "name": "stdout",
     "output_type": "stream",
     "text": [
      "4\n",
      "b'caf\\xc3\\xa9'\n",
      "5\n",
      "café\n"
     ]
    }
   ],
   "source": [
    "# 定义一个字符串\n",
    "s = 'café'\n",
    "print(len(s))\n",
    "# 将字符串编码\n",
    "b = s.encode('utf8')\n",
    "print(b)\n",
    "print(len(b))\n",
    "# 将字符串解码\n",
    "c = b.decode('utf8')\n",
    "print(c)"
   ]
  },
  {
   "cell_type": "markdown",
   "metadata": {},
   "source": [
    "### 字节的概念\n",
    "Python两种基本的二进制序列类型:\n",
    "- bytes:不可变类型\n",
    "- bytearray:可变类型\n",
    "python3中,它们对象的各个元素是介于 0~255（含）之间的整数\n"
   ]
  }
 ],
 "metadata": {
  "kernelspec": {
   "display_name": "Python 3",
   "language": "python",
   "name": "python3"
  },
  "language_info": {
   "codemirror_mode": {
    "name": "ipython",
    "version": 3
   },
   "file_extension": ".py",
   "mimetype": "text/x-python",
   "name": "python",
   "nbconvert_exporter": "python",
   "pygments_lexer": "ipython3",
   "version": "3.5.3"
  },
  "toc": {
   "base_numbering": 1,
   "nav_menu": {},
   "number_sections": true,
   "sideBar": true,
   "skip_h1_title": false,
   "title_cell": "Table of Contents",
   "title_sidebar": "Contents",
   "toc_cell": false,
   "toc_position": {},
   "toc_section_display": true,
   "toc_window_display": false
  }
 },
 "nbformat": 4,
 "nbformat_minor": 2
}
