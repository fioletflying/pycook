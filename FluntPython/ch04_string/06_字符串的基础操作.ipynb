{
 "cells": [
  {
   "cell_type": "markdown",
   "metadata": {},
   "source": [
    "前面介绍了一下比较晦涩而且深入的字符文本的处理方法，接下来几节将带来一些常规的操作。比较容易入手。\n",
    "\n",
    "### 字符串处理\n",
    "\n",
    "#### 字符串字面量\n",
    "\n",
    "字符字面量的通过使用：以单引号开始和结束，但是如何处理的是字符串内使用单引号。  \n",
    "例如：`'That is Wali's cat`\n",
    "\n",
    "####  双引号 \n",
    "\n",
    "字符字面量的还可以通过使用:双引号开始和结束,这样就可以处理字符串内使用单引号的问题.\n",
    "如下:`\"That is Wali's cat\"`\n",
    "\n",
    "####   转义字符 \n",
    "\n",
    "“转义字符”让你输入一些字符，它们用其他方式是不可能放在字符串里的.  \n",
    "转义字符包含一个倒斜杠（\\），紧跟着是想要添加到字符串中的字符.转义字符\\'和\\\"让你能在字符串中加入单引号和双引号\n",
    "常见的转义字符如下表:  \n",
    "![转义字符](imgs/02.jpg)\n",
    "\n",
    "\n",
    "####  原始字符串 \n",
    "\n",
    "以在字符串开始的引号之前加上 r，使它成为原始字符串。“原始字符串”完全忽略所有的转义字符，打印出字符串中所有的倒斜杠。Python 认为倒斜杠是字符串的一部分，而不是转义字符的开始\n",
    "\n",
    "#### 用三重引号的多行字符串 \n",
    "\n",
    "多行字符串的起止是 3 个单引号或 3 个双引号。“三重引号”之间的所有引号、制表符或换行，都被认为是字符串的一部分。\n",
    "\n",
    "#### 多行注释 \n",
    "\n",
    "虽然井号字符（#）表示这一行是注释，但多行字符串常常用作多行注释,\n",
    "\n",
    "####  字符串下标和切片\n",
    "\n",
    "字符串像列表一样，使用下标和切片.通过切片并将结果子字符串保存在另一个变量中，就可以同时拥有完整的字符串和子字符串\n",
    "\n",
    "#### 字符串的 in 和 not in 操作符 \n",
    "\n",
    "像列表一样，in 和 not in 操作符也可以用于字符串.\n"
   ]
  },
  {
   "cell_type": "code",
   "execution_count": 15,
   "metadata": {},
   "outputs": [
    {
     "name": "stdout",
     "output_type": "stream",
     "text": [
      "That is Wali's cat\n",
      "That is Wali's cat\n",
      "That is Wali's cat \n",
      "How are you? \n",
      "I'm fine.\n",
      "That is Wali\\'s cat\n",
      "Dear Alice, \n",
      "\n",
      "\n",
      "Eve's cat has been arrested for catnapping, cat burglary, and extortion. \n",
      "\n",
      "\n",
      "Sincerely, \n",
      "Bob\n",
      "T\n",
      "ha\n",
      "That \n",
      "s Wali's cat\n",
      "False\n",
      "True\n",
      "True\n"
     ]
    }
   ],
   "source": [
    "spam = \"That is Wali's cat\"\n",
    "print(spam)\n",
    "\n",
    "# 转义字符 \n",
    "spam2 = 'That is Wali\\'s cat'\n",
    "spam3 = 'That is Wali\\'s cat \\nHow are you? \\nI\\'m fine.'\n",
    "print(spam2)\n",
    "print(spam3)\n",
    "\n",
    "\n",
    "# 原始字符串 \n",
    "print(r'That is Wali\\'s cat')\n",
    "\n",
    "# 三重引号的多行字符串 \n",
    "\n",
    "print('''Dear Alice, \n",
    "\n",
    "\n",
    "Eve's cat has been arrested for catnapping, cat burglary, and extortion. \n",
    "\n",
    "\n",
    "Sincerely, \n",
    "Bob''') \n",
    "\n",
    "# 字符串下标和切片\n",
    "\n",
    "print(spam[0])\n",
    "print(spam[1:3])\n",
    "print(spam[:5])\n",
    "print(spam[6:])\n",
    "\n",
    "# 字符串的 in 和 not in 操作符 \n",
    "print(\"wali\" in spam)\n",
    "print(\"wali\" not in spam)\n",
    "print(\"Wali\" in spam)"
   ]
  },
  {
   "cell_type": "markdown",
   "metadata": {},
   "source": [
    "### 常用的字符串方法\n",
    "\n",
    "####  upper()、lower()、isupper()和 islower() \n",
    "\n",
    "- upper()： 将字符串中的字母转换为大写字母\n",
    "- lower()：将字符串中的字母转换为小写字母\n",
    "- isupper()： 判断字符串中的字母是否都是大写字母\n",
    "- islower() ：判断字符串中的字母是否都是小写字母\n",
    "\n",
    "注意点： 比如spam 是一个一个字符串，当使用`spam.upper()`的时候，会生成一个新的字符串，而不会去改变spam字符串本身。\n",
    "\n",
    "upper()与lower()的使用场景：  \n",
    "在字符串进行无关大小写比较的时候，使用该方法很有效。\n",
    "\n"
   ]
  },
  {
   "cell_type": "code",
   "execution_count": 2,
   "metadata": {},
   "outputs": [
    {
     "name": "stdout",
     "output_type": "stream",
     "text": [
      "spam: Wali AI\n",
      "spamUp: WALI AI\n",
      "spam: wali ai\n"
     ]
    }
   ],
   "source": [
    "spam = 'Wali AI'\n",
    "spamUp = spam.upper()\n",
    "print('spam:',spam)\n",
    "print('spamUp:',spamUp)\n",
    "spam = spam.lower()\n",
    "print('spam:',spam)\n",
    "\n"
   ]
  },
  {
   "cell_type": "code",
   "execution_count": 3,
   "metadata": {},
   "outputs": [
    {
     "name": "stdout",
     "output_type": "stream",
     "text": [
      "How are you?\n",
      "great\n",
      "I feel great too.\n"
     ]
    }
   ],
   "source": [
    "#大小写无关的比较\n",
    "print('How are you?')\n",
    "feeling = input()\n",
    "if feeling.lower() == 'great':\n",
    "    print('I feel great too.')\n",
    "else:\n",
    "    print('I feel liitle bad.')"
   ]
  },
  {
   "cell_type": "code",
   "execution_count": 7,
   "metadata": {},
   "outputs": [
    {
     "name": "stdout",
     "output_type": "stream",
     "text": [
      "False\n",
      "False\n",
      "False\n",
      "False\n",
      "True\n"
     ]
    }
   ],
   "source": [
    "#如果字符串至少有一个字母，并且所有字母都是大写或小写\n",
    "spam = '12345'\n",
    "print(spam.isupper())\n",
    "print(spam.islower())\n",
    "\n",
    "spam = 'a12345B'\n",
    "print(spam.isupper())\n",
    "print(spam.islower())\n",
    "spam = spam.upper()\n",
    "print(spam.isupper())"
   ]
  },
  {
   "cell_type": "markdown",
   "metadata": {},
   "source": [
    "#### isX 字符串方法 \n",
    "isX 该类型的方法用来判断字符的类型和属性，返回一个布尔值。\n",
    "- isupper()： 判断字符串中的字母是否都是大写字母\n",
    "- islower() ：判断字符串中的字母是否都是小写字母\n",
    "- isalpha(): 判断字符串是否只包含字母，并且非空\n",
    "- isalnum(): 判断字符串是否只包含字母，数字，并且非空\n",
    "- isdecimal(): 判断字符串是否只包含数字，并且非空\n",
    "- isspace(): 判断字符串是否只包含空格，制表符和换行，并且非空\n",
    "- istitle(): 判断字符串是否只包含以大写字母开头，后面都是小写字母。\n",
    "\n",
    "使用的场景：  \n",
    "对于一些需要验证字符信息是否符合规范的方式，比如验证用户输入的信息"
   ]
  },
  {
   "cell_type": "code",
   "execution_count": 16,
   "metadata": {},
   "outputs": [
    {
     "name": "stdout",
     "output_type": "stream",
     "text": [
      "True\n",
      "False\n",
      "True\n",
      "False\n",
      "False\n",
      "True\n"
     ]
    }
   ],
   "source": [
    "print('wali'.isalpha())\n",
    "print('wali12'.isalpha())\n",
    "print('wali12'.isalnum())\n",
    "print('wali'.isnumeric())\n",
    "print('wali'.isdecimal())\n",
    "print('\\t'.isspace())"
   ]
  },
  {
   "cell_type": "code",
   "execution_count": 18,
   "metadata": {},
   "outputs": [
    {
     "name": "stdout",
     "output_type": "stream",
     "text": [
      "Enter your age:\n",
      "-1\n",
      "please enter right number\n",
      "Enter your age:\n",
      "32\n"
     ]
    }
   ],
   "source": [
    "# 使用的场景\n",
    "\n",
    "while True:\n",
    "    print('Enter your age:')\n",
    "    age = input()\n",
    "    \n",
    "    if age.isdecimal() and int(age) > 0:\n",
    "        break\n",
    "    else:\n",
    "        print(\"please enter right number\")\n",
    " "
   ]
  }
 ],
 "metadata": {
  "kernelspec": {
   "display_name": "Python 3",
   "language": "python",
   "name": "python3"
  },
  "language_info": {
   "codemirror_mode": {
    "name": "ipython",
    "version": 3
   },
   "file_extension": ".py",
   "mimetype": "text/x-python",
   "name": "python",
   "nbconvert_exporter": "python",
   "pygments_lexer": "ipython3",
   "version": "3.5.3"
  },
  "toc": {
   "base_numbering": 1,
   "nav_menu": {},
   "number_sections": true,
   "sideBar": true,
   "skip_h1_title": false,
   "title_cell": "Table of Contents",
   "title_sidebar": "Contents",
   "toc_cell": false,
   "toc_position": {},
   "toc_section_display": true,
   "toc_window_display": false
  }
 },
 "nbformat": 4,
 "nbformat_minor": 2
}
