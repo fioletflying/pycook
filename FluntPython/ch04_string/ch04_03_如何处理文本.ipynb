{
 "cells": [
  {
   "cell_type": "markdown",
   "metadata": {},
   "source": [
    "## 处理文本文件\n",
    "\n",
    "### Unicode 三明治\n",
    "\n",
    "关于处理文本文件这里有一个很有意思和形象的比喻：“Unicode 三明治”。可以想象成三部曲吧:\n",
    "- 第一步:要尽早把输入的字节序列解码输入的字节序列\n",
    "- 然后:只处理文本\n",
    "- 最后:要尽量晚地把字符串编码成字节序列\n",
    "具体如下图:\n",
    "\n",
    "![Unicode 三明治](imgs/01.jpg)\n",
    "\n",
    "python3中的操作函数:\n",
    "- 内置的open函数在读取文件的时候做解码\n",
    "- read 和 write中的方法都市处理字符串\n",
    "\n",
    "但是这里有一个默认编码问题:   \n",
    "如下面的实例所示,不同的平台使用的默认编码格式不一样,到时无法正确读取文件.\n",
    "**需要在多台设备中或多种场合下运行的代码，一定不能依赖默认编码。打开文件时始终应该明确传入 encoding= 参数**"
   ]
  },
  {
   "cell_type": "code",
   "execution_count": 2,
   "metadata": {},
   "outputs": [
    {
     "name": "stdout",
     "output_type": "stream",
     "text": [
      "4\n",
      "caf茅\n"
     ]
    }
   ],
   "source": [
    "# 　一个平台上的编码问题\n",
    "\n",
    "# 写入的时候指定为utf_8\n",
    "fo = open('cafe.txt','w',encoding='utf_8').write('café')\n",
    "print(fo)\n",
    "# 读取的时候使用默认的编码读取,window用的是cp936的格式\n",
    "strfile = open('cafe.txt').read()\n",
    "print(strfile)\n"
   ]
  },
  {
   "cell_type": "code",
   "execution_count": 7,
   "metadata": {},
   "outputs": [
    {
     "name": "stdout",
     "output_type": "stream",
     "text": [
      "<_io.TextIOWrapper name='cafe.txt' mode='w' encoding='utf_8'>\n",
      "5\n",
      "<_io.TextIOWrapper name='cafe.txt' mode='r' encoding='cp936'>\n",
      "caf茅\n",
      "<_io.TextIOWrapper name='cafe.txt' mode='r' encoding='utf_8'>\n",
      "café\n",
      "<_io.BufferedReader name='cafe.txt'>\n",
      "b'caf\\xc3\\xa9'\n"
     ]
    }
   ],
   "source": [
    "# 关于上例中的详解\n",
    "\n",
    "# 返回一个 TextIOWrapper 对象\n",
    "fp = open('cafe.txt','w',encoding='utf_8')\n",
    "print(fp)\n",
    "# 写入\n",
    "fp.write('café')\n",
    "fp.close()\n",
    "\n",
    "# os.stat 报告文件中有 5 个字节\n",
    "import os\n",
    "print(os.stat('cafe.txt').st_size)\n",
    "# windows 默认的编码格式是encoding='cp936'\n",
    "fp2 = open('cafe.txt')\n",
    "print(fp2)\n",
    "# 读取的是一个中文字符\n",
    "print(fp2.read())\n",
    "fp2.close()\n",
    "\n",
    "# 这里指定的编码格式\n",
    "fp3 = open('cafe.txt',encoding='utf_8')\n",
    "print(fp3)\n",
    "print(fp3.read())\n",
    "fp3.close()\n",
    "\n",
    "# 使用二进制格式读取\n",
    "fp4 = open('cafe.txt','rb')\n",
    "# 返回的是 BufferedReader 对象\n",
    "print(fp4)\n",
    "print(fp4.read())"
   ]
  },
  {
   "cell_type": "markdown",
   "metadata": {},
   "source": [
    "### 规范化Unicode字符串的函数\n",
    "\n",
    "规范化Unicode字符串是为了正确的比较字符串而出现的。例如下面的例子:\n",
    "- `café` 与 `cafe\\u0301`\n",
    "- 分别的码位长度是4和5,但是结果是完成一样\n",
    "- Python 看到的是不同的码位序列，因此判定二者不相等\n",
    "- 应用程序应该把它们视作相同的字符\n",
    "\n",
    "这里就需要:使用unicodedata.normalize进行规范化.\n",
    "函数的第一个参数是的设置有四个选择:\n",
    "- NFC(Normalization Form C)使用最少的码位构成等价的字符串\n",
    "- NFD  把组合字符分解成基字符和单独的组合字符\n",
    "- NFKC 较严格的规范化形式，对“兼容字符”有影响\n",
    "- NFKD 较严格的规范化形式，对“兼容字符”有影响\n",
    "\n",
    "保存文本之前，最好使用 normalize('NFC',  user_text) 清洗字符串.推荐使用NFC进行比较.\n"
   ]
  },
  {
   "cell_type": "code",
   "execution_count": 4,
   "metadata": {},
   "outputs": [
    {
     "name": "stdout",
     "output_type": "stream",
     "text": [
      "s1: café \n",
      "s2: café\n",
      "s1 len: 4 \n",
      "s2 len: 5\n"
     ]
    }
   ],
   "source": [
    "s1 = 'café' \n",
    "s2 = 'cafe\\u0301'\n",
    "print(\"s1:\",s1,\"\\ns2:\", s2)\n",
    "print(\"s1 len:\",len(s1),\"\\ns2 len:\", len(s2))"
   ]
  },
  {
   "cell_type": "code",
   "execution_count": 8,
   "metadata": {},
   "outputs": [
    {
     "name": "stdout",
     "output_type": "stream",
     "text": [
      "s1 len: 4 \n",
      "s2 len: 5\n",
      "s1 NFC len: 4 \n",
      "s2 NFC len: 4\n",
      "s1 NFD len: 5 \n",
      "s2 NFD len: 5\n",
      "True\n",
      "True\n",
      "False\n"
     ]
    }
   ],
   "source": [
    "#normalize NFC 与NFD\n",
    "\n",
    "from unicodedata import normalize\n",
    "s1 = 'café' \n",
    "s2 = 'cafe\\u0301'\n",
    "print(\"s1 len:\",len(s1),\"\\ns2 len:\", len(s2))\n",
    "\n",
    "print(\"s1 NFC len:\",len(normalize('NFC',s1)),\n",
    "      \"\\ns2 NFC len:\", len(normalize('NFC',s2)))\n",
    "\n",
    "print(\"s1 NFD len:\",len(normalize('NFD',s1)),\n",
    "      \"\\ns2 NFD len:\", len(normalize('NFD',s2)))\n",
    "\n",
    "print(normalize('NFC',s1) == normalize('NFC',s2))                         \n",
    "print(normalize('NFD',s1) == normalize('NFD',s2))\n",
    "print(normalize('NFC',s1) == normalize('NFD',s2))"
   ]
  },
  {
   "cell_type": "markdown",
   "metadata": {},
   "source": [
    "### Unicode 大小写折叠\n",
    "\n",
    "大小写折叠其实就是把所有文本变成小写，再做些其他转换。\n",
    "- str.casefold()\n",
    "\n",
    "只包含 latin1 字符的字符串 s，s.casefold() 得到的结果与 s.lower() 一样.str.casefold() 和 str.lower() 得到不同结果的有 116 个码位."
   ]
  },
  {
   "cell_type": "code",
   "execution_count": 12,
   "metadata": {},
   "outputs": [
    {
     "name": "stdout",
     "output_type": "stream",
     "text": [
      "MICRO SIGN\n",
      "GREEK SMALL LETTER MU\n",
      "µ μ\n"
     ]
    }
   ],
   "source": [
    "#Unicode 大小写折叠\n",
    "from unicodedata import normalize, name \n",
    "micro = 'µ'\n",
    "print(name(micro))\n",
    "micro_cf = micro.casefold()\n",
    "print(name(micro_cf))\n",
    "print(micro,micro_cf)"
   ]
  },
  {
   "cell_type": "markdown",
   "metadata": {},
   "source": [
    "### Unicode 文本匹配函数\n",
    "\n",
    "多语言文本处理时需要使用如下函数：\n",
    "- nfc_equal \n",
    "- fold_equal "
   ]
  },
  {
   "cell_type": "code",
   "execution_count": 24,
   "metadata": {},
   "outputs": [
    {
     "name": "stdout",
     "output_type": "stream",
     "text": [
      "False\n",
      "True\n",
      "True\n",
      "False\n"
     ]
    }
   ],
   "source": [
    "from unicodedata import normalize\n",
    "\n",
    "def nfc_equal(str1,str2):\n",
    "    return (normalize('NFC',str1) == normalize('NFC',str2))\n",
    "\n",
    "def fold_equal(str1,str2):\n",
    "    return(normalize('NFC',str1).casefold() ==\n",
    "           normalize('NFC',str2).casefold())\n",
    "\n",
    "\n",
    "s1 = 'café' \n",
    "s2 = 'cafe\\u0301'\n",
    "\n",
    "print(s1 == s2)\n",
    "print(nfc_equal(s1,s2))\n",
    "print(fold_equal('a','A'))\n",
    "print(nfc_equal('a','A'))\n",
    "\n"
   ]
  },
  {
   "cell_type": "markdown",
   "metadata": {},
   "source": [
    "### 极端“规范化”：去掉变音符号\n",
    "\n",
    "在什么时候需要去掉变音符号：\n",
    "- 搜索涉及很多技术\n",
    "- 去掉变音符号还能让 URL 更易于阅读\n",
    "\n",
    "如何实现去掉变音符号:如下代码\n",
    "\n"
   ]
  },
  {
   "cell_type": "code",
   "execution_count": 29,
   "metadata": {},
   "outputs": [
    {
     "name": "stdout",
     "output_type": "stream",
     "text": [
      "“Herr Voß: • ½ cup of Œtker™ caffe latte • bowl of acai.”\n"
     ]
    }
   ],
   "source": [
    "#去掉全部组合记号的函数\n",
    "\n",
    "import unicodedata\n",
    "import string\n",
    "\n",
    "def shave_marks(txt):\n",
    "    #把所有字符分解成基字符和组合记号\n",
    "    norm_txt = unicodedata.normalize('NFD',txt)\n",
    "    unicodedata.combining('a')\n",
    "    #过滤掉所有组合记号\n",
    "    shaved = ''.join(c for c in norm_txt if not unicodedata.combining(c))\n",
    "    # 重组所有字符\n",
    "    return unicodedata.normalize('NFC',shaved)\n",
    "\n",
    "order = '“Herr Voß: • ½ cup of Œtker™ caffè latte • bowl of açaí.”' \n",
    "print(shave_marks(order))\n",
    "    "
   ]
  },
  {
   "cell_type": "code",
   "execution_count": 31,
   "metadata": {},
   "outputs": [],
   "source": [
    "#  删除拉丁字母中组合记号的函数\n",
    "\n",
    "import unicodedata\n",
    "import string\n",
    "\n",
    "def shave_marks_latin(txt):\n",
    "    #把所有字符分解成基字符和组合记号\n",
    "    norm_txt = unicodedata.normalize('NFD',txt)\n",
    "    latin_base = False\n",
    "    keepers = []\n",
    "    for c in norm_txt:\n",
    "        #基字符为拉丁字母时，跳过组合记号\n",
    "        if unicodedata.combining(c) and latin_base:\n",
    "            continue\n",
    "        keepers.append(c)\n",
    "        #检测新的基字符，判断是不是拉丁字母\n",
    "        if not unicodedata.combining(c):\n",
    "            latin_base = c in string.ascii_letters\n",
    "    shaved = ''.join(keepers)\n",
    "    return unicodedata.normalize('NFC',shaved)\n",
    "\n"
   ]
  },
  {
   "cell_type": "code",
   "execution_count": 32,
   "metadata": {},
   "outputs": [
    {
     "name": "stdout",
     "output_type": "stream",
     "text": [
      "“Herr Voß: • ½ cup of Œtker™ caffe latte • bowl of acai.”\n"
     ]
    }
   ],
   "source": [
    "order = '“Herr Voß: • ½ cup of Œtker™ caffè latte • bowl of açaí.”' \n",
    "print(shave_marks_latin(order))\n",
    "    "
   ]
  },
  {
   "cell_type": "markdown",
   "metadata": {},
   "source": [
    "关于Unicode字符规范化小结：\n",
    "- NFC 和 NFD 可以放心使用，而且能合理比较 Unicode 字符串\n",
    "- 对大多数应用来说，NFC 是最好的规范化形式\n",
    "- 不区分大小写的比较应该使用 str.casefold()\n",
    "- 文本匹配实用函数：要利用normalize，casefold\n",
    "- 去掉变音符号：需要注意不能把它们变成 ASCII 字符"
   ]
  }
 ],
 "metadata": {
  "kernelspec": {
   "display_name": "Python 3",
   "language": "python",
   "name": "python3"
  },
  "language_info": {
   "codemirror_mode": {
    "name": "ipython",
    "version": 3
   },
   "file_extension": ".py",
   "mimetype": "text/x-python",
   "name": "python",
   "nbconvert_exporter": "python",
   "pygments_lexer": "ipython3",
   "version": "3.5.3"
  },
  "toc": {
   "base_numbering": 1,
   "nav_menu": {},
   "number_sections": true,
   "sideBar": true,
   "skip_h1_title": false,
   "title_cell": "Table of Contents",
   "title_sidebar": "Contents",
   "toc_cell": false,
   "toc_position": {},
   "toc_section_display": true,
   "toc_window_display": false
  }
 },
 "nbformat": 4,
 "nbformat_minor": 2
}
