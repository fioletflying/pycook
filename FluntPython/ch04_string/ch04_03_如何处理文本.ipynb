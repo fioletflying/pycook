{
 "cells": [
  {
   "cell_type": "markdown",
   "metadata": {},
   "source": [
    "## 处理文本文件\n",
    "\n",
    "### Unicode 三明治\n",
    "\n",
    "关于处理文本文件这里有一个很有意思和形象的比喻：“Unicode 三明治”。可以想象成三部曲吧:\n",
    "- 第一步:要尽早把输入的字节序列解码输入的字节序列\n",
    "- 然后:只处理文本\n",
    "- 最后:要尽量晚地把字符串编码成字节序列\n",
    "具体如下图:\n",
    "\n",
    "![Unicode 三明治](imgs/01.jpg)\n",
    "\n",
    "python3中的操作函数:\n",
    "- 内置的open函数在读取文件的时候做解码\n",
    "- read 和 write中的方法都市处理字符串\n",
    "\n",
    "但是这里有一个默认编码问题:   \n",
    "如下面的实例所示,不同的平台使用的默认编码格式不一样,到时无法正确读取文件.\n",
    "**需要在多台设备中或多种场合下运行的代码，一定不能依赖默认编码。打开文件时始终应该明确传入 encoding= 参数**"
   ]
  },
  {
   "cell_type": "code",
   "execution_count": 2,
   "metadata": {},
   "outputs": [
    {
     "name": "stdout",
     "output_type": "stream",
     "text": [
      "4\n",
      "caf茅\n"
     ]
    }
   ],
   "source": [
    "# 　一个平台上的编码问题\n",
    "\n",
    "# 写入的时候指定为utf_8\n",
    "fo = open('cafe.txt','w',encoding='utf_8').write('café')\n",
    "print(fo)\n",
    "# 读取的时候使用默认的编码读取,window用的是cp936的格式\n",
    "strfile = open('cafe.txt').read()\n",
    "print(strfile)\n"
   ]
  },
  {
   "cell_type": "code",
   "execution_count": 7,
   "metadata": {},
   "outputs": [
    {
     "name": "stdout",
     "output_type": "stream",
     "text": [
      "<_io.TextIOWrapper name='cafe.txt' mode='w' encoding='utf_8'>\n",
      "5\n",
      "<_io.TextIOWrapper name='cafe.txt' mode='r' encoding='cp936'>\n",
      "caf茅\n",
      "<_io.TextIOWrapper name='cafe.txt' mode='r' encoding='utf_8'>\n",
      "café\n",
      "<_io.BufferedReader name='cafe.txt'>\n",
      "b'caf\\xc3\\xa9'\n"
     ]
    }
   ],
   "source": [
    "# 关于上例中的详解\n",
    "\n",
    "# 返回一个 TextIOWrapper 对象\n",
    "fp = open('cafe.txt','w',encoding='utf_8')\n",
    "print(fp)\n",
    "# 写入\n",
    "fp.write('café')\n",
    "fp.close()\n",
    "\n",
    "# os.stat 报告文件中有 5 个字节\n",
    "import os\n",
    "print(os.stat('cafe.txt').st_size)\n",
    "# windows 默认的编码格式是encoding='cp936'\n",
    "fp2 = open('cafe.txt')\n",
    "print(fp2)\n",
    "# 读取的是一个中文字符\n",
    "print(fp2.read())\n",
    "fp2.close()\n",
    "\n",
    "# 这里指定的编码格式\n",
    "fp3 = open('cafe.txt',encoding='utf_8')\n",
    "print(fp3)\n",
    "print(fp3.read())\n",
    "fp3.close()\n",
    "\n",
    "# 使用二进制格式读取\n",
    "fp4 = open('cafe.txt','rb')\n",
    "# 返回的是 BufferedReader 对象\n",
    "print(fp4)\n",
    "print(fp4.read())"
   ]
  },
  {
   "cell_type": "markdown",
   "metadata": {},
   "source": [
    "### 规范化Unicode字符串\n",
    "\n"
   ]
  }
 ],
 "metadata": {
  "kernelspec": {
   "display_name": "Python 3",
   "language": "python",
   "name": "python3"
  },
  "language_info": {
   "codemirror_mode": {
    "name": "ipython",
    "version": 3
   },
   "file_extension": ".py",
   "mimetype": "text/x-python",
   "name": "python",
   "nbconvert_exporter": "python",
   "pygments_lexer": "ipython3",
   "version": "3.5.3"
  },
  "toc": {
   "base_numbering": 1,
   "nav_menu": {},
   "number_sections": true,
   "sideBar": true,
   "skip_h1_title": false,
   "title_cell": "Table of Contents",
   "title_sidebar": "Contents",
   "toc_cell": false,
   "toc_position": {},
   "toc_section_display": true,
   "toc_window_display": false
  }
 },
 "nbformat": 4,
 "nbformat_minor": 2
}
