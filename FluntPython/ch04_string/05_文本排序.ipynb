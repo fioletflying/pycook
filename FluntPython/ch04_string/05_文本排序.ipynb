{
 "cells": [
  {
   "cell_type": "markdown",
   "metadata": {},
   "source": [
    "### Unicode文本内置方法\n",
    " python中提供了标准的排序方法但是在内置的方法可能带来一个不好的结果，尤其是比较非 ASCII 字符时。例如下面的例子.\n",
    " \n",
    " 由于不同的区域才去的排序规则不一样，下面的例子实际的排序是这样子的：  \n",
    " `['açaí', 'acerola', 'atemoia', 'cajá', 'caju']`\n",
    " 而现在的排序结果确实这样子的:\n",
    " `['acerola', 'atemoia', 'açaí', 'caju', 'cajá']`\n",
    " \n",
    "这是由于葡萄牙语等很多语言按照拉丁字母表排序，重音符号和下加符对排序几乎没什么影响.\n",
    "\n",
    "在python中,非 ASCII 文本的标准排序方式是使用 locale.strxfrm 函数,把字符串转换成适合所在区域进行比较的形式,使用 locale.strxfrm 函数之前，必须先为应用设定合适的区域设置，这里还有一个条件是操作系统支持这项设置.\n",
    "\n",
    "- 但是区域设置是全局的，因此不推荐在库中调用 setlocale 函数.\n",
    "- 对于不同的操作系统,需要注意使用情况,有的系统不响应该操作."
   ]
  },
  {
   "cell_type": "code",
   "execution_count": 1,
   "metadata": {},
   "outputs": [
    {
     "name": "stdout",
     "output_type": "stream",
     "text": [
      "['acerola', 'atemoia', 'açaí', 'caju', 'cajá']\n"
     ]
    }
   ],
   "source": [
    "fruits = ['caju', 'atemoia', 'cajá', 'açaí', 'acerola'] \n",
    "print(sorted(fruits))"
   ]
  },
  {
   "cell_type": "markdown",
   "metadata": {},
   "source": [
    "### 使用Unicode排序算法排序\n",
    "\n",
    "使用PyUCA 库来解决上面的烦恼,Unicode 排序算法（Unicode Collation \n",
    "Algorithm，UCA）的纯 Python 实现。目前支持 Python 3.x版本.这里需要自己去下载,在windows下载路径.\n",
    "\n",
    "PyUCA 没有考虑区域设置,如果想定制排序方式，可以把自定义的排序表路径传给\n",
    "Collator() 构 造 方 法。"
   ]
  },
  {
   "cell_type": "code",
   "execution_count": null,
   "metadata": {},
   "outputs": [],
   "source": [
    "import pyuca\n",
    "coll = pyuca.Collator()\n",
    "fruits = ['caju', 'atemoia', 'cajá', 'açaí', 'acerola'] \n",
    "sorted_fruits = sorted(fruits,key=coll.sort_key)\n",
    "print(sorted_fruits)"
   ]
  },
  {
   "cell_type": "markdown",
   "metadata": {},
   "source": [
    "### Unicode数据库\n",
    "\n",
    "Unicode 标准提供了一个完整的数据库（许多格式化的文本文件），不仅包括码位与字符名称之间的映射，还有各个字符的元数据，以及字符之间的关系。\n",
    "- Unicode 数据库记录了字符是否可以打印 isprintable,\n",
    "- 是不是字母isdecimal,\n",
    "- 是不是数字 isnumeric，\n",
    "- 或者是不是其他数值符号 isidentifier\n",
    "- str.casefold 方法也用到了 Unicode 表中的信息:unicodedata.name()\n",
    "\n",
    "如下案例\n"
   ]
  },
  {
   "cell_type": "code",
   "execution_count": 3,
   "metadata": {},
   "outputs": [
    {
     "name": "stdout",
     "output_type": "stream",
     "text": [
      "U+0031\t  1   \tre_dig\tisdig\tisnum\t 1.00\tDIGIT ONE\n",
      "U+00bc\t  ¼   \t-\t-\tisnum\t 0.25\tVULGAR FRACTION ONE QUARTER\n",
      "U+00b2\t  ²   \t-\tisdig\tisnum\t 2.00\tSUPERSCRIPT TWO\n",
      "U+0969\t  ३   \tre_dig\tisdig\tisnum\t 3.00\tDEVANAGARI DIGIT THREE\n",
      "U+136b\t  ፫   \t-\tisdig\tisnum\t 3.00\tETHIOPIC DIGIT THREE\n",
      "U+216b\t  Ⅻ   \t-\t-\tisnum\t12.00\tROMAN NUMERAL TWELVE\n",
      "U+2466\t  ⑦   \t-\tisdig\tisnum\t 7.00\tCIRCLED DIGIT SEVEN\n",
      "U+2480\t  ⒀   \t-\t-\tisnum\t13.00\tPARENTHESIZED NUMBER THIRTEEN\n",
      "U+3285\t  ㊅   \t-\t-\tisnum\t 6.00\tCIRCLED IDEOGRAPH SIX\n"
     ]
    }
   ],
   "source": [
    "import unicodedata\n",
    "import re\n",
    "\n",
    "re_digit = re.compile(r'\\d')\n",
    "\n",
    "sample = '1\\xbc\\xb2\\u0969\\u136b\\u216b\\u2466\\u2480\\u3285' \n",
    "\n",
    "for char in sample:\n",
    "    print('U+%04x' % ord(char),     # U+0000 格式的码位。\n",
    "         char.center(6),           #在长度为 6 的字符串中居中显示字符\n",
    "         're_dig' if re_digit.match(char) else '-', #如果字符匹配正则表达式 r'\\d'，显示 re_dig\n",
    "         'isdig' if char.isdigit() else '-', #  如果 char.isdigit() 返回 True，显示 isdig\n",
    "          'isnum' if char.isnumeric() else '-', #   如果 char.isnumeric() 返回 True，显示 isnum\n",
    "          format(unicodedata.numeric(char),'5.2f'), #  使用长度为 5、小数点后保留 2 位的浮点数显示数值\n",
    "          unicodedata.name(char), #  Unicode 标准中字符的名称\n",
    "          sep ='\\t'\n",
    "         )\n",
    "    \n",
    "    "
   ]
  },
  {
   "cell_type": "markdown",
   "metadata": {},
   "source": [
    "标准库中的一些函数能接受字符串或字节序列为参数，然后根据类型展现不同的行为\n",
    "\n",
    "###  正则表达式中的字符串和字节序列\n",
    "如果使用字节序列构建正则表达式，\\d 和 \\w 等模式只能匹配 ASCII 字符；相比之下，如果是字符串模式，就能匹配 ASCII 之外的 Unicode 数字或字。\n",
    "可以使用正则表达式搜索字符串和字节序列，但是在后一种情况中，ASCII 范围外的字节不会当成数字和组成单词的字母母。"
   ]
  },
  {
   "cell_type": "code",
   "execution_count": 1,
   "metadata": {},
   "outputs": [
    {
     "name": "stdout",
     "output_type": "stream",
     "text": [
      "Text\n",
      "  'Ramanujan saw ௧௭௨௯ as 1729 = 1³ + 12³ = 9³ + 10³.'\n",
      "Numbers\n",
      "  str  : ['௧௭௨௯', '1729', '1', '12', '9', '10']\n",
      "  bytes: [b'1729', b'1', b'12', b'9', b'10']\n",
      "Words\n",
      "  str  : ['Ramanujan', 'saw', '௧௭௨௯', 'as', '1729', '1³', '12³', '9³', '10³']\n",
      "  bytes: [b'Ramanujan', b'saw', b'as', b'1729', b'1', b'12', b'9', b'10']\n"
     ]
    }
   ],
   "source": [
    "import re \n",
    "\n",
    "# 前两个正则表达式是字符串类型\n",
    "re_numbers_str = re.compile(r'\\d+')\n",
    "re_words_str = re.compile(r'\\w+')\n",
    "\n",
    "# 后两个正则表达式是字节序列类型\n",
    "re_numbers_bytes = re.compile(rb'\\d+')\n",
    "re_words_bytes = re.compile(rb'\\w+') \n",
    "\n",
    "# 要搜索的 Unicode 文本，包括 1729 的泰米尔数字\n",
    "text_str = (\"Ramanujan saw \\u0be7\\u0bed\\u0be8\\u0bef\"\n",
    "            \" as 1729 = 1³ + 12³ = 9³ + 10³.\") \n",
    "\n",
    "# 字节序列只能用字节序列正则表达式搜索\n",
    "text_bytes = text_str.encode('utf_8')\n",
    "\n",
    "print('Text', repr(text_str), sep='\\n  ') \n",
    "print('Numbers') \n",
    "# 字符串模式 r'\\d+' 能匹配泰米尔数字和 ASCII 数字\n",
    "print('  str  :', re_numbers_str.findall(text_str))  \n",
    "#字节序列模式 rb'\\d+' 只能匹配 ASCII 字节中的数字\n",
    "print('  bytes:', re_numbers_bytes.findall(text_bytes))   \n",
    "print('Words') \n",
    "# 字符串模式 r'\\w+' 能匹配字母、上标、泰米尔数字和 ASCII 数字\n",
    "print('  str  :', re_words_str.findall(text_str))      \n",
    "#  字节序列模式 rb'\\w+' 只能匹配 ASCII 字节中的字母和数字\n",
    "print('  bytes:', re_words_bytes.findall(text_bytes))   "
   ]
  },
  {
   "cell_type": "markdown",
   "metadata": {},
   "source": [
    "### os函数中的字符串和字节序列\n",
    "os 模 块 中 的 所 有 函 数、 文 件 名 或 路 径 名 参 数 既 能 使 用 字 符串，也能使用字节序列。如果这样的函数使用字符串参数调用，该参数会使用 sys.getfilesystemencoding() 得到的编解码器自动编码，然后操作系统会使用相同的编解码器解码。\n",
    "\n",
    "- fsencode(filename)  \n",
    "\n",
    "如果 filename 是 str 类型（此外还可能是 bytes 类型），使用 sys.getfilesystemencoding()\n",
    "返回的编解码器把 filename 编码成字节序列；否则，返回未经修改的 filename 字节 \n",
    "序列。\n",
    "\n",
    "- fsdecode(filename)  \n",
    "\n",
    "如 果 filename 是 bytes 类 型（ 此 外 还 可 能 是 str 类 型 ）， 使 用 sys.getfilesystemen- \n",
    "coding() 返回的编解码器把 filename 解码成字符串；否则，返回未经修改的 filename\n",
    "字符串。\n"
   ]
  }
 ],
 "metadata": {
  "kernelspec": {
   "display_name": "Python 3",
   "language": "python",
   "name": "python3"
  },
  "language_info": {
   "codemirror_mode": {
    "name": "ipython",
    "version": 3
   },
   "file_extension": ".py",
   "mimetype": "text/x-python",
   "name": "python",
   "nbconvert_exporter": "python",
   "pygments_lexer": "ipython3",
   "version": "3.6.8"
  },
  "toc": {
   "base_numbering": 1,
   "nav_menu": {},
   "number_sections": true,
   "sideBar": true,
   "skip_h1_title": false,
   "title_cell": "Table of Contents",
   "title_sidebar": "Contents",
   "toc_cell": false,
   "toc_position": {},
   "toc_section_display": true,
   "toc_window_display": false
  }
 },
 "nbformat": 4,
 "nbformat_minor": 2
}
