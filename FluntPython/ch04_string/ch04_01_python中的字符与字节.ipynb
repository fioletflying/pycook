{
 "cells": [
  {
   "cell_type": "markdown",
   "metadata": {},
   "source": [
    "## python中的字符与字节\n",
    "\n",
    "- 字符和Unicode字符是什么,怎么表示\n",
    "- 什么字符的编码和解码\n",
    "- python中有什么字节类型\n",
    "- 如何创建字节\n",
    "- 字节有哪些方法何应用\n",
    "\n",
    "### python中字符的定义\n",
    "\n",
    "#### 字符的基础概念\n",
    "**字符串：**由字符组成的序列  \n",
    "什么是字符呢？  \n",
    "**字符：** python中的定义是Unicode字符，\n",
    "- 在python3中，str对象中获取的元素是**Unicode字符**\n",
    "- 在python2中，str对象中获取的原始**字节序列**\n",
    "\n",
    "#### Unicode字符\n",
    "\n",
    "**字符的标识（码位）**  \n",
    "\n",
    "是 0~1 114 111 的数字（十进制），在 Unicode 标准中以 4~6 个十六进制数字表示，而且加前缀“U+”。\n",
    "例如：字母A的码位是*U+0041,约 10% 的有效码位有对应的字符\n",
    "\n",
    "**字符的具体表述(编码)**\n",
    "\n",
    "**编码**是在码位和字节序列之间转换时使用的算法,有不同的编码算法,如: UTF-8,UTF-16LE.\n",
    "例如 A的码位编成单个字节:`\\x41`(UTF-8),`\\41\\x00`(UTF-16LE)\n",
    "\n",
    "**编码**:把码位转换成字节序列的过程,把人类可读的文本字符串转换成机器可存储或传输的过程\n",
    "**解码**:把字节序列转换成码位的过程,把机器码转换成人类可读的文本字符串的过程\n"
   ]
  },
  {
   "cell_type": "code",
   "execution_count": 7,
   "metadata": {},
   "outputs": [
    {
     "name": "stdout",
     "output_type": "stream",
     "text": [
      "4\n",
      "b'caf\\xc3\\xa9'\n",
      "5\n",
      "café\n",
      "b'\\xe4\\xb8\\xad\\xe5\\x9b\\xbd'\n",
      "6\n"
     ]
    }
   ],
   "source": [
    "# 定义一个字符串\n",
    "s = 'café'\n",
    "print(len(s))\n",
    "# 将字符串编码\n",
    "b = s.encode('utf8')\n",
    "# “é”的码位编码成两个字节\n",
    "print(b)\n",
    "print(len(b))\n",
    "# 将字符串解码\n",
    "c = b.decode('utf8')\n",
    "print(c)\n",
    "\n",
    "d = '中国'\n",
    "e = d.encode('utf8')\n",
    "print(e)\n",
    "print(len(e))"
   ]
  },
  {
   "cell_type": "markdown",
   "metadata": {},
   "source": [
    "### 字节的概念\n",
    "\n",
    "#### bytes 与 bytearray\n",
    "Python两种基本的二进制序列类型:\n",
    "- bytes:不可变类型\n",
    "- bytearray:可变类型\n",
    "python3中,它们对象的各个元素是介于 0~255（含）之间的整数,二进制序列的切片始终是同一类型的二进制序列.\n",
    "虽然二进制序列其实是整数序列，但是它们的字面量表示法表明其中有 ASCII 文本.\n",
    "各个字节的显示方式:\n",
    "- 可打印的 ASCII 范围内的字节（从空格到 ~），使用 ASCII 字符本身:比如这里的'caf'字符\n",
    "- 制表符、换行符、回车符和 \\ 对应的字节，使用转义序列 \\t、\\n、\\r 和 \\\\\n",
    "- 其他字节的值，使用十六进制转义序列（例如，\\x00 是空字节）\n"
   ]
  },
  {
   "cell_type": "code",
   "execution_count": 8,
   "metadata": {},
   "outputs": [
    {
     "name": "stdout",
     "output_type": "stream",
     "text": [
      "b'caf\\xc3\\xa9'\n",
      "99\n",
      "b'c'\n",
      "bytearray(b'caf\\xc3\\xa9')\n",
      "bytearray(b'\\xa9')\n",
      "b'1K\\xce\\xa9'\n"
     ]
    }
   ],
   "source": [
    "cafe = bytes('café',encoding='utf-8')\n",
    "print(cafe)\n",
    "#各个元素是 range(256) 内的整数\n",
    "print(cafe[0])\n",
    "#bytes 对象的切片还是 bytes 对象\n",
    "print(cafe[:1])\n",
    "\n",
    "cafe_arr = bytearray(cafe)\n",
    "print(cafe_arr)\n",
    "#bytearray 对象的切片还是 bytearray 对象\n",
    "print(cafe_arr[-1:])\n",
    "\n",
    "mby = bytes.fromhex('31 4B CE A9')\n",
    "print(mby)"
   ]
  },
  {
   "cell_type": "markdown",
   "metadata": {},
   "source": [
    "#### 字节的方法\n",
    "除 了 格 式 化 方 法（format 和 format_map） 和 几 个 处 理 Unicode 数 据 的 方 法（ 包 括casefold、isdecimal、isidentifier、isnumeric、isprintable 和 encode） 之 外，str 类\n",
    "型的其他方法都支持 bytes 和 bytearray 类型.\n",
    "\n",
    "一个特殊的方法:`fromhex` 解析十六进制数字对构建二进制序列.\n",
    "\n",
    "构建 bytes 或 bytearray 实例还可以调用各自的构造方法\n",
    "- 一个 str 对象和一个 encoding 关键字参数\n",
    "- 一个可迭代对象，提供 0~255 之间的数值\n",
    "- 一个整数，使用空字节创建对应长度的二进制序列\n",
    "-  一个实现了缓冲协议的对象,使用缓冲类对象构建二进制序列是一种低层操作，可能涉及类型转换\n"
   ]
  },
  {
   "cell_type": "code",
   "execution_count": 18,
   "metadata": {},
   "outputs": [
    {
     "name": "stdout",
     "output_type": "stream",
     "text": [
      "b'\\xe7\\x93\\xa6\\xe5\\x8a\\x9b\\xe4\\xba\\xba\\xe5\\xb7\\xa5\\xe6\\x99\\xba\\xe8\\x83\\xbd'\n",
      "[1, 51, 101, 151, 201, 251]\n",
      "b'\\x013e\\x97\\xc9\\xfb'\n",
      "b'\\x00\\x00\\x00\\x00\\x00\\x00\\x00\\x00\\x00\\x00'\n",
      "b'\\xfe\\xff\\xff\\xff\\x00\\x00\\x01\\x00\\x02\\x00'\n"
     ]
    }
   ],
   "source": [
    "# 创建 bytes 或 bytearray 实例还可以调用各自的构造方法\n",
    "import array\n",
    "# 一个 str 对象和一个 encoding 关键字参数\n",
    "b1 = bytes('瓦力人工智能',encoding='utf-8')\n",
    "print(b1)\n",
    "# 一个可迭代对象，提供 0~255 之间的数值\n",
    "mylist = [i for i in range(1,254,50)]\n",
    "print(mylist)\n",
    "b2 = bytes(mylist)\n",
    "print(b2)\n",
    "# 一个整数，使用空字节创建对应长度的二进制序列\n",
    "b3 = bytes(10)\n",
    "print(b3)\n",
    "# 一个实现了缓冲协议的对象\n",
    "numbers = array.array('h',[-2,-1,0,1,2])\n",
    "b4 = bytes(numbers)\n",
    "print(b4)"
   ]
  },
  {
   "cell_type": "markdown",
   "metadata": {},
   "source": [
    "## 结构体和内存视图中字节的使用\n",
    "\n",
    "struct 模块提供了一些函数，把打包的字节序列转换成不同类型字段组成的元组，也可以把元组转换成打包的字节序列\n",
    "\n",
    "memoryview 类不是用于创建或存储字节序列的，而是共享内存，让你访问其他二进制序列、打包的数组和缓冲中的数据切片，而无需复制字节序列.\n",
    "\n"
   ]
  },
  {
   "cell_type": "code",
   "execution_count": 22,
   "metadata": {},
   "outputs": [
    {
     "name": "stdout",
     "output_type": "stream",
     "text": [
      "b'GIF89a\\xe8\\x03q\\x01'\n",
      "(b'GIF', b'89a', 1000, 369)\n"
     ]
    }
   ],
   "source": [
    "#使用 memoryview 和 struct 查看一个 GIF 图像的首部\n",
    "import struct\n",
    "# 结构体的格式：< 是小字节序，3s3s 是两个 3 字节序列，HH 是两个 16 位二进制整数\n",
    "fmt = '<3s3sHH'\n",
    "with open('imgs/01.gif','rb') as fp:\n",
    "    #使用内存中的文件内容创建一个 memoryview 对象…\n",
    "    img = memoryview(fp.read())\n",
    "#然后使用它的切片再创建一个 memoryview 对象；这里不会复制字节序列  \n",
    "header = img[:10]\n",
    "#  转换成字节序列\n",
    "bh = bytes(header)\n",
    "print(bh)\n",
    "#拆包 memoryview 对象，得到一个元组，包含类型、版本、宽度和高度\n",
    "print(struct.unpack(fmt,header))\n",
    "del header\n",
    "del img\n",
    "    \n"
   ]
  }
 ],
 "metadata": {
  "kernelspec": {
   "display_name": "Python 3",
   "language": "python",
   "name": "python3"
  },
  "language_info": {
   "codemirror_mode": {
    "name": "ipython",
    "version": 3
   },
   "file_extension": ".py",
   "mimetype": "text/x-python",
   "name": "python",
   "nbconvert_exporter": "python",
   "pygments_lexer": "ipython3",
   "version": "3.6.8"
  },
  "toc": {
   "base_numbering": 1,
   "nav_menu": {},
   "number_sections": true,
   "sideBar": true,
   "skip_h1_title": false,
   "title_cell": "Table of Contents",
   "title_sidebar": "Contents",
   "toc_cell": false,
   "toc_position": {},
   "toc_section_display": true,
   "toc_window_display": false
  }
 },
 "nbformat": 4,
 "nbformat_minor": 2
}
