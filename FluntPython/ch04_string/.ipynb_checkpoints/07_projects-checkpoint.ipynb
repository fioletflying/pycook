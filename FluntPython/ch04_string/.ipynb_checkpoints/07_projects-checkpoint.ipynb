{
 "cells": [
  {
   "cell_type": "markdown",
   "metadata": {},
   "source": [
    "### 实践小项目 - 密码管理\n",
    "\n",
    "这里有一个对于字符串密码管理的小栗子，都是很简单的操作，你也可以根据这个例子扩展到更加安全和实用的密码管理。通过python快速的获取你的各种密码：Email,blog,weibo，qq等等密码。\n",
    "- 第一步将你的密码存放在一个文件中\n",
    "- 第二步利用命令行读取你要输入的密码\n",
    "- 将密码放到剪贴板中，这样可以之间复制到你要输入的密码登录口。\n",
    "\n",
    "#### "
   ]
  },
  {
   "cell_type": "code",
   "execution_count": null,
   "metadata": {},
   "outputs": [],
   "source": [
    "# python3\n",
    "# 用来管理密码的一个小脚本\n",
    "\n",
    "PASSWORDS = {\n",
    "    'email' : \"123455\",\n",
    "    'blog' : \"123456678\",\n",
    "    'qq':\"123456789\"\n",
    "}\n",
    "\n",
    "import sys,pyperclip\n",
    "\n",
    "if len(sys.argv) < 2:\n",
    "    print('Usage: python pw.py [account] \\\n",
    "            - copy account password')\n",
    "    sys.exit()\n",
    "    \n",
    "account = sys.argv[1]\n",
    "\n",
    "if account in PASSWORDS:\n",
    "    pyperclip.copy(PASSWORDS[account])\n",
    "    print('Password for ' + account + ' copied to clipboard')\n",
    "else:\n",
    "    print('There is no account name ' + account)"
   ]
  }
 ],
 "metadata": {
  "kernelspec": {
   "display_name": "Python 3",
   "language": "python",
   "name": "python3"
  },
  "language_info": {
   "codemirror_mode": {
    "name": "ipython",
    "version": 3
   },
   "file_extension": ".py",
   "mimetype": "text/x-python",
   "name": "python",
   "nbconvert_exporter": "python",
   "pygments_lexer": "ipython3",
   "version": "3.5.3"
  },
  "toc": {
   "base_numbering": 1,
   "nav_menu": {},
   "number_sections": true,
   "sideBar": true,
   "skip_h1_title": false,
   "title_cell": "Table of Contents",
   "title_sidebar": "Contents",
   "toc_cell": false,
   "toc_position": {},
   "toc_section_display": true,
   "toc_window_display": false
  }
 },
 "nbformat": 4,
 "nbformat_minor": 2
}
