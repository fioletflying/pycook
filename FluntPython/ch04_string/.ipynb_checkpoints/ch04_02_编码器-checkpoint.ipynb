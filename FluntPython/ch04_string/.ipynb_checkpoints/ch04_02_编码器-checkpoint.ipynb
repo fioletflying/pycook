{
 "cells": [
  {
   "cell_type": "markdown",
   "metadata": {},
   "source": [
    "## 字符编码器\n",
    "\n",
    "### 常见的编码器\n",
    "\n",
    "Python 自带了超过 100 种编解码器（codec,encoder/decoder），用于在文本和字节之间相互转换。 例如：'utf_8','utf_16'...    \n",
    "\n",
    "这些编码器主要用于如下函数:\n",
    "- open()\n",
    "- str.encode()\n",
    "- bytes.decode()\n",
    "\n",
    "如下实例:\n"
   ]
  },
  {
   "cell_type": "code",
   "execution_count": 1,
   "metadata": {},
   "outputs": [
    {
     "name": "stdout",
     "output_type": "stream",
     "text": [
      "latin_1\tb'El Ni\\xf1o'\n",
      "utf-8\tb'El Ni\\xc3\\xb1o'\n",
      "utf-16\tb'\\xff\\xfeE\\x00l\\x00 \\x00N\\x00i\\x00\\xf1\\x00o\\x00'\n"
     ]
    }
   ],
   "source": [
    "# 不同的编码的格式\n",
    "for codec in ['latin_1','utf-8','utf-16']:\n",
    "    print(codec,'El Niño'.encode(codec),sep='\\t')"
   ]
  },
  {
   "cell_type": "markdown",
   "metadata": {},
   "source": [
    "#### 主要的编码格式如下\n",
    "\n",
    "- latin1（即 iso8859_1）:一 种 重 要 的 编 码， 是 其 他 编 码 的 基 础，\n",
    "- cp1252: Microsoft 制定的 latin1 超集，添加了有用的符号\n",
    "- cp437:IBM PC 最初的字符集，包含框图符号。\n",
    "- gb2312:用于编码简体中文的陈旧标准\n",
    "- utf-8:目前 Web 中最常见的 8 位编码\n",
    "- utf-16le:UTF-16 的 16 位编码方案的一种形式；所有 UTF-16 支持通过转义序列"
   ]
  },
  {
   "cell_type": "markdown",
   "metadata": {},
   "source": [
    "### 编解码问题\n",
    "\n",
    "### 处理UnicodeEncodeError\n",
    "\n",
    "多数非 UTF 编解码器只能处理 Unicode 字符的一小部分子集。把文本转换成字节序列时，如果目标编码中没有定义某个字符，那就会抛出UnicodeEncodeError 异常，\n"
   ]
  },
  {
   "cell_type": "code",
   "execution_count": 8,
   "metadata": {},
   "outputs": [
    {
     "name": "stdout",
     "output_type": "stream",
     "text": [
      "b'S\\xc3\\xa3o Paulo'\n",
      "b'\\xff\\xfeS\\x00\\xe3\\x00o\\x00 \\x00P\\x00a\\x00u\\x00l\\x00o\\x00'\n",
      "b'S\\xe3o Paulo'\n",
      "b'So Paulo'\n",
      "b'S?o Paulo'\n",
      "b'S&#227;o Paulo'\n"
     ]
    }
   ],
   "source": [
    "city ='São Paulo' \n",
    "print(city.encode('utf_8'))\n",
    "print(city.encode('utf_16'))\n",
    "print(city.encode('iso8859_1'))\n",
    "# cp437无法处理ã,会报错误UnicodeEncodeError\n",
    "# 'charmap' codec can't encode character'\\xe3'\n",
    "# print(city.encode('cp437'))\n",
    "\n",
    "# 处理如下:跳过无法编码的字符\n",
    "print(city.encode('cp437',errors='ignore'))\n",
    "\n",
    "# 处理如下:把无法编码的字符替换成 '?'\n",
    "print(city.encode('cp437',errors='replace'))\n",
    "\n",
    "# 处理如下:无法编码的字符替换成 XML 实体\n",
    "print(city.encode('cp437',errors='xmlcharrefreplace'))\n",
    "\n"
   ]
  },
  {
   "cell_type": "markdown",
   "metadata": {},
   "source": [
    "### 处理UnicodeDecodeError\n",
    "不是每一个字节都包含有效的 ASCII 字符，也不是每一个字符序列都是有效的 UTF-8 或UTF-16。因此，把二进制序列转换成文本时，如果假设是这两个编码中的一个，遇到无法转换的字节序列时会抛出 UnicodeDecodeError。\n"
   ]
  },
  {
   "cell_type": "code",
   "execution_count": 13,
   "metadata": {},
   "outputs": [
    {
     "name": "stdout",
     "output_type": "stream",
     "text": [
      "Montréal\n",
      "Montrιal\n",
      "MontrИal\n",
      "Montr�al\n"
     ]
    }
   ],
   "source": [
    "octets = b'Montr\\xe9al'\n",
    "\n",
    "print(octets.decode('cp1252'))\n",
    "print(octets.decode('iso8859_7'))\n",
    "print(octets.decode('koi8_r'))\n",
    "\n",
    "# 'utf-8' codec can't decode byte 0xe9\n",
    "# 无法解码:抛出 UnicodeDecodeError\n",
    "#print(octets.decode('utf_8'))\n",
    "\n",
    "# \\xe9 替换成了“�”\n",
    "print(octets.decode('utf_8',errors='replace'))"
   ]
  },
  {
   "cell_type": "markdown",
   "metadata": {},
   "source": [
    "###  编码加载模块时抛出的SyntaxError\n",
    "\n",
    "Python 3 默认使用 UTF-8 编码源码，Python 2（从 2.5 开始）则默认使用 ASCII.\n"
   ]
  }
 ],
 "metadata": {
  "kernelspec": {
   "display_name": "Python 3",
   "language": "python",
   "name": "python3"
  },
  "language_info": {
   "codemirror_mode": {
    "name": "ipython",
    "version": 3
   },
   "file_extension": ".py",
   "mimetype": "text/x-python",
   "name": "python",
   "nbconvert_exporter": "python",
   "pygments_lexer": "ipython3",
   "version": "3.5.3"
  },
  "toc": {
   "base_numbering": 1,
   "nav_menu": {},
   "number_sections": true,
   "sideBar": true,
   "skip_h1_title": false,
   "title_cell": "Table of Contents",
   "title_sidebar": "Contents",
   "toc_cell": false,
   "toc_position": {},
   "toc_section_display": true,
   "toc_window_display": false
  }
 },
 "nbformat": 4,
 "nbformat_minor": 2
}
