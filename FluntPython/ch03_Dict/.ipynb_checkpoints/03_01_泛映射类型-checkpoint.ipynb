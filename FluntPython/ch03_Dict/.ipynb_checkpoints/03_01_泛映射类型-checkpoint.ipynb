{
 "cells": [
  {
   "cell_type": "markdown",
   "metadata": {},
   "source": [
    "字典是Python的基石，与它相关的内置函数都在`__builtins__.__dict__`模块中。想要理解和掌握背后的原理就需要理解散列表。\n",
    "\n",
    "## 泛映射类型\n",
    "\n",
    "collections.abc 模块中有 Mapping 和 MutableMapping这两个抽象基类，作用是为dict 和其他类似的类型定义形式接口。具体模块如下UML图。\n",
    "\n",
    "![ Mapping 和 MutableMapping](imgs/01.jpg)\n",
    "\n",
    "### 什么是广义的映射类型\n",
    "\n",
    "广义上的映射一般继承Mapping 和 MutableMapping这两个抽象基类。判断一个数据类型是不是映射类型：\n",
    "-  isinstance 来判断，如下实例。\n",
    "通常定义一个映射类，都是通过继承 dict 或是\n",
    "collections.UserDict 进行扩展。在标准库中的映射也都是利用dict来实现的。这样有一个共同点是：\n",
    "- 只有**可散列的**数据类型才能作为映射里面的**键**\n",
    "\n",
    "### 什么是可散列的数据类型\n",
    "\n",
    "官方的解释：\n",
    "`如果一个对象是可散列的，那么在这个对象的生命周期中，它的散列值是不变的，而且这个对象需要实现 __hash__() 方法。另外可散列对象还要有 __eq__()方法， 这样才能跟其他键做比较。如果两个可散列对象是相等的，那么它们的散列值一定是一样的……`\n",
    "其实一句话：不可变数据类型（str、bytes 和数值类型）都属于可散列的数据类型\n",
    "\n",
    "\n"
   ]
  },
  {
   "cell_type": "code",
   "execution_count": 6,
   "metadata": {},
   "outputs": [
    {
     "name": "stdout",
     "output_type": "stream",
     "text": [
      "True\n"
     ]
    }
   ],
   "source": [
    "from collections import abc\n",
    "my_dict = {}\n",
    "print(isinstance(my_dict,abc.Mapping))"
   ]
  }
 ],
 "metadata": {
  "kernelspec": {
   "display_name": "Python 3",
   "language": "python",
   "name": "python3"
  },
  "language_info": {
   "codemirror_mode": {
    "name": "ipython",
    "version": 3
   },
   "file_extension": ".py",
   "mimetype": "text/x-python",
   "name": "python",
   "nbconvert_exporter": "python",
   "pygments_lexer": "ipython3",
   "version": "3.5.3"
  },
  "toc": {
   "base_numbering": 1,
   "nav_menu": {},
   "number_sections": true,
   "sideBar": true,
   "skip_h1_title": false,
   "title_cell": "Table of Contents",
   "title_sidebar": "Contents",
   "toc_cell": false,
   "toc_position": {},
   "toc_section_display": true,
   "toc_window_display": false
  }
 },
 "nbformat": 4,
 "nbformat_minor": 2
}
