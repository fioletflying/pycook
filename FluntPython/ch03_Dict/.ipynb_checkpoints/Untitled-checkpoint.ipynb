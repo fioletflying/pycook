{
 "cells": [
  {
   "cell_type": "markdown",
   "metadata": {},
   "source": [
    "## 字典推导（diccomp）\n",
    "\n",
    "可以从任何以键值对作为元素的可迭代对象中构建出字典。\n",
    "一般可以将元组的列表利用推导变成字典的数据类型。coding如下\n",
    "`country_code = {country:code for code,country in dial_codes}`\n",
    "- 推导的时候利用{}\n",
    "- 在for之前要定义好格式：谁是键，谁是值\n",
    "- 在for中也要将对应的参数放进去：code,country\n",
    "\n"
   ]
  },
  {
   "cell_type": "code",
   "execution_count": 16,
   "metadata": {},
   "outputs": [
    {
     "name": "stdout",
     "output_type": "stream",
     "text": [
      "[(86, 'China'), (91, 'India'), (1, 'United States'), (62, 'Indonesia'), (55, 'Brazil'), (92, 'Pakistan'), (880, 'Bangladesh'), (234, 'Nigeria'), (7, 'Russia'), (81, 'Japan')]\n",
      "{'Brazil': 55, 'Bangladesh': 880, 'Russia': 7, 'China': 86, 'Nigeria': 234, 'Japan': 81, 'Indonesia': 62, 'United States': 1, 'India': 91, 'Pakistan': 92}\n",
      "{880: 'BANGLADESH', 1: 'UNITED STATES', 86: 'CHINA', 55: 'BRAZIL', 7: 'RUSSIA', 234: 'NIGERIA', 91: 'INDIA', 92: 'PAKISTAN', 62: 'INDONESIA', 81: 'JAPAN'}\n"
     ]
    }
   ],
   "source": [
    "dial_codes = [ (86, 'China'), \n",
    "              (91, 'India'), \n",
    "         (1, 'United States'), \n",
    "        (62, 'Indonesia'), \n",
    "        (55, 'Brazil'), \n",
    "         (92, 'Pakistan'), \n",
    "        (880, 'Bangladesh'), \n",
    "         (234, 'Nigeria'), \n",
    "         (7, 'Russia'), \n",
    "        (81, 'Japan') ]\n",
    "\n",
    "print(dial_codes)\n",
    "# 利用推导来获取数据\n",
    "country_code = {country:code for code, country in dial_codes}\n",
    "print(country_code)\n",
    "# 这里\n",
    "country_code2 = {code:country.upper() for code,country in dial_codes}\n",
    "\n",
    "print(country_code2)"
   ]
  },
  {
   "cell_type": "markdown",
   "metadata": {},
   "source": [
    "## 常见的映射方法\n",
    "\n",
    "### 常见的映射方法列表\n",
    "\n",
    " dict、defaultdict 和 OrderedDict 的常见方法，后面两个数据类型是 dict 的变种，如下：\n",
    " ![常见的映射方法](imgs/02.jpg)\n",
    " ![常见的映射方法](imgs/03.jpg)\n",
    " \n",
    " #### 映射类型构造方法常见的逻辑\n",
    " \n",
    " 例如 update 方法：\n",
    " - 函数首先检查 m是否有 keys 方法，如果有，那么 update 函数就把它当作映射对象来处理。\n",
    " - 否则，函数会退一步，转而把 m 当作包含了键值对 (key,  value) 元素的迭代器。"
   ]
  }
 ],
 "metadata": {
  "kernelspec": {
   "display_name": "Python 3",
   "language": "python",
   "name": "python3"
  },
  "language_info": {
   "codemirror_mode": {
    "name": "ipython",
    "version": 3
   },
   "file_extension": ".py",
   "mimetype": "text/x-python",
   "name": "python",
   "nbconvert_exporter": "python",
   "pygments_lexer": "ipython3",
   "version": "3.5.3"
  },
  "toc": {
   "base_numbering": 1,
   "nav_menu": {},
   "number_sections": true,
   "sideBar": true,
   "skip_h1_title": false,
   "title_cell": "Table of Contents",
   "title_sidebar": "Contents",
   "toc_cell": false,
   "toc_position": {},
   "toc_section_display": true,
   "toc_window_display": false
  }
 },
 "nbformat": 4,
 "nbformat_minor": 2
}
