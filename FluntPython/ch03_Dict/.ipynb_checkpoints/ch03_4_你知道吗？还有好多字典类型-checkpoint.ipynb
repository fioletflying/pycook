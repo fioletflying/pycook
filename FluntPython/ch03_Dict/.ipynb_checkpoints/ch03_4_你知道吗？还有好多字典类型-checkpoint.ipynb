{
 "cells": [
  {
   "cell_type": "markdown",
   "metadata": {},
   "source": [
    "## 其他的字典类型\n",
    "\n",
    "这些字典类型都市在collections 标准模块中主要有如下：\n",
    "\n",
    "- 前面见过的：defaultdict 用来处理不存在键\n",
    "- OrderedDict:用来保持顺序的\n",
    "- ChainMap:用来容纳个数不同的映射对象\n",
    "- Counter:用来计数\n",
    "- UserDict:方便用户自定义自己的映射类型\n",
    "\n",
    "### OrderedDict 与ChainMap\n",
    "\n",
    "#### OrderedDict\n",
    "\n",
    "在添加键的时候会保持顺序，因此键的迭代次序总是一致的。所以如果使用popitem 方法删除的时候字典里最后一个元素。\n",
    "\n",
    "#### ChainMap\n",
    "\n",
    "该类型可以容纳数个不同的映射对象，然后在进行键查找操作的时候，这些对象会被当作一个整体被逐个查找，直到键被找到为止。\n",
    "\n",
    "### Counter\n",
    "\n",
    "每次更新一个键的时候都会增加这个计数器。这个类型可以用来计数。或者可以用来计算集合里面元素出现的个数。\n",
    "-  most_common([n]) 返回映射里面最常见的n个键和它们的计数\n"
   ]
  },
  {
   "cell_type": "code",
   "execution_count": 4,
   "metadata": {},
   "outputs": [
    {
     "name": "stdout",
     "output_type": "stream",
     "text": [
      "Counter({'s': 4, 'f': 3, 'a': 2, 'e': 2, 'v': 2, 'l': 1, 'w': 1, 'b': 1, 'd': 1})\n",
      "Counter({'a': 7, 'b': 6, 'c': 5, 's': 4, 'f': 3, 'e': 2, 'v': 2, 'l': 1, 'w': 1, 'd': 1})\n",
      "[('a', 7), ('b', 6), ('c', 5)]\n"
     ]
    }
   ],
   "source": [
    "from collections import Counter\n",
    "\n",
    "ct = Counter('absdfsfsawefsvlev')\n",
    "print(ct)\n",
    "ct.update('aaaaabbbbbccccc')\n",
    "print(ct)\n",
    "print(ct.most_common(3))"
   ]
  },
  {
   "cell_type": "markdown",
   "metadata": {},
   "source": [
    "### 子类化UserDict\n",
    "\n",
    "一般的建议在自定义的映射类型时，建议使用UserDict作为基类，而不要使用dict。因为使用该类比较方便。\n",
    "\n",
    "- dict 类中某些方法需要重写\n",
    "- UserDict 类不是dict的子类，\n",
    "- UserDict 通过一个data属性来实例化dict,这也是数据最终存放的地方。\n",
    "- UserDict 的子类就能在实现 __setitem__ 的时候避免不必要的递归\n",
    "\n",
    "具体coding 如下：\n"
   ]
  },
  {
   "cell_type": "code",
   "execution_count": null,
   "metadata": {},
   "outputs": [],
   "source": [
    "# 继承collections.UserDict\n",
    "import collections\n",
    "\n",
    "class StrKeyDict(collections.UserDict):\n",
    "    \n",
    "    def __missing__(self,key):\n",
    "        if isinstance(key,str):\n",
    "            raise KeyError(key)\n",
    "        return self[str(key)]\n",
    "    \n",
    "    def __contains__(self,key):\n",
    "        return str(key) in self.data\n",
    "    \n",
    "    def __setitem__(self,key,item):\n",
    "        self.data[str(key)] = item"
   ]
  },
  {
   "cell_type": "code",
   "execution_count": null,
   "metadata": {},
   "outputs": [],
   "source": [
    "# 继承dict\n",
    "class StrkeyDict0(dict):\n",
    "    \n",
    "    def __missing__(self,key):\n",
    "        if isinstance(key,str):\n",
    "            raise KeyError(key)\n",
    "        return self[str(key)]\n",
    "    # 考虑递归的问题\n",
    "    def get(self,key,default=None):\n",
    "        try:\n",
    "            return self[key]\n",
    "        except KeyError:\n",
    "            return default\n",
    "        \n",
    "    # 需要  keys 存储格式  \n",
    "    def __contains__(self,key):\n",
    "        return key in self.keys() or str(key) in self.keys()"
   ]
  },
  {
   "cell_type": "markdown",
   "metadata": {},
   "source": [
    "#### UserDict 几个实用的方法\n",
    "\n",
    "由于UserDict 继承是MutableMapping,所以可以关注一下以下两个方法：\n",
    "\n",
    "**MutableMapping.update**\n",
    "\n",
    "可以直接使用，在 __init__ 里，让构造方法可以利用传入的各种参数来新建实例。也就是利用self[key] = value来添加新的值，其实就是使用了__setitem__方法\n",
    "\n",
    "**Mapping.get**\n",
    "继承该方法后，可以很方便实现数据的获取。\n"
   ]
  }
 ],
 "metadata": {
  "kernelspec": {
   "display_name": "Python 3",
   "language": "python",
   "name": "python3"
  },
  "language_info": {
   "codemirror_mode": {
    "name": "ipython",
    "version": 3
   },
   "file_extension": ".py",
   "mimetype": "text/x-python",
   "name": "python",
   "nbconvert_exporter": "python",
   "pygments_lexer": "ipython3",
   "version": "3.5.3"
  },
  "toc": {
   "base_numbering": 1,
   "nav_menu": {},
   "number_sections": true,
   "sideBar": true,
   "skip_h1_title": false,
   "title_cell": "Table of Contents",
   "title_sidebar": "Contents",
   "toc_cell": false,
   "toc_position": {},
   "toc_section_display": true,
   "toc_window_display": false
  }
 },
 "nbformat": 4,
 "nbformat_minor": 2
}
