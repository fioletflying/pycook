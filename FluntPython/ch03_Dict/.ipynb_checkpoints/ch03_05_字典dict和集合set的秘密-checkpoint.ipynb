{
 "cells": [
  {
   "cell_type": "markdown",
   "metadata": {},
   "source": [
    "## 字典dict和集合set的秘密\n",
    "\n",
    "本节你将看到关于字典dict和集合set更加深入的原理，尤其是关于散列在其中的作用，将回答以下问题：\n",
    "- Python 里的 dict 和 set 的效率有多高？\n",
    "-  为什么它们是无序的？\n",
    "-  为什么并不是所有的 Python 对象都可以当作 dict 的键或 set 里的元素？\n",
    "-  为什么 dict 的键和 set 元素的顺序是跟据它们被添加的次序而定的，\n",
    "- 为什么不应该在迭代循环 dict 或是 set 的同时往里添加元素？\n",
    "\n",
    "### dict 和 set 的效率有多高\n",
    "\n",
    "这里做了一个对比实验：对比容器的大小对 dict、set 或 list 的 in 运算符效率的影响。\n",
    "实验的过程：创建了一个有 1000万个双精度浮点数的数组，名叫 haystack。另外还有一个包含了 1000 个浮点数的 needles数组，其中 500 个数字是从 haystack 里挑出来的，另外 500 个肯定不在 haystack 里。\n",
    "\n",
    "![对比实验的结果](imgs/04.jpg)\n",
    "\n",
    "实验的结果:\n",
    "- 最快的时间来自“集合交集花费时间”\n",
    "- 最糟糕的表现来自“列表花费时间”这一列,由于列表背后没有散列支持in运算,所以每次搜索都需要完整的循环一遍.\n",
    "- 不管查询有多少个元素的字典或集合，所耗费的时间都能忽略不计\n",
    "\n",
    "为什么集合和字典查询如此之快?\n",
    "\n",
    "\n"
   ]
  },
  {
   "cell_type": "code",
   "execution_count": 2,
   "metadata": {},
   "outputs": [
    {
     "ename": "FileNotFoundError",
     "evalue": "[Errno 2] No such file or directory: 'selected.arr'",
     "output_type": "error",
     "traceback": [
      "\u001b[1;31m---------------------------------------------------------------------------\u001b[0m",
      "\u001b[1;31mFileNotFoundError\u001b[0m                         Traceback (most recent call last)",
      "\u001b[1;32m<ipython-input-2-0d4afc3d560e>\u001b[0m in \u001b[0;36m<module>\u001b[1;34m\u001b[0m\n\u001b[0;32m      5\u001b[0m \u001b[1;32mimport\u001b[0m \u001b[0marray\u001b[0m\u001b[1;33m\u001b[0m\u001b[0m\n\u001b[0;32m      6\u001b[0m \u001b[0mselected\u001b[0m \u001b[1;33m=\u001b[0m \u001b[0marray\u001b[0m\u001b[1;33m.\u001b[0m\u001b[0marray\u001b[0m\u001b[1;33m(\u001b[0m\u001b[1;34m'd'\u001b[0m\u001b[1;33m)\u001b[0m\u001b[1;33m\u001b[0m\u001b[0m\n\u001b[1;32m----> 7\u001b[1;33m \u001b[1;32mwith\u001b[0m \u001b[0mopen\u001b[0m\u001b[1;33m(\u001b[0m\u001b[1;34m'selected.arr'\u001b[0m\u001b[1;33m,\u001b[0m\u001b[1;34m'rb'\u001b[0m\u001b[1;33m)\u001b[0m \u001b[1;32mas\u001b[0m \u001b[0mfp\u001b[0m\u001b[1;33m:\u001b[0m\u001b[1;33m\u001b[0m\u001b[0m\n\u001b[0m\u001b[0;32m      8\u001b[0m     \u001b[0mselected\u001b[0m\u001b[1;33m.\u001b[0m\u001b[0mfromfile\u001b[0m\u001b[1;33m(\u001b[0m\u001b[0mfp\u001b[0m\u001b[1;33m,\u001b[0m\u001b[1;33m{\u001b[0m\u001b[0msize\u001b[0m\u001b[1;33m}\u001b[0m\u001b[1;33m)\u001b[0m\u001b[1;33m\u001b[0m\u001b[0m\n\u001b[0;32m      9\u001b[0m \u001b[1;32mif\u001b[0m \u001b[1;33m{\u001b[0m\u001b[0mcontainer_tpye\u001b[0m\u001b[1;33m}\u001b[0m \u001b[1;32mis\u001b[0m \u001b[0mdict\u001b[0m\u001b[1;33m:\u001b[0m\u001b[1;33m\u001b[0m\u001b[0m\n",
      "\u001b[1;31mFileNotFoundError\u001b[0m: [Errno 2] No such file or directory: 'selected.arr'"
     ]
    }
   ],
   "source": [
    "import sys\n",
    "import timeit\n",
    "\n",
    "#SETUP='''\n",
    "import array\n",
    "selected = array.array('d')\n",
    "with open('selected.arr','rb') as fp:\n",
    "    selected.fromfile(fp,{size})\n",
    "if {container_tpye} is dict:\n",
    "    haystack = dict.fromkeys(selected,1)\n",
    "else:\n",
    "    haystack = {container_tpye}(selected)\n",
    "if {verbose}:\n",
    "    print(type(haystack),end='  ')\n",
    "    print('haystack:%10d' % len(haystack),end=' ')\n",
    "\n",
    "needles = array.array('d')\n",
    "with open('not_selected.arr','rb') as fp:\n",
    "    needles.fromfile(fp,500)\n",
    "needles.extend(selected[::{size}//500])\n",
    "if{verbose}:\n",
    "    print(' needles: %10d' % len(needles),end='  ')\n",
    "#'''"
   ]
  },
  {
   "cell_type": "markdown",
   "metadata": {},
   "source": [
    "### 字典中的散列表\n",
    "\n",
    "#### 散列表背后是什么\n",
    "\n",
    "**散列表:**是一个稀疏*数组*    \n",
    "**稀疏数组:**总是有空白元素的数组 \n",
    "散列表里的单元通常叫作表元（bucket）,就是最小的单元元素.  \n",
    "例如:dict字典散列表:每一个键值对就是一个表元,每个表元由两部分组成:\n",
    "- 一个是对键的引用\n",
    "- 一个是对值的引用\n",
    "既然是引用那么每个表元的空间大小是一致的,可以通过偏移量来读取某个表元.\n",
    "\n",
    "python中的一个原则:保证大概还有三分之一的表元是空的，所以在快要达到这个阈值的时候，原有的散列表会被复制到一个更大的空间里面。\n",
    "散列表几个特性,如下\n",
    "\n",
    "####  散列值和相等性\n",
    "\n",
    "**散列值:**把一个对象放入散列表，那么首先要计算这个元素键的散列值,通过hash()来获得.\n",
    "\n",
    "- 内置的 hash() 方法可以用于所有的内置类型对象。\n",
    "- 如果两个对象在比较的时候是相等的，那它们的散列值必须相等，否则散列表就不能正常运行了。\n",
    "- 如果 1 == 1.0 为真，那么 hash(1) == hash(1.0) 也必须为真\n",
    "\n",
    "####  散列表的算法\n",
    "\n",
    "为了获取 my_dict[search_key] 背后的值，散列表的具体的算法的流程如下：\n",
    "- Python 首先会调用 hash(search_key) 来计算search_key 的散列值，把这个值最低的几位数字当作偏移量，在散列表里查找表元（具体取几位，得看当前散列表的大小）。\n",
    "- 若找到的表元是空的，则抛出 KeyError 异常。\n",
    "- 若不是空的，则表元里会有一对 found_key:found_value。\n",
    "\n",
    "![散列表的算法](imgs/05.jpg)\n",
    "\n",
    "\n"
   ]
  },
  {
   "cell_type": "code",
   "execution_count": 6,
   "metadata": {},
   "outputs": [
    {
     "name": "stdout",
     "output_type": "stream",
     "text": [
      "1\n",
      "1\n",
      "230584300921345\n",
      "461168601842689\n"
     ]
    }
   ],
   "source": [
    "a = 1\n",
    "b = 1.0\n",
    "c = 1.0001\n",
    "d = 1.0002\n",
    "print(hash(a))\n",
    "print(hash(b))\n",
    "print(hash(c))\n",
    "print(hash(d))"
   ]
  },
  {
   "cell_type": "markdown",
   "metadata": {},
   "source": [
    "### 散列表给dict带来的优缺点\n",
    "\n",
    "#### 键必须是可散列的\n",
    "\n",
    "可散列的对象需要符合如下三个要求:\n",
    "- 支持 hash() 函数，并且通过 __hash__() 方法所得到的散列值是不变的\n",
    "- 支持通过 __eq__() 方法来检测相等性\n",
    "- 若 a == b 为真，则 hash(a) == hash(b) 也为真\n",
    "\n",
    "*所有由用户自定义的对象默认都是可散列的，因为它们的散列值由 id() 来获取\n",
    "\n",
    "#### 字典在内存上的开销巨大\n",
    "由于字典使用了散列表，而散列表又必须是稀疏的.\n",
    "\n",
    "####  键查询很快\n",
    "dict 的实现是典型的空间换时间：字典类型有着巨大的内存开销，但它们提供了无视数据量大小的快速访问——只要字典能被装在内存里。\n",
    "\n",
    "####  键的次序取决于添加顺序\n",
    "当往 dict 里添加新键而又发生散列冲突的时候，新键可能会被安排存放到另一个位置。\n",
    "\n",
    "#### 往字典里添加新键可能会改变已有键的顺序\n",
    "无论何时往字典里添加新的键，Python 解释器都可能做出为字典扩容的决定。扩容导致的结果就是要新建一个更大的散列表，并把字典里已有的元素添加到新表里。\n",
    "\n",
    "**不要对字典同时进行迭代和修改。**"
   ]
  },
  {
   "cell_type": "code",
   "execution_count": 7,
   "metadata": {},
   "outputs": [
    {
     "name": "stdout",
     "output_type": "stream",
     "text": [
      "d1: dict_keys([86, 91, 1, 62, 55, 92, 880, 234, 7, 81])\n",
      "d2: dict_keys([1, 7, 55, 62, 81, 86, 91, 92, 234, 880])\n",
      "d3: dict_keys([880, 55, 86, 91, 62, 81, 234, 92, 7, 1])\n"
     ]
    }
   ],
   "source": [
    "DIAL_CODES = [ \n",
    "        (86, 'China'), \n",
    "        (91, 'India'), \n",
    "        (1, 'United States'), \n",
    "        (62, 'Indonesia'), \n",
    "        (55, 'Brazil'), \n",
    "        (92, 'Pakistan'), \n",
    "        (880, 'Bangladesh'), \n",
    "        (234, 'Nigeria'), \n",
    "        (7, 'Russia'), \n",
    "        (81, 'Japan'), \n",
    "    ] \n",
    "\n",
    "d1 = dict(DIAL_CODES)\n",
    "print('d1:',d1.keys())\n",
    "d2 = dict(sorted(DIAL_CODES))\n",
    "print('d2:',d2.keys())\n",
    "# 数据元组的顺序是按照国家名字的英文拼写来决定的\n",
    "d3 = dict(sorted(DIAL_CODES,key =lambda x:x[1]))\n",
    "print('d3:',d3.keys())\n",
    "#这些字典是相等的，因为它们所包含的数据是一样的\n",
    "assert (d1 == d2 and d2 == d3)"
   ]
  },
  {
   "cell_type": "markdown",
   "metadata": {},
   "source": [
    "### set的实现以及导致的结果\n",
    "\n",
    "set 和 frozenset 的实现也依赖散列表，但在它们的散列表里存放的只有元素的引用.\n",
    "\n",
    "-  集合里的元素必须是可散列的。\n",
    "-  集合很消耗内存。\n",
    "-  可以很高效地判断元素是否存在于某个集合。\n",
    "-  元素的次序取决于被添加到集合里的次序。\n",
    "-  往集合里添加元素，可能会改变集合里已有元素的次序。"
   ]
  }
 ],
 "metadata": {
  "kernelspec": {
   "display_name": "Python 3",
   "language": "python",
   "name": "python3"
  },
  "language_info": {
   "codemirror_mode": {
    "name": "ipython",
    "version": 3
   },
   "file_extension": ".py",
   "mimetype": "text/x-python",
   "name": "python",
   "nbconvert_exporter": "python",
   "pygments_lexer": "ipython3",
   "version": "3.6.8"
  },
  "toc": {
   "base_numbering": 1,
   "nav_menu": {},
   "number_sections": true,
   "sideBar": true,
   "skip_h1_title": false,
   "title_cell": "Table of Contents",
   "title_sidebar": "Contents",
   "toc_cell": false,
   "toc_position": {},
   "toc_section_display": true,
   "toc_window_display": false
  }
 },
 "nbformat": 4,
 "nbformat_minor": 2
}
