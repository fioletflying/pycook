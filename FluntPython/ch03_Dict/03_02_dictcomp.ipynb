{
 "cells": [
  {
   "cell_type": "markdown",
   "metadata": {},
   "source": [
    "## 字典推导（diccomp）\n",
    "\n",
    "可以从任何以键值对作为元素的可迭代对象中构建出字典。\n",
    "一般可以将元组的列表利用推导变成字典的数据类型。coding如下\n",
    "`country_code = {country:code for code,country in dial_codes}`\n",
    "- 推导的时候利用{}\n",
    "- 在for之前要定义好格式：谁是键，谁是值\n",
    "- 在for中也要将对应的参数放进去：code,country\n",
    "\n"
   ]
  },
  {
   "cell_type": "code",
   "execution_count": 16,
   "metadata": {},
   "outputs": [
    {
     "name": "stdout",
     "output_type": "stream",
     "text": [
      "[(86, 'China'), (91, 'India'), (1, 'United States'), (62, 'Indonesia'), (55, 'Brazil'), (92, 'Pakistan'), (880, 'Bangladesh'), (234, 'Nigeria'), (7, 'Russia'), (81, 'Japan')]\n",
      "{'Brazil': 55, 'Bangladesh': 880, 'Russia': 7, 'China': 86, 'Nigeria': 234, 'Japan': 81, 'Indonesia': 62, 'United States': 1, 'India': 91, 'Pakistan': 92}\n",
      "{880: 'BANGLADESH', 1: 'UNITED STATES', 86: 'CHINA', 55: 'BRAZIL', 7: 'RUSSIA', 234: 'NIGERIA', 91: 'INDIA', 92: 'PAKISTAN', 62: 'INDONESIA', 81: 'JAPAN'}\n"
     ]
    }
   ],
   "source": [
    "dial_codes = [ (86, 'China'), \n",
    "              (91, 'India'), \n",
    "         (1, 'United States'), \n",
    "        (62, 'Indonesia'), \n",
    "        (55, 'Brazil'), \n",
    "         (92, 'Pakistan'), \n",
    "        (880, 'Bangladesh'), \n",
    "         (234, 'Nigeria'), \n",
    "         (7, 'Russia'), \n",
    "        (81, 'Japan') ]\n",
    "\n",
    "print(dial_codes)\n",
    "# 利用推导来获取数据\n",
    "country_code = {country:code for code, country in dial_codes}\n",
    "print(country_code)\n",
    "# 这里\n",
    "country_code2 = {code:country.upper() for code,country in dial_codes}\n",
    "\n",
    "print(country_code2)"
   ]
  },
  {
   "cell_type": "markdown",
   "metadata": {},
   "source": [
    "## 常见的映射方法\n",
    "\n",
    "### 常见的映射方法列表\n",
    "\n",
    " dict、defaultdict 和 OrderedDict 的常见方法，后面两个数据类型是 dict 的变种，如下：\n",
    " ![常见的映射方法](imgs/02.jpg)\n",
    " ![常见的映射方法](imgs/03.jpg)\n",
    " \n",
    " #### 映射类型构造方法常见的逻辑\n",
    " \n",
    " 例如 update 方法：\n",
    " - 函数首先检查 m是否有 keys 方法，如果有，那么 update 函数就把它当作映射对象来处理。\n",
    " - 否则，函数会退一步，转而把 m 当作包含了键值对 (key,  value) 元素的迭代器。\n",
    " \n",
    " ### 神奇的setdefault\n",
    " \n",
    " 一般处理字典中找不到键的方法：\n",
    " - 直接用d[k]的时候，python 会直接报错，抛出异常。\n",
    " - d.get(k,default),会返回一个值:default,这个值可以自己修改\n",
    " \n",
    " 这里推荐的方法：\n",
    " - 使用setdefault，就可以节省不少次键查询\n",
    " 为什么可以减少次数，因为setdefault,只需要一次查找，就可以完成新的字典的添加，不需要重复判断`occurrences = index.get(word,[])` 或者`if key not in my_dict`。\n",
    " "
   ]
  },
  {
   "cell_type": "code",
   "execution_count": 10,
   "metadata": {},
   "outputs": [],
   "source": [
    "# 使用d.get(k,default)处理不存在的键\n",
    "\n",
    "def showWord(filePath):\n",
    "    import sys\n",
    "    import re\n",
    "    \n",
    "    # 正则表达式\n",
    "    WORD_RE = re.compile(r'\\w+')\n",
    "\n",
    "    index = {}\n",
    "    with open(filePath,encoding='utf-8') as fp:\n",
    "        for line_no,line in enumerate(fp,1):\n",
    "            for match in WORD_RE.finditer(line):\n",
    "                word = match.group()\n",
    "                column_no = match.start() + 1\n",
    "                location = (line_no,column_no)\n",
    "                # 查找key否存在，不存在则返回一个空列表[]\n",
    "                occurrences = index.get(word,[])\n",
    "                # 将找打的新的数据放到列表的后面\n",
    "                occurrences.append(location)\n",
    "                # 再把列表放到对应的字典中\n",
    "                index[word] = occurrences\n",
    "        # 利用关键字key=参数来排序，\n",
    "        # 意思是在排序前，先将key变成大写字母\n",
    "        for word in sorted(index,key=str.upper):\n",
    "            print(word,index[word])\n",
    "                "
   ]
  },
  {
   "cell_type": "code",
   "execution_count": 11,
   "metadata": {},
   "outputs": [
    {
     "name": "stdout",
     "output_type": "stream",
     "text": [
      "about [(2, 36)]\n",
      "accounts [(1, 29), (2, 92), (3, 36)]\n",
      "AI [(1, 10), (2, 46), (3, 24)]\n",
      "and [(2, 61)]\n",
      "are [(2, 32), (4, 4)]\n",
      "can [(2, 5)]\n",
      "find [(2, 9)]\n",
      "follow [(3, 8)]\n",
      "for [(4, 16)]\n",
      "in [(1, 38), (2, 76)]\n",
      "information [(2, 49)]\n",
      "is [(1, 13)]\n",
      "offical [(2, 84)]\n",
      "official [(1, 20), (3, 27)]\n",
      "papers [(2, 19)]\n",
      "please [(3, 1)]\n",
      "some [(2, 14)]\n",
      "techenical [(2, 65)]\n",
      "The [(1, 1)]\n",
      "the [(1, 16), (2, 42), (3, 15)]\n",
      "this [(2, 79)]\n",
      "waiting [(4, 8)]\n",
      "Wali [(1, 5), (3, 19)]\n",
      "We [(4, 1)]\n",
      "Wechat [(1, 41)]\n",
      "which [(2, 26)]\n",
      "You [(2, 1)]\n",
      "you [(4, 20)]\n"
     ]
    }
   ],
   "source": [
    "showWord(\"waliai.txt\")"
   ]
  },
  {
   "cell_type": "code",
   "execution_count": 17,
   "metadata": {},
   "outputs": [],
   "source": [
    "# 使用setdefault处理不存在的键\n",
    "\n",
    "def showWordBysetdefault(filePath):\n",
    "    import sys\n",
    "    import re\n",
    "    \n",
    "    # 正则表达式\n",
    "    WORD_RE = re.compile(r'\\w+')\n",
    "\n",
    "    index = {}\n",
    "    with open(filePath,encoding='utf-8') as fp:\n",
    "        for line_no,line in enumerate(fp,1):\n",
    "            for match in WORD_RE.finditer(line):\n",
    "                word = match.group()\n",
    "                column_no = match.start() + 1\n",
    "                location = (line_no,column_no)\n",
    "                #使用setdefault 函数来出来\n",
    "                # 如果单词不存在，则把单词和空列表放进映射，返回一个空列表\n",
    "                index.setdefault(word,[]).append(location)\n",
    "        # 利用关键字key=参数来排序，\n",
    "        # 意思是在排序前，先将key变成大写字母\n",
    "        for word in sorted(index,key=str.upper):\n",
    "            print(word,index[word])"
   ]
  },
  {
   "cell_type": "code",
   "execution_count": 18,
   "metadata": {},
   "outputs": [
    {
     "name": "stdout",
     "output_type": "stream",
     "text": [
      "about [(2, 36)]\n",
      "accounts [(1, 29), (2, 92), (3, 36)]\n",
      "AI [(1, 10), (2, 46), (3, 24)]\n",
      "and [(2, 61)]\n",
      "are [(2, 32), (4, 4)]\n",
      "can [(2, 5)]\n",
      "find [(2, 9)]\n",
      "follow [(3, 8)]\n",
      "for [(4, 16)]\n",
      "in [(1, 38), (2, 76)]\n",
      "information [(2, 49)]\n",
      "is [(1, 13)]\n",
      "offical [(2, 84)]\n",
      "official [(1, 20), (3, 27)]\n",
      "papers [(2, 19)]\n",
      "please [(3, 1)]\n",
      "some [(2, 14)]\n",
      "techenical [(2, 65)]\n",
      "The [(1, 1)]\n",
      "the [(1, 16), (2, 42), (3, 15)]\n",
      "this [(2, 79)]\n",
      "waiting [(4, 8)]\n",
      "Wali [(1, 5), (3, 19)]\n",
      "We [(4, 1)]\n",
      "Wechat [(1, 41)]\n",
      "which [(2, 26)]\n",
      "You [(2, 1)]\n",
      "you [(4, 20)]\n"
     ]
    }
   ],
   "source": [
    "showWordBysetdefault(\"waliai.txt\")"
   ]
  },
  {
   "cell_type": "markdown",
   "metadata": {},
   "source": [
    "## 映射的弹性键查询\n",
    "\n",
    "这里要处理一个问题是：有时候为了方便起见，就算某个键在映射里不存在，我们也希望在通过这个键读取值的时候能得到一个默认值。这里两个方法：\n",
    "- 使用defaultdict\n",
    "- 定义一个 dict 的子类，然后在子类中实现 __missing__ 方法。\n",
    "\n",
    "### defaultdict：处理找不到的键的一个选择\n",
    "\n",
    "#### **defaultdict 为什么可以处理不存在的键**\n",
    "因为在定义defaultdict对象的时候会提供一个构造方法，该方法可以处理不存在的键，具体是通过`__getitem__`返回某种默认的值。这个值跟上面setdefault很像。\n",
    "\n",
    "#### 定义defaultdict字典\n",
    "dd = defaultdict(list),如果dd中不存在 key,会如此处理：\n",
    "-  调用 list() 来建立一个新列表。\n",
    "-  把这个新列表作为值，'new-key' 作为它的键，放到 dd 中\n",
    "-  返回这个列表的引用\n",
    "这个就跟setdefault很像一样。\n",
    "\n"
   ]
  },
  {
   "cell_type": "code",
   "execution_count": 21,
   "metadata": {},
   "outputs": [],
   "source": [
    "# 使用defaultdict处理不存在的键\n",
    "\n",
    "def showWordBydefaultdict(filePath):\n",
    "    import sys\n",
    "    import re\n",
    "    import collections\n",
    "    \n",
    "    # 正则表达式\n",
    "    WORD_RE = re.compile(r'\\w+')\n",
    "\n",
    "    index = collections.defaultdict(list)\n",
    "    with open(filePath,encoding='utf-8') as fp:\n",
    "        for line_no,line in enumerate(fp,1):\n",
    "            for match in WORD_RE.finditer(line):\n",
    "                word = match.group()\n",
    "                column_no = match.start() + 1\n",
    "                location = (line_no,column_no)\n",
    "                index[word].append(location)\n",
    "        # 利用关键字key=参数来排序，\n",
    "        # 意思是在排序前，先将key变成大写字母\n",
    "        for word in sorted(index,key=str.upper):\n",
    "            print(word,index[word])"
   ]
  },
  {
   "cell_type": "code",
   "execution_count": 22,
   "metadata": {},
   "outputs": [
    {
     "name": "stdout",
     "output_type": "stream",
     "text": [
      "about [(2, 36)]\n",
      "accounts [(1, 29), (2, 92), (3, 36)]\n",
      "AI [(1, 10), (2, 46), (3, 24)]\n",
      "and [(2, 61)]\n",
      "are [(2, 32), (4, 4)]\n",
      "can [(2, 5)]\n",
      "find [(2, 9)]\n",
      "follow [(3, 8)]\n",
      "for [(4, 16)]\n",
      "in [(1, 38), (2, 76)]\n",
      "information [(2, 49)]\n",
      "is [(1, 13)]\n",
      "offical [(2, 84)]\n",
      "official [(1, 20), (3, 27)]\n",
      "papers [(2, 19)]\n",
      "please [(3, 1)]\n",
      "some [(2, 14)]\n",
      "techenical [(2, 65)]\n",
      "The [(1, 1)]\n",
      "the [(1, 16), (2, 42), (3, 15)]\n",
      "this [(2, 79)]\n",
      "waiting [(4, 8)]\n",
      "Wali [(1, 5), (3, 19)]\n",
      "We [(4, 1)]\n",
      "Wechat [(1, 41)]\n",
      "which [(2, 26)]\n",
      "You [(2, 1)]\n",
      "you [(4, 20)]\n"
     ]
    }
   ],
   "source": [
    "showWordBydefaultdict(\"waliai.txt\")"
   ]
  },
  {
   "cell_type": "markdown",
   "metadata": {},
   "source": [
    "### __missing__：处理找不到的键的又一选择\n",
    "\n",
    "从字面来理解就很容易理解，这个函数是用来处理miss掉键的。而且这里我们要知道的是：  \n",
    "*所有的映射类型在处理找不到的键的时候，都会牵扯到 __missing__ 方法*  \n",
    "\n",
    "dict 基类并没有实现该方法，但是如果自己写的类继承dict,还是可以通过实现该方法来处理不存在键。\n",
    "需要了解的是：__missing__方法只会被__getitem__调用，也就是d[k]这样的格式。\n",
    "\n"
   ]
  },
  {
   "cell_type": "code",
   "execution_count": 23,
   "metadata": {},
   "outputs": [],
   "source": [
    "class StrkeyDict0(dict):\n",
    "    \n",
    "    def __missing__(self,key):\n",
    "        if isinstance(key,str):\n",
    "            raise KeyError(key)\n",
    "        return self[str(key)]\n",
    "    \n",
    "    def get(self,key,default=None):\n",
    "        try:\n",
    "            return self[key]\n",
    "        except KeyError:\n",
    "            return default\n",
    "        \n",
    "    def __contains__(self,key):\n",
    "        return key in self.keys() or str(key) in self.keys()"
   ]
  },
  {
   "cell_type": "code",
   "execution_count": 30,
   "metadata": {},
   "outputs": [
    {
     "name": "stdout",
     "output_type": "stream",
     "text": [
      "tow\n",
      "four\n",
      "test\n"
     ]
    }
   ],
   "source": [
    "d = StrkeyDict0([('2','tow'),('4','four')])\n",
    "print (d['2'])\n",
    "print (d[4])\n",
    "#print(d[3])\n",
    "print(d.get(1,\"test\"))"
   ]
  }
 ],
 "metadata": {
  "kernelspec": {
   "display_name": "Python 3",
   "language": "python",
   "name": "python3"
  },
  "language_info": {
   "codemirror_mode": {
    "name": "ipython",
    "version": 3
   },
   "file_extension": ".py",
   "mimetype": "text/x-python",
   "name": "python",
   "nbconvert_exporter": "python",
   "pygments_lexer": "ipython3",
   "version": "3.5.3"
  },
  "toc": {
   "base_numbering": 1,
   "nav_menu": {},
   "number_sections": true,
   "sideBar": true,
   "skip_h1_title": false,
   "title_cell": "Table of Contents",
   "title_sidebar": "Contents",
   "toc_cell": false,
   "toc_position": {},
   "toc_section_display": true,
   "toc_window_display": false
  }
 },
 "nbformat": 4,
 "nbformat_minor": 2
}
