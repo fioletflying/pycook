{
 "cells": [
  {
   "cell_type": "markdown",
   "metadata": {},
   "source": [
    "## 字典dict和集合set的秘密\n",
    "\n",
    "本节你将看到关于字典dict和集合set更加深入的原理，尤其是关于散列在其中的作用，将回答以下问题：\n",
    "- Python 里的 dict 和 set 的效率有多高？\n",
    "-  为什么它们是无序的？\n",
    "-  为什么并不是所有的 Python 对象都可以当作 dict 的键或 set 里的元素？\n",
    "-  为什么 dict 的键和 set 元素的顺序是跟据它们被添加的次序而定的，\n",
    "- 为什么不应该在迭代循环 dict 或是 set 的同时往里添加元素？\n",
    "\n",
    "### dict 和 set 的效率有多高"
   ]
  },
  {
   "cell_type": "code",
   "execution_count": null,
   "metadata": {},
   "outputs": [],
   "source": [
    "import sys\n",
    "import timeite\n",
    "\n",
    "#SETUP='''\n",
    "import array\n",
    "selected = array.array('d')\n",
    "with open('selected.arr','rb') as fp:\n",
    "    selected.fromfile(fp,{size})\n",
    "if {container_tpye} is dict:\n",
    "    haystack = dict.fromkeys(selected,1)\n",
    "else:\n",
    "    haystack = {container_tpye}(selected)\n",
    "if {verbose}:\n",
    "    print(type(haystack),end='  ')\n",
    "    print('haystack:%10d' % len(haystack),end=' ')\n",
    "\n",
    "needles = array.array('d')\n",
    "with open('not_selected.arr','rb') as fp:\n",
    "    needles.fromfile(fp,500)\n",
    "needles.extend(selected[::{size}//500])\n",
    "if{verbose}:\n",
    "    print(' needles: %10d' % len(needles),end='  ')\n",
    "#'''"
   ]
  }
 ],
 "metadata": {
  "kernelspec": {
   "display_name": "Python 3",
   "language": "python",
   "name": "python3"
  },
  "language_info": {
   "codemirror_mode": {
    "name": "ipython",
    "version": 3
   },
   "file_extension": ".py",
   "mimetype": "text/x-python",
   "name": "python",
   "nbconvert_exporter": "python",
   "pygments_lexer": "ipython3",
   "version": "3.5.3"
  },
  "toc": {
   "base_numbering": 1,
   "nav_menu": {},
   "number_sections": true,
   "sideBar": true,
   "skip_h1_title": false,
   "title_cell": "Table of Contents",
   "title_sidebar": "Contents",
   "toc_cell": false,
   "toc_position": {},
   "toc_section_display": true,
   "toc_window_display": false
  }
 },
 "nbformat": 4,
 "nbformat_minor": 2
}
