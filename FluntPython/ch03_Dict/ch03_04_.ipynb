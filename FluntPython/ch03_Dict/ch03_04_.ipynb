{
 "cells": [
  {
   "cell_type": "markdown",
   "metadata": {},
   "source": [
    "## 不可变映射类型\n",
    "\n",
    "标准库里所有的映射类型都是可变的，从 Python 3.3 开始，types 模块中引入了一个封装类名叫 MappingProxyType。\n",
    "\n",
    "只需要给它一个映射，它会返回一个只读的映射类型。\n",
    "但是如果修改了原有的映射，其也会动态跟着一起被修改。\n",
    "**自己不被修改，原形被修改了，自己跟着一起被改。**\n",
    "coding 实例如下"
   ]
  },
  {
   "cell_type": "code",
   "execution_count": 8,
   "metadata": {},
   "outputs": [
    {
     "name": "stdout",
     "output_type": "stream",
     "text": [
      "{'公众号': '瓦力人工智能'}\n",
      "{'公众号': '瓦力人工智能'}\n",
      "瓦力人工智能\n",
      "{'知乎号': '瓦力人工智能', '公众号': '瓦力人工智能'}\n",
      "{'知乎号': '瓦力人工智能', '公众号': '瓦力人工智能'}\n"
     ]
    }
   ],
   "source": [
    "from types import MappingProxyType\n",
    "d = {'公众号':'瓦力人工智能'}\n",
    "d_proxy = MappingProxyType(d)\n",
    "\n",
    "print(d)\n",
    "print(d_proxy)\n",
    "print(d_proxy['公众号'])\n",
    "\n",
    "# 这里会报错：'mappingproxy' object\n",
    "# does not support item assignment\n",
    "# 无法添加和修改映射\n",
    "# d_proxy['知乎号'] = \"瓦力人工智能\"\n",
    "# d_proxy['公众号'] = \"瓦力人工智能2\"\n",
    "\n",
    "# 通过d来修改是可行，也就是d_proxy可以捕捉\n",
    "# d的任何消息，所以d_proxy是动态的\n",
    "d['知乎号'] = \"瓦力人工智能\"\n",
    "print(d)\n",
    "print(d_proxy)\n"
   ]
  },
  {
   "cell_type": "markdown",
   "metadata": {},
   "source": [
    "## 集合论\n",
    "\n",
    "### 集合的概念\n",
    "\n",
    "什么是集合？这是一个数学概念，在数学分析中第一章就会详细介绍各种集合。在这里我们只需要理解其一个本质就好了：**许多唯一对象的聚集**\n",
    "\n",
    "根据这点，可以利用集合来**去重**\n",
    "\n"
   ]
  },
  {
   "cell_type": "code",
   "execution_count": 9,
   "metadata": {},
   "outputs": [
    {
     "name": "stdout",
     "output_type": "stream",
     "text": [
      "['瓦力', '瓦力人工智能', '瓦力', '瓦力人工智能']\n",
      "{'瓦力', '瓦力人工智能'}\n"
     ]
    }
   ],
   "source": [
    "l = ['瓦力','瓦力人工智能','瓦力','瓦力人工智能']\n",
    "myset = set(l)\n",
    "print(l)\n",
    "print(myset)"
   ]
  }
 ],
 "metadata": {
  "kernelspec": {
   "display_name": "Python 3",
   "language": "python",
   "name": "python3"
  },
  "language_info": {
   "codemirror_mode": {
    "name": "ipython",
    "version": 3
   },
   "file_extension": ".py",
   "mimetype": "text/x-python",
   "name": "python",
   "nbconvert_exporter": "python",
   "pygments_lexer": "ipython3",
   "version": "3.5.3"
  },
  "toc": {
   "base_numbering": 1,
   "nav_menu": {},
   "number_sections": true,
   "sideBar": true,
   "skip_h1_title": false,
   "title_cell": "Table of Contents",
   "title_sidebar": "Contents",
   "toc_cell": false,
   "toc_position": {},
   "toc_section_display": true,
   "toc_window_display": false
  }
 },
 "nbformat": 4,
 "nbformat_minor": 2
}
