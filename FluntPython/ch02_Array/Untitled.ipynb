{
 "cells": [
  {
   "cell_type": "markdown",
   "metadata": {},
   "source": [
    "# 序列构成的数组\n",
    "\n",
    "不管是哪种数据结构，字符串、列表、字节序列、数组、XML 元素，抑或是数据库查询结果，它们都共用一套丰富的操作：迭代、切片、排序，还有拼接。\n",
    "\n",
    "## 内置序列类型\n",
    "\n",
    "**容器序列**\n",
    "- list tupel  collections.deque\n",
    "- 存放不同类型的数据\n",
    "- 所包含的任意类型的对象的*引用*\n",
    "\n",
    "\n",
    "**扁平序列**\n",
    "- str bytes bytearray memoryview array.array\n",
    "- 只能容纳一种类型\n",
    "- 存放的是*值*\n",
    "- 一段连续的内存空间  \n",
    "\n",
    "能否被修改来分类:\n",
    "\n",
    "**可变序列(Sequence)**\n",
    "- list,bytearray,array.array,collections.deque，memoryview\n",
    "\n",
    "**不可变序列(MutableSequence)**\n",
    "- tuple,str,bytes\n",
    "\n",
    "![可变序列与不可变序列](imgs/01.png)\n",
    "\n",
    "\n"
   ]
  },
  {
   "cell_type": "markdown",
   "metadata": {},
   "source": [
    "## 列表推导（list comprehension）与生成表达式（generator expression）\n",
    "\n",
    "列表推导是构建列表（list）的快捷方式，而生成器表达式则可以用来创建其他任何类型的序列。\n",
    "\n",
    "### 列表推导和可读性  \n",
    "\n",
    "格式： \\[x for x in [list]]  \n",
    "语法：Python 会忽略代码里 []、{} 和 () 中的换行,可以省略不太好看的续行符 \\\n",
    "原则： 只用列表推导来*创建新的列表*，并且尽量保持简短。\n"
   ]
  },
  {
   "cell_type": "code",
   "execution_count": 1,
   "metadata": {},
   "outputs": [
    {
     "data": {
      "text/plain": [
       "[97, 98, 99]"
      ]
     },
     "execution_count": 1,
     "metadata": {},
     "output_type": "execute_result"
    }
   ],
   "source": [
    "# exe-列表推导和可读性:字符串变成 Unicode 码位\n",
    "# 利用for\n",
    "symbols = 'abc'\n",
    "codes = []\n",
    "for symbol in symbols:\n",
    "    codes.append(ord(symbol))\n",
    "codes"
   ]
  },
  {
   "cell_type": "code",
   "execution_count": 2,
   "metadata": {},
   "outputs": [
    {
     "data": {
      "text/plain": [
       "[97, 98, 99]"
      ]
     },
     "execution_count": 2,
     "metadata": {},
     "output_type": "execute_result"
    }
   ],
   "source": [
    "symbol = 'abc'\n",
    "codes = [ord(symbol) for symbol in symbols]\n",
    "codes"
   ]
  },
  {
   "cell_type": "code",
   "execution_count": 11,
   "metadata": {},
   "outputs": [
    {
     "data": {
      "text/plain": [
       "[12, 3, 3, 3, 3, 3, 12, 2, 2, 2]"
      ]
     },
     "execution_count": 11,
     "metadata": {},
     "output_type": "execute_result"
    }
   ],
   "source": [
    "list1 = [12,3,3,3,3,3,\n",
    "        12,2,2,2]\n",
    "list1"
   ]
  }
 ],
 "metadata": {
  "kernelspec": {
   "display_name": "Python 3",
   "language": "python",
   "name": "python3"
  },
  "language_info": {
   "codemirror_mode": {
    "name": "ipython",
    "version": 3
   },
   "file_extension": ".py",
   "mimetype": "text/x-python",
   "name": "python",
   "nbconvert_exporter": "python",
   "pygments_lexer": "ipython3",
   "version": "3.5.3"
  },
  "toc": {
   "base_numbering": 1,
   "nav_menu": {},
   "number_sections": true,
   "sideBar": true,
   "skip_h1_title": false,
   "title_cell": "Table of Contents",
   "title_sidebar": "Contents",
   "toc_cell": false,
   "toc_position": {},
   "toc_section_display": true,
   "toc_window_display": false
  }
 },
 "nbformat": 4,
 "nbformat_minor": 2
}
