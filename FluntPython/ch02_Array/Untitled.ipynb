{
 "cells": [
  {
   "cell_type": "markdown",
   "metadata": {},
   "source": [
    "# 列表排序的方法和管理\n",
    "\n",
    "## 列表中的两个排序方法\n",
    "\n",
    "### list.sort 排序\n",
    "\n",
    "list.sort 排序直接对list本身进行排序，不会新建一个新的列表，也就是说不会复制一份原有的列表，返回只仅仅是一个None。\n",
    "\n",
    "**Python的惯例**  \n",
    "如果一个函数或者方法对对象进行的是就地改动，那它就应该返回\n",
    "None，好让调用者知道传入的参数发生了变动，而且并未产生新的对象。例如，random.shuffle函数。\n",
    "\n",
    "### 内置函数sorted 排序\n",
    "\n",
    "sorted排序：会新建一个新的列表作为返回值，该函数可以接受的参数：\n",
    "- 受任何形式的可迭代对象\n",
    "- 不可变序列\n",
    "- 生成器\n",
    "\n",
    "### 排序函数的关键字参数\n",
    "\n",
    "#### reverse\n",
    "\n",
    "- True: 被排序的序列里的元素会以降序输出\n",
    "- False: 默认值\n",
    "\n",
    "\n",
    "#### key\n",
    "\n",
    "- 一个只有一个参数的函数，这个函数会被用在序列里的每一个元素上\n",
    "- 在对一些字符串排序时，可以用 key=str.lower 来实现忽略大小写的排序\n",
    "- 用 key=len 进行基于字符串长度的排序\n"
   ]
  },
  {
   "cell_type": "code",
   "execution_count": 8,
   "metadata": {},
   "outputs": [
    {
     "name": "stdout",
     "output_type": "stream",
     "text": [
      "['apple', 'banana', 'grape', 'raspberry']\n",
      "['grape', 'raspberry', 'apple', 'banana']\n",
      "['raspberry', 'grape', 'banana', 'apple']\n",
      "['grape', 'apple', 'banana', 'raspberry']\n",
      "['raspberry', 'banana', 'grape', 'apple']\n",
      "None\n",
      "['apple', 'banana', 'grape', 'raspberry']\n"
     ]
    }
   ],
   "source": [
    "# 列表中的两个排序方法\n",
    "fruits = ['grape', 'raspberry', 'apple', 'banana']\n",
    "# 新建一个排序列表\n",
    "print(sorted(fruits)) \n",
    "#原列表并未被改变\n",
    "print(fruits) \n",
    "#reverse 降序\n",
    "print(sorted(fruits,reverse=True)) \n",
    "#key的使用\n",
    "print(sorted(fruits,key=len))\n",
    "print(sorted(fruits,reverse=True,key=len))\n",
    "\n",
    "#list.sort的使用，会改变fruits本身\n",
    "print(fruits.sort())\n",
    "print(fruits)\n"
   ]
  },
  {
   "cell_type": "markdown",
   "metadata": {},
   "source": [
    "## 列表排序的管理bisect\n",
    "\n",
    "### 关于bisect模块\n",
    "bisect是一个模块，使用的时候需要import,标准库的 bisect模块提供了二分查找算法主要。包括两个函数：\n",
    "- bisect:利用二分查找算法来在有序序列中查找\n",
    "- insort:利用二分查找算法来在有序序列中插入元素\n",
    "\n",
    "### 用bisect来搜索\n",
    "bisect(haystack,  needle) 在 haystack（干草垛）里搜索 needle（针）的位置，该位置满足的条件是，把 needle 插入这个位置之后，haystack 还能保持升序。\n",
    "\n",
    "- haystack 必须是一个有序的序列。\n",
    "- bisect(haystack,  needle) 查找位置 index\n",
    "- 再用 haystack.insert(index, needle) 来插入新值。\n",
    "\n",
    "#### bisect 两个调优方向\n",
    "\n",
    "- 首先可以用它的两个可选参数——lo 和 hi——来缩小搜寻的范围。\n",
    "- 其次，bisect 函数其实是 bisect_right 函数的别名，后者还有个姊妹函数叫 bisect_left。\n",
    "    - bisect_left 返回的插入位置是原序列中跟被插入元素相等的元素的位置，新元素会被放置于它相等的元素的前面。\n",
    "    -  bisect_right 返回的则是跟它相等的元素之后的位置。\n"
   ]
  },
  {
   "cell_type": "code",
   "execution_count": 18,
   "metadata": {},
   "outputs": [
    {
     "name": "stdout",
     "output_type": "stream",
     "text": [
      "DEMO： bisect\n",
      "haystack ->  1  4  5  6  8 12 15 20 21 23 23 26 29 30\n",
      "31 @ 14      |  |  |  |  |  |  |  |  |  |  |  |  |  |31\n",
      "30 @ 14      |  |  |  |  |  |  |  |  |  |  |  |  |  |30\n",
      "29 @ 13      |  |  |  |  |  |  |  |  |  |  |  |  |29\n",
      "23 @ 11      |  |  |  |  |  |  |  |  |  |  |23\n",
      "22 @  9      |  |  |  |  |  |  |  |  |22\n",
      "10 @  5      |  |  |  |  |10\n",
      " 8 @  5      |  |  |  |  |8 \n",
      " 5 @  3      |  |  |5 \n",
      " 2 @  1      |2 \n",
      " 1 @  1      |1 \n",
      " 0 @  0    0 \n"
     ]
    }
   ],
   "source": [
    "# 演示bisect函数搜索和插入的过程\n",
    "import bisect\n",
    "import sys\n",
    "\n",
    "HAYSTACK =[1, 4, 5, 6, 8, 12, 15, 20, 21, 23, 23, 26, 29, 30]\n",
    "NEEDLES = [0, 1, 2, 5, 8, 10,22, 23, 29, 30, 31] \n",
    "\n",
    "# 打印的格式\n",
    "ROW_FMT = '{0:2d} @ {1:2d}    {2}{0:<2d}'\n",
    "\n",
    "def demo(bisect_fn):\n",
    "    for needle in reversed(NEEDLES):\n",
    "        # 利用bisect_fn找到要插入的位置\n",
    "        position = bisect_fn(HAYSTACK,needle)\n",
    "        offset = position * '  |'\n",
    "        print(ROW_FMT.format(needle,position,offset))\n",
    "\n",
    "\n",
    "if __name__ == '__main__':\n",
    "    if sys.argv[-1] == 'left':\n",
    "        bisect_fn = bisect.bisect_left\n",
    "    else:\n",
    "        bisect_fn = bisect.bisect\n",
    "        \n",
    "    print('DEMO：',bisect_fn.__name__)\n",
    "    print('haystack ->',' '.join('%2d' % n for n in HAYSTACK))\n",
    "    demo(bisect_fn)\n"
   ]
  },
  {
   "cell_type": "markdown",
   "metadata": {},
   "source": [
    "#### 建立一个用数字作为索引的查询表格\n",
    "可以在很长的有序序列中作为 index 的替代，用来更快地查找一个元素的位置。"
   ]
  },
  {
   "cell_type": "code",
   "execution_count": 19,
   "metadata": {},
   "outputs": [
    {
     "name": "stdout",
     "output_type": "stream",
     "text": [
      "['F', 'B', 'F', 'C', 'A', 'C', 'A']\n"
     ]
    }
   ],
   "source": [
    "# 建立一个用数字作为索引的查询表格\n",
    "def grade(score,breakpoints=[60,70,80,90],grade='FDCBA'):\n",
    "    i = bisect.bisect(breakpoints,score)\n",
    "    return grade[i]\n",
    "print([grade(score) for score in [33,80,20,70,90,79,99]])"
   ]
  }
 ],
 "metadata": {
  "kernelspec": {
   "display_name": "Python 3",
   "language": "python",
   "name": "python3"
  },
  "language_info": {
   "codemirror_mode": {
    "name": "ipython",
    "version": 3
   },
   "file_extension": ".py",
   "mimetype": "text/x-python",
   "name": "python",
   "nbconvert_exporter": "python",
   "pygments_lexer": "ipython3",
   "version": "3.5.3"
  },
  "toc": {
   "base_numbering": 1,
   "nav_menu": {},
   "number_sections": true,
   "sideBar": true,
   "skip_h1_title": false,
   "title_cell": "Table of Contents",
   "title_sidebar": "Contents",
   "toc_cell": false,
   "toc_position": {},
   "toc_section_display": true,
   "toc_window_display": false
  }
 },
 "nbformat": 4,
 "nbformat_minor": 2
}
