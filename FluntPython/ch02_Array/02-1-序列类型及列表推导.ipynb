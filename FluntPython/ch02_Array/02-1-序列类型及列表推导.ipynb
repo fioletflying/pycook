{
 "cells": [
  {
   "cell_type": "markdown",
   "metadata": {},
   "source": [
    "# 序列类型及列表推导\n",
    "\n",
    "Python不管是哪种数据结构，字符串、列表、字节序列、数组、XML 元素，抑或是数据库查询结果，它们都共用一套丰富的操作：迭代、切片、排序，还有拼接。\n",
    "\n",
    "## 内置序列类型\n",
    "\n",
    "### 根据存放数据类型分类\n",
    "**容器序列**\n",
    "- list,tupel,collections.deque\n",
    "- 存放不同类型的数据\n",
    "- 所包含的任意类型的对象的*引用*\n",
    "\n",
    "\n",
    "**扁平序列**\n",
    "- str,bytes, bytearray, memoryview, array.array\n",
    "- 只能容纳一种类型\n",
    "- 存放的是*值*\n",
    "- 一段连续的内存空间  \n",
    "\n",
    "### 根据能否被修改分类分类\n",
    "\n",
    "**可变序列(MutableSequence)**\n",
    "- list,bytearray,array.array,collections.deque，memoryview\n",
    "\n",
    "**不可变序列(Sequence)**\n",
    "- tuple,str,bytes\n",
    "\n",
    "\n",
    "可变序列与不可变序列里面继承了一些一些属性和方法，同时MutableSequence是继承Sequence一些方法。具体如下图：\n",
    "![可变序列与不可变序列](imgs/01.png)\n",
    "\n",
    "\n"
   ]
  },
  {
   "cell_type": "markdown",
   "metadata": {},
   "source": [
    "## 列表推导（list comprehension）与生成表达式（generator expression）\n",
    "\n",
    "列表推导是构建列表（list）的快捷方式，而生成器表达式则可以用来创建其他任何类型的序列。\n",
    "\n",
    "### 列表推导和可读性  \n",
    "\n",
    "- 格式： \\[x for x in [list]]  \n",
    "- 语法：Python 会忽略代码里 []、{} 和 () 中的换行,可以省略不太好看的续行符 \\\n",
    "- 原则：只用列表推导来*创建新的列表*，并且尽量保持简短。\n",
    "- 作用：把一个序列或是其他可迭代类型中的元素过滤或是加工，然后再**新建一个列表**。\n",
    "\n",
    "**列表推导同filter和map的比较**\n",
    "\n",
    "filter 和 map 合起来能做的事情，列表推导也可以做，而且还不需要借助难以理解和阅读的 lambda 表达式。\n",
    "\n",
    "\n",
    "** 生成二/高维列表 **\n",
    "\n",
    "笛卡儿积是一个列表，列表里的元素是由输入的可迭代类型的元素对构成的元组,\n",
    "可以使用如下的格式：`[(color,size) for color in colors for size in sizes]`\n"
   ]
  },
  {
   "cell_type": "code",
   "execution_count": 1,
   "metadata": {},
   "outputs": [
    {
     "data": {
      "text/plain": [
       "[97, 98, 99]"
      ]
     },
     "execution_count": 1,
     "metadata": {},
     "output_type": "execute_result"
    }
   ],
   "source": [
    "# exe-列表推导和可读性:字符串变成 Unicode 码位\n",
    "# 利用for\n",
    "symbols = 'abc'\n",
    "codes = []\n",
    "for symbol in symbols:\n",
    "    codes.append(ord(symbol))\n",
    "codes"
   ]
  },
  {
   "cell_type": "code",
   "execution_count": 2,
   "metadata": {},
   "outputs": [
    {
     "data": {
      "text/plain": [
       "[97, 98, 99]"
      ]
     },
     "execution_count": 2,
     "metadata": {},
     "output_type": "execute_result"
    }
   ],
   "source": [
    "symbol = 'abc'\n",
    "codes = [ord(symbol) for symbol in symbols]\n",
    "codes"
   ]
  },
  {
   "cell_type": "code",
   "execution_count": 11,
   "metadata": {},
   "outputs": [
    {
     "data": {
      "text/plain": [
       "[12, 3, 3, 3, 3, 3, 12, 2, 2, 2]"
      ]
     },
     "execution_count": 11,
     "metadata": {},
     "output_type": "execute_result"
    }
   ],
   "source": [
    "list1 = [12,3,3,3,3,3,\n",
    "        12,2,2,2]"
   ]
  },
  {
   "cell_type": "code",
   "execution_count": 7,
   "metadata": {},
   "outputs": [
    {
     "name": "stdout",
     "output_type": "stream",
     "text": [
      "[57, 90, 88, 67, 86]\n",
      "[57, 90, 88, 67, 86]\n"
     ]
    }
   ],
   "source": [
    "# exe-列表推导同filter和map的比较\n",
    "symbols = '123456789ZXCV'\n",
    "beyond_ascii = [ord(s) for s in symbols if ord(s) > 56]\n",
    "print(beyond_ascii)\n",
    "\n",
    "# 利用filter和lambda来过滤\n",
    "beyond_ascii_filter = list(filter(lambda c: c>56,map(ord,symbols)))\n",
    "print(beyond_ascii_filter)\n"
   ]
  },
  {
   "cell_type": "code",
   "execution_count": 13,
   "metadata": {},
   "outputs": [
    {
     "name": "stdout",
     "output_type": "stream",
     "text": [
      "[('black', 's'), ('black', 'm'), ('black', 'l'), ('white', 's'), ('white', 'm'), ('white', 'l')]\n",
      "[('s', 'black'), ('s', 'white'), ('m', 'black'), ('m', 'white'), ('l', 'black'), ('l', 'white')]\n"
     ]
    }
   ],
   "source": [
    "# exe-生成二/高维列表\n",
    "colors = ['black','white']\n",
    "sizes=['s','m','l']\n",
    "tshirts = [(color,size) for color in colors for size in sizes]\n",
    "print(tshirts)\n",
    "# 交换for的位置，hui\n",
    "tshirts2 = [(size,color) for size in sizes \n",
    "                         for color in colors ]\n",
    "print(tshirts2)"
   ]
  },
  {
   "cell_type": "markdown",
   "metadata": {},
   "source": [
    "### 生成器表达式\n",
    "\n",
    "- 格式： \\(x for x in [list])\n",
    "- 原则：生成器表达式背后遵守了迭代器协议,可以逐个地产出元素，而不是先建立一个完整的列表，然后再把这个列表传递到某个构造函数里,能够节省内存\n",
    "- 作用：初始化元组、数组或其他序列类型,要得到庞大的数据，又想让它占用空间少\n"
   ]
  },
  {
   "cell_type": "code",
   "execution_count": 14,
   "metadata": {},
   "outputs": [
    {
     "name": "stdout",
     "output_type": "stream",
     "text": [
      "(97, 98, 99, 49, 50, 51, 52, 53, 54)\n",
      "array('I', [97, 98, 99, 49, 50, 51, 52, 53, 54])\n"
     ]
    }
   ],
   "source": [
    "# 生成器表达式\n",
    "symbols = 'abc123456'\n",
    "t =  tuple(ord(symbol) for symbol in symbols)\n",
    "print(t)\n",
    "\n",
    "import array\n",
    "arr = array.array('I',(ord(symbol) for symbol in symbols))\n",
    "print(arr)\n",
    "        "
   ]
  },
  {
   "cell_type": "code",
   "execution_count": 15,
   "metadata": {},
   "outputs": [
    {
     "name": "stdout",
     "output_type": "stream",
     "text": [
      "black,s\n",
      "black,m\n",
      "black,l\n",
      "white,s\n",
      "white,m\n",
      "white,l\n"
     ]
    }
   ],
   "source": [
    "colors = ['black','white']\n",
    "sizes=['s','m','l']\n",
    "\n",
    "# 用到生成器表达式之后，内存里不会留下一个有 6 个组合的列表，因为生成器表达式会在每次 for \n",
    "# 循环运行时才生成一个组合。\n",
    "for tshirt in ('%s,%s' %(c,s) for c in colors for s in sizes):\n",
    "    print(tshirt)"
   ]
  }
 ],
 "metadata": {
  "kernelspec": {
   "display_name": "Python 3",
   "language": "python",
   "name": "python3"
  },
  "language_info": {
   "codemirror_mode": {
    "name": "ipython",
    "version": 3
   },
   "file_extension": ".py",
   "mimetype": "text/x-python",
   "name": "python",
   "nbconvert_exporter": "python",
   "pygments_lexer": "ipython3",
   "version": "3.5.3"
  },
  "toc": {
   "base_numbering": 1,
   "nav_menu": {},
   "number_sections": true,
   "sideBar": true,
   "skip_h1_title": false,
   "title_cell": "Table of Contents",
   "title_sidebar": "Contents",
   "toc_cell": false,
   "toc_position": {},
   "toc_section_display": true,
   "toc_window_display": false
  }
 },
 "nbformat": 4,
 "nbformat_minor": 2
}
