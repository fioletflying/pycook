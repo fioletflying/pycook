{
 "cells": [
  {
   "cell_type": "markdown",
   "metadata": {},
   "source": [
    "## 元组的理解\n",
    "\n",
    "### 元组和记录\n",
    "\n",
    "元组其实是对数据的记录：元组中的每个元素都存放了记录中一个字段的数据，外加这个字段的位置。正是这个位置信息给数据赋予了意义。\n",
    "\n",
    "如果在任何的表达式里我们在元组内对元素排序，这些元素所携带的信息就会丢失，因为这些信息是跟它们的位置有关的。  \n",
    "\n",
    "元组的记录功能：通过数量和位置信息体现，拆包让元组可以完美地被当作记录来使用。\n",
    "\n"
   ]
  },
  {
   "cell_type": "code",
   "execution_count": 4,
   "metadata": {},
   "outputs": [
    {
     "name": "stdout",
     "output_type": "stream",
     "text": [
      "ja/316000\n",
      "sz/518000\n",
      "sz\n",
      "ja\n"
     ]
    }
   ],
   "source": [
    "gps_coordinates = (33.1,-118.11)\n",
    "city,year,pop,chg = ('sz','2019','1500','0.8')\n",
    "EMS_ids = [('sz','518000'),('ja','316000')]\n",
    "\n",
    "for id in sorted(EMS_ids):\n",
    "    print('%s/%s' % id)\n",
    "# 提取元组中的元素-拆包（unpacking）  \n",
    "# 利用“_”作为占位符\n",
    "for ad,_ in EMS_ids:\n",
    "    print(ad)\n"
   ]
  },
  {
   "cell_type": "markdown",
   "metadata": {},
   "source": [
    "### 元组拆包\n",
    "\n",
    "元组拆包的体现：\n",
    "- 把元组里面的元素赋值给对应的变量`city,year,pop,chg = ('sz','2019','1500','0.8')`\n",
    "- 把对应的元素呈现给对应的函数形参：`print('%s/%s' % id)`\n",
    "\n",
    "所以元组的拆包简单的理解：**提取元组的元素**。至于提前后是用于赋值变量还是打印参数，这个可以根据实际的情况来使用。\n",
    "\n",
    "#### 元组拆包的使用场景\n",
    "\n",
    "**平行赋值**  \n",
    "最好辨认的元组拆包形式，把元组里面的元素赋值给对应的变量。\n",
    "\n",
    "**交换两个变量的值**  \n",
    "`b,a = a,b`  \n",
    "\n",
    "**\\'*'运算符把一个可迭代对象拆开**\n",
    "\n",
    "**让一个函数可以用元组的形式返回多个值**  \n",
    "比如 os.path.split() 函数就会返回以路径和最后一个文件名组成的元组 (path, last_part)\n",
    "\n",
    "#### 用* 来处理剩下的元素\n",
    "在 Python 中，函数用 \\*args 来获取不确定数量的参数算,在平行赋值中，* 前缀只能用在一个变量名前面，但是这个变量可以出现在赋值表达式的任意位置。\n"
   ]
  },
  {
   "cell_type": "code",
   "execution_count": 7,
   "metadata": {},
   "outputs": [
    {
     "name": "stdout",
     "output_type": "stream",
     "text": [
      "(31.1111, 188.98763)\n",
      "31.1111\n",
      "188.98763\n",
      "a: 100 b: 200\n",
      "a: 200 b: 100\n",
      "(2, 4)\n",
      "(2, 4)\n",
      "2 4\n",
      "filename: tuple.py\n"
     ]
    }
   ],
   "source": [
    "#平行赋值\n",
    "lax_coordinates = (31.1111,188.98763)\n",
    "lat,lng = lax_coordinates\n",
    "print(lax_coordinates)\n",
    "print(lat)\n",
    "print(lng)\n",
    "\n",
    "#交换两个变量的值\n",
    "a = 100\n",
    "b = 200\n",
    "print('a:',a,'b:',b)\n",
    "b,a = a,b\n",
    "print('a:',a,'b:',b)\n",
    "\n",
    "#  * 运算符把一个可迭代对象拆开作为函数的参数\n",
    "print(divmod(20,8))\n",
    "t = (20,8)\n",
    "print(divmod(*t))\n",
    "q,t = divmod(*t)\n",
    "print(q,t)\n",
    "\n",
    "# 让一个函数可以用元组的形式返回多个值\n",
    "# 使用_占位符表示忽略不感兴趣的元素\n",
    "import os\n",
    "_,filename = os.path.split('/home/test/tuple.py')\n",
    "print('filename:',filename)"
   ]
  },
  {
   "cell_type": "code",
   "execution_count": 11,
   "metadata": {},
   "outputs": [
    {
     "name": "stdout",
     "output_type": "stream",
     "text": [
      "0 1 [2, 3, 4]\n",
      "0 1 [2]\n",
      "0 1 []\n",
      "0 [1, 2] 3 4\n"
     ]
    }
   ],
   "source": [
    "# 用* 来处理剩下的元素\n",
    "a,b,*rest = range(5)\n",
    "print(a,b,rest)\n",
    "a,b,*rest = range(3)\n",
    "print(a,b,rest)\n",
    "a,b,*rest = range(2)\n",
    "print(a,b,rest)\n",
    "a, *body,c,d = range(5)\n",
    "print(a, body,c,d )"
   ]
  },
  {
   "cell_type": "markdown",
   "metadata": {},
   "source": [
    "### 嵌套元组拆包\n",
    "\n",
    "嵌套元组的形式：  (a,  b,  (c,  d))\n",
    "只要这个接受元组的嵌套结构符合表达式本身的嵌套结构，Python 就可以作出正确的对应.\n"
   ]
  },
  {
   "cell_type": "code",
   "execution_count": 14,
   "metadata": {},
   "outputs": [
    {
     "name": "stdout",
     "output_type": "stream",
     "text": [
      "                |    lat    |   long   \n",
      "Tokyo           |   35.6897 |  139.6917\n",
      "Delhi NCR       |   28.6139 |   77.2089\n",
      "Mexico City     |   19.4333 |  -99.1333\n",
      "New York-Newark |   40.8086 |  -74.0204\n",
      "Sao Paulo       |  -23.5478 |  -46.6358\n"
     ]
    }
   ],
   "source": [
    "metro_areas = [ \n",
    "    ('Tokyo','JP',36.933,(35.689722,139.691667)),  \n",
    "    ('Delhi NCR', 'IN', 21.935, (28.613889, 77.208889)), \n",
    "    ('Mexico City', 'MX', 20.142, (19.433333, -99.133333)), \n",
    "    ('New York-Newark', 'US', 20.104, (40.808611, -74.020386)), \n",
    "    ('Sao Paulo', 'BR', 19.649, (-23.547778, -46.635833)), \n",
    "] \n",
    "\n",
    "print('{:15} | {:^9} | {:^9}'.format('','lat','long'))\n",
    "fmt = '{:15} | {:9.4f} | {:9.4f}'\n",
    "# 符合元组的最后一个元素拆包到由变量构成的元组里\n",
    "for name ,cc,pop,(lat,lng) in metro_areas:\n",
    "    print(fmt.format(name,lat,lng))"
   ]
  },
  {
   "cell_type": "markdown",
   "metadata": {},
   "source": [
    "### 具名元组\n",
    "\n",
    "需要给记录中的字段命名，namedtuple 函数。\n"
   ]
  }
 ],
 "metadata": {},
 "nbformat": 4,
 "nbformat_minor": 2
}
