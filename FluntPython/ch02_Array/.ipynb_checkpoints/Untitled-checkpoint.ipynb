{
 "cells": [
  {
   "cell_type": "markdown",
   "metadata": {},
   "source": [
    "## 除了列表，还有谁谁谁\n",
    "\n",
    "### 数组\n",
    "何时使用数组：需要一个只包含数字的列表；\n",
    "数组可以做什么：\n",
    "- 支持所有跟可变序列有关的操作，包括 .pop、.insert 和 .extend\n",
    "- 提供从文件读取和存入文件的更快的方法，如 .frombytes 和 .tofile\n",
    "\n",
    "如何创建数组\n",
    "- 创建数组需要一个类型码，这个类型码用来表示在底层的 C 语言应该存放怎样的数据类型。\n",
    "-  b 类型码代表的是有符号的字符\n",
    "\n",
    "数组的读取和写入：  \n",
    "array.tofile 和 array.fromfile 用起来很简单，它的速度也很快。"
   ]
  },
  {
   "cell_type": "code",
   "execution_count": 1,
   "metadata": {},
   "outputs": [
    {
     "name": "stdout",
     "output_type": "stream",
     "text": [
      "0.275005837260377\n",
      "10000000\n"
     ]
    }
   ],
   "source": [
    "#从创建一个有 1000 万个随机浮点数的数组\n",
    "from array import array\n",
    "from random import random\n",
    "\n",
    "floats = array('d',(random() for i in range(10**7)))\n",
    "\n",
    "print(floats[-1])\n",
    "print(len(floats))"
   ]
  },
  {
   "cell_type": "code",
   "execution_count": 2,
   "metadata": {},
   "outputs": [],
   "source": [
    "# 写入文件数组\n",
    "fp = open('floats.bin','wb')\n",
    "# 把数组存入一个二进制文件里\n",
    "floats.tofile(fp)\n",
    "fp.close()\n"
   ]
  },
  {
   "cell_type": "code",
   "execution_count": 4,
   "metadata": {},
   "outputs": [
    {
     "name": "stdout",
     "output_type": "stream",
     "text": [
      "0.275005837260377\n",
      "True\n"
     ]
    }
   ],
   "source": [
    "# 读取文件数组\n",
    "floats2 = array('d')\n",
    "fp = open('floats.bin','rb')\n",
    "# 把 1000 万个浮点数从二进制文件里读取出来\n",
    "floats2.fromfile(fp,10**7)\n",
    "fp.close()\n",
    "print(floats2[-1])\n",
    "print(floats == floats2)"
   ]
  },
  {
   "cell_type": "markdown",
   "metadata": {},
   "source": [
    "**列表和数组的属性和方法**\n",
    "\n",
    "![列表和数组的属性和方法对比](imgs/03.jpg)\n",
    "![列表和数组的属性和方法对比](imgs/04.jpg)"
   ]
  },
  {
   "cell_type": "markdown",
   "metadata": {},
   "source": [
    "### 内存视图\n",
    "\n",
    "memoryview 是一个内置类，它能让用户在不复制内容的情况下操作同一个数组的不同切片。在数据结构之间共享内存。\n",
    "memoryview.cast 的概念跟数组模块类似，能用不同的方式读写同一块内存数据，而且内容字节不会随意移动。"
   ]
  },
  {
   "cell_type": "code",
   "execution_count": 11,
   "metadata": {},
   "outputs": [
    {
     "name": "stdout",
     "output_type": "stream",
     "text": [
      "<memory at 0x000001D5ECB1F648>\n",
      "5\n",
      "-2 -1\n",
      "[-2, -1, 0, 1, 2]\n",
      "[254, 255, 255, 255, 0, 0, 1, 0, 2, 0]\n",
      "array('h', [-2, -1, 1024, 1, 2])\n"
     ]
    }
   ],
   "source": [
    "import array\n",
    "\n",
    "numbers = array.array('h',[-2,-1,0,1,2])\n",
    "# memv 里的 5 个元素跟数组里的没有区别\n",
    "memv = memoryview(numbers)\n",
    "# 显示地址\n",
    "print(memv)\n",
    "print(len(memv))\n",
    "print(memv[0],memv[1])\n",
    "print(memv.tolist())\n",
    "\n",
    "#把 memv 里的内容转换成 'B' 类型，也就是无符号字符\n",
    "memv_oct = memv.cast('B')\n",
    "print(memv_oct.tolist())\n",
    "# 把位于位置 5 的字节赋值成 4\n",
    "memv_oct[5] = 4\n",
    "#占 2 个字节的整数的高位字节改成了 4\n",
    "print(numbers)"
   ]
  },
  {
   "cell_type": "markdown",
   "metadata": {},
   "source": [
    "### NumPy和SciPy\n",
    "\n",
    " NumPy 和 SciPy不是标准的Python库，是第三方的库。它们提供的高阶数组和矩阵操作。正是有了这么强大的第三方库，让Python 成为科学计算应用的主流语言。Python的灵活强大也就是基于很多丰富的第三方库。\n",
    " \n",
    " **Numpy:** 实现了多维同质数组（homogeneous array）和矩阵  \n",
    " **Scipy:** SciPy 是基于 NumPy 的另一个库，它提供了很多跟科学计算有关的算法，专为线性代数、数值积分和统计学而设计。\n"
   ]
  },
  {
   "cell_type": "code",
   "execution_count": 9,
   "metadata": {},
   "outputs": [
    {
     "name": "stdout",
     "output_type": "stream",
     "text": [
      "[ 0  1  2  3  4  5  6  7  8  9 10 11]\n",
      "<class 'numpy.ndarray'>\n",
      "(12,)\n",
      "[[ 0  1  2  3]\n",
      " [ 4  5  6  7]\n",
      " [ 8  9 10 11]]\n",
      "(3, 4)\n",
      "[4 5 6 7]\n",
      "[1 5 9]\n"
     ]
    }
   ],
   "source": [
    "import numpy as np\n",
    "a = np.arange(12)\n",
    "print(a)\n",
    "print(type(a))\n",
    "print(a.shape)\n",
    "a.shape = 3,4\n",
    "print(a)\n",
    "print(a.shape)\n",
    "print(a[1])\n",
    "print(a[:,1])\n"
   ]
  }
 ],
 "metadata": {
  "kernelspec": {
   "display_name": "Python 3",
   "language": "python",
   "name": "python3"
  },
  "language_info": {
   "codemirror_mode": {
    "name": "ipython",
    "version": 3
   },
   "file_extension": ".py",
   "mimetype": "text/x-python",
   "name": "python",
   "nbconvert_exporter": "python",
   "pygments_lexer": "ipython3",
   "version": "3.5.3"
  },
  "toc": {
   "base_numbering": 1,
   "nav_menu": {},
   "number_sections": true,
   "sideBar": true,
   "skip_h1_title": false,
   "title_cell": "Table of Contents",
   "title_sidebar": "Contents",
   "toc_cell": false,
   "toc_position": {},
   "toc_section_display": true,
   "toc_window_display": false
  }
 },
 "nbformat": 4,
 "nbformat_minor": 2
}
