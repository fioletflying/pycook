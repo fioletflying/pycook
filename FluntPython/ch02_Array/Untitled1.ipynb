{
 "cells": [
  {
   "cell_type": "markdown",
   "metadata": {},
   "source": [
    "## 切片的高级用法\n",
    "\n",
    "### 为什么忽略最后一个元素\n",
    "\n",
    "在切片的操作中都不会包含最后一个元素，比如b[0:3]:b[0],b[1],b[2]。这样做的目的是：符合\n",
    "Python、C 和其他语言里以 0 作为起始下标的传统。\n",
    "好处有：\n",
    "- 当只有最后一个位置信息时，我们也可以快速看出切片和区间里有几个元素array[:5],返回5个元素\n",
    "- 当起止位置信息都可见时，计算出切片和区间的长度：a[1:4],4-1=3,count = stop-start\n",
    "- 利用任意一个下标来把序列分割成不重叠的两部分:a[：x],a[x:]\n"
   ]
  },
  {
   "cell_type": "code",
   "execution_count": 1,
   "metadata": {},
   "outputs": [
    {
     "name": "stdout",
     "output_type": "stream",
     "text": [
      "[1, 2, 3, 4]\n",
      "[3, 4]\n",
      "[1, 2]\n",
      "[1, 2]\n",
      "[1, 2, 3]\n",
      "[1, 2, 3]\n"
     ]
    }
   ],
   "source": [
    "l = [1,2,3,4,5,6,7]\n",
    "#只有最后一个位置信息\n",
    "print(l[:4])\n",
    "#当起止位置信息都可见\n",
    "print(l[2:4])\n",
    "# 分割成不重叠\n",
    "print(l[:2])\n",
    "print(l[:2])\n",
    "print(l[:3])\n",
    "print(l[:3])\n"
   ]
  },
  {
   "cell_type": "markdown",
   "metadata": {},
   "source": [
    "### 对对象进行切片\n",
    " s[a:b:c] 的形式对 s 在 a 和 b 之间以 c 为间隔取值。c 的值还可以为负，负值意味着反向取值。\n",
    " a:b:c 这种用法只能作为索引或者下标用在 [] 中来返回一个**切片对象**：slice(a,  b,  c)\n",
    " 给切片命名:`SKU = slice(0,6)`\n"
   ]
  },
  {
   "cell_type": "code",
   "execution_count": 4,
   "metadata": {},
   "outputs": [
    {
     "name": "stdout",
     "output_type": "stream",
     "text": [
      "ff\n",
      "iefief\n",
      "ife\n"
     ]
    }
   ],
   "source": [
    "#间隔取值切片\n",
    "s = 'feifei'\n",
    "# 从第一个取到最后一个，间隔为3\n",
    "print(s[::3])\n",
    "# 反向从第一个取到最后一个，间隔为0\n",
    "# 这个可以用来反向\n",
    "print(s[::-1])\n",
    "print(s[::-2])\n"
   ]
  },
  {
   "cell_type": "code",
   "execution_count": 9,
   "metadata": {},
   "outputs": [
    {
     "name": "stdout",
     "output_type": "stream",
     "text": [
      "       $17.5 09  Pimoroni PiBrella             \n",
      "        $4.9 89  6mm Tactile Switch x20        \n",
      "       $28.0 10  Panavise Jr. - PV-201         \n",
      "       $34.9 01  PiTFT Mini Kit 320x240        \n",
      " \n"
     ]
    }
   ],
   "source": [
    "#利用切片对象来实现数据的解析\n",
    "\n",
    "invoice = \"\"\" \n",
    "... 0.....6................................40........52...55........\n",
    "... 1909  Pimoroni PiBrella                    $17.50    3    $52.50 \n",
    "... 1489  6mm Tactile Switch x20                $4.95    2     $9.90 \n",
    "... 1510  Panavise Jr. - PV-201                $28.00    1    $28.00 \n",
    "... 1601  PiTFT Mini Kit 320x240               $34.95    1    $34.95\n",
    "...\"\"\"\n",
    "\n",
    "SKU = slice(0,6)\n",
    "DESCRIPTION = slice(6,40)\n",
    "UNIT_PRICE = slice(40,52)\n",
    "QUANTITY = slice(52,55)\n",
    "ITEM_TOTAL = slice(55,None)\n",
    "line_items = invoice.split('\\n')[2:]\n",
    "for item in line_items:\n",
    "    #print(item)\n",
    "    print(item[UNIT_PRICE],item[DESCRIPTION])"
   ]
  },
  {
   "cell_type": "markdown",
   "metadata": {},
   "source": [
    "### 多维切片和省略\n",
    "\n",
    "**多维切片**\n",
    "[] 运算符里还可以使用以逗号分开的多个索引或者是切片  \n",
    "二维的 numpy.ndarray 就可以用 a[i,j] 这种形式来获取，抑或是用 a[m:n,k:l]的方式来得到**二维切片**。\n",
    "\n",
    "Python 内置的序列类型都是一维的，因此它们只支持单一的索引，成对出现的索引是没有用的。\n",
    "\n",
    "**省略**\n",
    "省略（ellipsis）的正确书写方法是三个英语句号（...）\n",
    "- 也可以用在函数的参数清单中，比如 f(a, ..., z)，或 a[i:...]\n",
    "- 在 NumPy 中，... 用作多维数组切片的快捷方式。如果 x 是四维数组，那么 x[i,  ...] 就是 x[i,  :,  :,  :] 的缩写。\n",
    "\n",
    "### 给切片赋值\n",
    "把切片放在赋值语句的左边，或把它作为 del 操作的对象，我们就可以对序列进行嫁接、切除或就地修改操作。\n",
    "\n",
    "**注意**\n",
    "如果赋值的对象是一个切片，那么赋值语句的右侧必须是个可迭代对象。即便只有单独一个值，也要把它转换成可迭代的序列。\n",
    "\n"
   ]
  },
  {
   "cell_type": "code",
   "execution_count": 18,
   "metadata": {},
   "outputs": [
    {
     "name": "stdout",
     "output_type": "stream",
     "text": [
      "[0, 1, 2, 3, 4, 5, 6, 7, 8, 9]\n",
      "[0, 1, 20, 30, 5, 6, 7, 8, 9]\n",
      "[0, 1, 20, 30, 5, 8, 9]\n",
      "[0, 1, 20, 11, 5, 22, 9]\n",
      "[0, 1, 100, 22, 9]\n"
     ]
    }
   ],
   "source": [
    "# 给切片赋值\n",
    "l = list(range(10))\n",
    "print(l)\n",
    "l[2:5] = [20,30]\n",
    "print(l)\n",
    "del l[5:7]\n",
    "print(l)\n",
    "l[3::2] = [11,22]\n",
    "print(l)\n",
    "l[2:5] = [100]\n",
    "print(l)"
   ]
  },
  {
   "cell_type": "markdown",
   "metadata": {},
   "source": [
    "## 对序列使用+和*\n",
    "通常 + 号两侧的序列由相同类型的数据所构成，在拼接的过程中，两个被操作的序列都不会被修改，Python 会新建一个包含同样类型数据的序列来作为拼接的结果。\n",
    "\n",
    "如果想要把一个序列复制几份然后再拼接起来，更快捷的做法是把这个序列乘以一个整数。  \n",
    "\n",
    "**+ 和 * 都遵循这个规律，不修改原有的操作对象，而是构建一个全新的序列。**\n"
   ]
  },
  {
   "cell_type": "code",
   "execution_count": 20,
   "metadata": {},
   "outputs": [
    {
     "name": "stdout",
     "output_type": "stream",
     "text": [
      "[1, 2, 3, 4, 5, 6]\n",
      "abcdabcdabcdabcdabcd\n"
     ]
    }
   ],
   "source": [
    "# 序列使用+和*\n",
    "l1 = [1,2,3]\n",
    "l2 = [4,5,6]\n",
    "print(l1+l2)\n",
    "print(5 * 'abcd')"
   ]
  },
  {
   "cell_type": "markdown",
   "metadata": {},
   "source": [
    "### 建立由列表组成的列表\n",
    "\n",
    "有时我们会需要初始化一个嵌套着几个列表的列表,最好的选择是使用列表推导."
   ]
  },
  {
   "cell_type": "code",
   "execution_count": 22,
   "metadata": {},
   "outputs": [
    {
     "name": "stdout",
     "output_type": "stream",
     "text": [
      "[['_', '_', '_'], ['_', '_', '_'], ['_', '_', '_']]\n",
      "[['_', '_', '_'], ['_', '_', 'X'], ['_', '_', '_']]\n"
     ]
    }
   ],
   "source": [
    "board = [['_'] * 3 for i in range(3)]\n",
    "print(board)\n",
    "board[1][2] = 'X'\n",
    "print(board)"
   ]
  }
 ],
 "metadata": {
  "kernelspec": {
   "display_name": "Python 3",
   "language": "python",
   "name": "python3"
  },
  "language_info": {
   "codemirror_mode": {
    "name": "ipython",
    "version": 3
   },
   "file_extension": ".py",
   "mimetype": "text/x-python",
   "name": "python",
   "nbconvert_exporter": "python",
   "pygments_lexer": "ipython3",
   "version": "3.5.3"
  },
  "toc": {
   "base_numbering": 1,
   "nav_menu": {},
   "number_sections": true,
   "sideBar": true,
   "skip_h1_title": false,
   "title_cell": "Table of Contents",
   "title_sidebar": "Contents",
   "toc_cell": false,
   "toc_position": {},
   "toc_section_display": true,
   "toc_window_display": false
  }
 },
 "nbformat": 4,
 "nbformat_minor": 2
}
