{
 "cells": [
  {
   "cell_type": "markdown",
   "metadata": {},
   "source": [
    "## python 中支持函数式编程内置模块\n",
    "\n",
    "主要有以下两个主要的内置模块：\n",
    "- operator\n",
    "- functools\n",
    "\n",
    "### operator 模块\n",
    "\n",
    "如何不使用递归来计算阶乘，我们知道可以使用sum来累计求和，但是怎么来累积求乘积呢？\n",
    "这里我们看看传统的做法，利用reduce 和 匿名函数。 关于reduce函数在匿名函数那节有过介绍，大家可以参考。\n",
    "\n",
    "reduce官方的介绍如下:\n",
    "> Apply a function of two arguments cumulatively to the items of a sequence,from left to right, so as to reduce the sequence to a single value\n",
    "\n",
    ">reduce(lambda x, y: x+y, [1, 2, 3, 4, 5]) calculates ((((1+2)+3)+4)+5). \n",
    "\n",
    "还有一种我们这里推荐的一种写法，就是利用operator 中的算术运算符来实现。"
   ]
  },
  {
   "cell_type": "code",
   "execution_count": 1,
   "metadata": {},
   "outputs": [],
   "source": [
    "# 利用reduce 和 匿名函数\n",
    "from functools import reduce\n",
    "\n",
    "def fact(n):\n",
    "    return reduce(lambda a,b:a*b,range(1,n+1))"
   ]
  },
  {
   "cell_type": "code",
   "execution_count": null,
   "metadata": {},
   "outputs": [],
   "source": [
    "# 使用 reduce 和 operator.mul 函数计算阶乘\n",
    "from functools import reduce\n",
    "from operator import mul\n",
    "\n",
    "def fact(n):\n",
    "    return reduce(mul,range(1,n+1))\n"
   ]
  },
  {
   "cell_type": "markdown",
   "metadata": {},
   "source": [
    "#### itemgetter \n",
    "\n",
    "- 能替代从序列中取出元素或读取对象属性的 lambda 表达\n",
    "式\n",
    "- itemgetter 和 attrgetter 其实会自行构建函数\n",
    "\n",
    "先来看看itemgetter 常见的用法：\n",
    "- 根据元组的某个字段给元组列表排序\n",
    "- 多个参数传给 itemgetter，它构建的函数会返回提取的值构成的元组\n",
    "\n",
    "以下实例中：itemgetter作用就是 lambda  fields:  fields[1]  创建一个接受集合的函数\n",
    "\n"
   ]
  },
  {
   "cell_type": "code",
   "execution_count": 1,
   "metadata": {},
   "outputs": [
    {
     "name": "stdout",
     "output_type": "stream",
     "text": [
      "('Sao Paulo', 'BR', 19.649, (-23.547778, -46.635833))\n",
      "('Delhi NCR', 'IN', 21.935, (28.613889, 77.208889))\n",
      "('Tokyo', 'JP', 36.933, (35.689722, 139.691667))\n",
      "('Mexico City', 'MX', 20.142, (19.433333, -99.133333))\n",
      "('New York-Newark', 'US', 20.104, (40.808611, -74.020386))\n",
      "('JP', 'Tokyo')\n",
      "('IN', 'Delhi NCR')\n",
      "('MX', 'Mexico City')\n",
      "('US', 'New York-Newark')\n",
      "('BR', 'Sao Paulo')\n"
     ]
    }
   ],
   "source": [
    "metor_data= [ \n",
    "     ('Tokyo', 'JP', 36.933, (35.689722, 139.691667)), \n",
    "     ('Delhi NCR', 'IN', 21.935, (28.613889, 77.208889)), \n",
    "     ('Mexico City', 'MX', 20.142, (19.433333, -99.133333)), \n",
    "     ('New York-Newark', 'US', 20.104, (40.808611, -74.020386)), \n",
    "     ('Sao Paulo', 'BR', 19.649, (-23.547778, -46.635833)), \n",
    " ] \n",
    "\n",
    "from operator import itemgetter\n",
    "for city in sorted(metor_data,key= itemgetter(1)):\n",
    "    print(city)\n",
    "# 如果把多个参数传给 itemgetter，它构建的函数会返回提取的值构成的元组\n",
    "cc_name = itemgetter(1, 0) \n",
    "for city in metor_data:\n",
    "    print(cc_name(city))\n"
   ]
  },
  {
   "cell_type": "markdown",
   "metadata": {},
   "source": [
    "####  attrgetter\n",
    "它创建的函数根据名称提取对象的属性.\n",
    "- 根据名称，这里的名称就是属性的名称\n",
    "- 获得对象对应的属性值\n",
    "例如：`attrgetter('name')` 就可以获得对像的name属性\n",
    "\n",
    "如果把多个属性名传给 attrgetter，它也会返回提取的值构成的元组。\n",
    "例如：`attrgetter('name','age')` 就可以获得对像的(name,age)属性\n",
    "\n",
    "如果参数名中包含 .（点号），attrgetter 会深入嵌套对象，获取指定的属性。\n",
    "例如：`attrgetter('name','point.x')` 就可以获得对像的(name,point.x)属性\n",
    "\n",
    "具体实例如下：\n"
   ]
  },
  {
   "cell_type": "code",
   "execution_count": 6,
   "metadata": {},
   "outputs": [
    {
     "name": "stdout",
     "output_type": "stream",
     "text": [
      "Metropolis(name='Tokyo', cc='JP', pop=36.933, coord=latLong(lat=35.689722, long=139.691667))\n",
      "35.689722\n",
      "('Sao Paulo', -23.547778)\n",
      "('Mexico City', 19.433333)\n",
      "('Delhi NCR', 28.613889)\n",
      "('Tokyo', 35.689722)\n",
      "('New York-Newark', 40.808611)\n"
     ]
    }
   ],
   "source": [
    "# 定义一个 namedtuple，名为 metro_data（与示例 5-23 中的列表相同），演示使\n",
    "#用 attrgetter 处理它\n",
    "from collections import namedtuple\n",
    "#  使用 namedtuple 定义 经纬度\n",
    "LatLong = namedtuple('latLong','lat long')\n",
    "# 定义 Metropolis\n",
    "Metropolis = namedtuple('Metropolis','name cc pop coord')\n",
    "#  使用 Metropolis 实例构建 metro_areas 列表\n",
    "# 使用嵌套的元组拆包提取(lat, long)，\n",
    "#然后使用它们构建 LatLong，作为 Metropolis 的 coord 属性。\n",
    "metro_areas = [Metropolis(name,cc,pop,LatLong(lat,long))\n",
    "              for name,cc,pop,(lat,long) in metor_data]\n",
    "print(metro_areas[0])\n",
    "# 获得嵌套的属性\n",
    "print(metro_areas[0].coord.lat)\n",
    "\n",
    "from operator import attrgetter\n",
    "#  定义一个 attrgetter，\n",
    "# 获取 name 属性和嵌套的 coord.lat 属性。\n",
    "name_lat = attrgetter('name','coord.lat')\n",
    "# 再次使用 attrgetter，按照纬度排序城市列表\n",
    "for city in sorted(metro_areas,\n",
    "                   key=attrgetter('coord.lat')):\n",
    "    print(name_lat(city))\n"
   ]
  },
  {
   "cell_type": "markdown",
   "metadata": {},
   "source": [
    "下面是 operator 模块中定义的部分函数,这 52 个名称中大部分的作用不言而喻。以 i 开头、后面是另一个运算符的那些名称（如iadd、iand 等），对应的是增量赋值运算符（如 +=、&= 等）"
   ]
  },
  {
   "cell_type": "code",
   "execution_count": 8,
   "metadata": {},
   "outputs": [
    {
     "data": {
      "text/plain": [
       "['abs',\n",
       " 'add',\n",
       " 'and_',\n",
       " 'attrgetter',\n",
       " 'concat',\n",
       " 'contains',\n",
       " 'countOf',\n",
       " 'delitem',\n",
       " 'eq',\n",
       " 'floordiv',\n",
       " 'ge',\n",
       " 'getitem',\n",
       " 'gt',\n",
       " 'iadd',\n",
       " 'iand',\n",
       " 'iconcat',\n",
       " 'ifloordiv',\n",
       " 'ilshift',\n",
       " 'imatmul',\n",
       " 'imod',\n",
       " 'imul',\n",
       " 'index',\n",
       " 'indexOf',\n",
       " 'inv',\n",
       " 'invert',\n",
       " 'ior',\n",
       " 'ipow',\n",
       " 'irshift',\n",
       " 'is_',\n",
       " 'is_not',\n",
       " 'isub',\n",
       " 'itemgetter',\n",
       " 'itruediv',\n",
       " 'ixor',\n",
       " 'le',\n",
       " 'length_hint',\n",
       " 'lshift',\n",
       " 'lt',\n",
       " 'matmul',\n",
       " 'methodcaller',\n",
       " 'mod',\n",
       " 'mul',\n",
       " 'ne',\n",
       " 'neg',\n",
       " 'not_',\n",
       " 'or_',\n",
       " 'pos',\n",
       " 'pow',\n",
       " 'rshift',\n",
       " 'setitem',\n",
       " 'sub',\n",
       " 'truediv',\n",
       " 'truth',\n",
       " 'xor']"
      ]
     },
     "execution_count": 8,
     "metadata": {},
     "output_type": "execute_result"
    }
   ],
   "source": [
    "import operator\n",
    "\n",
    "[name for name in dir(operator) if not name.startswith('_')]"
   ]
  },
  {
   "cell_type": "markdown",
   "metadata": {},
   "source": [
    "### 使用functools.partial冻结参数\n",
    "\n",
    "functools 模块提供了一系列高阶函数\n",
    "- reduce\n",
    "- partial\n",
    "- partialmethold\n",
    "\n",
    "functools.partialmethod 函数（Python 3.4 新增）的作用与 partial 一样，不过是用于处\n",
    "理方法的。\n",
    "\n",
    "**partial**\n",
    "\n",
    "> functools.partial(func[,*args][, **kwargs])\n",
    "> partial 函数的功能就是：把一个函数的某些参数给固定住，返回一个新的函数\n",
    "\n",
    "具体实例如下："
   ]
  },
  {
   "cell_type": "code",
   "execution_count": 16,
   "metadata": {},
   "outputs": [
    {
     "name": "stdout",
     "output_type": "stream",
     "text": [
      "21\n",
      "[3, 6, 9, 12, 15, 18, 21, 24, 27]\n",
      "[3, 6, 9, 12, 15, 18, 21, 24, 27]\n"
     ]
    }
   ],
   "source": [
    "from operator import mul\n",
    "from functools import partial\n",
    "#  使用 mul 创建 triple 函数，把第一个定位参数定为 3\n",
    "triple = partial(mul,3)\n",
    "# 测试 triple 函数: 7 * 3\n",
    "print(triple(7))\n",
    "# 在 map 中使用 triple；\n",
    "print(list(map(triple,range(1,10))))\n",
    "# 在这个示例中不能使用 mul,需要两个参数\n",
    "#print(list(map(mul,range(1,10)))\n",
    "# 要传入两个tuple进去才满足这样的要求\n",
    "print(list(map(mul,range(1,10),(3,)*10)))"
   ]
  },
  {
   "cell_type": "code",
   "execution_count": 17,
   "metadata": {},
   "outputs": [],
   "source": [
    "def tag(name,*content,cls=None,**attrs):\n",
    "    '''生成一个或多个HTML标签'''\n",
    "    if cls is not None:\n",
    "        attrs['class'] = cls\n",
    "    if attrs:\n",
    "        attr_str = ''.join(' %s=\"%s\"' % (attr,value) for attr,value in sorted(attrs.items()))\n",
    "    else:\n",
    "        attr_str =''\n",
    "    if content:\n",
    "        return '\\n'.join('<%s%s>%s</%s>'%\n",
    "                        (name,attr_str,c,name) for\n",
    "                        c in content)\n",
    "    else:\n",
    "        return '<%s%s />'%(name,attr_str)"
   ]
  },
  {
   "cell_type": "code",
   "execution_count": 23,
   "metadata": {},
   "outputs": [
    {
     "name": "stdout",
     "output_type": "stream",
     "text": [
      "<function tag at 0x000001CF3D5C6BF8>\n",
      "<img class=\"pic-frame\" src=\"test.jpg\" />\n",
      "functools.partial(<function tag at 0x000001CF3D5C6BF8>, 'img', cls='pic-frame')\n",
      "<function tag at 0x000001CF3D5C6BF8>\n",
      "('img',)\n",
      "{'cls': 'pic-frame'}\n"
     ]
    }
   ],
   "source": [
    "print(tag)\n",
    "from functools import partial\n",
    "#使用 tag 创建 picture 函数\n",
    "picture = partial(tag,'img',cls='pic-frame')\n",
    "print(picture(src='test.jpg'))\n",
    "# partial() 返回一个 functools.partial 对象\n",
    "print(picture)\n",
    "# functools.partial 对象提供了访问原函数和固定参数的属性\n",
    "print( picture.func)\n",
    "print(picture.args)\n",
    "print(picture.keywords)"
   ]
  }
 ],
 "metadata": {
  "kernelspec": {
   "display_name": "Python 3",
   "language": "python",
   "name": "python3"
  },
  "language_info": {
   "codemirror_mode": {
    "name": "ipython",
    "version": 3
   },
   "file_extension": ".py",
   "mimetype": "text/x-python",
   "name": "python",
   "nbconvert_exporter": "python",
   "pygments_lexer": "ipython3",
   "version": "3.5.3"
  },
  "toc": {
   "base_numbering": 1,
   "nav_menu": {},
   "number_sections": true,
   "sideBar": true,
   "skip_h1_title": false,
   "title_cell": "Table of Contents",
   "title_sidebar": "Contents",
   "toc_cell": false,
   "toc_position": {},
   "toc_section_display": true,
   "toc_window_display": false
  }
 },
 "nbformat": 4,
 "nbformat_minor": 2
}
