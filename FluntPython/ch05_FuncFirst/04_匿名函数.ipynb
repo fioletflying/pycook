{
 "cells": [
  {
   "cell_type": "markdown",
   "metadata": {},
   "source": [
    "## pyhotn中7种可调用对象\n",
    "\n",
    "### 匿名函数\n",
    "\n",
    "匿名函数的关键字是**lambda**\n",
    "需要注意在python的匿名函数需要注意以下几点：\n",
    "- 只能使用纯表达式\n",
    "- 在定义过程中不能赋值\n",
    "- 不能使用while，try等语句\n",
    "\n",
    "推荐使用的场景：\n",
    "- 用在作为函数参数传给高价函数\n",
    "\n",
    "下面是一个例子：\n"
   ]
  },
  {
   "cell_type": "code",
   "execution_count": 1,
   "metadata": {},
   "outputs": [
    {
     "name": "stdout",
     "output_type": "stream",
     "text": [
      "['banana', 'apple', 'fig', 'raspberry', 'strawberry', 'cherry']\n"
     ]
    }
   ],
   "source": [
    "# 使用lambda表达式反转拼写\n",
    "fruits=['strawberry', 'fig', \n",
    "        'apple', 'cherry', \n",
    "        'raspberry', 'banana'] \n",
    "# word[::-1] 将单词反转\n",
    "print(sorted(fruits,key=lambda word:word[::-1]))"
   ]
  },
  {
   "cell_type": "markdown",
   "metadata": {},
   "source": [
    "由于句法上的限制，lambda表达式无法写出和阅读，这里给出一个重构方法。\n",
    ">- 编写注释，说明 lambda 表达式的作用。\n",
    ">- 研究一会儿注释，并找出一个名称来概括注释。\n",
    ">- 把 lambda 表达式转换成 def 语句，使用那个名称来定义函数。\n",
    ">- 删除注释。"
   ]
  },
  {
   "cell_type": "markdown",
   "metadata": {},
   "source": [
    "### 可调用对象\n",
    "\n",
    "这里先介绍一个调用运算符**\\(\\)**, 这是我们经常使用的，比如函数的使用就是需要一个().这里除了函数，还其他的对象可以把被调用。  \n",
    "怎么判断一个对象是否可以被调用呢？\n",
    "**使用内置的`callabel()`函数**\n",
    "7中可调用的对象如下：\n",
    "\n",
    "#### 用户定义的函数\n",
    "使用 def 语句或 lambda 表达式创建\n",
    "\n",
    "#### 内置函数\n",
    "使用 C 语言（CPython）实现的函数，如 `len` 或 `time.strftime`\n",
    "\n",
    "#### 内置方法\n",
    "使用 C 语言实现的方法，如 `dict.get`\n",
    "\n",
    "#### 方法\n",
    "在类的定义体中定义的函数\n",
    "\n",
    "#### 类\n",
    "调用类时会运行类的 `__new__` 方法创建一个实例，然后运行 `__init__` 方法，初始化实例，最后把实例返回给调用方\n",
    "\n",
    "#### 类的实例\n",
    "如果类定义了 __call__ 方法，那么它的实例可以作为函数调用\n",
    "\n",
    "#### 生成器函数\n",
    "使用 yield 关键字的函数或方法。调用生成器函数返回的是生成器对象。\n",
    "让我们来看看一个例子吧\n"
   ]
  },
  {
   "cell_type": "code",
   "execution_count": 7,
   "metadata": {},
   "outputs": [
    {
     "name": "stdout",
     "output_type": "stream",
     "text": [
      "<built-in function abs> <class 'str'> 13\n"
     ]
    },
    {
     "data": {
      "text/plain": [
       "[True, True, False]"
      ]
     },
     "execution_count": 7,
     "metadata": {},
     "output_type": "execute_result"
    }
   ],
   "source": [
    "#使用callable判断对象能否调用\n",
    "print(abs,str,13)\n",
    "[callable(obj) for obj in (abs,str,13)]"
   ]
  },
  {
   "cell_type": "markdown",
   "metadata": {},
   "source": [
    "那么我们来看看如何把类的实例变成可调用的对象\n",
    "\n",
    "### 用户定义的可调用类型\n",
    "不仅 Python 函数是真正的对象，任何 Python 对象都可以表现得像函数。为此，只需实现实例方法 __call__。\n",
    "\n",
    "先看一个例子"
   ]
  },
  {
   "cell_type": "code",
   "execution_count": 2,
   "metadata": {},
   "outputs": [],
   "source": [
    "import random\n",
    "\n",
    "class BingoCage:\n",
    "    #  __init__ 接受任何可迭代对象\n",
    "    def __init__(self,items):\n",
    "        self._items=list(items)\n",
    "        random.shuffle(self._items)\n",
    "        \n",
    "    def pick(self):\n",
    "        try:\n",
    "            return self._items.pop()\n",
    "        #  如果 self._items 为空，抛出异常，并设定错误消息\n",
    "        except IndexError:\n",
    "            raise LookupError('pick from empty BingoCage')\n",
    "    #  bingo.pick() 的快捷方式是 bingo()        \n",
    "    def __call__(self):\n",
    "        return self.pick()"
   ]
  },
  {
   "cell_type": "code",
   "execution_count": 3,
   "metadata": {},
   "outputs": [
    {
     "name": "stdout",
     "output_type": "stream",
     "text": [
      "0\n",
      "1\n",
      "True\n"
     ]
    }
   ],
   "source": [
    "#  bingo 实例可以作为函数调用\n",
    "bingo = BingoCage(range(3))\n",
    "print(bingo.pick())\n",
    "# 可调用对象的体现\n",
    "print(bingo())\n",
    "print(callable(bingo))"
   ]
  },
  {
   "cell_type": "markdown",
   "metadata": {},
   "source": [
    "上面的例子中，实现 __call__ 方法的类是创建函数类对象的简便方式.在调用的时候就像一个函数一样被调用。\n",
    "\n",
    "这个其实是一个非常好的技巧，在很多深度学习的模型中，我经常看看那些大神这么来用。这样就不要去想着要去调用实例的哪个函数，直接调用实例本身就好了。\n",
    "\n"
   ]
  }
 ],
 "metadata": {
  "kernelspec": {
   "display_name": "Python 3",
   "language": "python",
   "name": "python3"
  },
  "language_info": {
   "codemirror_mode": {
    "name": "ipython",
    "version": 3
   },
   "file_extension": ".py",
   "mimetype": "text/x-python",
   "name": "python",
   "nbconvert_exporter": "python",
   "pygments_lexer": "ipython3",
   "version": "3.5.3"
  },
  "toc": {
   "base_numbering": 1,
   "nav_menu": {},
   "number_sections": true,
   "sideBar": true,
   "skip_h1_title": false,
   "title_cell": "Table of Contents",
   "title_sidebar": "Contents",
   "toc_cell": false,
   "toc_position": {},
   "toc_section_display": true,
   "toc_window_display": false
  }
 },
 "nbformat": 4,
 "nbformat_minor": 2
}
