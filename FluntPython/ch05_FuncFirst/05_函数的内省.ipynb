{
 "cells": [
  {
   "cell_type": "markdown",
   "metadata": {},
   "source": [
    "## 函数内部属性\n",
    "\n",
    "我们直到函数也是一个类，那么类中肯定有很多属性，我们如何去探究里面属性呢？ 用一下函数来实现：\n",
    "- __doc__：可以获得函数的相关属性，在定义函数时，我们自己定义的一些属性\n",
    "- dir：可以获得内部所有的属性，基本上时python 公有的属性"
   ]
  },
  {
   "cell_type": "code",
   "execution_count": 5,
   "metadata": {},
   "outputs": [],
   "source": [
    "def factorial(n):\n",
    "    '''return n！'''\n",
    "    return 1 if n<2 else n*factorial(n-1)"
   ]
  },
  {
   "cell_type": "code",
   "execution_count": 11,
   "metadata": {},
   "outputs": [
    {
     "name": "stdout",
     "output_type": "stream",
     "text": [
      "return n！\n",
      "['__annotations__', '__call__', '__class__', '__closure__', '__code__', '__defaults__', '__delattr__', '__dict__', '__dir__', '__doc__', '__eq__', '__format__', '__ge__', '__get__', '__getattribute__', '__globals__', '__gt__', '__hash__', '__init__', '__kwdefaults__', '__le__', '__lt__', '__module__', '__name__', '__ne__', '__new__', '__qualname__', '__reduce__', '__reduce_ex__', '__repr__', '__setattr__', '__sizeof__', '__str__', '__subclasshook__']\n",
      "{}\n",
      "factorial\n"
     ]
    }
   ],
   "source": [
    "# 可以获得函数的相关属性\n",
    "print(factorial.__doc__)\n",
    "# dir获得对象内部属性，\n",
    "print(dir(factorial))\n",
    "print(factorial.__dict__)\n",
    "print(factorial.__name__)"
   ]
  },
  {
   "cell_type": "markdown",
   "metadata": {},
   "source": [
    "通过dir函数可以详细的获得函数的里面属性，这里我们有个问题，函数的实例属性跟python定义的类的实例有没有什么不一样的属性。下面我们就来比较一下。"
   ]
  },
  {
   "cell_type": "code",
   "execution_count": 12,
   "metadata": {},
   "outputs": [
    {
     "name": "stdout",
     "output_type": "stream",
     "text": [
      "['__annotations__', '__call__', '__closure__', '__code__', '__defaults__', '__get__', '__globals__', '__kwdefaults__', '__name__', '__qualname__']\n"
     ]
    }
   ],
   "source": [
    "# 定义一个类\n",
    "class C:pass\n",
    "#声明一个类的实例\n",
    "obj = C()\n",
    "#定义一个函数\n",
    "def func():pass\n",
    "#利用集合来获得两者的区别的属性\n",
    "print(sorted(set(dir(func))-set(dir(obj))))"
   ]
  },
  {
   "cell_type": "markdown",
   "metadata": {},
   "source": [
    "这些属性的具体函数如下：\n",
    "![属性说明](imgs/01.jpg)\n",
    "![属性说明](imgs/02.jpg)\n",
    "\n",
    "这些就是pyhon中为函数提供一些特殊的属性，这样保证我面的函数对象可以做一些属于它自己的功能。下面的文章中我面来一一了解这些神奇的功能。先从形参和实参开始吧。\n",
    "\n",
    "### 从定位参数到仅限关键字参数\n",
    "\n",
    "在pyhon函数中区别其他语言的一个重要特性，就是python函数对参数的处理机制，极其的灵活和方便。而且还有一个仅限关键字参数(keyword-only argument)."
   ]
  },
  {
   "cell_type": "code",
   "execution_count": 26,
   "metadata": {},
   "outputs": [],
   "source": [
    "def tag(name,*content,cls=None,**attrs):\n",
    "    '''生成一个或多个HTML标签'''\n",
    "    if cls is not None:\n",
    "        attrs['class'] = cls\n",
    "    if attrs:\n",
    "        attr_str = ''.join(' %s=\"%s\"' % (attr,value) for attr,value in sorted(attrs.items()))\n",
    "    else:\n",
    "        attr_str =''\n",
    "    if content:\n",
    "        return '\\n'.join('<%s%s>%s</%s>'%\n",
    "                        (name,attr_str,c,name) for\n",
    "                        c in content)\n",
    "    else:\n",
    "        return '<%s%s />'%(name,attr_str)"
   ]
  },
  {
   "cell_type": "code",
   "execution_count": 32,
   "metadata": {},
   "outputs": [
    {
     "name": "stdout",
     "output_type": "stream",
     "text": [
      "<br />\n",
      "<p>hello</p>\n",
      "<p>hello</p>\n",
      "<p>world</p>\n",
      "<p id=\"33\">hello</p>\n",
      "<p class=\"sidebar\">hello</p>\n",
      "<p class=\"sidebar\">world</p>\n",
      "<img content=\"testing\" />\n",
      "<img class=\"framed\" src=\"sunset.jpg\" title=\"Sunset Boulevard\" />\n"
     ]
    }
   ],
   "source": [
    "print(tag('br'))\n",
    "# 第一个参数后面的任意个参数会被 *content 捕获，存入一个元组\n",
    "print(tag('p','hello'))\n",
    "# \n",
    "print(tag('p', 'hello', 'world')) \n",
    "# tag 函数签名中没有明确指定名称的\n",
    "# 关键字参数会被 **attrs 捕获，存入一个字典\n",
    "print(tag('p', 'hello', id=33)) \n",
    "# cls 参数只能作为关键字参数传入\n",
    "print(tag('p', 'hello', 'world', cls='sidebar'))\n",
    "# 调用 tag 函数时，即便第一个定位参数也能作为关键字参数传入\n",
    "print(tag(content='testing', name=\"img\"))\n",
    "my_tag = {'name': 'img', 'title': 'Sunset Boulevard', \n",
    "           'src': 'sunset.jpg', 'cls': 'framed'}\n",
    "# 在 my_tag 前面加上 **，字典中的所有元素作为单个参数传入\n",
    "print(tag(**my_tag))"
   ]
  },
  {
   "cell_type": "markdown",
   "metadata": {},
   "source": [
    "从上面的例子中我们看到了python接收的参数的强大，里面我们可以看到：\n",
    "- cls 参数只能通过关键字参数指定，它一定不会捕获未命名的定位参数。\n",
    "- * 表示可以接收不定长度的参数\n",
    "- ** 处理没有明确指定名称的关键字参数"
   ]
  }
 ],
 "metadata": {
  "kernelspec": {
   "display_name": "Python 3",
   "language": "python",
   "name": "python3"
  },
  "language_info": {
   "codemirror_mode": {
    "name": "ipython",
    "version": 3
   },
   "file_extension": ".py",
   "mimetype": "text/x-python",
   "name": "python",
   "nbconvert_exporter": "python",
   "pygments_lexer": "ipython3",
   "version": "3.5.3"
  },
  "toc": {
   "base_numbering": 1,
   "nav_menu": {},
   "number_sections": true,
   "sideBar": true,
   "skip_h1_title": false,
   "title_cell": "Table of Contents",
   "title_sidebar": "Contents",
   "toc_cell": false,
   "toc_position": {},
   "toc_section_display": true,
   "toc_window_display": false
  }
 },
 "nbformat": 4,
 "nbformat_minor": 2
}
