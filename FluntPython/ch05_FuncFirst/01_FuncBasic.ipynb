{
 "cells": [
  {
   "cell_type": "markdown",
   "metadata": {},
   "source": [
    "## 函数\n",
    "\n",
    "### 函数的本质作用\n",
    "\n",
    "本质作用是：**避免代码重复**，使程序更短、更易读、更容易更新。\n",
    "\n",
    "函数的构成：\n",
    "- def 语句：定义函数名字,以冒号结尾\n",
    "- 传参：传入函数的参数\n",
    "- 函数体\n",
    "- 返回值\n",
    "\n",
    "\n"
   ]
  },
  {
   "cell_type": "code",
   "execution_count": 2,
   "metadata": {},
   "outputs": [],
   "source": [
    "# 函数的定义\n",
    "def hello(): #以冒号结尾\n",
    "    # 函数体缩进表示在一个函数体中\n",
    "    print('Wali!')\n",
    "    print('Wali!!!')\n",
    "    print(\"Hello there\")\n",
    "    # 无返回值"
   ]
  },
  {
   "cell_type": "code",
   "execution_count": 4,
   "metadata": {},
   "outputs": [
    {
     "name": "stdout",
     "output_type": "stream",
     "text": [
      "Wali!\n",
      "Wali!!!\n",
      "Hello there\n",
      "Wali!\n",
      "Wali!!!\n",
      "Hello there\n"
     ]
    }
   ],
   "source": [
    "# \n",
    "hello()\n",
    "hello()"
   ]
  },
  {
   "cell_type": "markdown",
   "metadata": {},
   "source": [
    "### def 语句和参数 \n",
    "\n",
    "参数：是函数用来接收外界信息的一个接口，在调用的时候需要传入相关的参数。函数才会运作起来。\n",
    "\n",
    "**关于参数的作用域**  \n",
    "保存在函数参数中的值，在函数返回后就丢失了。\n"
   ]
  },
  {
   "cell_type": "code",
   "execution_count": 8,
   "metadata": {},
   "outputs": [],
   "source": [
    "# 带参数的函数\n",
    "def hello(name): #name变量仅仅作用与该函数\n",
    "    print('Hello ' + name)\n",
    "\n",
    "    \n",
    "def hello2(list1):\n",
    "    list1.append(5)\n",
    "    "
   ]
  },
  {
   "cell_type": "code",
   "execution_count": 11,
   "metadata": {},
   "outputs": [
    {
     "name": "stdout",
     "output_type": "stream",
     "text": [
      "[1, 2, 3, 4, 5]\n",
      "Hello wali\n"
     ]
    }
   ],
   "source": [
    "a = [1,2,3,4]\n",
    "hello2(a)\n",
    "print(a)\n",
    "\n",
    "name = 'wali'\n",
    "hello(name)\n",
    "\n"
   ]
  },
  {
   "cell_type": "markdown",
   "metadata": {},
   "source": [
    "### 返回值和 return 语句 \n",
    "\n",
    "例如调用len()函数，返回长度信息。函数调用求值的结果，称为函数的“返回值”\n",
    "\n",
    "python中返回值通过return来作用：\n",
    "- return 关键字\n",
    "- 返回的值和表达式\n",
    "\n",
    "#### None 值\n",
    "\n",
    "如果在一个函数中没有return关键字，这个时候函数还是有返回值，只不过这个返回值是python自动加上了的，None值，表示空。\n",
    "- None 是 NoneType 数据类型的唯一值\n",
    "- None 必须大写首字母 N\n",
    "- 其他编程语言可能称这个值为 null、nil 或 undefined\n"
   ]
  },
  {
   "cell_type": "code",
   "execution_count": 14,
   "metadata": {},
   "outputs": [],
   "source": [
    "import random\n",
    "\n",
    "def getAnswer(answerNumber): \n",
    "    if answerNumber == 1: \n",
    "        return 'It is certain' \n",
    "    elif answerNumber == 2: \n",
    "        return 'It is decidedly so' \n",
    "    elif answerNumber == 3: \n",
    "        return 'Yes' \n",
    "    elif answerNumber == 4: \n",
    "        return 'Reply hazy try again' \n",
    "    elif answerNumber == 5: \n",
    "        return 'Ask again later' \n",
    "    elif answerNumber == 6: \n",
    "        return 'Concentrate and ask again' \n",
    "    elif answerNumber == 7: \n",
    "        return 'My reply is no' \n",
    "    elif answerNumber == 8: \n",
    "        return 'Outlook not so good' \n",
    "    elif answerNumber == 9: \n",
    "        return 'Very doubtful' "
   ]
  },
  {
   "cell_type": "code",
   "execution_count": 19,
   "metadata": {},
   "outputs": [
    {
     "name": "stdout",
     "output_type": "stream",
     "text": [
      "It is decidedly so\n"
     ]
    }
   ],
   "source": [
    "r = random.randint(1,9)\n",
    "fortune = getAnswer(r)\n",
    "print(fortune)"
   ]
  },
  {
   "cell_type": "code",
   "execution_count": 20,
   "metadata": {},
   "outputs": [
    {
     "name": "stdout",
     "output_type": "stream",
     "text": [
      "none\n",
      "True\n"
     ]
    }
   ],
   "source": [
    "# None 返回值\n",
    "spam = print(\"none\")\n",
    "print(None == spam)"
   ]
  }
 ],
 "metadata": {
  "kernelspec": {
   "display_name": "Python 3",
   "language": "python",
   "name": "python3"
  },
  "language_info": {
   "codemirror_mode": {
    "name": "ipython",
    "version": 3
   },
   "file_extension": ".py",
   "mimetype": "text/x-python",
   "name": "python",
   "nbconvert_exporter": "python",
   "pygments_lexer": "ipython3",
   "version": "3.5.3"
  },
  "toc": {
   "base_numbering": 1,
   "nav_menu": {},
   "number_sections": true,
   "sideBar": true,
   "skip_h1_title": false,
   "title_cell": "Table of Contents",
   "title_sidebar": "Contents",
   "toc_cell": false,
   "toc_position": {},
   "toc_section_display": true,
   "toc_window_display": false
  }
 },
 "nbformat": 4,
 "nbformat_minor": 2
}
