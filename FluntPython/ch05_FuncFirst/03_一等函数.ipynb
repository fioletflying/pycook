{
 "cells": [
  {
   "cell_type": "markdown",
   "metadata": {},
   "source": [
    "### 一等对象的概念\n",
    "\n",
    "一等对象需要满足的条件：\n",
    "-  在运行时创建\n",
    "-  能赋值给变量或数据结构中的元素\n",
    "-  能作为参数传给函数\n",
    "-  能作为函数的返回结果\n",
    "\n",
    "在 Python 中，整数、字符串和字典都是一等对象，其实函数也是可以看作是一等对象。简称一等函数。首先要理解的是函数也是一个对象的问题。\n",
    "\n",
    "\n",
    "### 函数看作为对象\n",
    "\n",
    "怎么才能发现函数就是一个对象呢？  \n",
    "通过使用type函数来获得其类型:`<class 'function'>`\n",
    "这里用到了__doc__来获得该函数的定义，**生成该对象的帮助文本**。这样我们就可以利用help函数来获得该帮助文本的输出。"
   ]
  },
  {
   "cell_type": "code",
   "execution_count": 10,
   "metadata": {},
   "outputs": [],
   "source": [
    "# 定义一个函数计算阶乘\n",
    "def factorial(n):\n",
    "    '''return n!'''  # 函数的定义，可以被__doc__获得\n",
    "    return 1 if n<2 else n * factorial(n-1)\n"
   ]
  },
  {
   "cell_type": "code",
   "execution_count": 10,
   "metadata": {},
   "outputs": [
    {
     "name": "stdout",
     "output_type": "stream",
     "text": [
      "3628800\n",
      "return n!\n",
      "<class 'function'>\n",
      "Help on function factorial in module __main__:\n",
      "\n",
      "factorial(n)\n",
      "    return n!\n",
      "\n",
      "None\n",
      "<class 'list'>\n",
      "<class 'dict'>\n",
      "<class 'int'>\n",
      "<class 'str'>\n",
      "<class 'float'>\n",
      "<class 'bool'>\n"
     ]
    }
   ],
   "source": [
    "print(factorial(10))\n",
    "# 获得该函数的定义\n",
    "print(factorial.__doc__)\n",
    "# 函数来获得其类型\n",
    "print(type(factorial))\n",
    "# 利用help函数来获得该帮助文本的输出\n",
    "print(help(factorial))\n",
    "\n",
    "# 测试几个其他的类型\n",
    "a = []\n",
    "b = {}\n",
    "c = 100\n",
    "d = \"wali\"\n",
    "e = 1.2\n",
    "f = False\n",
    "\n",
    "# 这些都是class类型\n",
    "print(type(a))\n",
    "print(type(b))\n",
    "print(type(c))\n",
    "print(type(d))\n",
    "print(type(e))\n",
    "print(type(f))"
   ]
  },
  {
   "cell_type": "markdown",
   "metadata": {},
   "source": [
    "#### 函数“一等”的体现\n",
    "\n",
    "在上面的实例中我们了解到了函数是一个对象，它满足的一等对象的初步的条件，那就是你必须是一个对象，那么是不是一等还需要满足：可以作为函数参数以及可以用来赋值。来看下面的例子\n"
   ]
  },
  {
   "cell_type": "code",
   "execution_count": 15,
   "metadata": {},
   "outputs": [
    {
     "name": "stdout",
     "output_type": "stream",
     "text": [
      "<function factorial at 0x0000021167AC5AE8>\n",
      "120\n",
      "<map object at 0x00000211678E34E0>\n",
      "[1, 1, 2, 6, 24, 120, 720, 5040, 40320, 362880, 3628800]\n"
     ]
    }
   ],
   "source": [
    "# 通过别的名称使用函数，\n",
    "fact = factorial \n",
    "print(fact)\n",
    "print(fact(5))\n",
    "\n",
    "# 再把函数作为参数传递\n",
    "print(map(factorial,range(11)))\n",
    "print(list(map(fact, range(11))) )"
   ]
  },
  {
   "cell_type": "markdown",
   "metadata": {},
   "source": [
    "通过上面的例子我们基本上可以确认了，函数的一等特性中：**能作为参数传给函数**，可以使用函数式风格编程。\n",
    "下面还有一个特性就是可以作为函数的返回值。这就涉及到了高阶函数的概念。\n",
    "\n",
    "### 高阶函数\n",
    "\n",
    "#### 高阶函数的概念\n",
    "\n",
    "**高阶函数：** 可以接受函数为参数或者能把函数作为结果返回的函数。\n",
    "具体的例子：map 和sorted 函数\n",
    "\n",
    "sorted函数中的key参数：单参数函数,自己也可写一个自己需要排序的参数，有点像：函数指针。\n",
    "\n",
    "常见的几个高阶函数：\n",
    "- map\n",
    "- filter\n",
    "- reduce \n",
    "- apply （ Python 3 中移除）\n",
    "\n",
    "但是这些函数有新的替代品，具体如下。"
   ]
  },
  {
   "cell_type": "code",
   "execution_count": 5,
   "metadata": {},
   "outputs": [
    {
     "name": "stdout",
     "output_type": "stream",
     "text": [
      "['apple', 'banana', 'cherry', 'fig', 'raspberry', 'strawberry']\n",
      "['fig', 'apple', 'cherry', 'banana', 'raspberry', 'strawberry']\n"
     ]
    }
   ],
   "source": [
    "# 根据单词长度给一个列表排序\n",
    "fruits =  ['strawberry', 'fig', 'apple', 'cherry', 'raspberry', 'banana'] \n",
    "print(sorted(fruits))\n",
    "print(sorted(fruits,key=len)) # 任何单参数函数都能作为 key 参数的值"
   ]
  },
  {
   "cell_type": "code",
   "execution_count": 7,
   "metadata": {},
   "outputs": [
    {
     "name": "stdout",
     "output_type": "stream",
     "text": [
      "IAilaw\n",
      "['banana', 'apple', 'fig', 'raspberry', 'strawberry', 'cherry']\n"
     ]
    }
   ],
   "source": [
    "# 根据反向拼写给一个单词列表排序\n",
    "def revers(word):\n",
    "    return word[::-1]\n",
    "print(revers(\"waliAI\"))\n",
    "\n",
    "print(sorted(fruits,key=revers))"
   ]
  },
  {
   "cell_type": "markdown",
   "metadata": {},
   "source": [
    "#### map、filter和reduce的替代品\n",
    "\n",
    "map 和 filter 还是内置函数，但是由于引入了列表推导和生成器表达式。所以变得不是那么重要了。具体如下的coding."
   ]
  },
  {
   "cell_type": "code",
   "execution_count": 15,
   "metadata": {},
   "outputs": [
    {
     "name": "stdout",
     "output_type": "stream",
     "text": [
      "[1, 1, 2, 6, 24, 120]\n",
      "[1, 1, 2, 6, 24, 120]\n",
      "[1, 6, 120]\n",
      "[1, 6, 120]\n"
     ]
    }
   ],
   "source": [
    "fact = factorial \n",
    "# 构建 0! 到 5! 的一个阶乘列表\n",
    "print(list(map(fact,range(6))))\n",
    "#c 使用列表推导执行相同的操作\n",
    "print([fact(n) for n in range(6)])\n",
    "# 使用 map 和 filter 计算直到 5! 的奇数阶乘列表\n",
    "print(list(map(factorial,filter(lambda n:n %2,range(6)))))\n",
    "# 使用列表推导做相同的工作，换掉 map 和 filter，并避免了使用 lambda 表达式\n",
    "print([factorial(n) for n in range(6) if n % 2])"
   ]
  },
  {
   "cell_type": "markdown",
   "metadata": {},
   "source": [
    "reduce 是内置函数，但是在 Python 3 中放到 functools 模块里了,。这个函\n",
    "数最常用于求和.目前较好的替代品是：sum函数。\n",
    "coding 如下：\n"
   ]
  },
  {
   "cell_type": "code",
   "execution_count": 17,
   "metadata": {},
   "outputs": [
    {
     "ename": "SyntaxError",
     "evalue": "unexpected EOF while parsing (<ipython-input-17-bcffd20d4e25>, line 5)",
     "output_type": "error",
     "traceback": [
      "\u001b[1;36m  File \u001b[1;32m\"<ipython-input-17-bcffd20d4e25>\"\u001b[1;36m, line \u001b[1;32m5\u001b[0m\n\u001b[1;33m    print(sum(range(100))\u001b[0m\n\u001b[1;37m                         ^\u001b[0m\n\u001b[1;31mSyntaxError\u001b[0m\u001b[1;31m:\u001b[0m unexpected EOF while parsing\n"
     ]
    }
   ],
   "source": [
    "from functools import reduce\n",
    "from operator import add\n",
    "\n",
    "print(reduce(add,range(100)))\n",
    "print(sum(range(100))"
   ]
  },
  {
   "cell_type": "code",
   "execution_count": null,
   "metadata": {},
   "outputs": [],
   "source": []
  }
 ],
 "metadata": {
  "kernelspec": {
   "display_name": "Python 3",
   "language": "python",
   "name": "python3"
  },
  "language_info": {
   "codemirror_mode": {
    "name": "ipython",
    "version": 3
   },
   "file_extension": ".py",
   "mimetype": "text/x-python",
   "name": "python",
   "nbconvert_exporter": "python",
   "pygments_lexer": "ipython3",
   "version": "3.6.8"
  },
  "toc": {
   "base_numbering": 1,
   "nav_menu": {},
   "number_sections": true,
   "sideBar": true,
   "skip_h1_title": false,
   "title_cell": "Table of Contents",
   "title_sidebar": "Contents",
   "toc_cell": false,
   "toc_position": {},
   "toc_section_display": true,
   "toc_window_display": false
  }
 },
 "nbformat": 4,
 "nbformat_minor": 2
}
