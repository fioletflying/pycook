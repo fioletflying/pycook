{
 "cells": [
  {
   "cell_type": "markdown",
   "metadata": {},
   "source": [
    "### 局部和全局作用域\n",
    "\n",
    "**局部作用域：**在函数内区域    \n",
    "**局部作用域：**在函数外的区域  \n",
    "**局部变量：**在函数内的变量和变元  \n",
    "**全局变量：**在函数外的变量和变元  \n",
    "\n",
    "局部变量和局部作用域，当该作用域被销毁时，该作用域内定义的变量将会全部被销毁丢弃。例如函数：  \n",
    "\n",
    "在函数中被调用时，就创建了一个局部作用域，当函数返回时，这个局部作用域就被销毁了，里面的变量也被丢失了。  \n",
    "\n",
    "全局变量在程序开始时就被创建，直到程序终止才被终止。  \n",
    "作用域注意点：\n",
    "- 全局作用域中的代码不能使用任何局部变量； \n",
    "- 局部作用域可以访问全局变量； \n",
    "- 一个函数的局部作用域中的代码，不能使用其他局部作用域中的变量。 \n",
    "- 如果在不同的作用域中，你可以用相同的名字命名不同的变量。\n",
    "\n",
    "\n",
    "#### 局部变量不能在全局作用域内使用 \n",
    "\n",
    "当程序执行在全局作用域中时，不存在局部作用域，所以不会有任何局部变量。\n",
    "这就是为什么只有全局变量能用于全局作用域。 \n"
   ]
  },
  {
   "cell_type": "code",
   "execution_count": 2,
   "metadata": {},
   "outputs": [
    {
     "ename": "NameError",
     "evalue": "name 'wali' is not defined",
     "output_type": "error",
     "traceback": [
      "\u001b[1;31m---------------------------------------------------------------------------\u001b[0m",
      "\u001b[1;31mNameError\u001b[0m                                 Traceback (most recent call last)",
      "\u001b[1;32m<ipython-input-2-7af7500a802c>\u001b[0m in \u001b[0;36m<module>\u001b[1;34m\u001b[0m\n\u001b[0;32m      3\u001b[0m \u001b[1;33m\u001b[0m\u001b[0m\n\u001b[0;32m      4\u001b[0m \u001b[0mspam\u001b[0m\u001b[1;33m(\u001b[0m\u001b[1;33m)\u001b[0m\u001b[1;33m\u001b[0m\u001b[0m\n\u001b[1;32m----> 5\u001b[1;33m \u001b[0mprint\u001b[0m\u001b[1;33m(\u001b[0m\u001b[0mwali\u001b[0m\u001b[1;33m)\u001b[0m\u001b[1;33m\u001b[0m\u001b[0m\n\u001b[0m",
      "\u001b[1;31mNameError\u001b[0m: name 'wali' is not defined"
     ]
    }
   ],
   "source": [
    "def spam():\n",
    "    wali = 520\n",
    "\n",
    "# 函数被调用后就销毁里面的变量\n",
    "spam()\n",
    "# 局部变量无法被用在全局区域\n",
    "print(wali)"
   ]
  },
  {
   "cell_type": "markdown",
   "metadata": {},
   "source": [
    "####  局部作用域不能使用其他局部作用域内的变量 \n",
    "\n",
    "一个函数被调用时，就创建了一个新的局部作用域，这包括一个函数被另一个\n",
    "函数调用时的情况。 一个函数中的局部变量完全与其他函数中的局部变量分隔开.无法被其他局部作用域调用。\n"
   ]
  },
  {
   "cell_type": "code",
   "execution_count": 3,
   "metadata": {},
   "outputs": [
    {
     "ename": "NameError",
     "evalue": "name 'eva' is not defined",
     "output_type": "error",
     "traceback": [
      "\u001b[1;31m---------------------------------------------------------------------------\u001b[0m",
      "\u001b[1;31mNameError\u001b[0m                                 Traceback (most recent call last)",
      "\u001b[1;32m<ipython-input-3-e27bdd891a47>\u001b[0m in \u001b[0;36m<module>\u001b[1;34m\u001b[0m\n\u001b[0;32m      8\u001b[0m     \u001b[0mwali\u001b[0m \u001b[1;33m=\u001b[0m \u001b[1;36m0\u001b[0m\u001b[1;33m\u001b[0m\u001b[0m\n\u001b[0;32m      9\u001b[0m \u001b[1;33m\u001b[0m\u001b[0m\n\u001b[1;32m---> 10\u001b[1;33m \u001b[0mspam\u001b[0m\u001b[1;33m(\u001b[0m\u001b[1;33m)\u001b[0m\u001b[1;33m\u001b[0m\u001b[0m\n\u001b[0m",
      "\u001b[1;32m<ipython-input-3-e27bdd891a47>\u001b[0m in \u001b[0;36mspam\u001b[1;34m()\u001b[0m\n\u001b[0;32m      2\u001b[0m     \u001b[0mwali\u001b[0m \u001b[1;33m=\u001b[0m\u001b[1;36m100\u001b[0m\u001b[1;33m\u001b[0m\u001b[0m\n\u001b[0;32m      3\u001b[0m     \u001b[0mbacon\u001b[0m\u001b[1;33m(\u001b[0m\u001b[1;33m)\u001b[0m\u001b[1;33m\u001b[0m\u001b[0m\n\u001b[1;32m----> 4\u001b[1;33m     \u001b[0mprint\u001b[0m\u001b[1;33m(\u001b[0m\u001b[0meva\u001b[0m\u001b[1;33m)\u001b[0m\u001b[1;33m\u001b[0m\u001b[0m\n\u001b[0m\u001b[0;32m      5\u001b[0m \u001b[1;33m\u001b[0m\u001b[0m\n\u001b[0;32m      6\u001b[0m \u001b[1;32mdef\u001b[0m \u001b[0mbacon\u001b[0m\u001b[1;33m(\u001b[0m\u001b[1;33m)\u001b[0m\u001b[1;33m:\u001b[0m\u001b[1;33m\u001b[0m\u001b[0m\n",
      "\u001b[1;31mNameError\u001b[0m: name 'eva' is not defined"
     ]
    }
   ],
   "source": [
    "def spam():\n",
    "    wali =100\n",
    "    bacon()\n",
    "    # \n",
    "    print(eva)\n",
    "    \n",
    "def bacon():\n",
    "    eva = 101\n",
    "    wali = 0\n",
    "    \n",
    "spam()"
   ]
  },
  {
   "cell_type": "markdown",
   "metadata": {},
   "source": [
    "####   全局变量可以在局部作用域中读取\n",
    "\n"
   ]
  },
  {
   "cell_type": "code",
   "execution_count": 4,
   "metadata": {},
   "outputs": [
    {
     "name": "stdout",
     "output_type": "stream",
     "text": [
      "1000\n",
      "1000\n"
     ]
    }
   ],
   "source": [
    "def spam():\n",
    "    print(wali)\n",
    "    \n",
    "wali = 1000\n",
    "spam()\n",
    "print(wali)"
   ]
  },
  {
   "cell_type": "markdown",
   "metadata": {},
   "source": [
    "#### 名称相同的局部变量和全局变量 \n",
    "\n",
    "要尽量避免局部变量与全局变量或其他局部变量同名，但是如果相同也没有关系。"
   ]
  },
  {
   "cell_type": "code",
   "execution_count": 6,
   "metadata": {},
   "outputs": [
    {
     "name": "stdout",
     "output_type": "stream",
     "text": [
      "bacon wali\n",
      "spam wali\n",
      "bacon wali\n",
      "global wali\n"
     ]
    }
   ],
   "source": [
    "def spam():\n",
    "    wali = 'spam wali'\n",
    "    print(wali)\n",
    "    \n",
    "def bacon():\n",
    "    wali = \"bacon wali\"\n",
    "    print(wali)\n",
    "    spam()\n",
    "    print(wali)\n",
    "\n",
    "wali = 'global wali'\n",
    "bacon()\n",
    "print(wali)"
   ]
  }
 ],
 "metadata": {
  "kernelspec": {
   "display_name": "Python 3",
   "language": "python",
   "name": "python3"
  },
  "language_info": {
   "codemirror_mode": {
    "name": "ipython",
    "version": 3
   },
   "file_extension": ".py",
   "mimetype": "text/x-python",
   "name": "python",
   "nbconvert_exporter": "python",
   "pygments_lexer": "ipython3",
   "version": "3.5.3"
  },
  "toc": {
   "base_numbering": 1,
   "nav_menu": {},
   "number_sections": true,
   "sideBar": true,
   "skip_h1_title": false,
   "title_cell": "Table of Contents",
   "title_sidebar": "Contents",
   "toc_cell": false,
   "toc_position": {},
   "toc_section_display": true,
   "toc_window_display": false
  }
 },
 "nbformat": 4,
 "nbformat_minor": 2
}
