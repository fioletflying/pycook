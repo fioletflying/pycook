{
 "cells": [
  {
   "cell_type": "markdown",
   "metadata": {},
   "source": [
    "### 一等对象的概念\n",
    "\n",
    "一等对象需要满足的条件：\n",
    "-  在运行时创建\n",
    "-  能赋值给变量或数据结构中的元素\n",
    "-  能作为参数传给函数\n",
    "-  能作为函数的返回结果\n",
    "\n",
    "在 Python 中，整数、字符串和字典都是一等对象，其实函数也是可以看作是一等对象。简称一等函数。首先要理解的是函数也是一个对象的问题。\n",
    "\n",
    "\n",
    "### 函数看作为对象\n",
    "\n",
    "怎么才能发现函数就是一个对象呢？  \n",
    "通过使用type函数来获得其类型:`<class 'function'>`\n",
    "这里用到了__doc__来获得该函数的定义，**生成该对象的帮助文本**。这样我们就可以利用help函数来获得该帮助文本的输出。"
   ]
  },
  {
   "cell_type": "code",
   "execution_count": 2,
   "metadata": {},
   "outputs": [],
   "source": [
    "# 定义一个函数计算阶乘\n",
    "def factorial(n):\n",
    "    '''return n!'''  # 函数的定义，可以被__doc__获得\n",
    "    return 1 if n<2 else n * factorial(n-1)\n"
   ]
  },
  {
   "cell_type": "code",
   "execution_count": 10,
   "metadata": {},
   "outputs": [
    {
     "name": "stdout",
     "output_type": "stream",
     "text": [
      "3628800\n",
      "return n!\n",
      "<class 'function'>\n",
      "Help on function factorial in module __main__:\n",
      "\n",
      "factorial(n)\n",
      "    return n!\n",
      "\n",
      "None\n",
      "<class 'list'>\n",
      "<class 'dict'>\n",
      "<class 'int'>\n",
      "<class 'str'>\n",
      "<class 'float'>\n",
      "<class 'bool'>\n"
     ]
    }
   ],
   "source": [
    "print(factorial(10))\n",
    "# 获得该函数的定义\n",
    "print(factorial.__doc__)\n",
    "# 函数来获得其类型\n",
    "print(type(factorial))\n",
    "# 利用help函数来获得该帮助文本的输出\n",
    "print(help(factorial))\n",
    "\n",
    "# 测试几个其他的类型\n",
    "a = []\n",
    "b = {}\n",
    "c = 100\n",
    "d = \"wali\"\n",
    "e = 1.2\n",
    "f = False\n",
    "\n",
    "# 这些都是class类型\n",
    "print(type(a))\n",
    "print(type(b))\n",
    "print(type(c))\n",
    "print(type(d))\n",
    "print(type(e))\n",
    "print(type(f))"
   ]
  },
  {
   "cell_type": "markdown",
   "metadata": {},
   "source": [
    "#### 函数“一等”的体现\n",
    "\n",
    "在上面的实例中我们了解到了函数是一个对象，它满足的一等对象的初步的条件，那就是你必须是一个对象，那么是不是一等还需要满足：可以作为函数参数以及可以用来赋值。来看下面的例子\n"
   ]
  },
  {
   "cell_type": "code",
   "execution_count": 15,
   "metadata": {},
   "outputs": [
    {
     "name": "stdout",
     "output_type": "stream",
     "text": [
      "<function factorial at 0x0000021167AC5AE8>\n",
      "120\n",
      "<map object at 0x00000211678E34E0>\n",
      "[1, 1, 2, 6, 24, 120, 720, 5040, 40320, 362880, 3628800]\n"
     ]
    }
   ],
   "source": [
    "# 通过别的名称使用函数，\n",
    "fact = factorial \n",
    "print(fact)\n",
    "print(fact(5))\n",
    "\n",
    "# 再把函数作为参数传递\n",
    "print(map(factorial,range(11)))\n",
    "print(list(map(fact, range(11))) )"
   ]
  }
 ],
 "metadata": {
  "kernelspec": {
   "display_name": "Python 3",
   "language": "python",
   "name": "python3"
  },
  "language_info": {
   "codemirror_mode": {
    "name": "ipython",
    "version": 3
   },
   "file_extension": ".py",
   "mimetype": "text/x-python",
   "name": "python",
   "nbconvert_exporter": "python",
   "pygments_lexer": "ipython3",
   "version": "3.5.3"
  },
  "toc": {
   "base_numbering": 1,
   "nav_menu": {},
   "number_sections": true,
   "sideBar": true,
   "skip_h1_title": false,
   "title_cell": "Table of Contents",
   "title_sidebar": "Contents",
   "toc_cell": false,
   "toc_position": {},
   "toc_section_display": true,
   "toc_window_display": false
  }
 },
 "nbformat": 4,
 "nbformat_minor": 2
}
