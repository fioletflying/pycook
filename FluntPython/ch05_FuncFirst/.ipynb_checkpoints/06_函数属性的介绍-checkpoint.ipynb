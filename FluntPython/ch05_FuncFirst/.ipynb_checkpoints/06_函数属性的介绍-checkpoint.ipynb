{
 "cells": [
  {
   "cell_type": "markdown",
   "metadata": {},
   "source": [
    "## 函数参数属性的介绍\n",
    "\n",
    "### 函数参数属性\n",
    "\n",
    "前面介绍了函数作为类有一些它自己独有的属性，这属性用来干什么呢？我们在什么地方用到它呢？我面这一小节的重点就时来了解它们。\n",
    "先来看一个简单的例子。\n",
    "\n",
    "- __defaults__ : 默认参数\n",
    "- __code__:参数的名称\n",
    "    - __code__.co_varnames：参数变量的名称\n",
    "    - __code__.co_argcount：参数的个数"
   ]
  },
  {
   "cell_type": "code",
   "execution_count": 1,
   "metadata": {},
   "outputs": [],
   "source": [
    "# 指定字符截断的位置\n",
    "def clip(text,max_len=80):\n",
    "    '''\n",
    "    在maxlen面或者后面的第一个空格处截断文本\n",
    "    '''\n",
    "    end = None\n",
    "    if len(text) > max_len:\n",
    "        # 返回字符串最后一次出现的位置(从右向左查询)\n",
    "        space_before =text.rfind(' ',0,max_len)\n",
    "        if space_before >= 0:\n",
    "            end = space_before\n",
    "        else:\n",
    "            space_after = text.rfind(' ',max_len)\n",
    "        if space_after >= 0:\n",
    "            end = space_after\n",
    "    # 没有找到，就返回整个text\n",
    "    if end is None:\n",
    "        end = len(text)\n",
    "    # 删除末尾的空格\n",
    "    # 删除 string 字符串末尾的指定字符（默认为空格）\n",
    "    return text[:end].rstrip()\n",
    "            "
   ]
  },
  {
   "cell_type": "code",
   "execution_count": 4,
   "metadata": {},
   "outputs": [
    {
     "name": "stdout",
     "output_type": "stream",
     "text": [
      "(80,)\n",
      "<code object clip at 0x000001F65E650C00, file \"<ipython-input-1-43609a9811a5>\", line 2>\n",
      "('text', 'max_len', 'end', 'space_before', 'space_after')\n",
      "2\n"
     ]
    }
   ],
   "source": [
    "# 获得关于函数参数的信息\n",
    "\n",
    "print(clip.__defaults__)\n",
    "print(clip.__code__)\n",
    "print(clip.__code__.co_varnames)\n",
    "print(clip.__code__.co_argcount)"
   ]
  },
  {
   "cell_type": "markdown",
   "metadata": {},
   "source": [
    "#### inspect 模块\n",
    "通过上面的例子我们可以很方便获得函数对象的各种属性，但是这样有点乱，这里继续介绍一个新的模块，来比较有组织的获得函数对象的各种参数属性。\n",
    "inspect.signature 函数返回一个 inspect.Signature 对象里面有一个属性：parameters\n",
    "- 是一个有序映射\n",
    "- 把函数的参数名和 inspect.Parameter 对象对应起来\n",
    "- 各个 Parameter 属性也有自己的属性\n",
    "    - name: 参数的名字\n",
    "    - default：参数的默认值，如果没有返回inspect._empty\n",
    "    - kind：参数的类型\n",
    "    - annotation：注解属性，一般为空，python3中有新的解释\n",
    "    \n",
    "关于上面kind属性的五个类型如下：\n",
    "- POSITIONAL_OR_KEYWORD\n",
    "    - 可以通过定位参数和关键字参数传入的形参（多数 Python 函数的参数属于此类）。\n",
    "- VAR_POSITIONAL\n",
    "    - 定位参数元组。\n",
    "- VAR_KEYWORD\n",
    "    - 关键字参数字典。\n",
    "- KEYWORD_ONLY\n",
    "    - 仅限关键字参数（Python 3 新增）。\n",
    "- POSITIONAL_ONLY\n",
    "    - 仅限定位参数；目前，Python 声明函数的句法不支持，但是有些使用 C 语言实现且不接受关键字参数的函数（如 divmod）支持。\n",
    "\n"
   ]
  },
  {
   "cell_type": "code",
   "execution_count": 4,
   "metadata": {},
   "outputs": [
    {
     "name": "stdout",
     "output_type": "stream",
     "text": [
      "(text, max_len=80)\n",
      "POSITIONAL_OR_KEYWORD : text = <class 'inspect._empty'>\n",
      "POSITIONAL_OR_KEYWORD : max_len = 80\n"
     ]
    }
   ],
   "source": [
    "from inspect import signature\n",
    "sig = signature(clip)\n",
    "print(sig)\n",
    "for name,param in sig.parameters.items():\n",
    "    print(param.kind,':',name,'=',param.default)\n",
    "    "
   ]
  },
  {
   "cell_type": "markdown",
   "metadata": {},
   "source": [
    "### 函数的注解属性\n",
    "\n",
    "注解主要用于为函数声明中的参数和返回值附加元数据，主要在函数定义的第一行，如下实例：\n",
    "`def clip(text:str,max_len:'int >0'=80)->str:`\n",
    "- 函数声明中的各个参数可以在 : 之后增加注解表达式。\n",
    "- 如果参数有默认值，注解放在参数名和 = 号之间。\n",
    "- 如果想注解返回值，在 ) 和函数声明末尾的 : 之间添加 -> 和一个表达式。\n",
    "- 注解中最常用的类型是类（如 str 或 int）和字符串（如'int > 0'）\n",
    "\n",
    "Python 对注解所做的唯一的事情是，把它们存储在函数的 __annotations__ 属性里。仅此而已，Python 不做检查、不做强制、不做验证，什么操作都不做。\n"
   ]
  },
  {
   "cell_type": "code",
   "execution_count": 6,
   "metadata": {},
   "outputs": [],
   "source": [
    "# 有注解的clip\n",
    "def clip_annot(text:str,max_len:'int >0'=80)->str:\n",
    "    '''\n",
    "    在maxlen面或者后面的第一个空格处截断文本\n",
    "    '''\n",
    "    end = None\n",
    "    if len(text) > max_len:\n",
    "        # 返回字符串最后一次出现的位置(从右向左查询)\n",
    "        space_before =text.rfind(' ',0,max_len)\n",
    "        if space_before >= 0:\n",
    "            end = space_before\n",
    "        else:\n",
    "            space_after = text.rfind(' ',max_len)\n",
    "        if space_after >= 0:\n",
    "            end = space_after\n",
    "    # 没有找到，就返回整个text\n",
    "    if end is None:\n",
    "        end = len(text)\n",
    "    # 删除末尾的空格\n",
    "    # 删除 string 字符串末尾的指定字符（默认为空格）\n",
    "    return text[:end].rstrip()"
   ]
  },
  {
   "cell_type": "code",
   "execution_count": 7,
   "metadata": {},
   "outputs": [
    {
     "name": "stdout",
     "output_type": "stream",
     "text": [
      "{'text': <class 'str'>, 'return': <class 'str'>, 'max_len': 'int >0'}\n"
     ]
    }
   ],
   "source": [
    "print(clip.__annotations__)"
   ]
  }
 ],
 "metadata": {
  "kernelspec": {
   "display_name": "Python 3",
   "language": "python",
   "name": "python3"
  },
  "language_info": {
   "codemirror_mode": {
    "name": "ipython",
    "version": 3
   },
   "file_extension": ".py",
   "mimetype": "text/x-python",
   "name": "python",
   "nbconvert_exporter": "python",
   "pygments_lexer": "ipython3",
   "version": "3.5.3"
  },
  "toc": {
   "base_numbering": 1,
   "nav_menu": {},
   "number_sections": true,
   "sideBar": true,
   "skip_h1_title": false,
   "title_cell": "Table of Contents",
   "title_sidebar": "Contents",
   "toc_cell": false,
   "toc_position": {},
   "toc_section_display": true,
   "toc_window_display": false
  }
 },
 "nbformat": 4,
 "nbformat_minor": 2
}
