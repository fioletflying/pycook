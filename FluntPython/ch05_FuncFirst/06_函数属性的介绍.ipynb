{
 "cells": [
  {
   "cell_type": "markdown",
   "metadata": {},
   "source": [
    "## 函数内部属性的介绍\n",
    "\n",
    "前面介绍了函数作为类有一些它自己独有的属性，这属性用来干什么呢？我们在什么地方用到它呢？我面这一小节的重点就时来了解它们。\n",
    "先来看一个简单的例子。"
   ]
  },
  {
   "cell_type": "code",
   "execution_count": 1,
   "metadata": {},
   "outputs": [],
   "source": [
    "# 指定字符截断的位置\n",
    "def clip(text,max_len=80):\n",
    "    '''\n",
    "    在maxlen面或者后面的第一个空格处截断文本\n",
    "    '''\n",
    "    end = None\n",
    "    if len(text) > max_len:\n",
    "        # 返回字符串最后一次出现的位置(从右向左查询)\n",
    "        space_before =text.rfind(' ',0,max_len)\n",
    "        if space_before >= 0:\n",
    "            end = space_before\n",
    "        else:\n",
    "            space_after = text.rfind(' ',max_len)\n",
    "        if space_after >= 0:\n",
    "            end = space_after\n",
    "    # 没有找到，就返回整个text\n",
    "    if end is None:\n",
    "        end = len(text)\n",
    "    # 删除末尾的空格\n",
    "    # 删除 string 字符串末尾的指定字符（默认为空格）\n",
    "    return text[:end].rstrip()\n",
    "            "
   ]
  },
  {
   "cell_type": "code",
   "execution_count": 4,
   "metadata": {},
   "outputs": [
    {
     "name": "stdout",
     "output_type": "stream",
     "text": [
      "(80,)\n",
      "<code object clip at 0x000001F65E650C00, file \"<ipython-input-1-43609a9811a5>\", line 2>\n",
      "('text', 'max_len', 'end', 'space_before', 'space_after')\n",
      "2\n"
     ]
    }
   ],
   "source": [
    "# 获得关于函数参数的信息\n",
    "print(clip.__defaults__)\n",
    "print(clip.__code__)\n",
    "print(clip.__code__.co_varnames)\n",
    "print(clip.__code__.co_argcount)"
   ]
  }
 ],
 "metadata": {
  "kernelspec": {
   "display_name": "Python 3",
   "language": "python",
   "name": "python3"
  },
  "language_info": {
   "codemirror_mode": {
    "name": "ipython",
    "version": 3
   },
   "file_extension": ".py",
   "mimetype": "text/x-python",
   "name": "python",
   "nbconvert_exporter": "python",
   "pygments_lexer": "ipython3",
   "version": "3.5.3"
  },
  "toc": {
   "base_numbering": 1,
   "nav_menu": {},
   "number_sections": true,
   "sideBar": true,
   "skip_h1_title": false,
   "title_cell": "Table of Contents",
   "title_sidebar": "Contents",
   "toc_cell": false,
   "toc_position": {},
   "toc_section_display": true,
   "toc_window_display": false
  }
 },
 "nbformat": 4,
 "nbformat_minor": 2
}
