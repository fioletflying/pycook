{
 "cells": [
  {
   "cell_type": "markdown",
   "metadata": {},
   "source": [
    "## 装饰器的两大特性\n",
    "\n",
    "### 装饰器的基础知识\n",
    "\n",
    "#### 装饰器的定义\n",
    "装饰器是一个可调用的对象，其参数是另一个函数。\n",
    "- 装饰器也是一个函数\n",
    "- 传递给它的参数也是一个函数\n",
    "- 返回值也是一个函数或者对象\n",
    "\n",
    "实例如下：\n"
   ]
  },
  {
   "cell_type": "code",
   "execution_count": 1,
   "metadata": {},
   "outputs": [],
   "source": [
    "import time\n",
    "\n",
    "# 定义一个装饰器函数\n",
    "# 参数就是传入一个f函数\n",
    "# 返回也是一个函数\n",
    "def deco(f):\n",
    "    def wrapper():\n",
    "        start_time = time.time()\n",
    "        f()\n",
    "        end_time = time.time()\n",
    "        execution_time = (end_time - start_time)*1000\n",
    "        print(\"time is %d ms\" %execution_time )\n",
    "    return wrapper\n",
    "\n",
    "# 添加装饰器后，函数的功能就被增加了。\n",
    "@deco\n",
    "def f():\n",
    "    print(\"hello\")\n",
    "    time.sleep(1)\n",
    "    print(\"world\")"
   ]
  },
  {
   "cell_type": "code",
   "execution_count": 2,
   "metadata": {},
   "outputs": [
    {
     "name": "stdout",
     "output_type": "stream",
     "text": [
      "hello\n",
      "world\n",
      "time is 1004 ms\n"
     ]
    }
   ],
   "source": [
    "f()"
   ]
  },
  {
   "cell_type": "markdown",
   "metadata": {},
   "source": [
    "从上面的实例中可以看出，我们在没有改变函数本体的情况，通过装饰器给函数添加了新功能(计时间)。 这就是装饰器的主要作用。\n",
    "\n",
    "定义装饰器步骤也特别简单：\n",
    "- 先定义装饰器函数\n",
    "    - 参数就是被装饰的函数\n",
    "    - 再在里面定义一个内部的函数\n",
    "    - 将需要附件的功能和传入的函数结合\n",
    "    - 返回定义的函数\n",
    "- 再需要装饰的函数前加上@dec（装饰器的名字）\n",
    "\n",
    "#### 装饰器的特性之：替换函数\n",
    "再来看看一个更加简单的例子:\n",
    "- 定义一个装饰器里面没有嵌入进来传入的函数参数\n",
    "- 调用被装饰的 target 其实会运行 inner\n",
    "- 所以函数被替换成了其他的函数\n",
    "\n",
    "这里总结装饰器的一个特性：\n",
    "**能把被装饰的函数替换成其他函数**\n"
   ]
  },
  {
   "cell_type": "code",
   "execution_count": 1,
   "metadata": {},
   "outputs": [],
   "source": [
    "# 定义一个装饰器\n",
    "# 里面没有嵌入进来传入的函数参数\n",
    "def deco(func):\n",
    "    def inner():\n",
    "        print('running inner')\n",
    "    return  inner\n",
    "\n",
    "@deco\n",
    "def target():\n",
    "    print('running target()')\n",
    "    "
   ]
  },
  {
   "cell_type": "code",
   "execution_count": 3,
   "metadata": {},
   "outputs": [
    {
     "name": "stdout",
     "output_type": "stream",
     "text": [
      "running inner\n",
      "<function deco.<locals>.inner at 0x00000155B9135AE8>\n"
     ]
    }
   ],
   "source": [
    "# 调用被装饰的函数的时候\n",
    "# 被替换成了deco 中定义的函数\n",
    "target()\n",
    "print(target)"
   ]
  },
  {
   "cell_type": "markdown",
   "metadata": {},
   "source": [
    "### Python何时执行装饰器\n",
    "\n",
    "装饰器的一个关键特性是，它们在被装饰的函数定义之后立即运行。定义一个registration.py 模块"
   ]
  },
  {
   "cell_type": "code",
   "execution_count": 6,
   "metadata": {},
   "outputs": [
    {
     "name": "stdout",
     "output_type": "stream",
     "text": [
      "running register(<function f1 at 0x00000155B97FAAE8>)\n",
      "running register(<function f2 at 0x00000155B97FAEA0>)\n",
      "running main()\n",
      "registryis -> [<function f1 at 0x00000155B97FAAE8>, <function f2 at 0x00000155B97FAEA0>]\n",
      "running f1()\n",
      "running f2()\n",
      "running f3()\n"
     ]
    }
   ],
   "source": [
    "registry = []\n",
    "\n",
    "def register(func):\n",
    "    print('running register(%s)' % func)\n",
    "    registry.append(func)\n",
    "    return func\n",
    "\n",
    "@register\n",
    "def f1():\n",
    "    print('running f1()')\n",
    "    \n",
    "@register\n",
    "def f2():\n",
    "    print('running f2()')\n",
    "    \n",
    "\n",
    "def f3():\n",
    "    print('running f3()')\n",
    "\n",
    "def main():\n",
    "    print('running main()')\n",
    "    print('registryis ->',registry)\n",
    "    f1()\n",
    "    f2()\n",
    "    f3()\n",
    "    \n",
    "if __name__ == '__main__':\n",
    "    main()"
   ]
  },
  {
   "cell_type": "code",
   "execution_count": 11,
   "metadata": {},
   "outputs": [
    {
     "name": "stdout",
     "output_type": "stream",
     "text": [
      "running register(<function f1 at 0x00000155B96361E0>)\n",
      "running register(<function f2 at 0x00000155B9636840>)\n"
     ]
    }
   ],
   "source": [
    "# 加载上面的脚本\n",
    "import registration\n"
   ]
  },
  {
   "cell_type": "markdown",
   "metadata": {},
   "source": [
    "上面的实例可以看出，在加载上面的模块的时候，装饰器就已经执行了。\n",
    "- 函数装饰器在导入模块时立即执行，\n",
    "- 而被装饰的函数只在明确调用时运行。\n",
    "\n",
    "装饰器真是的代码与本例的两个区别：\n",
    "- (本例)装饰器函数与被装饰的函数在同一个模块中定义\n",
    "- (实际)装饰器通常在一个模块中定义，然后应用到其他模块中的函数上。\n",
    "- （本例）register 装饰器返回的函数与通过参数传入的相同。\n",
    "- （实际）大多数装饰器会在内部定义一个函数，然后将其返回。\n",
    "\n",
    "本例中原封不动的返回被装饰的函数的作用：\n",
    "很多 Python Web 框架使用这样的装饰器把函数添加到某种中央注册处，\n",
    "    -例如把URL 模式映射到生成 HTTP 响应的函数上的注册处\n"
   ]
  }
 ],
 "metadata": {
  "kernelspec": {
   "display_name": "Python 3",
   "language": "python",
   "name": "python3"
  },
  "language_info": {
   "codemirror_mode": {
    "name": "ipython",
    "version": 3
   },
   "file_extension": ".py",
   "mimetype": "text/x-python",
   "name": "python",
   "nbconvert_exporter": "python",
   "pygments_lexer": "ipython3",
   "version": "3.5.3"
  },
  "toc": {
   "base_numbering": 1,
   "nav_menu": {},
   "number_sections": true,
   "sideBar": true,
   "skip_h1_title": false,
   "title_cell": "Table of Contents",
   "title_sidebar": "Contents",
   "toc_cell": false,
   "toc_position": {},
   "toc_section_display": true,
   "toc_window_display": false
  }
 },
 "nbformat": 4,
 "nbformat_minor": 2
}
