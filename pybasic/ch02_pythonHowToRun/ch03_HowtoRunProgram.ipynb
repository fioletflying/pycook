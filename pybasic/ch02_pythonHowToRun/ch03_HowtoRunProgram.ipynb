{
 "cells": [
  {
   "cell_type": "code",
   "execution_count": 1,
   "metadata": {},
   "outputs": [
    {
     "data": {
      "text/plain": [
       "'spanm！spanm！spanm！spanm！spanm！spanm！spanm！spanm！'"
      ]
     },
     "execution_count": 1,
     "metadata": {},
     "output_type": "execute_result"
    }
   ],
   "source": [
    "\"spanm！\" * 8\n"
   ]
  },
  {
   "cell_type": "code",
   "execution_count": 2,
   "metadata": {},
   "outputs": [
    {
     "data": {
      "text/plain": [
       "'F:\\\\Study\\\\Pycook\\\\pycook\\\\ch02_pythonHowToRun'"
      ]
     },
     "execution_count": 2,
     "metadata": {},
     "output_type": "execute_result"
    }
   ],
   "source": [
    "import os\n",
    "os.getcwd()\n"
   ]
  },
  {
   "cell_type": "code",
   "execution_count": 3,
   "metadata": {},
   "outputs": [
    {
     "name": "stdout",
     "output_type": "stream",
     "text": [
      "s\n",
      "p\n",
      "a\n",
      "m\n"
     ]
    }
   ],
   "source": [
    "for x in 'spam':\n",
    "    print(x)"
   ]
  },
  {
   "cell_type": "markdown",
   "metadata": {},
   "source": [
    "## 系统命令行和文件\n",
    "\n",
    "**模块**\n",
    "- 模块是一个包含了 Python 语句的简单文本文件。\n",
    "- 通过系统命令行、通过点击图标、通过在 IDLE 用户界面中选择等方式\n",
    "- 每一次当你运行模块文件时，Python 都会从头至尾地执行模块文件中的每一条代码。\n",
    "\n",
    "\n",
    "**运行python文件**\n",
    "- 在系统 shell 提示中输入，从而要求 Python 来运行它\n",
    "- 点击文件图标:点击后产生了一个令人困惑的「一闪而过」的结果\n",
    "    - input 的技巧:在代码后面加入一个input() 函数\n",
    "    - 看不到 Python 的错误信息\n",
    "\n",
    "![input 的技巧](imgs/script1Result.png)\n",
    "\n",
    "\n",
    "## 模块导入和重载\n",
    "\n",
    "### import 与 reload\n",
    "\n",
    "- 每一个以扩展名 py 结尾的 Python 源代码文件都是一个模块\n",
    "- 导入从本质上来讲，就是载入另一个文件，并能够读取那个文件的内容\n",
    "- `import` 来实现: `import script1`\n",
    "- 只是在每次会话的第一次运行\n",
    "    - 导入是一个开销很大的操作，以至于每个文件、每个程序运行不能够重复多于一次\n",
    "    - 调用 imp 标准库模块中可用的 reload 函数：reload 是一个被调用的函数\n",
    "    - reload 函数的返回值是一个 Python 模块对象\n",
    "    \n",
    "    \n",
    "    \n"
   ]
  },
  {
   "cell_type": "code",
   "execution_count": 4,
   "metadata": {},
   "outputs": [
    {
     "name": "stdout",
     "output_type": "stream",
     "text": [
      "win32\n",
      "1267650600228229401496703205376\n",
      "spam!spam!spam!spam!spam!spam!spam!spam!\n"
     ]
    }
   ],
   "source": [
    "import script1"
   ]
  },
  {
   "cell_type": "code",
   "execution_count": 5,
   "metadata": {},
   "outputs": [
    {
     "name": "stdout",
     "output_type": "stream",
     "text": [
      "win32\n",
      "1267650600228229401496703205376\n",
      "spam!spam!spam!spam!spam!spam!spam!spam!\n"
     ]
    },
    {
     "data": {
      "text/plain": [
       "<module 'script1' from 'F:\\\\Study\\\\Pycook\\\\pycook\\\\ch02_pythonHowToRun\\\\script1.py'>"
      ]
     },
     "execution_count": 5,
     "metadata": {},
     "output_type": "execute_result"
    }
   ],
   "source": [
    "# 调用 imp 标准库模块中可用的 reload 函数\n",
    "# from 语句直接从一个模块中复制出一个名字\n",
    "from imp import reload\n",
    "reload(script1)"
   ]
  },
  {
   "cell_type": "markdown",
   "metadata": {},
   "source": [
    "### 模块的显要特性：属性\n",
    "\n",
    "文本编辑器创建一个名为 myfile.py 的单行的 Python 模块文件，里面有一个title属性\n",
    "\n",
    "两种方式获得该属性：\n",
    "\n",
    "- 用一个 import 语句将模块作为一个整体载入，并使用模块名后跟一个属性名来获取它\n",
    "    - 内置的 dir 函数开始发挥作用了。你可以使用它来获得模块内部的可用的变量名的列表\n",
    "- from 复制了模块的属性，以便属性能够成为接收者的直接变量\n",
    "    - 导入的文件中相同名称的变量被覆盖\n",
    "\n"
   ]
  },
  {
   "cell_type": "code",
   "execution_count": 8,
   "metadata": {},
   "outputs": [
    {
     "name": "stdout",
     "output_type": "stream",
     "text": [
      "The meaning of life\n"
     ]
    },
    {
     "data": {
      "text/plain": [
       "['__builtins__',\n",
       " '__cached__',\n",
       " '__doc__',\n",
       " '__file__',\n",
       " '__loader__',\n",
       " '__name__',\n",
       " '__package__',\n",
       " '__spec__',\n",
       " 'title']"
      ]
     },
     "execution_count": 8,
     "metadata": {},
     "output_type": "execute_result"
    }
   ],
   "source": [
    "# 用一个 import 语句将模块作为一个整体载入，并使用模块名后跟一个属性名来获取它：\n",
    "import myfile\n",
    "print(myfile.title)\n",
    "dir(myfile)\n"
   ]
  },
  {
   "cell_type": "code",
   "execution_count": 7,
   "metadata": {},
   "outputs": [
    {
     "name": "stdout",
     "output_type": "stream",
     "text": [
      "The meaning of life\n"
     ]
    }
   ],
   "source": [
    "#\n",
    "from myfile import title\n",
    "print(title) \n",
    "\n"
   ]
  }
 ],
 "metadata": {
  "kernelspec": {
   "display_name": "Python 3",
   "language": "python",
   "name": "python3"
  },
  "language_info": {
   "codemirror_mode": {
    "name": "ipython",
    "version": 3
   },
   "file_extension": ".py",
   "mimetype": "text/x-python",
   "name": "python",
   "nbconvert_exporter": "python",
   "pygments_lexer": "ipython3",
   "version": "3.6.8"
  },
  "toc": {
   "base_numbering": 1,
   "nav_menu": {},
   "number_sections": true,
   "sideBar": true,
   "skip_h1_title": false,
   "title_cell": "Table of Contents",
   "title_sidebar": "Contents",
   "toc_cell": false,
   "toc_position": {},
   "toc_section_display": true,
   "toc_window_display": false
  }
 },
 "nbformat": 4,
 "nbformat_minor": 2
}
