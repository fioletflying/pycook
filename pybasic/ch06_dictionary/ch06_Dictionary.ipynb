{
 "cells": [
  {
   "cell_type": "markdown",
   "metadata": {},
   "source": [
    "# 字典\n",
    "\n",
    "## 字典简介\n",
    "\n",
    "它们能够高效地模拟现实世界中的情形；\n",
    "字典是一系列键键 — 值对值对 。每个键都与一个值相关联，你可以使用键来访问与之相关联的值。  \n",
    "与键相关联的值可以是数字、字符串、列表乃至字典。事实上，可将任何 Python 对象用作字典中的值。\n",
    "\n",
    "键和值之间用冒号分隔，而键—值对之间用逗号分隔。\n",
    "\n",
    "### 访问字典的值\n",
    "\n",
    "要获取与键相关联的值，可依次指定字典名和放在方括号内的键，\n",
    "\n",
    "### 添加元素\n",
    "字典是一种动态结构，可随时在其中添加键 — 值对。要添加键 — 值对，可依次指定字典名、用方括号括起的键和相关联的值。\n",
    "\n",
    "### 创建空字典\n",
    "\n",
    "可先使用一对空的花括号定义一个字典，再分行添加各个键 — 值对\n",
    "\n",
    "### 修改字典中的值\n",
    "\n",
    "要修改字典中的值，可依次指定字典名、用方括号括起的键以及与该键相关联的新值。\n",
    "\n",
    "### 删除键值对 del\n",
    "\n",
    "对于字典中不再需要的信息，可使用 del  语句将相应的键 — 值对彻底删除。\n",
    "\n",
    "**注意 删除的键 — 值对永远消失了。**"
   ]
  },
  {
   "cell_type": "code",
   "execution_count": 12,
   "metadata": {},
   "outputs": [
    {
     "name": "stdout",
     "output_type": "stream",
     "text": [
      "green\n",
      "5\n",
      "{'color': 'green', 'points': 5, 'x_pos': 0, 'y_pos': 25}\n",
      "{'color': 'green', 'x_pos': 0, 'y_pos': 25}\n",
      "{'color': 'Yellow', 'x_pos': 0, 'y_pos': 25, 'speed': 'medium'}\n",
      "{'color': 'Yellow', 'x_pos': 2, 'y_pos': 25, 'speed': 'medium'}\n",
      "{'x_pos': 2, 'y_pos': 25, 'speed': 'medium'}\n"
     ]
    }
   ],
   "source": [
    "## 字典简介\n",
    "alien_0 = {'color':'green','points':5}\n",
    "\n",
    "# 要获取与键相关联的值，可依次指定字典名和放在方括号内的键，\n",
    "print(alien_0['color'])\n",
    "print(alien_0['points'])\n",
    "\n",
    "# 添加元素\n",
    "alien_0['x_pos'] = 0\n",
    "alien_0['y_pos'] = 25\n",
    "\n",
    "print(alien_0)\n",
    "\n",
    "alien_0 = {}\n",
    "# 添加元素\n",
    "alien_0['color'] = \"green\"\n",
    "alien_0['x_pos'] = 0\n",
    "alien_0['y_pos'] = 25\n",
    "\n",
    "print(alien_0)\n",
    "\n",
    "# 修改字典中的值\n",
    "alien_0['color'] = \"Yellow\"\n",
    "\n",
    "alien_0['speed'] = \"medium\"\n",
    "print(alien_0)\n",
    "\n",
    "if alien_0['speed'] == 'slow':\n",
    "    x_increment = 1\n",
    "elif alien_0['speed'] == 'medium':\n",
    "    x_increment = 2\n",
    "else:\n",
    "    x_increment = 3\n",
    "    \n",
    "alien_0['x_pos'] = alien_0['x_pos'] + x_increment\n",
    "\n",
    "print(alien_0)\n",
    "\n",
    "# 删除键值对 del\n",
    "\n",
    "del alien_0['color']\n",
    "print(alien_0)\n",
    "\n"
   ]
  },
  {
   "cell_type": "markdown",
   "metadata": {},
   "source": [
    "## 遍历字典\n",
    "\n",
    "一个 Python 字典可能只包含几个键 — 值对，也可能包含数百万个键 — 值对\n",
    "遍历字典的方式：可遍历字典的所有键 — 值对、键或值。\n",
    "\n",
    "###  遍历所有键 — 值对 .items\n",
    "\n",
    "`for key,value in user0.items():`\n",
    "\n",
    "###  遍历所有键 .keys()\n",
    "\n",
    "### 按顺序遍历字典中的所有键\n",
    "\n",
    "要以特定的顺序返回元素，一种办法是在 for  循环中对返回的键进行排序。为此，可使用函数 sorted()  来获得按特定顺序排列的键列表的副本：\n",
    "\n",
    "###  遍历所有的值\n",
    "\n",
    "可使用方法 values()  ，它返回一个值列表，而不包含任何键.\n",
    "为剔除重复项，可使用集合（ set ）。集合类似于列表，但每个元素都必须是独一无二的：\n"
   ]
  },
  {
   "cell_type": "code",
   "execution_count": 20,
   "metadata": {
    "scrolled": true
   },
   "outputs": [
    {
     "name": "stdout",
     "output_type": "stream",
     "text": [
      "\n",
      "Key:username Value: Double\n",
      "\n",
      "Key:first Value: Feifei\n",
      "\n",
      "Key:last Value: Liu\n",
      "Jen\n",
      "Sarah\n",
      "Edward\n",
      "Phil\n",
      "Fei, is not in the poll\n",
      "edward\n",
      "jen\n",
      "phil\n",
      "sarah\n",
      "Python\n",
      "C\n",
      "Ruby\n",
      "Python\n",
      "set: Python\n",
      "set: Ruby\n",
      "set: C\n"
     ]
    }
   ],
   "source": [
    "user0 = {\n",
    "    'username':'double',\n",
    "    'first':'feifei',\n",
    "    'last':'liu'\n",
    "}\n",
    "\n",
    "#  遍历所有键 — 值对 .items\n",
    "for key,value in user0.items():\n",
    "    print(\"\\nKey:\"+key + \" Value: \" + value.title())\n",
    "    \n",
    "favorite_languages = {\n",
    "      'jen': 'python',\n",
    "      'sarah': 'c',\n",
    "      'edward': 'ruby',\n",
    "      'phil': 'python',\n",
    "      }\n",
    "###  遍历所有键 .keys()\n",
    "for name in favorite_languages.keys():\n",
    "    print(name.title())\n",
    "    \n",
    "if 'Fei' not in favorite_languages.keys():\n",
    "    print(\"Fei, is not in the poll\")\n",
    "    \n",
    "for name in  sorted(favorite_languages.keys()):\n",
    "    print(name)\n",
    "    \n",
    "for language in favorite_languages.values():\n",
    "    print(language.title())\n",
    "    \n",
    "for language in set(favorite_languages.values()):\n",
    "    print(\"set: \" + language.title())\n",
    "    \n",
    "    "
   ]
  },
  {
   "cell_type": "markdown",
   "metadata": {},
   "source": [
    "## 嵌套\n",
    "有时候，需要将一系列字典存储在列表中，或将列表作为值存储在字典中，这称为嵌套嵌套   。你可以在列表中嵌套字典、在字典中嵌套列表甚至在字典中嵌套字典。\n",
    "\n",
    "## 字典列表\n",
    "\n",
    "\n"
   ]
  },
  {
   "cell_type": "code",
   "execution_count": 26,
   "metadata": {},
   "outputs": [
    {
     "name": "stdout",
     "output_type": "stream",
     "text": [
      "{'color': 'green', 'points': 5}\n",
      "{'color': 'yello', 'points': 10}\n",
      "{'color': 'red', 'points': 3}\n",
      "{'color': 'blue', 'points': 11}\n",
      "{'color': 'green', 'points': 5, 'speed': 'slow'}\n",
      "{'color': 'green', 'points': 5, 'speed': 'slow'}\n",
      "{'color': 'green', 'points': 5, 'speed': 'slow'}\n",
      "{'color': 'green', 'points': 5, 'speed': 'slow'}\n",
      "{'color': 'green', 'points': 5, 'speed': 'slow'}\n",
      "Total number:30\n"
     ]
    }
   ],
   "source": [
    "alien_0 = {'color':'green','points':5}\n",
    "alien_1 = {'color':'yello','points':10}\n",
    "alien_2 = {'color':'red','points':3}\n",
    "alien_3 = {'color':'blue','points':11}\n",
    "\n",
    "aliens = [alien_0,alien_1,alien_2,alien_3]\n",
    "for alien in aliens:\n",
    "    print(alien)\n",
    "\n",
    "aliens = []\n",
    "    \n",
    "for alien_number in range(30):\n",
    "    new_alien = {'color':'green','points':5,'speed':'slow'}\n",
    "    aliens.append(new_alien)\n",
    "    \n",
    "for alien in aliens[0:5]:\n",
    "    print(alien)\n",
    "print(\"Total number:\" + str(len(aliens)))\n",
    "    "
   ]
  }
 ],
 "metadata": {
  "kernelspec": {
   "display_name": "Python 3",
   "language": "python",
   "name": "python3"
  },
  "language_info": {
   "codemirror_mode": {
    "name": "ipython",
    "version": 3
   },
   "file_extension": ".py",
   "mimetype": "text/x-python",
   "name": "python",
   "nbconvert_exporter": "python",
   "pygments_lexer": "ipython3",
   "version": "3.5.3"
  },
  "toc": {
   "base_numbering": 1,
   "nav_menu": {},
   "number_sections": true,
   "sideBar": true,
   "skip_h1_title": false,
   "title_cell": "Table of Contents",
   "title_sidebar": "Contents",
   "toc_cell": false,
   "toc_position": {},
   "toc_section_display": true,
   "toc_window_display": false
  }
 },
 "nbformat": 4,
 "nbformat_minor": 2
}
