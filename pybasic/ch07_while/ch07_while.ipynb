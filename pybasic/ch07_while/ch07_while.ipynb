{
 "cells": [
  {
   "cell_type": "markdown",
   "metadata": {},
   "source": [
    "# while 的使用\n",
    "\n",
    "## input函数的使用\n",
    "\n",
    "函数 input()  让程序暂停运行，等待用户输入一些文本。获取用户输入后， Python 将其存储在一个变量中，以方便你使用。\n",
    "\n",
    "每当你使用函数 input()  时，都应指定清晰而易于明白的提示，准确地指出你希望用户提供什么样的信息 —— 指出用户该输入任何信息的提示都行。\n",
    "\n",
    "### 使用 int()  来获取数值输入 \n",
    "\n",
    "使用函数 input()  时， Python 将用户输入解读为字符串。\n",
    "将输入视为数值。函数 int()  将数字的字符串表示转换为数值表示."
   ]
  },
  {
   "cell_type": "code",
   "execution_count": 1,
   "metadata": {},
   "outputs": [
    {
     "name": "stdout",
     "output_type": "stream",
     "text": [
      "input something： test\n",
      "test\n"
     ]
    }
   ],
   "source": [
    "message = input(\"input something： \")\n",
    "print(message)"
   ]
  },
  {
   "cell_type": "code",
   "execution_count": 3,
   "metadata": {},
   "outputs": [
    {
     "name": "stdout",
     "output_type": "stream",
     "text": [
      "please input your name,\n",
      "test teststestsfsdf\n",
      "Hello, testsfsdf\n"
     ]
    }
   ],
   "source": [
    "name = input(\"please input your name,\\ntest tests\")\n",
    "\n",
    "print(\"Hello,\",name)"
   ]
  },
  {
   "cell_type": "code",
   "execution_count": 7,
   "metadata": {},
   "outputs": [
    {
     "name": "stdout",
     "output_type": "stream",
     "text": [
      "How old are you?21\n",
      "your age is  21\n"
     ]
    }
   ],
   "source": [
    "age  = input(\"How old are you?\")\n",
    "age = int(age)\n",
    "if age < 18:\n",
    "    print(\"you are so yong. your age is \" , age)\n",
    "else:\n",
    "     print(\"your age is \" , age)\n",
    "        \n"
   ]
  },
  {
   "cell_type": "markdown",
   "metadata": {},
   "source": [
    "## while \n",
    "\n",
    "for  循环用于针对集合中的每个元素都一个代码块，而 while  循环不断地运行，直到指定的条件不满足为止。\n",
    "\n",
    "### break\n",
    "要立即退出 while  循环，不再运行循环中余下的代码，也不管条件测试的结果如何，可使用 break  语句。 break  语句用于控制程序流程，可使用它来控制哪些代码行将执行，哪些代码行不执行，从而让程序按你的要求执行你要执行的代码。\n",
    "\n",
    "\n",
    "### continue\n",
    "\n",
    "要返回到循环开头，并根据条件测试结果决定是否继续执行循环，可使用 continue  语句，它不像 break  语句那样不再执行余下的代码并退出整个循环。\n",
    "\n",
    "\n",
    "\n"
   ]
  },
  {
   "cell_type": "code",
   "execution_count": 10,
   "metadata": {},
   "outputs": [
    {
     "name": "stdout",
     "output_type": "stream",
     "text": [
      "1\n",
      "2\n",
      "3\n",
      "4\n",
      "the last ansower is : 5\n"
     ]
    }
   ],
   "source": [
    "count_num = 1\n",
    "while count_num < 5:\n",
    "    print(count_num)\n",
    "    count_num +=1\n",
    "    \n",
    "print(\"the last ansower is :\", count_num)\n",
    "   "
   ]
  },
  {
   "cell_type": "code",
   "execution_count": 11,
   "metadata": {},
   "outputs": [
    {
     "name": "stdout",
     "output_type": "stream",
     "text": [
      "\n",
      "Tell somethings, and I will repete it back to you\n",
      "Ener 'quit' to end the program.sfsdfsdf\n",
      "sfsdfsdf\n",
      "\n",
      "Tell somethings, and I will repete it back to you\n",
      "Ener 'quit' to end the program.slfjsldfjsd\n",
      "slfjsldfjsd\n",
      "\n",
      "Tell somethings, and I will repete it back to you\n",
      "Ener 'quit' to end the program.sdfjsldfj\n",
      "sdfjsldfj\n",
      "\n",
      "Tell somethings, and I will repete it back to you\n",
      "Ener 'quit' to end the program.quit\n"
     ]
    }
   ],
   "source": [
    "prompt =\"\\nTell somethings, and I will repete it back to you\"\n",
    "prompt += \"\\nEner 'quit' to end the program.\"\n",
    "\n",
    "message = \"\"\n",
    "while message != 'quit':\n",
    "    message = input(prompt)\n",
    "    \n",
    "    if message != 'quit':\n",
    "        print(message)"
   ]
  },
  {
   "cell_type": "code",
   "execution_count": 13,
   "metadata": {},
   "outputs": [
    {
     "name": "stdout",
     "output_type": "stream",
     "text": [
      "\n",
      "Tell somethings, and I will repete it back to you\n",
      "Ener 'quit' to end the program.sfsfs\n",
      "\n",
      "Tell somethings, and I will repete it back to you\n",
      "Ener 'quit' to end the program.sfljslf\n",
      "\n",
      "Tell somethings, and I will repete it back to you\n",
      "Ener 'quit' to end the program.quit\n",
      "quit\n"
     ]
    }
   ],
   "source": [
    "prompt =\"\\nTell somethings, and I will repete it back to you\"\n",
    "prompt += \"\\nEner 'quit' to end the program.\"\n",
    "\n",
    "active = True\n",
    "while active:\n",
    "    message = input(prompt)\n",
    "    \n",
    "    if message == 'quit':\n",
    "        active = False\n",
    "        print(message)"
   ]
  },
  {
   "cell_type": "markdown",
   "metadata": {},
   "source": [
    "## 使用 while  循环来处理列表和字典\n",
    "\n",
    "for  循环是一种遍历列表的有效方式，但在 for  循环中不应修改列表，否则将导致 Python 难以跟踪其中的元素。要在遍历列表的同时对其进行修改，可使用 while  循环。通过将 while  循环同列表和字典结合起来使用，可收集、存储并组织大量输入，供以后查看和显示。\n",
    "\n",
    "### 在列表之间移动元素\n",
    "将其从未验证用户列表中提取出来，再将其加入到另一个已验证用户列表中。\n",
    "\n",
    "### 删除包含特定值的所有列表元素\n",
    "\n",
    "我们使用函数 remove()  来删除列表中的特定值，这之所以可行，是因为要删除的值在列表中只出现了一次。如果要删除列表中所有包含特定值的元素.\n",
    "\n"
   ]
  },
  {
   "cell_type": "code",
   "execution_count": 14,
   "metadata": {},
   "outputs": [
    {
     "name": "stdout",
     "output_type": "stream",
     "text": [
      "Verifying user:Candace\n",
      "Verifying user:Brian\n",
      "Verifying user:Alice\n",
      "\n",
      "The following users have been confirmed:\n",
      "Candace\n",
      "Brian\n",
      "Alice\n"
     ]
    }
   ],
   "source": [
    "unconfirmed_users = ['alice', 'brian', 'candace']\n",
    "confirmed_users = []\n",
    "\n",
    "while unconfirmed_users:\n",
    "    current_user = unconfirmed_users.pop()\n",
    "    \n",
    "    print(\"Verifying user:\" + current_user.title())\n",
    "    confirmed_users.append(current_user)\n",
    "    \n",
    "print(\"\\nThe following users have been confirmed:\")\n",
    "for confirmed_user in confirmed_users:\n",
    "    print(confirmed_user.title())"
   ]
  },
  {
   "cell_type": "code",
   "execution_count": 15,
   "metadata": {},
   "outputs": [
    {
     "name": "stdout",
     "output_type": "stream",
     "text": [
      "['dog', 'cat', 'dog', 'goldfish', 'cat', 'rabbit', 'cat']\n",
      "['dog', 'dog', 'goldfish', 'rabbit']\n"
     ]
    }
   ],
   "source": [
    "pets = ['dog', 'cat', 'dog', 'goldfish', 'cat', 'rabbit', 'cat']\n",
    "print(pets)\n",
    "\n",
    "while 'cat' in pets:\n",
    "    pets.remove('cat')\n",
    "print(pets)"
   ]
  }
 ],
 "metadata": {
  "kernelspec": {
   "display_name": "Python 3",
   "language": "python",
   "name": "python3"
  },
  "language_info": {
   "codemirror_mode": {
    "name": "ipython",
    "version": 3
   },
   "file_extension": ".py",
   "mimetype": "text/x-python",
   "name": "python",
   "nbconvert_exporter": "python",
   "pygments_lexer": "ipython3",
   "version": "3.6.8"
  }
 },
 "nbformat": 4,
 "nbformat_minor": 2
}
