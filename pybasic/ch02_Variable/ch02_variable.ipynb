{
 "cells": [
  {
   "cell_type": "markdown",
   "metadata": {},
   "source": [
    "[TOC]\n",
    "\n",
    "# 变量与数据类型\n",
    "\n",
    "\n",
    "## 变量\n",
    "\n",
    "### 变量命名\n",
    "\n",
    "![命名.png](imgs/命名.png)\n",
    "\n",
    "**建议**\n",
    "就目前而言，应使用小写的 Python 变量名。在变量名中使用大写字母虽然不会导致错误，但避免使用大写字母是个不错的主意。"
   ]
  },
  {
   "cell_type": "code",
   "execution_count": 1,
   "metadata": {},
   "outputs": [
    {
     "name": "stdout",
     "output_type": "stream",
     "text": [
      "Hello my first task\n",
      "Hello my second task\n"
     ]
    }
   ],
   "source": [
    "message = \"Hello my first task\"\n",
    "print(message)\n",
    "# 变量的值可以随时改变，记录变量的最新的值\n",
    "message = \"Hello my second task\"\n",
    "print(message)"
   ]
  },
  {
   "cell_type": "markdown",
   "metadata": {},
   "source": [
    "## 字符串\n",
    "\n",
    "字符串就是一系列字符。在 Python 中，用引号括起的都是字符串，其中的引号可以是单引号，也可以是双引号。\n",
    "\n",
    "### 大小写修改\n",
    "\n",
    "title() 以首字母大写的方式显示每个单词，即将每个单词的首字母都改为大写。这很有用，因为你经常需要将名字视为信息。例如，你可能希望程序将值\n",
    "\n",
    "要将字符串改为全部大写或全部小写\n",
    "upper()\n",
    "lower()\n",
    "\n",
    "### 合并\n",
    "\n",
    "Python 使用加号（ +  ）来合并字符串， 这种合并字符串的方法称为拼接拼接  \n",
    "\n",
    "### 制表符\n",
    "\n",
    "在编程中，空白泛指任何非打印字符，如空格、制表符和换行符。你可使用空白来组织输出，以使其更易读。\n",
    "要在字符串中添加制表符，可使用字符组合 \\t\n",
    "要在字符串中添加换行符，可使用字符组合 \\n \n",
    "\n",
    "### 删除空格\n",
    "rstrip() 要确保字符串末尾没有空白.\n",
    "lstrip() 剔除字符串开头的空白，\n",
    "strip() 同时剔除字符串两端的空白。\n",
    "剥除函数最常用于在存储用户输入前对其进行清理。\n",
    "\n",
    "### 字符串的语法错误\n",
    "\n",
    "在用单引号括起的字符串中，如果包含撇号，就将导致错误。这\n"
   ]
  },
  {
   "cell_type": "code",
   "execution_count": 3,
   "metadata": {},
   "outputs": [
    {
     "name": "stdout",
     "output_type": "stream",
     "text": [
      "Test Capital\n",
      "TEST CAPITAL\n",
      "test capital\n"
     ]
    }
   ],
   "source": [
    "# 大小写修改\n",
    "name = \"test capital\"\n",
    "print(name.title())\n",
    "print(name.upper())\n",
    "print(name.lower())"
   ]
  },
  {
   "cell_type": "code",
   "execution_count": 9,
   "metadata": {},
   "outputs": [
    {
     "name": "stdout",
     "output_type": "stream",
     "text": [
      "test string\n",
      "Hello,Test String!\n"
     ]
    }
   ],
   "source": [
    "#字符串合并\n",
    "str1 = \"test\"\n",
    "str2 = \"string\"\n",
    "str3 = str1 + \" \"+str2\n",
    "print(str3)\n",
    "\n",
    "print(\"Hello,\"+ str3.title()+\"!\")"
   ]
  },
  {
   "cell_type": "code",
   "execution_count": 13,
   "metadata": {},
   "outputs": [
    {
     "name": "stdout",
     "output_type": "stream",
     "text": [
      "Feifei\n",
      "\tFeifei\n",
      "\t\tFeifei\n",
      "Name:\n",
      "\tGuan\n",
      "\tFei\n"
     ]
    }
   ],
   "source": [
    "# 制表符\n",
    "str = \"Feifei\"\n",
    "print(str)\n",
    "print(\"\\t\"+str)\n",
    "print(\"\\t\\t\"+str)\n",
    "print(\"Name:\\n\\tGuan\\n\\tFei\")"
   ]
  },
  {
   "cell_type": "code",
   "execution_count": 8,
   "metadata": {},
   "outputs": [
    {
     "name": "stdout",
     "output_type": "stream",
     "text": [
      "       Fei   Test      \n",
      "       Fei   Test\n",
      "Fei   Test      \n",
      "Fei   Test\n"
     ]
    }
   ],
   "source": [
    "#删除空格\n",
    "str = '       Fei   Test      '\n",
    "str1 = str.rstrip()\n",
    "str2 = str.lstrip()\n",
    "str3 = str.strip()\n",
    "print(str)\n",
    "print(str1)\n",
    "print(str2)\n",
    "print(str3)"
   ]
  },
  {
   "cell_type": "code",
   "execution_count": 10,
   "metadata": {},
   "outputs": [
    {
     "ename": "SyntaxError",
     "evalue": "invalid syntax (<ipython-input-10-7c305d079d4e>, line 5)",
     "output_type": "error",
     "traceback": [
      "\u001b[1;36m  File \u001b[1;32m\"<ipython-input-10-7c305d079d4e>\"\u001b[1;36m, line \u001b[1;32m5\u001b[0m\n\u001b[1;33m    str1 = 'I'm Feifei'\u001b[0m\n\u001b[1;37m              ^\u001b[0m\n\u001b[1;31mSyntaxError\u001b[0m\u001b[1;31m:\u001b[0m invalid syntax\n"
     ]
    }
   ],
   "source": [
    "### 字符串的语法错误\n",
    "\n",
    "str = \"I'm Feifei\"\n",
    "print(str)\n",
    "#str1 = 'I'm Feifei'\n"
   ]
  },
  {
   "cell_type": "code",
   "execution_count": 15,
   "metadata": {},
   "outputs": [
    {
     "name": "stdout",
     "output_type": "stream",
     "text": [
      "Hi Feifei,come on!\n",
      "FEIFEI\n",
      "feifei\n",
      "Feifei\n",
      "Feionce said,\"Learn more.\"\n"
     ]
    }
   ],
   "source": [
    "# 练习\n",
    "user_name = \"Feifei\"\n",
    "user_nameUp = user_name.upper()\n",
    "user_nameLow = user_name.lower()\n",
    "user_nameCapital = user_name.capitalize()\n",
    "\n",
    "print(\"Hi \" + user_name + \",\" + \"come on!\")\n",
    "print(user_nameUp)\n",
    "print(user_nameLow)\n",
    "print(user_nameCapital)\n",
    "\n",
    "famous_person = \"Fei\"\n",
    "famous_value = \"Learn more.\"\n",
    "\n",
    "print(famous_person + \"once said,\" + \"\\\"\"+famous_value+\"\\\"\" )\n"
   ]
  }
 ],
 "metadata": {
  "kernelspec": {
   "display_name": "Python 3",
   "language": "python",
   "name": "python3"
  },
  "language_info": {
   "codemirror_mode": {
    "name": "ipython",
    "version": 3
   },
   "file_extension": ".py",
   "mimetype": "text/x-python",
   "name": "python",
   "nbconvert_exporter": "python",
   "pygments_lexer": "ipython3",
   "version": "3.6.8"
  },
  "toc": {
   "base_numbering": 1,
   "nav_menu": {},
   "number_sections": true,
   "sideBar": true,
   "skip_h1_title": false,
   "title_cell": "Table of Contents",
   "title_sidebar": "Contents",
   "toc_cell": false,
   "toc_position": {},
   "toc_section_display": true,
   "toc_window_display": false
  }
 },
 "nbformat": 4,
 "nbformat_minor": 2
}
