{
 "cells": [
  {
   "cell_type": "markdown",
   "metadata": {},
   "source": [
    "# class\n",
    "\n",
    "## 类的创建及使用\n",
    "\n",
    "**__init__()方法**\n",
    "__init__()  是一个特殊的方法，每当你根据 Dog  类创建新实例时， Python 都会自动运行它。在这个方法的名称中，开头和末尾各有两个下划线，这是一种约定，旨在避免 Python 默认方法与普通方法发生名称冲突。\n",
    "\n",
    "__init__()  定义成了包含三个形参： self  、 name  和 age  。在这个方法的定义中，形参 self  必不可少，还必须位于其他形参的前面。\n",
    "\n",
    "**属性**\n",
    " self.name = name  获取存储在形参 name  中的值，并将其存储到变量 name  中，然后该变量被关联到当前创建的实例。 self.age = age  的作用与此类似。像这样可通过实例访问的变量称为属性属性   。\n",
    "\n",
    "**py2.7中**\n",
    "`\n",
    "class ClassName(object):\n",
    "`\n"
   ]
  },
  {
   "cell_type": "code",
   "execution_count": 4,
   "metadata": {},
   "outputs": [
    {
     "name": "stdout",
     "output_type": "stream",
     "text": [
      "My dog's name is Gu.\n",
      "My dog is 6 years old.\n",
      "Gu rolled over!\n",
      "Gu is now sitting.\n",
      "\n",
      "My dog's name is Lucky.\n",
      "My dog is 1 years old.\n",
      "Lucky rolled over!\n",
      "Lucky is now sitting.\n"
     ]
    }
   ],
   "source": [
    "class Dog():\n",
    "    '''\n",
    "    dog class\n",
    "    '''\n",
    "    def __init__(self,name,age):\n",
    "        '''\n",
    "        初始化name 和 age的属性\n",
    "        '''\n",
    "        self.name = name\n",
    "        self.age = age\n",
    "        \n",
    "    def sit(self):\n",
    "        '''\n",
    "        sit action\n",
    "        '''\n",
    "        print(self.name.title() + \" is now sitting.\")\n",
    "        \n",
    "    def roll_over(self):\n",
    "        '''\n",
    "        roll over\n",
    "        '''\n",
    "        print(self.name.title() + \" rolled over!\")\n",
    "        \n",
    "        \n",
    "my_dog = Dog('gu',6)\n",
    "print(\"My dog's name is \" + my_dog.name.title() + '.')\n",
    "print(\"My dog is \" + str(my_dog.age) + \" years old.\")\n",
    "my_dog.roll_over()\n",
    "my_dog.sit()\n",
    "\n",
    "your_dog = Dog('lucky',1)\n",
    "print(\"\\nMy dog's name is \" + your_dog.name.title() + '.')\n",
    "print(\"My dog is \" + str(your_dog.age) + \" years old.\")\n",
    "your_dog.roll_over()\n",
    "your_dog.sit()"
   ]
  }
 ],
 "metadata": {
  "kernelspec": {
   "display_name": "Python 3",
   "language": "python",
   "name": "python3"
  },
  "language_info": {
   "codemirror_mode": {
    "name": "ipython",
    "version": 3
   },
   "file_extension": ".py",
   "mimetype": "text/x-python",
   "name": "python",
   "nbconvert_exporter": "python",
   "pygments_lexer": "ipython3",
   "version": "3.5.3"
  },
  "toc": {
   "base_numbering": 1,
   "nav_menu": {},
   "number_sections": true,
   "sideBar": true,
   "skip_h1_title": false,
   "title_cell": "Table of Contents",
   "title_sidebar": "Contents",
   "toc_cell": false,
   "toc_position": {},
   "toc_section_display": true,
   "toc_window_display": false
  }
 },
 "nbformat": 4,
 "nbformat_minor": 2
}
