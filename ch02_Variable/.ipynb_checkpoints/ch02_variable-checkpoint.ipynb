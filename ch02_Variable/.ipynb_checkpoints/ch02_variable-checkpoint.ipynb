{
 "cells": [
  {
   "cell_type": "markdown",
   "metadata": {},
   "source": [
    "[TOC]\n",
    "\n",
    "# 变量与数据类型\n",
    "\n",
    "\n",
    "## 变量\n",
    "\n",
    "### 变量命名\n",
    "\n",
    "![命名.png](imgs/命名.png)\n",
    "\n",
    "**建议**\n",
    "就目前而言，应使用小写的 Python 变量名。在变量名中使用大写字母虽然不会导致错误，但避免使用大写字母是个不错的主意。"
   ]
  },
  {
   "cell_type": "code",
   "execution_count": 1,
   "metadata": {},
   "outputs": [
    {
     "name": "stdout",
     "output_type": "stream",
     "text": [
      "Hello my first task\n",
      "Hello my second task\n"
     ]
    }
   ],
   "source": [
    "message = \"Hello my first task\"\n",
    "print(message)\n",
    "# 变量的值可以随时改变，记录变量的最新的值\n",
    "message = \"Hello my second task\"\n",
    "print(message)"
   ]
  },
  {
   "cell_type": "markdown",
   "metadata": {},
   "source": [
    "## 字符串\n",
    "\n",
    "字符串就是一系列字符。在 Python 中，用引号括起的都是字符串，其中的引号可以是单引号，也可以是双引号。\n",
    "\n",
    "### 大小写修改\n",
    "\n",
    "title() 以首字母大写的方式显示每个单词，即将每个单词的首字母都改为大写。这很有用，因为你经常需要将名字视为信息。例如，你可能希望程序将值\n",
    "\n",
    "要将字符串改为全部大写或全部小写\n",
    "upper()\n",
    "lower()\n",
    "\n",
    "### 合并\n",
    "\n",
    "Python 使用加号（ +  ）来合并字符串， 这种合并字符串的方法称为拼接拼接  \n",
    "\n",
    "### 制表符\n",
    "\n",
    "在编程中，空白泛指任何非打印字符，如空格、制表符和换行符。你可使用空白来组织输出，以使其更易读。\n",
    "要在字符串中添加制表符，可使用字符组合 \\t\n",
    "要在字符串中添加换行符，可使用字符组合 \\n \n"
   ]
  },
  {
   "cell_type": "code",
   "execution_count": 3,
   "metadata": {},
   "outputs": [
    {
     "name": "stdout",
     "output_type": "stream",
     "text": [
      "Test Capital\n",
      "TEST CAPITAL\n",
      "test capital\n"
     ]
    }
   ],
   "source": [
    "# 大小写修改\n",
    "name = \"test capital\"\n",
    "print(name.title())\n",
    "print(name.upper())\n",
    "print(name.lower())"
   ]
  },
  {
   "cell_type": "code",
   "execution_count": 9,
   "metadata": {},
   "outputs": [
    {
     "name": "stdout",
     "output_type": "stream",
     "text": [
      "test string\n",
      "Hello,Test String!\n"
     ]
    }
   ],
   "source": [
    "#字符串合并\n",
    "str1 = \"test\"\n",
    "str2 = \"string\"\n",
    "str3 = str1 + \" \"+str2\n",
    "print(str3)\n",
    "\n",
    "print(\"Hello,\"+ str3.title()+\"!\")"
   ]
  },
  {
   "cell_type": "code",
   "execution_count": 13,
   "metadata": {},
   "outputs": [
    {
     "name": "stdout",
     "output_type": "stream",
     "text": [
      "Feifei\n",
      "\tFeifei\n",
      "\t\tFeifei\n",
      "Name:\n",
      "\tGuan\n",
      "\tFei\n"
     ]
    }
   ],
   "source": [
    "# 制表符\n",
    "str = \"Feifei\"\n",
    "print(str)\n",
    "print(\"\\t\"+str)\n",
    "print(\"\\t\\t\"+str)\n",
    "print(\"Name:\\n\\tGuan\\n\\tFei\")"
   ]
  }
 ],
 "metadata": {
  "kernelspec": {
   "display_name": "Python 3",
   "language": "python",
   "name": "python3"
  },
  "language_info": {
   "codemirror_mode": {
    "name": "ipython",
    "version": 3
   },
   "file_extension": ".py",
   "mimetype": "text/x-python",
   "name": "python",
   "nbconvert_exporter": "python",
   "pygments_lexer": "ipython3",
   "version": "3.5.3"
  },
  "toc": {
   "base_numbering": 1,
   "nav_menu": {},
   "number_sections": true,
   "sideBar": true,
   "skip_h1_title": false,
   "title_cell": "Table of Contents",
   "title_sidebar": "Contents",
   "toc_cell": false,
   "toc_position": {},
   "toc_section_display": true,
   "toc_window_display": false
  }
 },
 "nbformat": 4,
 "nbformat_minor": 2
}
