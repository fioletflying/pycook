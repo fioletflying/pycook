{
 "cells": [
  {
   "cell_type": "markdown",
   "metadata": {},
   "source": [
    "# 介绍 Python 对象类型\n",
    "\n",
    "## 使用内置类型\n",
    "\n",
    "- 内置对象使程序更容易编写。\n",
    "- 内置对象是扩展的组件。\n",
    "- 内置对象往往比定制的数据结构更有效率。\n",
    "- 内置对象是语言的标准的一部分。\n",
    "\n",
    "与我们从零开始所创建的工具相比，内置对象类型不仅仅让编程变得更简单，而且它们也更强大和更高效。\n",
    "\n",
    "\n",
    "## Python 的核心数据类型\n",
    "\n",
    "内置对象表如下：\n",
    "\n",
    "![innerObjectTab.png](imgs/innerObjectTab.png)\n",
    "\n",
    "\n",
    "\n",
    "### 数字\n"
   ]
  }
 ],
 "metadata": {
  "kernelspec": {
   "display_name": "Python 3",
   "language": "python",
   "name": "python3"
  },
  "language_info": {
   "codemirror_mode": {
    "name": "ipython",
    "version": 3
   },
   "file_extension": ".py",
   "mimetype": "text/x-python",
   "name": "python",
   "nbconvert_exporter": "python",
   "pygments_lexer": "ipython3",
   "version": "3.6.8"
  }
 },
 "nbformat": 4,
 "nbformat_minor": 2
}
