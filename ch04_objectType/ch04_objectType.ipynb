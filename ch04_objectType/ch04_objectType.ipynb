{
 "cells": [
  {
   "cell_type": "markdown",
   "metadata": {},
   "source": [
    "# 介绍 Python 对象类型\n",
    "\n",
    "## 使用内置类型\n",
    "\n",
    "- 内置对象使程序更容易编写。\n",
    "- 内置对象是扩展的组件。\n",
    "- 内置对象往往比定制的数据结构更有效率。\n",
    "- 内置对象是语言的标准的一部分。\n",
    "\n",
    "与我们从零开始所创建的工具相比，内置对象类型不仅仅让编程变得更简单，而且它们也更强大和更高效。\n",
    "\n",
    "\n",
    "## Python 的核心数据类型\n",
    "\n",
    "内置对象表如下：\n",
    "\n",
    "![innerObjectTab.png](imgs/innerObjectTab.png)\n",
    "\n",
    "Python 中没有类型声明，运行的表达式的语法决定了创建和使用的对象的类型。，一旦创建了一个对象，它就和操作集合绑定了。Python 是动态类型的（它自动地跟踪你的类型而不是要求声明代码），但是它也是强类型语言（你只能对一个对象进行适合该类型的有效的操作）。\n",
    "列表提供了其他对象的有序集合，而字典是通过键存储对象的。列表和字典都可以嵌套，可以随需求扩展和删减，并能够包含任意类型的对象。\n",
    "\n",
    "### 数字\n",
    "\n",
    "Python 的核心对象集合包括常规的类型：\n",
    "- 整数（没有小数部分的数字）、\n",
    "- 浮点数（概括地讲，就是后边有小数部分的数字）\n",
    "- 以及更为少见的类型（有虚部的复数、固定精度的十进制数、带分子和分母的有理分数以及集合等）\n",
    "\n",
    "数字支持一般的数学运算\n",
    "math 模块包括更高级的数学工具，如函数\n",
    "random 模块可以作为随机数字的生成器和随机选择器\n",
    "\n",
    "\n",
    "\n",
    "\n",
    "\n"
   ]
  },
  {
   "cell_type": "code",
   "execution_count": 1,
   "metadata": {},
   "outputs": [
    {
     "name": "stdout",
     "output_type": "stream",
     "text": [
      "346\n",
      "2.8\n",
      "1267650600228229401496703205376\n",
      "30103\n"
     ]
    }
   ],
   "source": [
    "print(123 + 223)\n",
    "print (1.4 * 2)\n",
    "## 乘方\n",
    "print(2 ** 100)\n",
    "print(len(str(2 ** 100000)))"
   ]
  },
  {
   "cell_type": "code",
   "execution_count": 4,
   "metadata": {},
   "outputs": [
    {
     "name": "stdout",
     "output_type": "stream",
     "text": [
      "6.283\n"
     ]
    }
   ],
   "source": [
    "3.1415 * 2.0\n",
    "print(3.1415 * 2.0)"
   ]
  },
  {
   "cell_type": "code",
   "execution_count": 5,
   "metadata": {},
   "outputs": [
    {
     "name": "stdout",
     "output_type": "stream",
     "text": [
      "3.141592653589793\n",
      "9.219544457292887\n"
     ]
    }
   ],
   "source": [
    "import math\n",
    "print(math.pi)\n",
    "print(math.sqrt(85))"
   ]
  },
  {
   "cell_type": "code",
   "execution_count": 6,
   "metadata": {},
   "outputs": [
    {
     "name": "stdout",
     "output_type": "stream",
     "text": [
      "0.6930466561472571\n",
      "3\n"
     ]
    }
   ],
   "source": [
    "import random\n",
    "print(random.random())\n",
    "print(random.choice([1,2,3,4]))"
   ]
  },
  {
   "cell_type": "markdown",
   "metadata": {},
   "source": [
    "### 字符串\n",
    "\n",
    "字符串是用来记录文本信息的，字符串是单个字符的字符串的序列。\n",
    "\n",
    "#### 序列的操作\n",
    "字符串支持假设其中各个元素包含位置顺序的操作，通过内置的 len 函数验证其长度并通过索引操作得到其各个元素。\n",
    "- 索引是按照从最前面的偏移量进行编码的,从 0 开始，第一项索引为 0，第二项索引为 1，依此类推\n",
    "- 反向索引，从最后一个开始（正向索引是从左边开始计算，反向索引是从右边开始计算）。\n",
    "- 负的索引号会简单地与字符串的长度相加\n",
    "- 方括号中使用任意表达式:一个常量、一个变量或任意表达式\n",
    "\n",
    "\n",
    "序列也支持一种所谓分片（slice）的操作\n",
    "- 从一个字符串中一步就提取出一部分的方法。\n",
    "-  X[I:J]，表示「取出在 X 中从偏移量为 I，直到但不包括偏移量为 J 的内容」\n",
    "\n",
    "\n",
    "符串也支持使用加号进行合并\n",
    "- 将两个字符串合成为一个新的字符串\n",
    "- 通过再重复一次创建一个新的字符串\n",
    "\n",
    "\n",
    "#### 不可变性\n",
    "\n",
    "每个字符串都被定义为生成新的字符串作为其结果，字符串在 Python 中具有不可变性——在创建后不能就地改变\n",
    "- 每一个对象都可以分为不可变性或者可变性\n",
    "- 核心类型中，数字、字符串和元组是不可变的\n",
    "- 列表和字典不是这样（它们可以完全自由地改变)\n",
    "\n",
    "#### 类型特定的方法\n",
    "- 字符串的 find 方法是一个基本的子字符串查找的操作\n",
    "- 字符串的 replace 方法将会对全局进行搜索和替换\n",
    "- 符串拆分为子字符串（作为一种解析的简单形式），\n",
    "- 大小写变换，\n",
    "- 测试字符串的内容（数字、字母或其他），\n",
    "- 去掉字符串后的空格字符\n",
    "\n"
   ]
  },
  {
   "cell_type": "code",
   "execution_count": 7,
   "metadata": {},
   "outputs": [
    {
     "name": "stdout",
     "output_type": "stream",
     "text": [
      "4\n",
      "S\n",
      "p\n",
      "m\n",
      "m\n",
      "a\n",
      "pa\n",
      "pam\n",
      "Spa\n",
      "Spa\n",
      "Spam\n",
      "Spamxyz\n",
      "SpamSpamSpamSpamSpam\n"
     ]
    }
   ],
   "source": [
    "S = 'Spam'\n",
    "print(len(S))\n",
    "print(S[0])\n",
    "print(S[1])\n",
    "# 反向索引\n",
    "print(S[-1])\n",
    "print(S[len(S)-1])\n",
    "print(S[-2])\n",
    "\n",
    "\n",
    "#切片操作\n",
    "print(S[1:3])\n",
    "print(S[1:])\n",
    "print(S[:3])\n",
    "print(S[:-1])\n",
    "print(S[:])\n",
    "\n",
    "# 加号进行合并\n",
    "print(S +  'xyz')\n",
    "print(S * 5)\n"
   ]
  },
  {
   "cell_type": "code",
   "execution_count": 12,
   "metadata": {},
   "outputs": [
    {
     "name": "stdout",
     "output_type": "stream",
     "text": [
      "xpam\n",
      "xpam\n"
     ]
    }
   ],
   "source": [
    "print(S)\n",
    "#S[0] = \"y\"\n",
    "S = 'x'+S[1:]\n",
    "print(S)"
   ]
  },
  {
   "cell_type": "code",
   "execution_count": 14,
   "metadata": {},
   "outputs": [
    {
     "data": {
      "text/plain": [
       "'xXYZm'"
      ]
     },
     "execution_count": 14,
     "metadata": {},
     "output_type": "execute_result"
    }
   ],
   "source": [
    "# 类型特定的方法\n",
    "S.find('pa')\n",
    "\n",
    "S.replace('pa','XYZ')\n",
    "\n"
   ]
  },
  {
   "cell_type": "code",
   "execution_count": 17,
   "metadata": {},
   "outputs": [
    {
     "name": "stdout",
     "output_type": "stream",
     "text": [
      "['aaa', 'bbb', 'cccc', 'dd']\n",
      "SPAM\n",
      "True\n"
     ]
    }
   ],
   "source": [
    "line = 'aaa,bbb,cccc,dd'\n",
    "print(line.split(','))\n",
    "S = 'spam'\n",
    "print(S.upper())\n",
    "print(S.isalpha())\n",
    "\n"
   ]
  }
 ],
 "metadata": {
  "kernelspec": {
   "display_name": "Python 3",
   "language": "python",
   "name": "python3"
  },
  "language_info": {
   "codemirror_mode": {
    "name": "ipython",
    "version": 3
   },
   "file_extension": ".py",
   "mimetype": "text/x-python",
   "name": "python",
   "nbconvert_exporter": "python",
   "pygments_lexer": "ipython3",
   "version": "3.5.3"
  },
  "toc": {
   "base_numbering": 1,
   "nav_menu": {},
   "number_sections": true,
   "sideBar": true,
   "skip_h1_title": false,
   "title_cell": "Table of Contents",
   "title_sidebar": "Contents",
   "toc_cell": false,
   "toc_position": {},
   "toc_section_display": true,
   "toc_window_display": false
  }
 },
 "nbformat": 4,
 "nbformat_minor": 2
}
