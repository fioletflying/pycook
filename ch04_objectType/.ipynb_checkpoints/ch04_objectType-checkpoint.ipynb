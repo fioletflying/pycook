{
 "cells": [
  {
   "cell_type": "markdown",
   "metadata": {},
   "source": [
    "# 介绍 Python 对象类型\n",
    "\n",
    "## 使用内置类型\n",
    "\n",
    "- 内置对象使程序更容易编写。\n",
    "- 内置对象是扩展的组件。\n",
    "- 内置对象往往比定制的数据结构更有效率。\n",
    "- 内置对象是语言的标准的一部分。\n",
    "\n",
    "与我们从零开始所创建的工具相比，内置对象类型不仅仅让编程变得更简单，而且它们也更强大和更高效。\n",
    "\n",
    "\n",
    "## Python 的核心数据类型\n",
    "\n",
    "内置对象表如下：\n",
    "\n",
    "![innerObjectTab.png](imgs/innerObjectTab.png)\n",
    "\n",
    "Python 中没有类型声明，运行的表达式的语法决定了创建和使用的对象的类型。，一旦创建了一个对象，它就和操作集合绑定了。Python 是动态类型的（它自动地跟踪你的类型而不是要求声明代码），但是它也是强类型语言（你只能对一个对象进行适合该类型的有效的操作）。\n",
    "列表提供了其他对象的有序集合，而字典是通过键存储对象的。列表和字典都可以嵌套，可以随需求扩展和删减，并能够包含任意类型的对象。\n",
    "\n",
    "### 数字\n",
    "\n",
    "Python 的核心对象集合包括常规的类型：\n",
    "- 整数（没有小数部分的数字）、\n",
    "- 浮点数（概括地讲，就是后边有小数部分的数字）\n",
    "- 以及更为少见的类型（有虚部的复数、固定精度的十进制数、带分子和分母的有理分数以及集合等）\n",
    "\n",
    "数字支持一般的数学运算\n",
    "math 模块包括更高级的数学工具，如函数\n",
    "random 模块可以作为随机数字的生成器和随机选择器\n",
    "\n",
    "\n",
    "\n",
    "\n",
    "\n"
   ]
  },
  {
   "cell_type": "code",
   "execution_count": 1,
   "metadata": {},
   "outputs": [
    {
     "name": "stdout",
     "output_type": "stream",
     "text": [
      "346\n",
      "2.8\n",
      "1267650600228229401496703205376\n",
      "30103\n"
     ]
    }
   ],
   "source": [
    "print(123 + 223)\n",
    "print (1.4 * 2)\n",
    "## 乘方\n",
    "print(2 ** 100)\n",
    "print(len(str(2 ** 100000)))"
   ]
  },
  {
   "cell_type": "code",
   "execution_count": 4,
   "metadata": {},
   "outputs": [
    {
     "name": "stdout",
     "output_type": "stream",
     "text": [
      "6.283\n"
     ]
    }
   ],
   "source": [
    "3.1415 * 2.0\n",
    "print(3.1415 * 2.0)"
   ]
  },
  {
   "cell_type": "code",
   "execution_count": 5,
   "metadata": {},
   "outputs": [
    {
     "name": "stdout",
     "output_type": "stream",
     "text": [
      "3.141592653589793\n",
      "9.219544457292887\n"
     ]
    }
   ],
   "source": [
    "import math\n",
    "print(math.pi)\n",
    "print(math.sqrt(85))"
   ]
  },
  {
   "cell_type": "code",
   "execution_count": 6,
   "metadata": {},
   "outputs": [
    {
     "name": "stdout",
     "output_type": "stream",
     "text": [
      "0.6930466561472571\n",
      "3\n"
     ]
    }
   ],
   "source": [
    "import random\n",
    "print(random.random())\n",
    "print(random.choice([1,2,3,4]))"
   ]
  },
  {
   "cell_type": "markdown",
   "metadata": {},
   "source": [
    "### 字符串\n",
    "\n",
    "字符串是用来记录文本信息的，字符串是单个字符的字符串的序列。\n",
    "\n",
    "#### 序列的操作\n",
    "字符串支持假设其中各个元素包含位置顺序的操作，通过内置的 len 函数验证其长度并通过索引操作得到其各个元素。\n",
    "- 索引是按照从最前面的偏移量进行编码的,从 0 开始，第一项索引为 0，第二项索引为 1，依此类推\n",
    "- 反向索引，从最后一个开始（正向索引是从左边开始计算，反向索引是从右边开始计算）。\n",
    "- 负的索引号会简单地与字符串的长度相加\n",
    "- 方括号中使用任意表达式:一个常量、一个变量或任意表达式\n",
    "\n",
    "\n",
    "序列也支持一种所谓分片（slice）的操作\n",
    "- 从一个字符串中一步就提取出一部分的方法。\n",
    "-  X[I:J]，表示「取出在 X 中从偏移量为 I，直到但不包括偏移量为 J 的内容」\n",
    "\n",
    "\n",
    "符串也支持使用加号进行合并\n",
    "- 将两个字符串合成为一个新的字符串\n",
    "- 通过再重复一次创建一个新的字符串\n",
    "\n",
    "\n",
    "#### 不可变性\n",
    "\n",
    "每个字符串都被定义为生成新的字符串作为其结果，字符串在 Python 中具有不可变性——在创建后不能就地改变\n",
    "- 每一个对象都可以分为不可变性或者可变性\n",
    "- 核心类型中，数字、字符串和元组是不可变的\n",
    "- 列表和字典不是这样（它们可以完全自由地改变)\n",
    "\n",
    "#### 类型特定的方法\n",
    "- 字符串的 find 方法是一个基本的子字符串查找的操作\n",
    "- 字符串的 replace 方法将会对全局进行搜索和替换\n",
    "- 符串拆分为子字符串（作为一种解析的简单形式），\n",
    "- 大小写变换，\n",
    "- 测试字符串的内容（数字、字母或其他），\n",
    "- 去掉字符串后的空格字符\n",
    "\n"
   ]
  },
  {
   "cell_type": "code",
   "execution_count": 7,
   "metadata": {},
   "outputs": [
    {
     "name": "stdout",
     "output_type": "stream",
     "text": [
      "4\n",
      "S\n",
      "p\n",
      "m\n",
      "m\n",
      "a\n",
      "pa\n",
      "pam\n",
      "Spa\n",
      "Spa\n",
      "Spam\n",
      "Spamxyz\n",
      "SpamSpamSpamSpamSpam\n"
     ]
    }
   ],
   "source": [
    "S = 'Spam'\n",
    "print(len(S))\n",
    "print(S[0])\n",
    "print(S[1])\n",
    "# 反向索引\n",
    "print(S[-1])\n",
    "print(S[len(S)-1])\n",
    "print(S[-2])\n",
    "\n",
    "\n",
    "#切片操作\n",
    "print(S[1:3])\n",
    "print(S[1:])\n",
    "print(S[:3])\n",
    "print(S[:-1])\n",
    "print(S[:])\n",
    "\n",
    "# 加号进行合并\n",
    "print(S +  'xyz')\n",
    "print(S * 5)\n"
   ]
  },
  {
   "cell_type": "code",
   "execution_count": 12,
   "metadata": {},
   "outputs": [
    {
     "name": "stdout",
     "output_type": "stream",
     "text": [
      "xpam\n",
      "xpam\n"
     ]
    }
   ],
   "source": [
    "print(S)\n",
    "#S[0] = \"y\"\n",
    "S = 'x'+S[1:]\n",
    "print(S)"
   ]
  },
  {
   "cell_type": "code",
   "execution_count": 14,
   "metadata": {},
   "outputs": [
    {
     "data": {
      "text/plain": [
       "'xXYZm'"
      ]
     },
     "execution_count": 14,
     "metadata": {},
     "output_type": "execute_result"
    }
   ],
   "source": [
    "# 类型特定的方法\n",
    "S.find('pa')\n",
    "\n",
    "S.replace('pa','XYZ')\n",
    "\n"
   ]
  },
  {
   "cell_type": "code",
   "execution_count": 17,
   "metadata": {},
   "outputs": [
    {
     "name": "stdout",
     "output_type": "stream",
     "text": [
      "['aaa', 'bbb', 'cccc', 'dd']\n",
      "SPAM\n",
      "True\n"
     ]
    }
   ],
   "source": [
    "line = 'aaa,bbb,cccc,dd'\n",
    "print(line.split(','))\n",
    "S = 'spam'\n",
    "print(S.upper())\n",
    "print(S.isalpha())\n",
    "\n"
   ]
  },
  {
   "cell_type": "markdown",
   "metadata": {},
   "source": [
    "### 列表\n",
    "\n",
    "一个任意类型的对象的位置相关的有序集合，它没有固定的大小。\n",
    "\n",
    "#### 序列操作\n",
    "列表是序列的一种，列表支持所有的我们对字符串所讨论过的序列操作。\n",
    "\n",
    "#### 类型特定的操作\n",
    "Python 的列表与其他语言中的数组有些类似，但是列表要强大得多。\n",
    "\n",
    "- 列表没有固定类型的约束\n",
    "- 列表没有固定大小\n",
    "\n",
    "具体的方法：\n",
    "- `append` 方法扩充了列表的大小并在列表的尾部插入一项\n",
    "- `pop` 方法（或者等效的 del 语句）移除给定偏移量的一项\n",
    "-  `sort` 方法，默认按照升序对列表进行排序\n",
    "- `reverse` 对列表进行翻转\n",
    "\n",
    "#### 边界检查\n",
    "\n",
    "Python 仍不允许引用不存在的元素。超出列表末尾之外的索引总是会导致错误\n",
    "\n",
    "#### 嵌套\n",
    "\n",
    "Python 核心数据类型的一个优秀的特性就是它们支持任意的嵌套，\n",
    "这种特性的一个直接的应用就是实现矩阵，或者 Python 中的「多维数组」\n",
    "\n",
    "#### **列表解析**\n",
    "处理序列的操作和列表的方法中，Python 还包括了一个更高级的操作，称作列表解析表达式（list comprehension expression\n",
    "\n",
    "- 列表解析源自集合的概念\n",
    "- 它是一种通过对序列中的每一项运行一个表达式来创建一个新列表的方法,每次一个，从左至右\n",
    "- 列表解析是编写在方括号中的\n",
    "- 并且由使用了同一个变量名的（这里是 row）表达式和循环结构组成\n",
    "- 列表解析是一个可选的特性，在实际应用中比较方便，并常常具有处理速度上的优势\n",
    "\n",
    "\n"
   ]
  },
  {
   "cell_type": "code",
   "execution_count": 1,
   "metadata": {},
   "outputs": [
    {
     "name": "stdout",
     "output_type": "stream",
     "text": [
      "3\n"
     ]
    }
   ],
   "source": [
    "L = [123,'spam',1.23]\n",
    "print(len(L))"
   ]
  },
  {
   "cell_type": "code",
   "execution_count": 5,
   "metadata": {},
   "outputs": [
    {
     "name": "stdout",
     "output_type": "stream",
     "text": [
      "123\n",
      "[123, 'spam']\n",
      "[123, 'spam', 1.23, 4, 5, 6]\n",
      "[123, 'spam', 1.23]\n"
     ]
    }
   ],
   "source": [
    "#列表进行索引、切片等操作\n",
    "print(L[0])\n",
    "print(L[:-1])\n",
    "print(L + [4,5,6])\n",
    "print(L)"
   ]
  },
  {
   "cell_type": "code",
   "execution_count": 14,
   "metadata": {},
   "outputs": [
    {
     "name": "stdout",
     "output_type": "stream",
     "text": [
      "[123, 'spam', 'NI', 'NI']\n",
      "[123, 'spam', 'NI']\n"
     ]
    }
   ],
   "source": [
    "#类型特定的操作 append & pop\n",
    "L.append(\"NI\")\n",
    "print(L)\n",
    "\n",
    "L.pop(2)\n",
    "print(L)\n"
   ]
  },
  {
   "cell_type": "code",
   "execution_count": 19,
   "metadata": {},
   "outputs": [
    {
     "name": "stdout",
     "output_type": "stream",
     "text": [
      "['bb', 'aa', 'cc']\n",
      "['aa', 'bb', 'cc']\n",
      "['cc', 'bb', 'aa']\n"
     ]
    }
   ],
   "source": [
    "#类型特定的操作 sort & reverse\n",
    "M = ['bb','aa','cc']\n",
    "print(M)\n",
    "M.sort()\n",
    "print(M)\n",
    "M.reverse()\n",
    "print(M)"
   ]
  },
  {
   "cell_type": "code",
   "execution_count": 21,
   "metadata": {},
   "outputs": [
    {
     "name": "stdout",
     "output_type": "stream",
     "text": [
      "[123, 'spam', 'NI']\n"
     ]
    },
    {
     "ename": "IndexError",
     "evalue": "list index out of range",
     "output_type": "error",
     "traceback": [
      "\u001b[1;31m---------------------------------------------------------------------------\u001b[0m",
      "\u001b[1;31mIndexError\u001b[0m                                Traceback (most recent call last)",
      "\u001b[1;32m<ipython-input-21-ee26275f6502>\u001b[0m in \u001b[0;36m<module>\u001b[1;34m\u001b[0m\n\u001b[0;32m      1\u001b[0m \u001b[0mprint\u001b[0m\u001b[1;33m(\u001b[0m\u001b[0mL\u001b[0m\u001b[1;33m)\u001b[0m\u001b[1;33m\u001b[0m\u001b[0m\n\u001b[1;32m----> 2\u001b[1;33m \u001b[0mL\u001b[0m\u001b[1;33m[\u001b[0m\u001b[1;36m99\u001b[0m\u001b[1;33m]\u001b[0m\u001b[1;33m\u001b[0m\u001b[0m\n\u001b[0m",
      "\u001b[1;31mIndexError\u001b[0m: list index out of range"
     ]
    }
   ],
   "source": [
    "print(L)\n",
    "#L[99]"
   ]
  },
  {
   "cell_type": "code",
   "execution_count": 5,
   "metadata": {},
   "outputs": [
    {
     "name": "stdout",
     "output_type": "stream",
     "text": [
      "[[1, 2, 3], [4, 5, 6]]\n",
      "[4, 5, 6]\n",
      "6\n"
     ]
    }
   ],
   "source": [
    "#嵌套的应用\n",
    "M = [[1,2,3],\n",
    "    [4,5,6]]\n",
    "print(M)\n",
    "print(M[1])\n",
    "print(M[1][2])"
   ]
  },
  {
   "cell_type": "code",
   "execution_count": 16,
   "metadata": {},
   "outputs": [
    {
     "name": "stdout",
     "output_type": "stream",
     "text": [
      "[2, 5, 8]\n",
      "[3, 6, 9]\n",
      "[2, 8]\n",
      "[1, 5, 9]\n",
      "['ss', 'pp', 'aa', 'mm']\n",
      "6\n"
     ]
    }
   ],
   "source": [
    "#列表解析\n",
    "M = [[1,2,3],\n",
    "    [4,5,6],\n",
    "    [7,8,9]]\n",
    "# 把矩阵 M 的每个 row 中的 row[1]，放在一个新的列表中\n",
    "col2 = [row[1] for row in M]\n",
    "print(col2)\n",
    "col3 = [row[1]+1 for row in M]\n",
    "print(col3)\n",
    "# 过滤 row中的奇数\n",
    "col4 = [row[1] for row in M if row[1]%2 == 0]\n",
    "print(col4)\n",
    "\n",
    "diag = [M[i][i] for i in [0,1,2]]\n",
    "print(diag)\n",
    "\n",
    "doubles = [c* 2 for c in 'spam']\n",
    "print(doubles)\n",
    "\n",
    "g = (sum(row) for row in M)\n",
    "print(next(g))\n"
   ]
  },
  {
   "cell_type": "markdown",
   "metadata": {},
   "source": [
    "### 字典\n",
    "\n",
    "不是序列，而是一种映射（mapping），简单地将键映射到值。\n",
    "字典是 Python 核心对象集合中的唯一的一种映射类型，也具有可变性——可以就地改变，并可以随需求增大或减小，就像列表那样。\n",
    "\n",
    "#### 映射操作\n",
    "字典编写在大括号中，并包含一系列的「键:值」对,通过键对这个字典进行索引来读取或改变键所关联的值\n",
    "\n",
    "创建字典的方法:\n",
    "- 大括号\n",
    "- 键填写\n",
    "\n",
    "#### 重访嵌套\n",
    "\n",
    "一个嵌套的字典作为 name 的值，支持了多个部分，并用一个嵌套的列表作为 job 的值从而支持多个角色和未来的扩展\n",
    "\n",
    "#### 键的排序：for 循环\n",
    "\n",
    "因为字典不是序列，它们并不包含任何可靠的从左至右的顺序。这意味着如果我们建立一个字典，并将它打印出来，它的键也许会以与我们输入时不同的顺序\n",
    "\n",
    "排序打印：\n",
    "\n",
    "- 通过字典的 keys 方法收集一个键的列表，使用列表的 sort 方法进行排序，然后使用 Python 的 for 循环逐个进行显示结果\n",
    "- 最新的 sorted 内置函数可以一步完成\n",
    "\n",
    "\n",
    "\n"
   ]
  },
  {
   "cell_type": "code",
   "execution_count": 21,
   "metadata": {},
   "outputs": [
    {
     "name": "stdout",
     "output_type": "stream",
     "text": [
      "spam\n",
      "{'food': 'spam', 'color': 'pink', 'quantity': 5}\n"
     ]
    }
   ],
   "source": [
    "D = {'food':\"spam\",'quantity':4,'color':'pink'}\n",
    "print(D['food'])\n",
    "D['quantity']+=1\n",
    "print(D)"
   ]
  },
  {
   "cell_type": "code",
   "execution_count": 23,
   "metadata": {},
   "outputs": [
    {
     "name": "stdout",
     "output_type": "stream",
     "text": [
      "{'job': 'manong', 'age': 40, 'name': 'fei'}\n",
      "fei\n"
     ]
    }
   ],
   "source": [
    "# 创建字典的方法\n",
    "D = {}\n",
    "D['name'] = 'fei'\n",
    "D['job'] = 'manong'\n",
    "D['age'] = 40\n",
    "\n",
    "print(D)\n",
    "print(D['name'])"
   ]
  },
  {
   "cell_type": "code",
   "execution_count": 31,
   "metadata": {},
   "outputs": [
    {
     "name": "stdout",
     "output_type": "stream",
     "text": [
      "{'last': 'Liu', 'first': 'fei'}\n",
      "Liu\n",
      "['dev', 'mgr']\n",
      "dev\n",
      "{'job': ['dev', 'mgr', 'manong'], 'age': 32.3, 'name': {'last': 'Liu', 'first': 'fei'}}\n"
     ]
    }
   ],
   "source": [
    "#嵌套\n",
    "rec = {'name':{'first':'fei','last':'Liu'},\n",
    "      'job':['dev','mgr'],\n",
    "      'age':32.3}\n",
    "\n",
    "print(rec['name'])\n",
    "print(rec['name']['last'])\n",
    "print(rec['job'])\n",
    "print(rec['job'][0])\n",
    "rec['job'].append('manong')\n",
    "print(rec)"
   ]
  },
  {
   "cell_type": "code",
   "execution_count": 43,
   "metadata": {},
   "outputs": [
    {
     "name": "stdout",
     "output_type": "stream",
     "text": [
      "{'a': 1, 'b': 2, 'c': 3}\n",
      "['a', 'b', 'c']\n",
      "['a', 'b', 'c']\n",
      "a => 1\n",
      "b => 2\n",
      "c => 3\n",
      "a => 1\n",
      "b => 2\n",
      "c => 3\n"
     ]
    }
   ],
   "source": [
    "#键的排序：for 循环\n",
    "\n",
    "D= {'a':1,'c':3,'b':2}\n",
    "print(D)\n",
    "\n",
    "ks = list(D.keys())\n",
    "print(ks)\n",
    "ks.sort()\n",
    "print(ks)\n",
    "\n",
    "for key in ks:\n",
    "    print(key,'=>',D[key])\n",
    "    \n",
    "for key in sorted(D):\n",
    "    print(key,'=>',D[key])"
   ]
  }
 ],
 "metadata": {
  "kernelspec": {
   "display_name": "Python 3",
   "language": "python",
   "name": "python3"
  },
  "language_info": {
   "codemirror_mode": {
    "name": "ipython",
    "version": 3
   },
   "file_extension": ".py",
   "mimetype": "text/x-python",
   "name": "python",
   "nbconvert_exporter": "python",
   "pygments_lexer": "ipython3",
   "version": "3.5.3"
  },
  "toc": {
   "base_numbering": 1,
   "nav_menu": {},
   "number_sections": true,
   "sideBar": true,
   "skip_h1_title": false,
   "title_cell": "Table of Contents",
   "title_sidebar": "Contents",
   "toc_cell": false,
   "toc_position": {},
   "toc_section_display": true,
   "toc_window_display": false
  }
 },
 "nbformat": 4,
 "nbformat_minor": 2
}
